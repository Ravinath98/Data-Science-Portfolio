{
 "cells": [
  {
   "cell_type": "code",
   "execution_count": 1,
   "id": "32f91053",
   "metadata": {},
   "outputs": [],
   "source": [
    "from pyspark.sql import SparkSession"
   ]
  },
  {
   "cell_type": "code",
   "execution_count": 2,
   "id": "76c20f03",
   "metadata": {},
   "outputs": [
    {
     "name": "stderr",
     "output_type": "stream",
     "text": [
      "C:\\Users\\RAVI\\anaconda3\\envs\\vizuamatix\\lib\\site-packages\\pyspark\\context.py:227: DeprecationWarning: Support for Python 2 and Python 3 prior to version 3.6 is deprecated as of Spark 3.0. See also the plan for dropping Python 2 support at https://spark.apache.org/news/plan-for-dropping-python-2-support.html.\n",
      "  DeprecationWarning)\n"
     ]
    }
   ],
   "source": [
    "spark=SparkSession.builder.getOrCreate()"
   ]
  },
  {
   "cell_type": "code",
   "execution_count": 3,
   "id": "3879198c",
   "metadata": {},
   "outputs": [],
   "source": [
    "df=spark.read.csv('E:\\Desktop\\Datasets\\Loan payments data.csv',header=True)"
   ]
  },
  {
   "cell_type": "code",
   "execution_count": 4,
   "id": "5713d10c",
   "metadata": {},
   "outputs": [
    {
     "name": "stdout",
     "output_type": "stream",
     "text": [
      "+-----------+-----------+---------+-----+--------------+---------+---------------+-------------+---+--------------------+------+\n",
      "|    Loan_ID|loan_status|Principal|terms|effective_date| due_date|  paid_off_time|past_due_days|age|           education|Gender|\n",
      "+-----------+-----------+---------+-----+--------------+---------+---------------+-------------+---+--------------------+------+\n",
      "|xqd20166231|    PAIDOFF|     1000|   30|      9/8/2016|10/7/2016|9/14/2016 19:31|         null| 45|High School or Below|  male|\n",
      "|xqd20168902|    PAIDOFF|     1000|   30|      9/8/2016|10/7/2016| 10/7/2016 9:00|         null| 50|            Bechalor|female|\n",
      "|xqd20160003|    PAIDOFF|     1000|   30|      9/8/2016|10/7/2016|9/25/2016 16:58|         null| 33|            Bechalor|female|\n",
      "|xqd20160004|    PAIDOFF|     1000|   15|      9/8/2016|9/22/2016|9/22/2016 20:00|         null| 27|             college|  male|\n",
      "|xqd20160005|    PAIDOFF|     1000|   30|      9/9/2016|10/8/2016|9/23/2016 21:36|         null| 28|             college|female|\n",
      "|xqd20160706|    PAIDOFF|      300|    7|      9/9/2016|9/15/2016| 9/9/2016 13:45|         null| 35|     Master or Above|  male|\n",
      "|xqd20160007|    PAIDOFF|     1000|   30|      9/9/2016|10/8/2016|10/7/2016 23:07|         null| 29|             college|  male|\n",
      "|xqd20160008|    PAIDOFF|     1000|   30|      9/9/2016|10/8/2016|10/5/2016 20:33|         null| 36|             college|  male|\n",
      "|xqd20160909|    PAIDOFF|     1000|   30|      9/9/2016|10/8/2016|10/8/2016 16:00|         null| 28|             college|  male|\n",
      "|xqd20160010|    PAIDOFF|      800|   15|     9/10/2016|9/24/2016|9/24/2016 13:00|         null| 26|             college|  male|\n",
      "|xqd20160011|    PAIDOFF|      300|    7|     9/10/2016|9/16/2016|9/11/2016 19:11|         null| 29|             college|  male|\n",
      "|xqd20160012|    PAIDOFF|     1000|   15|     9/10/2016|10/9/2016|10/9/2016 16:00|         null| 39|High School or Below|  male|\n",
      "|xqd20160013|    PAIDOFF|     1000|   30|     9/10/2016|10/9/2016|10/7/2016 23:32|         null| 26|             college|  male|\n",
      "|xqd20160014|    PAIDOFF|      900|    7|     9/10/2016|9/16/2016|9/13/2016 21:57|         null| 26|             college|female|\n",
      "|xqd20160015|    PAIDOFF|     1000|    7|     9/10/2016|9/16/2016|9/15/2016 14:27|         null| 27|High School or Below|  male|\n",
      "|xqd20160016|    PAIDOFF|      800|   15|     9/10/2016|9/24/2016|9/24/2016 16:00|         null| 26|             college|  male|\n",
      "|xqd20160017|    PAIDOFF|     1000|   30|     9/10/2016|10/9/2016|9/27/2016 14:21|         null| 40|High School or Below|  male|\n",
      "|xqd20160018|    PAIDOFF|     1000|   15|     9/10/2016|9/24/2016|9/23/2016 18:49|         null| 32|High School or Below|  male|\n",
      "|xqd20160019|    PAIDOFF|     1000|   30|     9/10/2016|10/9/2016|10/5/2016 22:05|         null| 32|High School or Below|  male|\n",
      "|xqd20160020|    PAIDOFF|      800|   30|     9/10/2016|10/9/2016| 9/23/2016 7:42|         null| 26|             college|  male|\n",
      "+-----------+-----------+---------+-----+--------------+---------+---------------+-------------+---+--------------------+------+\n",
      "only showing top 20 rows\n",
      "\n"
     ]
    }
   ],
   "source": [
    "df.show()"
   ]
  },
  {
   "cell_type": "code",
   "execution_count": 5,
   "id": "182940bd",
   "metadata": {},
   "outputs": [],
   "source": [
    "#convert age datatype to integer.....\n",
    "df=df.withColumn(\"age\",df.age.cast('int'))"
   ]
  },
  {
   "cell_type": "code",
   "execution_count": 6,
   "id": "3be510ea",
   "metadata": {},
   "outputs": [],
   "source": [
    "#convert Principal datatype to integer.....\n",
    "df=df.withColumn(\"Principal\",df.Principal.cast('int'))"
   ]
  },
  {
   "cell_type": "code",
   "execution_count": 7,
   "id": "03e46195",
   "metadata": {},
   "outputs": [],
   "source": [
    "#convert Principal datatype to integer.....\n",
    "df=df.withColumn(\"terms\",df.terms.cast('int'))"
   ]
  },
  {
   "cell_type": "code",
   "execution_count": 8,
   "id": "03514e83",
   "metadata": {},
   "outputs": [
    {
     "data": {
      "text/plain": [
       "[('Loan_ID', 'string'),\n",
       " ('loan_status', 'string'),\n",
       " ('Principal', 'int'),\n",
       " ('terms', 'int'),\n",
       " ('effective_date', 'string'),\n",
       " ('due_date', 'string'),\n",
       " ('paid_off_time', 'string'),\n",
       " ('past_due_days', 'string'),\n",
       " ('age', 'int'),\n",
       " ('education', 'string'),\n",
       " ('Gender', 'string')]"
      ]
     },
     "execution_count": 8,
     "metadata": {},
     "output_type": "execute_result"
    }
   ],
   "source": [
    "df.dtypes"
   ]
  },
  {
   "cell_type": "code",
   "execution_count": 9,
   "id": "5c72e9eb",
   "metadata": {},
   "outputs": [],
   "source": [
    "df1=df.groupBy('education').count()"
   ]
  },
  {
   "cell_type": "code",
   "execution_count": 10,
   "id": "8b78308e",
   "metadata": {},
   "outputs": [
    {
     "name": "stdout",
     "output_type": "stream",
     "text": [
      "+--------------------+-----+\n",
      "|           education|count|\n",
      "+--------------------+-----+\n",
      "|             college|  220|\n",
      "|     Master or Above|    4|\n",
      "|            Bechalor|   67|\n",
      "|High School or Below|  209|\n",
      "+--------------------+-----+\n",
      "\n"
     ]
    }
   ],
   "source": [
    "df1.show()"
   ]
  },
  {
   "cell_type": "code",
   "execution_count": 11,
   "id": "a1f8aa85",
   "metadata": {},
   "outputs": [],
   "source": [
    "from pyspark.sql.window import Window\n",
    "from pyspark.sql.functions import row_number,col"
   ]
  },
  {
   "cell_type": "code",
   "execution_count": 12,
   "id": "c34b1a7f",
   "metadata": {},
   "outputs": [],
   "source": [
    "#get the first element of each education groups(each group order by Loan_ID and get the 1st value)\n",
    "windowSpec  = Window.partitionBy('education').orderBy(\"Loan_ID\")\n",
    "df2=df.withColumn(\"Row_number\",row_number().over(windowSpec)).filter(col(\"Row_number\")==1)"
   ]
  },
  {
   "cell_type": "code",
   "execution_count": 13,
   "id": "a35ea117",
   "metadata": {},
   "outputs": [
    {
     "data": {
      "text/plain": [
       "['Loan_ID',\n",
       " 'loan_status',\n",
       " 'Principal',\n",
       " 'terms',\n",
       " 'effective_date',\n",
       " 'due_date',\n",
       " 'paid_off_time',\n",
       " 'past_due_days',\n",
       " 'age',\n",
       " 'education',\n",
       " 'Gender',\n",
       " 'Row_number']"
      ]
     },
     "execution_count": 13,
     "metadata": {},
     "output_type": "execute_result"
    }
   ],
   "source": [
    "df2.columns"
   ]
  },
  {
   "cell_type": "code",
   "execution_count": 14,
   "id": "004e7700",
   "metadata": {},
   "outputs": [
    {
     "name": "stdout",
     "output_type": "stream",
     "text": [
      "+-----------+------------------+-----+---+--------------------+------+\n",
      "|    Loan_ID|       loan_status|terms|age|           education|Gender|\n",
      "+-----------+------------------+-----+---+--------------------+------+\n",
      "|xqd12160159|           PAIDOFF|   15| 28|             college|female|\n",
      "|xqd20160060|           PAIDOFF|   15| 39|     Master or Above|  male|\n",
      "|xqd20160003|           PAIDOFF|   30| 33|            Bechalor|female|\n",
      "|xqd20110409|COLLECTION_PAIDOFF|   30| 28|High School or Below|  male|\n",
      "+-----------+------------------+-----+---+--------------------+------+\n",
      "\n"
     ]
    }
   ],
   "source": [
    "#select 'Loan_ID','loan_status','terms','age','education','Gender' columns in each group...........\n",
    "df2.select('Loan_ID','loan_status','terms','age','education','Gender').show()"
   ]
  },
  {
   "cell_type": "code",
   "execution_count": 15,
   "id": "6f47310d",
   "metadata": {},
   "outputs": [],
   "source": [
    "#get the first element of each Gender groups(each group order by Loan_ID and get the 1st value)\n",
    "windowSpec  = Window.partitionBy('Gender').orderBy(\"Loan_ID\")\n",
    "df3=df.withColumn(\"Row_number\",row_number().over(windowSpec)).filter(col(\"Row_number\")==1)"
   ]
  },
  {
   "cell_type": "code",
   "execution_count": 16,
   "id": "452a2e3c",
   "metadata": {},
   "outputs": [
    {
     "name": "stdout",
     "output_type": "stream",
     "text": [
      "+-----------+------------------+-----+---+--------------------+------+\n",
      "|    Loan_ID|       loan_status|terms|age|           education|Gender|\n",
      "+-----------+------------------+-----+---+--------------------+------+\n",
      "|xqd12160159|           PAIDOFF|   15| 28|             college|female|\n",
      "|xqd20110409|COLLECTION_PAIDOFF|   30| 28|High School or Below|  male|\n",
      "+-----------+------------------+-----+---+--------------------+------+\n",
      "\n"
     ]
    }
   ],
   "source": [
    "#select 'Loan_ID','loan_status','terms','age','education','Gender' columns in each group...........\n",
    "df3.select('Loan_ID','loan_status','terms','age','education','Gender').show()"
   ]
  },
  {
   "cell_type": "code",
   "execution_count": 17,
   "id": "a58a4b6a",
   "metadata": {},
   "outputs": [],
   "source": [
    "#get the first element of each age groups(each group order by Loan_ID and get the 1st value)\n",
    "windowSpec  = Window.partitionBy('age').orderBy(\"Loan_ID\")\n",
    "df4=df.withColumn(\"Row_number\",row_number().over(windowSpec)).filter(col(\"Row_number\")==1)"
   ]
  },
  {
   "cell_type": "code",
   "execution_count": 18,
   "id": "4daf6127",
   "metadata": {},
   "outputs": [
    {
     "name": "stdout",
     "output_type": "stream",
     "text": [
      "+-----------+------------------+-----+---+--------------------+------+\n",
      "|    Loan_ID|       loan_status|terms|age|           education|Gender|\n",
      "+-----------+------------------+-----+---+--------------------+------+\n",
      "|xqd20160029|           PAIDOFF|   30| 31|             college|  male|\n",
      "|xqd20160054|           PAIDOFF|   30| 34|High School or Below|  male|\n",
      "|xqd12160159|           PAIDOFF|   15| 28|             college|female|\n",
      "|xqd20160010|           PAIDOFF|   15| 26|             college|  male|\n",
      "|xqd20160004|           PAIDOFF|   15| 27|             college|  male|\n",
      "|xqd20160059|           PAIDOFF|   15| 44|High School or Below|female|\n",
      "|xqd20160047|           PAIDOFF|   30| 22|High School or Below|  male|\n",
      "|xqd20160139|           PAIDOFF|   15| 47|High School or Below|  male|\n",
      "|xqd20160123|           PAIDOFF|   15| 20|             college|  male|\n",
      "|xqd20160017|           PAIDOFF|   30| 40|High School or Below|  male|\n",
      "|xqd20160246|           PAIDOFF|   30| 19|High School or Below|female|\n",
      "|xqd20160292|           PAIDOFF|   30| 41|High School or Below|  male|\n",
      "|xqd20160022|           PAIDOFF|   30| 43|High School or Below|female|\n",
      "|xqd20160032|           PAIDOFF|   30| 37|             college|  male|\n",
      "|xqd20125284|        COLLECTION|   15| 35|High School or Below|  male|\n",
      "|xqd20160118|           PAIDOFF|   30| 23|High School or Below|  male|\n",
      "|xqd20160012|           PAIDOFF|   15| 39|High School or Below|  male|\n",
      "|xqd20169466|COLLECTION_PAIDOFF|   30| 49|High School or Below|female|\n",
      "|xqd20160261|           PAIDOFF|   15| 51|             college|  male|\n",
      "|xqd20160050|           PAIDOFF|   15| 50|High School or Below|  male|\n",
      "+-----------+------------------+-----+---+--------------------+------+\n",
      "only showing top 20 rows\n",
      "\n"
     ]
    }
   ],
   "source": [
    "#select 'Loan_ID','loan_status','terms','age','education','Gender' columns in each group...........\n",
    "df4.select('Loan_ID','loan_status','terms','age','education','Gender').show()"
   ]
  },
  {
   "cell_type": "code",
   "execution_count": 19,
   "id": "3265b533",
   "metadata": {},
   "outputs": [],
   "source": [
    "#get the first element of each loan_status groups(each group order by Loan_ID and get the 1st value)\n",
    "windowSpec  = Window.partitionBy('loan_status').orderBy(\"Loan_ID\")\n",
    "df5=df.withColumn(\"Row_number\",row_number().over(windowSpec)).filter(col(\"Row_number\")==1)"
   ]
  },
  {
   "cell_type": "code",
   "execution_count": 20,
   "id": "8b859fe0",
   "metadata": {},
   "outputs": [
    {
     "name": "stdout",
     "output_type": "stream",
     "text": [
      "+-----------+------------------+-----+---+--------------------+------+\n",
      "|    Loan_ID|       loan_status|terms|age|           education|Gender|\n",
      "+-----------+------------------+-----+---+--------------------+------+\n",
      "|xqd20125284|        COLLECTION|   15| 35|High School or Below|  male|\n",
      "|xqd20110409|COLLECTION_PAIDOFF|   30| 28|High School or Below|  male|\n",
      "|xqd12160159|           PAIDOFF|   15| 28|             college|female|\n",
      "+-----------+------------------+-----+---+--------------------+------+\n",
      "\n"
     ]
    }
   ],
   "source": [
    "#select 'Loan_ID','loan_status','terms','age','education','Gender' columns in each group...........\n",
    "df5.select('Loan_ID','loan_status','terms','age','education','Gender').show()"
   ]
  },
  {
   "cell_type": "code",
   "execution_count": 21,
   "id": "380483ea",
   "metadata": {},
   "outputs": [],
   "source": [
    "#get the first element of each terms groups(each group order by Loan_ID and get the 1st value)\n",
    "windowSpec  = Window.partitionBy('terms').orderBy(\"Loan_ID\")\n",
    "df6=df.withColumn(\"Row_number\",row_number().over(windowSpec)).filter(col(\"Row_number\")==1)"
   ]
  },
  {
   "cell_type": "code",
   "execution_count": 22,
   "id": "47b3fc4a",
   "metadata": {},
   "outputs": [
    {
     "name": "stdout",
     "output_type": "stream",
     "text": [
      "+-----------+------------------+-----+---+--------------------+------+\n",
      "|    Loan_ID|       loan_status|terms|age|           education|Gender|\n",
      "+-----------+------------------+-----+---+--------------------+------+\n",
      "|xqd12160159|           PAIDOFF|   15| 28|             college|female|\n",
      "|xqd20160011|           PAIDOFF|    7| 29|             college|  male|\n",
      "|xqd20110409|COLLECTION_PAIDOFF|   30| 28|High School or Below|  male|\n",
      "+-----------+------------------+-----+---+--------------------+------+\n",
      "\n"
     ]
    }
   ],
   "source": [
    "#select 'Loan_ID','loan_status','terms','age','education','Gender' columns in each group...........\n",
    "df6.select('Loan_ID','loan_status','terms','age','education','Gender').show()"
   ]
  },
  {
   "cell_type": "markdown",
   "id": "5348259b",
   "metadata": {},
   "source": [
    "# Alternative way......................"
   ]
  },
  {
   "cell_type": "code",
   "execution_count": 23,
   "id": "56f16bfe",
   "metadata": {},
   "outputs": [
    {
     "name": "stdout",
     "output_type": "stream",
     "text": [
      "+--------------------+--------+\n",
      "|           education|max(age)|\n",
      "+--------------------+--------+\n",
      "|             college|      51|\n",
      "|     Master or Above|      50|\n",
      "|            Bechalor|      50|\n",
      "|High School or Below|      50|\n",
      "+--------------------+--------+\n",
      "\n"
     ]
    }
   ],
   "source": [
    "#Here I got the max age value in each education group....(it's equal to when each group order by age descending order and get the 1st value)\n",
    "df=df.groupby('education').max('age').show()"
   ]
  },
  {
   "cell_type": "code",
   "execution_count": null,
   "id": "9c5aafe8",
   "metadata": {},
   "outputs": [],
   "source": []
  }
 ],
 "metadata": {
  "kernelspec": {
   "display_name": "Python 3",
   "language": "python",
   "name": "python3"
  },
  "language_info": {
   "codemirror_mode": {
    "name": "ipython",
    "version": 3
   },
   "file_extension": ".py",
   "mimetype": "text/x-python",
   "name": "python",
   "nbconvert_exporter": "python",
   "pygments_lexer": "ipython3",
   "version": "3.5.6"
  }
 },
 "nbformat": 4,
 "nbformat_minor": 5
}
