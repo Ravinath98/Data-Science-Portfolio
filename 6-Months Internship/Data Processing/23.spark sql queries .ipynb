{
 "cells": [
  {
   "cell_type": "code",
   "execution_count": 1,
   "id": "4c2dc049",
   "metadata": {},
   "outputs": [],
   "source": [
    "from pyspark.sql import SparkSession"
   ]
  },
  {
   "cell_type": "code",
   "execution_count": 2,
   "id": "a3eb0f28",
   "metadata": {},
   "outputs": [
    {
     "name": "stderr",
     "output_type": "stream",
     "text": [
      "C:\\Users\\RAVI\\anaconda3\\envs\\vizuamatix\\lib\\site-packages\\pyspark\\context.py:227: DeprecationWarning: Support for Python 2 and Python 3 prior to version 3.6 is deprecated as of Spark 3.0. See also the plan for dropping Python 2 support at https://spark.apache.org/news/plan-for-dropping-python-2-support.html.\n",
      "  DeprecationWarning)\n"
     ]
    }
   ],
   "source": [
    "spark=SparkSession.builder.getOrCreate()"
   ]
  },
  {
   "cell_type": "code",
   "execution_count": 3,
   "id": "81b09917",
   "metadata": {},
   "outputs": [],
   "source": [
    "df=spark.read.csv(\"E:\\Desktop\\Datasets\\Loan payments data.csv\",header=True)"
   ]
  },
  {
   "cell_type": "code",
   "execution_count": 4,
   "id": "26fa2461",
   "metadata": {},
   "outputs": [
    {
     "name": "stdout",
     "output_type": "stream",
     "text": [
      "+-----------+-----------+---------+-----+--------------+---------+---------------+-------------+---+--------------------+------+\n",
      "|    Loan_ID|loan_status|Principal|terms|effective_date| due_date|  paid_off_time|past_due_days|age|           education|Gender|\n",
      "+-----------+-----------+---------+-----+--------------+---------+---------------+-------------+---+--------------------+------+\n",
      "|xqd20166231|    PAIDOFF|     1000|   30|      9/8/2016|10/7/2016|9/14/2016 19:31|         null| 45|High School or Below|  male|\n",
      "|xqd20168902|    PAIDOFF|     1000|   30|      9/8/2016|10/7/2016| 10/7/2016 9:00|         null| 50|            Bechalor|female|\n",
      "|xqd20160003|    PAIDOFF|     1000|   30|      9/8/2016|10/7/2016|9/25/2016 16:58|         null| 33|            Bechalor|female|\n",
      "|xqd20160004|    PAIDOFF|     1000|   15|      9/8/2016|9/22/2016|9/22/2016 20:00|         null| 27|             college|  male|\n",
      "|xqd20160005|    PAIDOFF|     1000|   30|      9/9/2016|10/8/2016|9/23/2016 21:36|         null| 28|             college|female|\n",
      "|xqd20160706|    PAIDOFF|      300|    7|      9/9/2016|9/15/2016| 9/9/2016 13:45|         null| 35|     Master or Above|  male|\n",
      "|xqd20160007|    PAIDOFF|     1000|   30|      9/9/2016|10/8/2016|10/7/2016 23:07|         null| 29|             college|  male|\n",
      "|xqd20160008|    PAIDOFF|     1000|   30|      9/9/2016|10/8/2016|10/5/2016 20:33|         null| 36|             college|  male|\n",
      "|xqd20160909|    PAIDOFF|     1000|   30|      9/9/2016|10/8/2016|10/8/2016 16:00|         null| 28|             college|  male|\n",
      "|xqd20160010|    PAIDOFF|      800|   15|     9/10/2016|9/24/2016|9/24/2016 13:00|         null| 26|             college|  male|\n",
      "|xqd20160011|    PAIDOFF|      300|    7|     9/10/2016|9/16/2016|9/11/2016 19:11|         null| 29|             college|  male|\n",
      "|xqd20160012|    PAIDOFF|     1000|   15|     9/10/2016|10/9/2016|10/9/2016 16:00|         null| 39|High School or Below|  male|\n",
      "|xqd20160013|    PAIDOFF|     1000|   30|     9/10/2016|10/9/2016|10/7/2016 23:32|         null| 26|             college|  male|\n",
      "|xqd20160014|    PAIDOFF|      900|    7|     9/10/2016|9/16/2016|9/13/2016 21:57|         null| 26|             college|female|\n",
      "|xqd20160015|    PAIDOFF|     1000|    7|     9/10/2016|9/16/2016|9/15/2016 14:27|         null| 27|High School or Below|  male|\n",
      "|xqd20160016|    PAIDOFF|      800|   15|     9/10/2016|9/24/2016|9/24/2016 16:00|         null| 26|             college|  male|\n",
      "|xqd20160017|    PAIDOFF|     1000|   30|     9/10/2016|10/9/2016|9/27/2016 14:21|         null| 40|High School or Below|  male|\n",
      "|xqd20160018|    PAIDOFF|     1000|   15|     9/10/2016|9/24/2016|9/23/2016 18:49|         null| 32|High School or Below|  male|\n",
      "|xqd20160019|    PAIDOFF|     1000|   30|     9/10/2016|10/9/2016|10/5/2016 22:05|         null| 32|High School or Below|  male|\n",
      "|xqd20160020|    PAIDOFF|      800|   30|     9/10/2016|10/9/2016| 9/23/2016 7:42|         null| 26|             college|  male|\n",
      "+-----------+-----------+---------+-----+--------------+---------+---------------+-------------+---+--------------------+------+\n",
      "only showing top 20 rows\n",
      "\n"
     ]
    }
   ],
   "source": [
    "df.show()"
   ]
  },
  {
   "cell_type": "code",
   "execution_count": 5,
   "id": "9f61aace",
   "metadata": {},
   "outputs": [
    {
     "data": {
      "text/plain": [
       "['Loan_ID',\n",
       " 'loan_status',\n",
       " 'Principal',\n",
       " 'terms',\n",
       " 'effective_date',\n",
       " 'due_date',\n",
       " 'paid_off_time',\n",
       " 'past_due_days',\n",
       " 'age',\n",
       " 'education',\n",
       " 'Gender']"
      ]
     },
     "execution_count": 5,
     "metadata": {},
     "output_type": "execute_result"
    }
   ],
   "source": [
    "df.columns"
   ]
  },
  {
   "cell_type": "code",
   "execution_count": 6,
   "id": "84fa71ce",
   "metadata": {},
   "outputs": [],
   "source": [
    "#convert age datatype to integer.....\n",
    "df=df.withColumn(\"age\",df.age.cast('int'))"
   ]
  },
  {
   "cell_type": "code",
   "execution_count": 7,
   "id": "e83a7141",
   "metadata": {},
   "outputs": [],
   "source": [
    "#convert terms datatype to integer.....\n",
    "df=df.withColumn(\"terms\",df.age.cast('int'))"
   ]
  },
  {
   "cell_type": "code",
   "execution_count": 8,
   "id": "a4550000",
   "metadata": {},
   "outputs": [],
   "source": [
    "#convert Principal datatype to integer.....\n",
    "df=df.withColumn(\"Principal\",df.age.cast('int'))"
   ]
  },
  {
   "cell_type": "code",
   "execution_count": 9,
   "id": "ecf8578b",
   "metadata": {},
   "outputs": [
    {
     "data": {
      "text/plain": [
       "[('Loan_ID', 'string'),\n",
       " ('loan_status', 'string'),\n",
       " ('Principal', 'int'),\n",
       " ('terms', 'int'),\n",
       " ('effective_date', 'string'),\n",
       " ('due_date', 'string'),\n",
       " ('paid_off_time', 'string'),\n",
       " ('past_due_days', 'string'),\n",
       " ('age', 'int'),\n",
       " ('education', 'string'),\n",
       " ('Gender', 'string')]"
      ]
     },
     "execution_count": 9,
     "metadata": {},
     "output_type": "execute_result"
    }
   ],
   "source": [
    "df.dtypes"
   ]
  },
  {
   "cell_type": "markdown",
   "id": "9a247a07",
   "metadata": {},
   "source": [
    "# running sql queries in spark...."
   ]
  },
  {
   "cell_type": "code",
   "execution_count": 10,
   "id": "8fdca2de",
   "metadata": {},
   "outputs": [],
   "source": [
    "df.createOrReplaceTempView(\"loan\")"
   ]
  },
  {
   "cell_type": "code",
   "execution_count": 11,
   "id": "53099919",
   "metadata": {},
   "outputs": [
    {
     "name": "stdout",
     "output_type": "stream",
     "text": [
      "+-----------+-----------+---------+-----+--------------+---------+---------------+-------------+---+--------------------+------+\n",
      "|    Loan_ID|loan_status|Principal|terms|effective_date| due_date|  paid_off_time|past_due_days|age|           education|Gender|\n",
      "+-----------+-----------+---------+-----+--------------+---------+---------------+-------------+---+--------------------+------+\n",
      "|xqd20166231|    PAIDOFF|       45|   45|      9/8/2016|10/7/2016|9/14/2016 19:31|         null| 45|High School or Below|  male|\n",
      "|xqd20168902|    PAIDOFF|       50|   50|      9/8/2016|10/7/2016| 10/7/2016 9:00|         null| 50|            Bechalor|female|\n",
      "|xqd20160003|    PAIDOFF|       33|   33|      9/8/2016|10/7/2016|9/25/2016 16:58|         null| 33|            Bechalor|female|\n",
      "|xqd20160004|    PAIDOFF|       27|   27|      9/8/2016|9/22/2016|9/22/2016 20:00|         null| 27|             college|  male|\n",
      "|xqd20160005|    PAIDOFF|       28|   28|      9/9/2016|10/8/2016|9/23/2016 21:36|         null| 28|             college|female|\n",
      "|xqd20160706|    PAIDOFF|       35|   35|      9/9/2016|9/15/2016| 9/9/2016 13:45|         null| 35|     Master or Above|  male|\n",
      "|xqd20160007|    PAIDOFF|       29|   29|      9/9/2016|10/8/2016|10/7/2016 23:07|         null| 29|             college|  male|\n",
      "|xqd20160008|    PAIDOFF|       36|   36|      9/9/2016|10/8/2016|10/5/2016 20:33|         null| 36|             college|  male|\n",
      "|xqd20160909|    PAIDOFF|       28|   28|      9/9/2016|10/8/2016|10/8/2016 16:00|         null| 28|             college|  male|\n",
      "|xqd20160010|    PAIDOFF|       26|   26|     9/10/2016|9/24/2016|9/24/2016 13:00|         null| 26|             college|  male|\n",
      "|xqd20160011|    PAIDOFF|       29|   29|     9/10/2016|9/16/2016|9/11/2016 19:11|         null| 29|             college|  male|\n",
      "|xqd20160012|    PAIDOFF|       39|   39|     9/10/2016|10/9/2016|10/9/2016 16:00|         null| 39|High School or Below|  male|\n",
      "|xqd20160013|    PAIDOFF|       26|   26|     9/10/2016|10/9/2016|10/7/2016 23:32|         null| 26|             college|  male|\n",
      "|xqd20160014|    PAIDOFF|       26|   26|     9/10/2016|9/16/2016|9/13/2016 21:57|         null| 26|             college|female|\n",
      "|xqd20160015|    PAIDOFF|       27|   27|     9/10/2016|9/16/2016|9/15/2016 14:27|         null| 27|High School or Below|  male|\n",
      "|xqd20160016|    PAIDOFF|       26|   26|     9/10/2016|9/24/2016|9/24/2016 16:00|         null| 26|             college|  male|\n",
      "|xqd20160017|    PAIDOFF|       40|   40|     9/10/2016|10/9/2016|9/27/2016 14:21|         null| 40|High School or Below|  male|\n",
      "|xqd20160018|    PAIDOFF|       32|   32|     9/10/2016|9/24/2016|9/23/2016 18:49|         null| 32|High School or Below|  male|\n",
      "|xqd20160019|    PAIDOFF|       32|   32|     9/10/2016|10/9/2016|10/5/2016 22:05|         null| 32|High School or Below|  male|\n",
      "|xqd20160020|    PAIDOFF|       26|   26|     9/10/2016|10/9/2016| 9/23/2016 7:42|         null| 26|             college|  male|\n",
      "+-----------+-----------+---------+-----+--------------+---------+---------------+-------------+---+--------------------+------+\n",
      "only showing top 20 rows\n",
      "\n"
     ]
    }
   ],
   "source": [
    "spark.sql(\"select * from loan\").show()"
   ]
  },
  {
   "cell_type": "code",
   "execution_count": 12,
   "id": "8e29510d",
   "metadata": {},
   "outputs": [
    {
     "name": "stdout",
     "output_type": "stream",
     "text": [
      "+-----------+---+------+\n",
      "|    Loan_ID|age|Gender|\n",
      "+-----------+---+------+\n",
      "|xqd20166231| 45|  male|\n",
      "|xqd20168902| 50|female|\n",
      "|xqd20160003| 33|female|\n",
      "|xqd20160004| 27|  male|\n",
      "|xqd20160005| 28|female|\n",
      "|xqd20160706| 35|  male|\n",
      "|xqd20160007| 29|  male|\n",
      "|xqd20160008| 36|  male|\n",
      "|xqd20160909| 28|  male|\n",
      "|xqd20160010| 26|  male|\n",
      "|xqd20160011| 29|  male|\n",
      "|xqd20160012| 39|  male|\n",
      "|xqd20160013| 26|  male|\n",
      "|xqd20160014| 26|female|\n",
      "|xqd20160015| 27|  male|\n",
      "|xqd20160016| 26|  male|\n",
      "|xqd20160017| 40|  male|\n",
      "|xqd20160018| 32|  male|\n",
      "|xqd20160019| 32|  male|\n",
      "|xqd20160020| 26|  male|\n",
      "+-----------+---+------+\n",
      "only showing top 20 rows\n",
      "\n"
     ]
    }
   ],
   "source": [
    "spark.sql(\"select Loan_ID,age,Gender from loan\").show()"
   ]
  },
  {
   "cell_type": "code",
   "execution_count": 13,
   "id": "59ebc904",
   "metadata": {},
   "outputs": [
    {
     "name": "stdout",
     "output_type": "stream",
     "text": [
      "+-----------+---+\n",
      "|    Loan_ID|age|\n",
      "+-----------+---+\n",
      "|xqd20166231| 45|\n",
      "|xqd20168902| 50|\n",
      "|xqd20160003| 33|\n",
      "|xqd20160706| 35|\n",
      "|xqd20160008| 36|\n",
      "|xqd20160012| 39|\n",
      "|xqd20160017| 40|\n",
      "|xqd20160018| 32|\n",
      "|xqd20160019| 32|\n",
      "|xqd20160022| 43|\n",
      "|xqd20160027| 39|\n",
      "|xqd20170088| 34|\n",
      "|xqd20160029| 31|\n",
      "|xqd20160030| 33|\n",
      "|xqd88160031| 33|\n",
      "|xqd20160032| 37|\n",
      "|xqd22169034| 37|\n",
      "|xqd20160035| 33|\n",
      "|xqd20160038| 33|\n",
      "|xqd20160041| 32|\n",
      "+-----------+---+\n",
      "only showing top 20 rows\n",
      "\n"
     ]
    }
   ],
   "source": [
    "#select,where\n",
    "spark.sql(\"select Loan_ID,age from loan where age>30\").show()"
   ]
  },
  {
   "cell_type": "code",
   "execution_count": 14,
   "id": "8e2a7b25",
   "metadata": {},
   "outputs": [
    {
     "name": "stdout",
     "output_type": "stream",
     "text": [
      "+-----------+---+------+-----+\n",
      "|    Loan_ID|age|Gender|terms|\n",
      "+-----------+---+------+-----+\n",
      "|xqd20166231| 45|  male|   45|\n",
      "|xqd20168902| 50|female|   50|\n",
      "|xqd20160003| 33|female|   33|\n",
      "|xqd20160706| 35|  male|   35|\n",
      "|xqd20160008| 36|  male|   36|\n",
      "|xqd20160012| 39|  male|   39|\n",
      "|xqd20160017| 40|  male|   40|\n",
      "|xqd20160018| 32|  male|   32|\n",
      "|xqd20160019| 32|  male|   32|\n",
      "|xqd20160022| 43|female|   43|\n",
      "|xqd20160027| 39|  male|   39|\n",
      "|xqd20170088| 34|  male|   34|\n",
      "|xqd20160029| 31|  male|   31|\n",
      "|xqd20160030| 33|  male|   33|\n",
      "|xqd88160031| 33|  male|   33|\n",
      "|xqd20160032| 37|  male|   37|\n",
      "|xqd22169034| 37|  male|   37|\n",
      "|xqd20160035| 33|  male|   33|\n",
      "|xqd20160038| 33|  male|   33|\n",
      "|xqd20160041| 32|female|   32|\n",
      "+-----------+---+------+-----+\n",
      "only showing top 20 rows\n",
      "\n"
     ]
    }
   ],
   "source": [
    "#select,where,and\n",
    "spark.sql(\"select Loan_ID,age,Gender, terms from loan where age>30 and terms>15\").show()"
   ]
  },
  {
   "cell_type": "code",
   "execution_count": 15,
   "id": "5fdaa1df",
   "metadata": {},
   "outputs": [
    {
     "name": "stdout",
     "output_type": "stream",
     "text": [
      "+-----------+---+------+-----+\n",
      "|    Loan_ID|age|Gender|terms|\n",
      "+-----------+---+------+-----+\n",
      "|xqd20166231| 45|  male|   45|\n",
      "|xqd20168902| 50|female|   50|\n",
      "|xqd20160003| 33|female|   33|\n",
      "|xqd20160004| 27|  male|   27|\n",
      "|xqd20160005| 28|female|   28|\n",
      "|xqd20160706| 35|  male|   35|\n",
      "|xqd20160007| 29|  male|   29|\n",
      "|xqd20160008| 36|  male|   36|\n",
      "|xqd20160909| 28|  male|   28|\n",
      "|xqd20160010| 26|  male|   26|\n",
      "|xqd20160011| 29|  male|   29|\n",
      "|xqd20160012| 39|  male|   39|\n",
      "|xqd20160013| 26|  male|   26|\n",
      "|xqd20160014| 26|female|   26|\n",
      "|xqd20160015| 27|  male|   27|\n",
      "|xqd20160016| 26|  male|   26|\n",
      "|xqd20160017| 40|  male|   40|\n",
      "|xqd20160018| 32|  male|   32|\n",
      "|xqd20160019| 32|  male|   32|\n",
      "|xqd20160020| 26|  male|   26|\n",
      "+-----------+---+------+-----+\n",
      "only showing top 20 rows\n",
      "\n"
     ]
    }
   ],
   "source": [
    "#select,where,or\n",
    "spark.sql(\"select Loan_ID,age,Gender, terms from loan where age>30 or terms>15\").show()"
   ]
  },
  {
   "cell_type": "code",
   "execution_count": 16,
   "id": "2a4aa72e",
   "metadata": {},
   "outputs": [
    {
     "name": "stdout",
     "output_type": "stream",
     "text": [
      "+-----------+---+------+-----+\n",
      "|    Loan_ID|age|Gender|terms|\n",
      "+-----------+---+------+-----+\n",
      "|xqd20168902| 50|female|   50|\n",
      "|xqd20160003| 33|female|   33|\n",
      "|xqd20160005| 28|female|   28|\n",
      "|xqd20160014| 26|female|   26|\n",
      "|xqd20160022| 43|female|   43|\n",
      "|xqd20160041| 32|female|   32|\n",
      "|xqd20160045| 24|female|   24|\n",
      "|xqd20160051| 27|female|   27|\n",
      "|xqd20160052| 35|female|   35|\n",
      "|xqd20160053| 35|female|   35|\n",
      "|xqd20160059| 44|female|   44|\n",
      "|xqd20160073| 33|female|   33|\n",
      "|xqd20160079| 37|female|   37|\n",
      "|xqd20160080| 44|female|   44|\n",
      "|xqd20160085| 37|female|   37|\n",
      "|xqd20160087| 24|female|   24|\n",
      "|xqd20160088| 27|female|   27|\n",
      "|xqd90160090| 46|female|   46|\n",
      "|xqd91160291| 34|female|   34|\n",
      "|xqd90160092| 32|female|   32|\n",
      "+-----------+---+------+-----+\n",
      "only showing top 20 rows\n",
      "\n"
     ]
    }
   ],
   "source": [
    "#select,where,not\n",
    "spark.sql(\"select Loan_ID,age,Gender, terms from loan where not Gender=='male'\").show()"
   ]
  },
  {
   "cell_type": "code",
   "execution_count": 17,
   "id": "dfc75b48",
   "metadata": {},
   "outputs": [
    {
     "name": "stdout",
     "output_type": "stream",
     "text": [
      "+-----------+---+------+-----+\n",
      "|    Loan_ID|age|Gender|terms|\n",
      "+-----------+---+------+-----+\n",
      "|xqd20160246| 19|female|   19|\n",
      "|xqd20160417| 21|female|   21|\n",
      "|xqd20160153| 23|female|   23|\n",
      "|xqd20160263| 23|female|   23|\n",
      "|xqd20160087| 24|female|   24|\n",
      "|xqd20160329| 24|female|   24|\n",
      "|xqd20160045| 24|female|   24|\n",
      "|xqd20160439| 25|female|   25|\n",
      "|xqd20160193| 25|female|   25|\n",
      "|xqd20160202| 26|female|   26|\n",
      "|xqd20160014| 26|female|   26|\n",
      "|xqd20160206| 26|female|   26|\n",
      "|xqd20160312| 26|female|   26|\n",
      "|xqd20160475| 26|female|   26|\n",
      "|xqd20160147| 26|female|   26|\n",
      "|xqd20160376| 26|female|   26|\n",
      "|xqd20160444| 26|female|   26|\n",
      "|xqd20160112| 27|female|   27|\n",
      "|xqd20160088| 27|female|   27|\n",
      "|xqd28160164| 27|female|   27|\n",
      "+-----------+---+------+-----+\n",
      "only showing top 20 rows\n",
      "\n"
     ]
    }
   ],
   "source": [
    "#order by\n",
    "spark.sql(\"select Loan_ID,age,Gender, terms from loan where not Gender=='male' order by age\").show()"
   ]
  },
  {
   "cell_type": "code",
   "execution_count": 18,
   "id": "42e50763",
   "metadata": {},
   "outputs": [
    {
     "data": {
      "text/plain": [
       "['Loan_ID',\n",
       " 'loan_status',\n",
       " 'Principal',\n",
       " 'terms',\n",
       " 'effective_date',\n",
       " 'due_date',\n",
       " 'paid_off_time',\n",
       " 'past_due_days',\n",
       " 'age',\n",
       " 'education',\n",
       " 'Gender']"
      ]
     },
     "execution_count": 18,
     "metadata": {},
     "output_type": "execute_result"
    }
   ],
   "source": [
    "df.columns"
   ]
  },
  {
   "cell_type": "code",
   "execution_count": 19,
   "id": "8f6f232c",
   "metadata": {},
   "outputs": [
    {
     "data": {
      "text/plain": [
       "[('Loan_ID', 'string'),\n",
       " ('loan_status', 'string'),\n",
       " ('Principal', 'int'),\n",
       " ('terms', 'int'),\n",
       " ('effective_date', 'string'),\n",
       " ('due_date', 'string'),\n",
       " ('paid_off_time', 'string'),\n",
       " ('past_due_days', 'string'),\n",
       " ('age', 'int'),\n",
       " ('education', 'string'),\n",
       " ('Gender', 'string')]"
      ]
     },
     "execution_count": 19,
     "metadata": {},
     "output_type": "execute_result"
    }
   ],
   "source": [
    "df.dtypes"
   ]
  },
  {
   "cell_type": "code",
   "execution_count": 20,
   "id": "f3c5d629",
   "metadata": {},
   "outputs": [],
   "source": [
    "#insert into\n",
    "#spark.sql(\"insert into loan values('xqd28160194','PAIDOFF',900,30,'9/18/2016','10/17/2016','9/4/2016','19:40','9/4/2016',48,'High School or Below','male')\")"
   ]
  },
  {
   "cell_type": "code",
   "execution_count": 21,
   "id": "82f4dcf5",
   "metadata": {},
   "outputs": [
    {
     "name": "stdout",
     "output_type": "stream",
     "text": [
      "+--------+\n",
      "|max(age)|\n",
      "+--------+\n",
      "|      51|\n",
      "+--------+\n",
      "\n"
     ]
    }
   ],
   "source": [
    "#max\n",
    "spark.sql(\"select max(age) from loan where Gender='male'\").show()"
   ]
  },
  {
   "cell_type": "code",
   "execution_count": 22,
   "id": "30f77908",
   "metadata": {},
   "outputs": [
    {
     "name": "stdout",
     "output_type": "stream",
     "text": [
      "+--------+\n",
      "|min(age)|\n",
      "+--------+\n",
      "|      18|\n",
      "+--------+\n",
      "\n"
     ]
    }
   ],
   "source": [
    "#min\n",
    "spark.sql(\"select min(age) from loan where Gender='male'\").show()"
   ]
  },
  {
   "cell_type": "code",
   "execution_count": 23,
   "id": "3a4d2dff",
   "metadata": {},
   "outputs": [
    {
     "name": "stdout",
     "output_type": "stream",
     "text": [
      "+----------+\n",
      "|count(age)|\n",
      "+----------+\n",
      "|        77|\n",
      "+----------+\n",
      "\n"
     ]
    }
   ],
   "source": [
    "#count\n",
    "spark.sql(\"select count(age) from loan where Gender='female'\").show()"
   ]
  },
  {
   "cell_type": "code",
   "execution_count": 24,
   "id": "d69b7127",
   "metadata": {},
   "outputs": [
    {
     "name": "stdout",
     "output_type": "stream",
     "text": [
      "+------------------+\n",
      "|          avg(age)|\n",
      "+------------------+\n",
      "|31.883116883116884|\n",
      "+------------------+\n",
      "\n"
     ]
    }
   ],
   "source": [
    "#avg\n",
    "spark.sql(\"select avg(age) from loan where Gender='female'\").show()"
   ]
  },
  {
   "cell_type": "code",
   "execution_count": 25,
   "id": "537b8cce",
   "metadata": {},
   "outputs": [
    {
     "name": "stdout",
     "output_type": "stream",
     "text": [
      "+--------+\n",
      "|sum(age)|\n",
      "+--------+\n",
      "|    2455|\n",
      "+--------+\n",
      "\n"
     ]
    }
   ],
   "source": [
    "#sum\n",
    "spark.sql(\"select sum(age) from loan where Gender='female'\").show()"
   ]
  },
  {
   "cell_type": "code",
   "execution_count": 26,
   "id": "24862f70",
   "metadata": {},
   "outputs": [
    {
     "name": "stdout",
     "output_type": "stream",
     "text": [
      "+-----------+---+------+--------------------+\n",
      "|    Loan_ID|age|Gender|           education|\n",
      "+-----------+---+------+--------------------+\n",
      "|xqd20166231| 45|  male|High School or Below|\n",
      "|xqd20160012| 39|  male|High School or Below|\n",
      "|xqd20160015| 27|  male|High School or Below|\n",
      "|xqd20160017| 40|  male|High School or Below|\n",
      "|xqd20160018| 32|  male|High School or Below|\n",
      "|xqd20160019| 32|  male|High School or Below|\n",
      "|xqd20160022| 43|female|High School or Below|\n",
      "|xqd20160023| 25|  male|High School or Below|\n",
      "|xqd20160026| 29|  male|High School or Below|\n",
      "|xqd88160031| 33|  male|High School or Below|\n",
      "|xqd20160037| 27|  male|High School or Below|\n",
      "|xqd20160038| 33|  male|High School or Below|\n",
      "|xqd20160046| 35|  male|High School or Below|\n",
      "|xqd20160047| 22|  male|High School or Below|\n",
      "|xqd20160050| 50|  male|High School or Below|\n",
      "|xqd20160054| 34|  male|High School or Below|\n",
      "|xqd20160055| 21|  male|High School or Below|\n",
      "|xqd20160057| 27|  male|High School or Below|\n",
      "|xqd20160059| 44|female|High School or Below|\n",
      "|xqd20160063| 34|  male|High School or Below|\n",
      "+-----------+---+------+--------------------+\n",
      "only showing top 20 rows\n",
      "\n"
     ]
    }
   ],
   "source": [
    "#like\n",
    "spark.sql(\"select Loan_ID,age,Gender,education from loan where education like '%High%' \").show()"
   ]
  },
  {
   "cell_type": "code",
   "execution_count": 27,
   "id": "73c90e38",
   "metadata": {},
   "outputs": [
    {
     "name": "stdout",
     "output_type": "stream",
     "text": [
      "+-----------+------+---------+\n",
      "|    Loan_ID|Gender|education|\n",
      "+-----------+------+---------+\n",
      "|xqd20168902|female| Bechalor|\n",
      "|xqd20160003|female| Bechalor|\n",
      "|xqd20160004|  male|  college|\n",
      "|xqd20160005|female|  college|\n",
      "|xqd20160007|  male|  college|\n",
      "|xqd20160008|  male|  college|\n",
      "|xqd20160909|  male|  college|\n",
      "|xqd20160010|  male|  college|\n",
      "|xqd20160011|  male|  college|\n",
      "|xqd20160013|  male|  college|\n",
      "|xqd20160014|female|  college|\n",
      "|xqd20160016|  male|  college|\n",
      "|xqd20160020|  male|  college|\n",
      "|xqd20160021|  male|  college|\n",
      "|xqd20160024|  male|  college|\n",
      "|xqd20160025|  male|  college|\n",
      "|xqd20160027|  male| Bechalor|\n",
      "|xqd20170088|  male| Bechalor|\n",
      "|xqd20160029|  male|  college|\n",
      "|xqd20160030|  male|  college|\n",
      "+-----------+------+---------+\n",
      "only showing top 20 rows\n",
      "\n"
     ]
    }
   ],
   "source": [
    "#in\n",
    "spark.sql(\"select Loan_ID,Gender,education from loan where education in ('Bechalor','college')\").show()"
   ]
  },
  {
   "cell_type": "code",
   "execution_count": 28,
   "id": "2967c711",
   "metadata": {},
   "outputs": [
    {
     "name": "stdout",
     "output_type": "stream",
     "text": [
      "+-----------+---+------+--------------------+\n",
      "|    Loan_ID|age|Gender|           education|\n",
      "+-----------+---+------+--------------------+\n",
      "|xqd20160003| 33|female|            Bechalor|\n",
      "|xqd20160004| 27|  male|             college|\n",
      "|xqd20160005| 28|female|             college|\n",
      "|xqd20160706| 35|  male|     Master or Above|\n",
      "|xqd20160007| 29|  male|             college|\n",
      "|xqd20160008| 36|  male|             college|\n",
      "|xqd20160909| 28|  male|             college|\n",
      "|xqd20160010| 26|  male|             college|\n",
      "|xqd20160011| 29|  male|             college|\n",
      "|xqd20160012| 39|  male|High School or Below|\n",
      "|xqd20160013| 26|  male|             college|\n",
      "|xqd20160014| 26|female|             college|\n",
      "|xqd20160015| 27|  male|High School or Below|\n",
      "|xqd20160016| 26|  male|             college|\n",
      "|xqd20160017| 40|  male|High School or Below|\n",
      "|xqd20160018| 32|  male|High School or Below|\n",
      "|xqd20160019| 32|  male|High School or Below|\n",
      "|xqd20160020| 26|  male|             college|\n",
      "|xqd20160021| 26|  male|             college|\n",
      "|xqd20160023| 25|  male|High School or Below|\n",
      "+-----------+---+------+--------------------+\n",
      "only showing top 20 rows\n",
      "\n"
     ]
    }
   ],
   "source": [
    "#between\n",
    "spark.sql(\"select Loan_ID,age,Gender,education from loan where age between 20 and 40\").show()"
   ]
  },
  {
   "cell_type": "code",
   "execution_count": 29,
   "id": "eb8b1523",
   "metadata": {},
   "outputs": [
    {
     "name": "stdout",
     "output_type": "stream",
     "text": [
      "+------------+-----------------------+\n",
      "|customer_age|education_qualification|\n",
      "+------------+-----------------------+\n",
      "|          45|   High School or Below|\n",
      "|          50|               Bechalor|\n",
      "|          33|               Bechalor|\n",
      "|          27|                college|\n",
      "|          28|                college|\n",
      "|          35|        Master or Above|\n",
      "|          29|                college|\n",
      "|          36|                college|\n",
      "|          28|                college|\n",
      "|          26|                college|\n",
      "|          29|                college|\n",
      "|          39|   High School or Below|\n",
      "|          26|                college|\n",
      "|          26|                college|\n",
      "|          27|   High School or Below|\n",
      "|          26|                college|\n",
      "|          40|   High School or Below|\n",
      "|          32|   High School or Below|\n",
      "|          32|   High School or Below|\n",
      "|          26|                college|\n",
      "+------------+-----------------------+\n",
      "only showing top 20 rows\n",
      "\n"
     ]
    }
   ],
   "source": [
    "#as(alias)\n",
    "spark.sql(\"select age as customer_age,education as education_qualification from loan\").show()"
   ]
  },
  {
   "cell_type": "code",
   "execution_count": 30,
   "id": "3f6bc946",
   "metadata": {},
   "outputs": [
    {
     "name": "stdout",
     "output_type": "stream",
     "text": [
      "+----------+--------------------+\n",
      "|count(age)|           education|\n",
      "+----------+--------------------+\n",
      "|       220|             college|\n",
      "|         4|     Master or Above|\n",
      "|        67|            Bechalor|\n",
      "|       209|High School or Below|\n",
      "+----------+--------------------+\n",
      "\n"
     ]
    }
   ],
   "source": [
    "#group by\n",
    "spark.sql(\"select count(age),education from loan group by education\").show()"
   ]
  }
 ],
 "metadata": {
  "kernelspec": {
   "display_name": "Python 3",
   "language": "python",
   "name": "python3"
  },
  "language_info": {
   "codemirror_mode": {
    "name": "ipython",
    "version": 3
   },
   "file_extension": ".py",
   "mimetype": "text/x-python",
   "name": "python",
   "nbconvert_exporter": "python",
   "pygments_lexer": "ipython3",
   "version": "3.5.6"
  }
 },
 "nbformat": 4,
 "nbformat_minor": 5
}
