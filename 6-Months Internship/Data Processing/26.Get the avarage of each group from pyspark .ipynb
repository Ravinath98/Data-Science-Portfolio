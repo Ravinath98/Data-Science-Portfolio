{
 "cells": [
  {
   "cell_type": "code",
   "execution_count": 1,
   "id": "4af9946c",
   "metadata": {},
   "outputs": [],
   "source": [
    "from pyspark.sql import SparkSession"
   ]
  },
  {
   "cell_type": "code",
   "execution_count": 2,
   "id": "3df4578d",
   "metadata": {},
   "outputs": [
    {
     "name": "stderr",
     "output_type": "stream",
     "text": [
      "C:\\Users\\RAVI\\anaconda3\\envs\\vizuamatix\\lib\\site-packages\\pyspark\\context.py:227: DeprecationWarning: Support for Python 2 and Python 3 prior to version 3.6 is deprecated as of Spark 3.0. See also the plan for dropping Python 2 support at https://spark.apache.org/news/plan-for-dropping-python-2-support.html.\n",
      "  DeprecationWarning)\n"
     ]
    }
   ],
   "source": [
    "spark=SparkSession.builder.getOrCreate()"
   ]
  },
  {
   "cell_type": "code",
   "execution_count": 3,
   "id": "bb8836a8",
   "metadata": {},
   "outputs": [],
   "source": [
    "df=spark.read.csv('E:\\Desktop\\Datasets\\Loan payments data.csv',header=True)"
   ]
  },
  {
   "cell_type": "code",
   "execution_count": 4,
   "id": "1d87061b",
   "metadata": {},
   "outputs": [
    {
     "name": "stdout",
     "output_type": "stream",
     "text": [
      "+-----------+-----------+---------+-----+--------------+---------+---------------+-------------+---+--------------------+------+\n",
      "|    Loan_ID|loan_status|Principal|terms|effective_date| due_date|  paid_off_time|past_due_days|age|           education|Gender|\n",
      "+-----------+-----------+---------+-----+--------------+---------+---------------+-------------+---+--------------------+------+\n",
      "|xqd20166231|    PAIDOFF|     1000|   30|      9/8/2016|10/7/2016|9/14/2016 19:31|         null| 45|High School or Below|  male|\n",
      "|xqd20168902|    PAIDOFF|     1000|   30|      9/8/2016|10/7/2016| 10/7/2016 9:00|         null| 50|            Bechalor|female|\n",
      "|xqd20160003|    PAIDOFF|     1000|   30|      9/8/2016|10/7/2016|9/25/2016 16:58|         null| 33|            Bechalor|female|\n",
      "|xqd20160004|    PAIDOFF|     1000|   15|      9/8/2016|9/22/2016|9/22/2016 20:00|         null| 27|             college|  male|\n",
      "|xqd20160005|    PAIDOFF|     1000|   30|      9/9/2016|10/8/2016|9/23/2016 21:36|         null| 28|             college|female|\n",
      "|xqd20160706|    PAIDOFF|      300|    7|      9/9/2016|9/15/2016| 9/9/2016 13:45|         null| 35|     Master or Above|  male|\n",
      "|xqd20160007|    PAIDOFF|     1000|   30|      9/9/2016|10/8/2016|10/7/2016 23:07|         null| 29|             college|  male|\n",
      "|xqd20160008|    PAIDOFF|     1000|   30|      9/9/2016|10/8/2016|10/5/2016 20:33|         null| 36|             college|  male|\n",
      "|xqd20160909|    PAIDOFF|     1000|   30|      9/9/2016|10/8/2016|10/8/2016 16:00|         null| 28|             college|  male|\n",
      "|xqd20160010|    PAIDOFF|      800|   15|     9/10/2016|9/24/2016|9/24/2016 13:00|         null| 26|             college|  male|\n",
      "|xqd20160011|    PAIDOFF|      300|    7|     9/10/2016|9/16/2016|9/11/2016 19:11|         null| 29|             college|  male|\n",
      "|xqd20160012|    PAIDOFF|     1000|   15|     9/10/2016|10/9/2016|10/9/2016 16:00|         null| 39|High School or Below|  male|\n",
      "|xqd20160013|    PAIDOFF|     1000|   30|     9/10/2016|10/9/2016|10/7/2016 23:32|         null| 26|             college|  male|\n",
      "|xqd20160014|    PAIDOFF|      900|    7|     9/10/2016|9/16/2016|9/13/2016 21:57|         null| 26|             college|female|\n",
      "|xqd20160015|    PAIDOFF|     1000|    7|     9/10/2016|9/16/2016|9/15/2016 14:27|         null| 27|High School or Below|  male|\n",
      "|xqd20160016|    PAIDOFF|      800|   15|     9/10/2016|9/24/2016|9/24/2016 16:00|         null| 26|             college|  male|\n",
      "|xqd20160017|    PAIDOFF|     1000|   30|     9/10/2016|10/9/2016|9/27/2016 14:21|         null| 40|High School or Below|  male|\n",
      "|xqd20160018|    PAIDOFF|     1000|   15|     9/10/2016|9/24/2016|9/23/2016 18:49|         null| 32|High School or Below|  male|\n",
      "|xqd20160019|    PAIDOFF|     1000|   30|     9/10/2016|10/9/2016|10/5/2016 22:05|         null| 32|High School or Below|  male|\n",
      "|xqd20160020|    PAIDOFF|      800|   30|     9/10/2016|10/9/2016| 9/23/2016 7:42|         null| 26|             college|  male|\n",
      "+-----------+-----------+---------+-----+--------------+---------+---------------+-------------+---+--------------------+------+\n",
      "only showing top 20 rows\n",
      "\n"
     ]
    }
   ],
   "source": [
    "df.show()"
   ]
  },
  {
   "cell_type": "code",
   "execution_count": 5,
   "id": "2dfde91c",
   "metadata": {},
   "outputs": [],
   "source": [
    "#convert age datatype to integer.....\n",
    "df=df.withColumn(\"age\",df.age.cast('int'))"
   ]
  },
  {
   "cell_type": "code",
   "execution_count": 6,
   "id": "c6331e50",
   "metadata": {},
   "outputs": [],
   "source": [
    "#convert Principal datatype to integer.....\n",
    "df=df.withColumn(\"Principal\",df.Principal.cast('int'))"
   ]
  },
  {
   "cell_type": "code",
   "execution_count": 7,
   "id": "16c97fce",
   "metadata": {},
   "outputs": [],
   "source": [
    "#convert Principal datatype to integer.....\n",
    "df=df.withColumn(\"terms\",df.terms.cast('int'))"
   ]
  },
  {
   "cell_type": "code",
   "execution_count": 8,
   "id": "7c1573fa",
   "metadata": {},
   "outputs": [
    {
     "data": {
      "text/plain": [
       "[('Loan_ID', 'string'),\n",
       " ('loan_status', 'string'),\n",
       " ('Principal', 'int'),\n",
       " ('terms', 'int'),\n",
       " ('effective_date', 'string'),\n",
       " ('due_date', 'string'),\n",
       " ('paid_off_time', 'string'),\n",
       " ('past_due_days', 'string'),\n",
       " ('age', 'int'),\n",
       " ('education', 'string'),\n",
       " ('Gender', 'string')]"
      ]
     },
     "execution_count": 8,
     "metadata": {},
     "output_type": "execute_result"
    }
   ],
   "source": [
    "df.dtypes"
   ]
  },
  {
   "cell_type": "markdown",
   "id": "72082f10",
   "metadata": {},
   "source": [
    "# averages of groups.."
   ]
  },
  {
   "cell_type": "code",
   "execution_count": 9,
   "id": "a9266aa0",
   "metadata": {},
   "outputs": [
    {
     "name": "stdout",
     "output_type": "stream",
     "text": [
      "+--------------------+------------------+\n",
      "|           education|          avg(age)|\n",
      "+--------------------+------------------+\n",
      "|             college| 30.39090909090909|\n",
      "|     Master or Above|             40.25|\n",
      "|            Bechalor|32.134328358208954|\n",
      "|High School or Below| 31.37799043062201|\n",
      "+--------------------+------------------+\n",
      "\n"
     ]
    }
   ],
   "source": [
    "#education group\n",
    "#age average of education groups...\n",
    "df.groupBy('education').avg('age').show()"
   ]
  },
  {
   "cell_type": "code",
   "execution_count": 10,
   "id": "016256b6",
   "metadata": {},
   "outputs": [
    {
     "name": "stdout",
     "output_type": "stream",
     "text": [
      "+------+------------------+\n",
      "|Gender|          avg(age)|\n",
      "+------+------------------+\n",
      "|female|31.883116883116884|\n",
      "|  male|30.976359338061467|\n",
      "+------+------------------+\n",
      "\n"
     ]
    }
   ],
   "source": [
    "#Gender group\n",
    "#age average of gender groups...\n",
    "df.groupBy('Gender').avg('age').show()"
   ]
  },
  {
   "cell_type": "code",
   "execution_count": 11,
   "id": "63f4c906",
   "metadata": {},
   "outputs": [
    {
     "name": "stdout",
     "output_type": "stream",
     "text": [
      "+------------------+--------------+\n",
      "|       loan_status|avg(Principal)|\n",
      "+------------------+--------------+\n",
      "|        COLLECTION|         954.0|\n",
      "|COLLECTION_PAIDOFF|         957.0|\n",
      "|           PAIDOFF|         935.0|\n",
      "+------------------+--------------+\n",
      "\n"
     ]
    }
   ],
   "source": [
    "#loan_status group\n",
    "#Principal average of loan_status groups...\n",
    "df.groupBy('loan_status').avg('Principal').show()"
   ]
  },
  {
   "cell_type": "code",
   "execution_count": 12,
   "id": "727eee33",
   "metadata": {},
   "outputs": [
    {
     "name": "stdout",
     "output_type": "stream",
     "text": [
      "+------------------+--------+\n",
      "|       loan_status|avg(age)|\n",
      "+------------------+--------+\n",
      "|        COLLECTION|   30.61|\n",
      "|COLLECTION_PAIDOFF|   31.34|\n",
      "|           PAIDOFF|   31.21|\n",
      "+------------------+--------+\n",
      "\n"
     ]
    }
   ],
   "source": [
    "#loan_status group\n",
    "#age average of loan_status groups...\n",
    "df.groupBy('loan_status').avg('age').show()"
   ]
  },
  {
   "cell_type": "code",
   "execution_count": 13,
   "id": "de0eed91",
   "metadata": {},
   "outputs": [
    {
     "name": "stdout",
     "output_type": "stream",
     "text": [
      "+--------------------+------------------+\n",
      "|           education|        avg(terms)|\n",
      "+--------------------+------------------+\n",
      "|             college|22.686363636363637|\n",
      "|     Master or Above|              11.0|\n",
      "|            Bechalor| 21.46268656716418|\n",
      "|High School or Below| 23.63157894736842|\n",
      "+--------------------+------------------+\n",
      "\n"
     ]
    }
   ],
   "source": [
    "#education group\n",
    "#terms average of education groups...\n",
    "df.groupBy('education').avg('terms').show()"
   ]
  },
  {
   "cell_type": "code",
   "execution_count": 14,
   "id": "823311a7",
   "metadata": {},
   "outputs": [
    {
     "name": "stdout",
     "output_type": "stream",
     "text": [
      "+----------+-----------------+\n",
      "|  due_date|   avg(Principal)|\n",
      "+----------+-----------------+\n",
      "|10/12/2016|            975.0|\n",
      "| 9/26/2016|898.3333333333334|\n",
      "|10/11/2016|997.1014492753624|\n",
      "| 10/7/2016|           1000.0|\n",
      "| 11/7/2016|           1000.0|\n",
      "| 9/19/2016|833.3333333333334|\n",
      "|10/13/2016| 980.952380952381|\n",
      "|11/12/2016|           1000.0|\n",
      "| 9/23/2016|            900.0|\n",
      "|11/10/2016|           1000.0|\n",
      "| 10/8/2016|           1000.0|\n",
      "|10/26/2016|            950.0|\n",
      "| 9/25/2016|882.7586206896551|\n",
      "| 9/24/2016|917.6470588235294|\n",
      "| 10/9/2016|978.5714285714286|\n",
      "| 9/15/2016|            300.0|\n",
      "|10/25/2016|           1000.0|\n",
      "|10/10/2016|994.3089430894308|\n",
      "| 9/18/2016|            475.0|\n",
      "| 9/22/2016|           1000.0|\n",
      "+----------+-----------------+\n",
      "only showing top 20 rows\n",
      "\n"
     ]
    }
   ],
   "source": [
    "#due_date group\n",
    "#Principal average of due_date groups...\n",
    "df.groupBy('due_date').avg('Principal').show()"
   ]
  },
  {
   "cell_type": "code",
   "execution_count": 15,
   "id": "04785824",
   "metadata": {},
   "outputs": [
    {
     "name": "stdout",
     "output_type": "stream",
     "text": [
      "+-----+-----------------+\n",
      "|terms|   avg(Principal)|\n",
      "+-----+-----------------+\n",
      "|   15|893.7198067632851|\n",
      "|    7|752.3809523809524|\n",
      "|   30|995.5882352941177|\n",
      "+-----+-----------------+\n",
      "\n"
     ]
    }
   ],
   "source": [
    "#terms group\n",
    "#Principal average of terms groups...\n",
    "df.groupBy('terms').avg('Principal').show()"
   ]
  },
  {
   "cell_type": "code",
   "execution_count": 16,
   "id": "5c113855",
   "metadata": {},
   "outputs": [
    {
     "name": "stdout",
     "output_type": "stream",
     "text": [
      "+--------------+-----------------+\n",
      "|effective_date|   avg(Principal)|\n",
      "+--------------+-----------------+\n",
      "|     9/14/2016|951.5151515151515|\n",
      "|      9/9/2016|913.3333333333334|\n",
      "|     9/13/2016| 908.695652173913|\n",
      "|     9/10/2016|939.1304347826087|\n",
      "|     9/12/2016|941.8918918918919|\n",
      "|     9/11/2016|948.0519480519481|\n",
      "|      9/8/2016|           1000.0|\n",
      "+--------------+-----------------+\n",
      "\n"
     ]
    }
   ],
   "source": [
    "#effective_date group\n",
    "#Principla average of effective_date groups....\n",
    "df.groupBy('effective_date').avg('Principal').show()"
   ]
  },
  {
   "cell_type": "code",
   "execution_count": 17,
   "id": "d2199bba",
   "metadata": {},
   "outputs": [
    {
     "name": "stdout",
     "output_type": "stream",
     "text": [
      "+---+------------------+\n",
      "|age|        avg(terms)|\n",
      "+---+------------------+\n",
      "| 31|22.454545454545453|\n",
      "| 34|             22.16|\n",
      "| 28|            24.375|\n",
      "| 27|23.657894736842106|\n",
      "| 26|23.456521739130434|\n",
      "| 44|              22.5|\n",
      "| 22|              21.5|\n",
      "| 47|              15.0|\n",
      "| 40|            24.375|\n",
      "| 20|             26.25|\n",
      "| 19|              30.0|\n",
      "| 41|              21.0|\n",
      "| 43|              21.0|\n",
      "| 37|23.263157894736842|\n",
      "| 35|              21.0|\n",
      "| 39|              19.5|\n",
      "| 23|              20.2|\n",
      "| 49|              30.0|\n",
      "| 51|              15.0|\n",
      "| 50|             18.75|\n",
      "+---+------------------+\n",
      "only showing top 20 rows\n",
      "\n"
     ]
    }
   ],
   "source": [
    "#age group\n",
    "#average of terms for age groups.....\n",
    "df.groupBy('age').avg('terms').show()"
   ]
  }
 ],
 "metadata": {
  "kernelspec": {
   "display_name": "Python 3",
   "language": "python",
   "name": "python3"
  },
  "language_info": {
   "codemirror_mode": {
    "name": "ipython",
    "version": 3
   },
   "file_extension": ".py",
   "mimetype": "text/x-python",
   "name": "python",
   "nbconvert_exporter": "python",
   "pygments_lexer": "ipython3",
   "version": "3.5.6"
  }
 },
 "nbformat": 4,
 "nbformat_minor": 5
}
