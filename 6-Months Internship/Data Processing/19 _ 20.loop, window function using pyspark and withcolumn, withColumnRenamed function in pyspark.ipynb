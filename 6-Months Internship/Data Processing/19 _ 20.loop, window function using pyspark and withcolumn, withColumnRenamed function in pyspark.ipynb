{
 "cells": [
  {
   "cell_type": "markdown",
   "id": "93b827d4",
   "metadata": {},
   "source": [
    "### Here I perform loop Loop though a dataframe, window functions and withcolumn & withColumnRenamed functions in pyspark"
   ]
  },
  {
   "cell_type": "code",
   "execution_count": 1,
   "id": "738050f7",
   "metadata": {},
   "outputs": [],
   "source": [
    "import pyspark\n",
    "from pyspark.sql import SparkSession "
   ]
  },
  {
   "cell_type": "code",
   "execution_count": 2,
   "id": "446e1b4a",
   "metadata": {},
   "outputs": [
    {
     "name": "stderr",
     "output_type": "stream",
     "text": [
      "C:\\Users\\RAVI\\anaconda3\\envs\\vizuamatix\\lib\\site-packages\\pyspark\\context.py:227: DeprecationWarning: Support for Python 2 and Python 3 prior to version 3.6 is deprecated as of Spark 3.0. See also the plan for dropping Python 2 support at https://spark.apache.org/news/plan-for-dropping-python-2-support.html.\n",
      "  DeprecationWarning)\n"
     ]
    }
   ],
   "source": [
    "spark=SparkSession.builder.getOrCreate() #create spark object.."
   ]
  },
  {
   "cell_type": "code",
   "execution_count": 3,
   "id": "d7987b82",
   "metadata": {},
   "outputs": [],
   "source": [
    "df=spark.read.csv(\"E:\\Desktop\\Datasets\\dummy_cdr.csv\",header=True)"
   ]
  },
  {
   "cell_type": "code",
   "execution_count": 4,
   "id": "60035bbc",
   "metadata": {},
   "outputs": [
    {
     "name": "stdout",
     "output_type": "stream",
     "text": [
      "+----------+-----------+------------+-------------+------------+-----+-------+--------------------+--------------------+--------------------+-----------------+-------------+----------+--------------------+----------+--------------------+----------+--------+----------+--------+--------------------+\n",
      "|RECORDTYPE| SERVEDIMEI|SERVEDMSISDN|CALLINGNUMBER|CALLEDNUMBER|  LAC| CELLID|         SEIZURETIME|          ANSWERTIME|         RELEASETIME|CALLDURATION(sec)|CALLREFERENCE|SERVICEKEY|NETWORKCALLREFERENCE|MSCADDRESS|ORIGINALCALLEDNUMBER|CALLEDIMSI|CALLTYPE|CALLEDIMEI|ORGMSCID|            CELLNAME|\n",
      "+----------+-----------+------------+-------------+------------+-----+-------+--------------------+--------------------+--------------------+-----------------+-------------+----------+--------------------+----------+--------------------+----------+--------+----------+--------+--------------------+\n",
      "|  incoming|1.23457E+15|     1111111|       451111|     2330925|28106| 123456|2021-10-01T21:20:42Z|2021-10-01T21:20:48Z|2021-10-01T21:24:49Z|              241|    336617966|         -|                   -|       322|                   -|         -|   onnet|         -|       -|Keppetipola-1_G1-091|\n",
      "|  incoming|1.23458E+15|     2222111|      2200000|    67554005|25004| 234567|2021-10-01T21:20:29Z|2021-10-01T21:20:53Z|2021-10-01T21:24:49Z|              236|     93517596|         -|                   -|       322|                   -|         -|  offnet|         -|       -| Kandangoda-1_G3-091|\n",
      "|  incoming|1.23459E+15|     3333111|      3948889|   132777085|    -| 345678|2021-10-01T21:23:16Z|2021-10-01T21:24:16Z|2021-10-01T21:24:50Z|               34|    219174645|         -|    1A0000402510F556|       322|                   -|         -|   onnet|         -|       -|                   -|\n",
      "|  incoming| 1.2346E+15|     4444111|      5697778|   198000165|30805| 456789|2021-10-01T21:19:29Z|2021-10-01T21:19:35Z|2021-10-01T21:24:50Z|              315|    185608981|         -|                   -|       322|                   -|         -|   onnet|         -|       -|   Siripura-1_U3-213|\n",
      "|  incoming|1.23461E+15|     5555111|      7446667|   263223245|28103| 567900|2021-10-01T21:23:21Z|2021-10-01T21:24:16Z|2021-10-01T21:24:50Z|               34|    143680279|         -|                   -|       322|                   -|         -|  offnet|         -|       -|   Ellewewa-1_G3-091|\n",
      "|  incoming|1.23462E+15|     6666111|      9195556|   328446325|32002| 679011|2021-10-01T21:20:36Z|2021-10-01T21:20:51Z|2021-10-01T21:24:50Z|              239|     26400606|         -|                   -|       322|                   -|         -|   onnet|         -|       -|    Wadduwa-1_U2-211|\n",
      "|  incoming|1.23463E+15|     7777111|     10944445|   393669405|28109| 790122|2021-10-01T21:22:09Z|2021-10-01T21:22:20Z|2021-10-01T21:24:49Z|              149|    269516061|         -|                   -|       322|                   -|         -|  offnet|         -|       -|Hinnarandeniya-1_...|\n",
      "|  incoming|1.23464E+15|     8888111|     12693334|   458892485|30802| 901233|2021-10-01T21:20:26Z|2021-10-01T21:20:42Z|2021-10-01T21:24:50Z|              248|    294683974|         -|                   -|       322|                   -|         -|   onnet|         -|       -|BandarawelaTown-2...|\n",
      "|  incoming|1.23465E+15|     9999111|     14442223|   524115565|25003|1012344|2021-10-01T21:24:39Z|2021-10-01T21:24:46Z|2021-10-01T21:24:50Z|                4|    202394206|         -|                   -|       322|                   -|         -|   onnet|         -|       -|Yatadolawatta-1_G...|\n",
      "|  outgoing|1.23466E+15|    11110111|     16191112|   589338645|25001|1123455|2021-10-01T21:23:46Z|2021-10-01T21:24:11Z|2021-10-01T21:24:50Z|               39|    277896208|         -|                   -|       322|                   -|         -|  offnet|         -|       -|Matara_Walgama-1_...|\n",
      "|  outgoing|1.23467E+15|    12221111|     17940001|   654561725|25008|1234566|2021-10-01T21:24:24Z|2021-10-01T21:24:25Z|2021-10-01T21:24:49Z|               24|    370174828|         -|                   -|       322|                   -|         -|   onnet|         -|       -|Attidiya_BakeryJu...|\n",
      "|  outgoing|1.23468E+15|    13332111|     19688890|   719784805|25002|1345677|2021-10-01T21:24:14Z|2021-10-01T21:24:43Z|2021-10-01T21:24:50Z|                7|     76728750|         -|                   -|       322|                   -|         -|  offnet|         -|       -|  Udawalawa-1_G3-091|\n",
      "|  outgoing|1.23469E+15|    14443111|     21437779|   785007885|25008|1456788|2021-10-01T21:24:31Z|2021-10-01T21:24:40Z|2021-10-01T21:24:50Z|               10|     18002404|         -|                   -|       322|                   -|         -|   onnet|         -|       -|Thalapathpitiya-2...|\n",
      "|  outgoing| 1.2347E+15|    15554111|     23186668|   850230965|28103|1567899|2021-10-01T21:19:22Z|2021-10-01T21:19:39Z|2021-10-01T21:24:50Z|              311|    135284563|         -|                   -|       322|                   -|         -|   onnet|         -|       -|   Medagama-1_G3-181|\n",
      "|  incoming|1.23471E+15|    16665111|     24935557|   915454045|26008|1679010|2021-10-01T21:23:10Z|2021-10-01T21:23:14Z|2021-10-01T21:24:50Z|               96|     76728502|         -|                   -|       322|                   -|         -|  offnet|         -|       -|      Dompe-1_G2-091|\n",
      "|  incoming|1.23472E+15|    17776111|     26684446|   980677125|    -|1790121|2021-10-01T21:24:25Z|2021-10-01T21:24:37Z|2021-10-01T21:24:50Z|               13|     43167608|         -|    05000040A71378AF|       322|                   -|         -|   onnet|         -|       -|                   -|\n",
      "|  outgoing|1.23473E+15|    18887111|     28433335|  1045900205|28103|1901232|2021-10-01T21:23:51Z|2021-10-01T21:24:04Z|2021-10-01T21:24:51Z|               47|     18002243|         -|                   -|       322|                   -|         -|  offnet|         -|       -|Dimbulagala-1_G3-181|\n",
      "|  incoming|1.23474E+15|    19998111|     30182224|  1111123285|30803|2012343|2021-10-01T21:24:27Z|2021-10-01T21:24:37Z|2021-10-01T21:24:50Z|               13|     18002397|         -|                   -|       322|                   -|         -|   onnet|         -|       -|KalmunaiKudi_East...|\n",
      "|  outgoing|1.23475E+15|    21109111|     31931113|  1176346365|28107|2123454|2021-10-01T21:23:27Z|2021-10-01T21:23:40Z|2021-10-01T21:24:51Z|               71|    286287157|         -|                   -|       322|                   -|         -|   onnet|         -|       -|  Gonnoruwa-1_G1-091|\n",
      "|  outgoing|1.23476E+15|    22220111|     33680002|  1241569445|25001|2234565|2021-10-01T21:24:14Z|2021-10-01T21:24:17Z|2021-10-01T21:24:50Z|               33|    252730496|         -|                   -|       322|                   -|         -|  offnet|         -|       -|  Dangedara-1_G7-091|\n",
      "+----------+-----------+------------+-------------+------------+-----+-------+--------------------+--------------------+--------------------+-----------------+-------------+----------+--------------------+----------+--------------------+----------+--------+----------+--------+--------------------+\n",
      "only showing top 20 rows\n",
      "\n"
     ]
    }
   ],
   "source": [
    "df.show()"
   ]
  },
  {
   "cell_type": "code",
   "execution_count": 5,
   "id": "a065b08b",
   "metadata": {},
   "outputs": [
    {
     "data": {
      "text/plain": [
       "21"
      ]
     },
     "execution_count": 5,
     "metadata": {},
     "output_type": "execute_result"
    }
   ],
   "source": [
    "df.count() #rows.."
   ]
  },
  {
   "cell_type": "markdown",
   "id": "8128eac3",
   "metadata": {},
   "source": [
    "# Loop through a data frame"
   ]
  },
  {
   "cell_type": "code",
   "execution_count": 6,
   "id": "f7762118",
   "metadata": {},
   "outputs": [],
   "source": [
    "collect=df.collect() #collect all the rows in the dataframe"
   ]
  },
  {
   "cell_type": "code",
   "execution_count": 7,
   "id": "913c7267",
   "metadata": {},
   "outputs": [
    {
     "data": {
      "text/plain": [
       "['RECORDTYPE',\n",
       " 'SERVEDIMEI',\n",
       " 'SERVEDMSISDN',\n",
       " 'CALLINGNUMBER',\n",
       " 'CALLEDNUMBER',\n",
       " 'LAC',\n",
       " 'CELLID',\n",
       " 'SEIZURETIME',\n",
       " 'ANSWERTIME',\n",
       " 'RELEASETIME',\n",
       " 'CALLDURATION(sec)',\n",
       " 'CALLREFERENCE',\n",
       " 'SERVICEKEY',\n",
       " 'NETWORKCALLREFERENCE',\n",
       " 'MSCADDRESS',\n",
       " 'ORIGINALCALLEDNUMBER',\n",
       " 'CALLEDIMSI',\n",
       " 'CALLTYPE',\n",
       " 'CALLEDIMEI',\n",
       " 'ORGMSCID',\n",
       " 'CELLNAME']"
      ]
     },
     "execution_count": 7,
     "metadata": {},
     "output_type": "execute_result"
    }
   ],
   "source": [
    "df.columns"
   ]
  },
  {
   "cell_type": "code",
   "execution_count": 8,
   "id": "f0cb365b",
   "metadata": {},
   "outputs": [
    {
     "name": "stdout",
     "output_type": "stream",
     "text": [
      "incoming 1.23457E+15 onnet ['SERVICEKEY']\n",
      "incoming 1.23458E+15 offnet ['SERVICEKEY']\n",
      "incoming 1.23459E+15 onnet ['SERVICEKEY']\n",
      "incoming 1.2346E+15 onnet ['SERVICEKEY']\n",
      "incoming 1.23461E+15 offnet ['SERVICEKEY']\n",
      "incoming 1.23462E+15 onnet ['SERVICEKEY']\n",
      "incoming 1.23463E+15 offnet ['SERVICEKEY']\n",
      "incoming 1.23464E+15 onnet ['SERVICEKEY']\n",
      "incoming 1.23465E+15 onnet ['SERVICEKEY']\n",
      "outgoing 1.23466E+15 offnet ['SERVICEKEY']\n",
      "outgoing 1.23467E+15 onnet ['SERVICEKEY']\n",
      "outgoing 1.23468E+15 offnet ['SERVICEKEY']\n",
      "outgoing 1.23469E+15 onnet ['SERVICEKEY']\n",
      "outgoing 1.2347E+15 onnet ['SERVICEKEY']\n",
      "incoming 1.23471E+15 offnet ['SERVICEKEY']\n",
      "incoming 1.23472E+15 onnet ['SERVICEKEY']\n",
      "outgoing 1.23473E+15 offnet ['SERVICEKEY']\n",
      "incoming 1.23474E+15 onnet ['SERVICEKEY']\n",
      "outgoing 1.23475E+15 onnet ['SERVICEKEY']\n",
      "outgoing 1.23476E+15 offnet ['SERVICEKEY']\n",
      "None None None ['SERVICEKEY']\n"
     ]
    }
   ],
   "source": [
    "for row in collect: #loop through each row in the collected rows....\n",
    "    print(row['RECORDTYPE'],row['SERVEDIMEI'],row['CALLTYPE'],['SERVICEKEY'])"
   ]
  },
  {
   "cell_type": "markdown",
   "id": "4f778a10",
   "metadata": {},
   "source": [
    "# Window functions"
   ]
  },
  {
   "cell_type": "code",
   "execution_count": 9,
   "id": "f1d35767",
   "metadata": {},
   "outputs": [],
   "source": [
    "from pyspark.sql.window import Window\n"
   ]
  },
  {
   "cell_type": "code",
   "execution_count": 10,
   "id": "2d5b69c6",
   "metadata": {},
   "outputs": [
    {
     "name": "stdout",
     "output_type": "stream",
     "text": [
      "+----------+-----------+------------+-------------+\n",
      "|RECORDTYPE| SERVEDIMEI|SERVEDMSISDN|CALLINGNUMBER|\n",
      "+----------+-----------+------------+-------------+\n",
      "|  incoming|1.23457E+15|     1111111|       451111|\n",
      "|  incoming|1.23458E+15|     2222111|      2200000|\n",
      "|  incoming|1.23459E+15|     3333111|      3948889|\n",
      "|  incoming| 1.2346E+15|     4444111|      5697778|\n",
      "|  incoming|1.23461E+15|     5555111|      7446667|\n",
      "|  incoming|1.23462E+15|     6666111|      9195556|\n",
      "|  incoming|1.23463E+15|     7777111|     10944445|\n",
      "|  incoming|1.23464E+15|     8888111|     12693334|\n",
      "|  incoming|1.23465E+15|     9999111|     14442223|\n",
      "|  outgoing|1.23466E+15|    11110111|     16191112|\n",
      "|  outgoing|1.23467E+15|    12221111|     17940001|\n",
      "|  outgoing|1.23468E+15|    13332111|     19688890|\n",
      "|  outgoing|1.23469E+15|    14443111|     21437779|\n",
      "|  outgoing| 1.2347E+15|    15554111|     23186668|\n",
      "|  incoming|1.23471E+15|    16665111|     24935557|\n",
      "|  incoming|1.23472E+15|    17776111|     26684446|\n",
      "|  outgoing|1.23473E+15|    18887111|     28433335|\n",
      "|  incoming|1.23474E+15|    19998111|     30182224|\n",
      "|  outgoing|1.23475E+15|    21109111|     31931113|\n",
      "|  outgoing|1.23476E+15|    22220111|     33680002|\n",
      "+----------+-----------+------------+-------------+\n",
      "only showing top 20 rows\n",
      "\n"
     ]
    }
   ],
   "source": [
    "#select specific number of columns in the \"df\" dataframe for easyness..\n",
    "df2=df.select(['RECORDTYPE','SERVEDIMEI','SERVEDMSISDN','CALLINGNUMBER'])\n",
    "df2.show(20)"
   ]
  },
  {
   "cell_type": "markdown",
   "id": "2516c238",
   "metadata": {},
   "source": [
    "##  Window Ranking functions"
   ]
  },
  {
   "cell_type": "code",
   "execution_count": 26,
   "id": "a021a49f",
   "metadata": {},
   "outputs": [
    {
     "name": "stdout",
     "output_type": "stream",
     "text": [
      "+----------+-----------+------------+-------------+----------+\n",
      "|RECORDTYPE| SERVEDIMEI|SERVEDMSISDN|CALLINGNUMBER|Row_number|\n",
      "+----------+-----------+------------+-------------+----------+\n",
      "|  incoming|1.23457E+15|     1111111|       451111|         1|\n",
      "|  incoming|1.23471E+15|    16665111|     24935557|         2|\n",
      "|  incoming|1.23472E+15|    17776111|     26684446|         3|\n",
      "|  incoming|1.23474E+15|    19998111|     30182224|         4|\n",
      "|  incoming|1.23458E+15|     2222111|      2200000|         5|\n",
      "|  incoming|1.23459E+15|     3333111|      3948889|         6|\n",
      "|  incoming| 1.2346E+15|     4444111|      5697778|         7|\n",
      "|  incoming|1.23461E+15|     5555111|      7446667|         8|\n",
      "|  incoming|1.23462E+15|     6666111|      9195556|         9|\n",
      "|  incoming|1.23463E+15|     7777111|     10944445|        10|\n",
      "|  incoming|1.23464E+15|     8888111|     12693334|        11|\n",
      "|  incoming|1.23465E+15|     9999111|     14442223|        12|\n",
      "|  outgoing|1.23466E+15|    11110111|     16191112|         1|\n",
      "|  outgoing|1.23467E+15|    12221111|     17940001|         2|\n",
      "|  outgoing|1.23468E+15|    13332111|     19688890|         3|\n",
      "|  outgoing|1.23469E+15|    14443111|     21437779|         4|\n",
      "|  outgoing| 1.2347E+15|    15554111|     23186668|         5|\n",
      "|  outgoing|1.23473E+15|    18887111|     28433335|         6|\n",
      "|  outgoing|1.23475E+15|    21109111|     31931113|         7|\n",
      "|  outgoing|1.23476E+15|    22220111|     33680002|         8|\n",
      "+----------+-----------+------------+-------------+----------+\n",
      "only showing top 20 rows\n",
      "\n"
     ]
    }
   ],
   "source": [
    "from pyspark.sql.functions import row_number #import row number function....\n",
    "windowSpec  = Window.partitionBy(\"RECORDTYPE\").orderBy(\"SERVEDMSISDN\")\n",
    "df3=df2.withColumn(\"Row_number\",row_number().over(windowSpec))\n",
    "df3.show()"
   ]
  },
  {
   "cell_type": "code",
   "execution_count": 27,
   "id": "0244fb45",
   "metadata": {},
   "outputs": [
    {
     "name": "stdout",
     "output_type": "stream",
     "text": [
      "+----------+-----------+------------+-------------+-----------------------+\n",
      "|RECORDTYPE| SERVEDIMEI|SERVEDMSISDN|CALLINGNUMBER|Row_Number_of_the_table|\n",
      "+----------+-----------+------------+-------------+-----------------------+\n",
      "|  incoming|1.23457E+15|     1111111|       451111|                      1|\n",
      "|  incoming|1.23471E+15|    16665111|     24935557|                      2|\n",
      "|  incoming|1.23472E+15|    17776111|     26684446|                      3|\n",
      "|  incoming|1.23474E+15|    19998111|     30182224|                      4|\n",
      "|  incoming|1.23458E+15|     2222111|      2200000|                      5|\n",
      "|  incoming|1.23459E+15|     3333111|      3948889|                      6|\n",
      "|  incoming| 1.2346E+15|     4444111|      5697778|                      7|\n",
      "|  incoming|1.23461E+15|     5555111|      7446667|                      8|\n",
      "|  incoming|1.23462E+15|     6666111|      9195556|                      9|\n",
      "|  incoming|1.23463E+15|     7777111|     10944445|                     10|\n",
      "|  incoming|1.23464E+15|     8888111|     12693334|                     11|\n",
      "|  incoming|1.23465E+15|     9999111|     14442223|                     12|\n",
      "|  outgoing|1.23466E+15|    11110111|     16191112|                      1|\n",
      "|  outgoing|1.23467E+15|    12221111|     17940001|                      2|\n",
      "|  outgoing|1.23468E+15|    13332111|     19688890|                      3|\n",
      "|  outgoing|1.23469E+15|    14443111|     21437779|                      4|\n",
      "|  outgoing| 1.2347E+15|    15554111|     23186668|                      5|\n",
      "|  outgoing|1.23473E+15|    18887111|     28433335|                      6|\n",
      "|  outgoing|1.23475E+15|    21109111|     31931113|                      7|\n",
      "|  outgoing|1.23476E+15|    22220111|     33680002|                      8|\n",
      "+----------+-----------+------------+-------------+-----------------------+\n",
      "only showing top 20 rows\n",
      "\n"
     ]
    }
   ],
   "source": [
    "df3.withColumnRenamed(\"Row_number\",\"Row_Number_of_the_table\").show()"
   ]
  },
  {
   "cell_type": "code",
   "execution_count": 13,
   "id": "6c94866c",
   "metadata": {},
   "outputs": [],
   "source": [
    "from pyspark.sql.functions import rank #import rank function.."
   ]
  },
  {
   "cell_type": "code",
   "execution_count": 28,
   "id": "b682c0d8",
   "metadata": {},
   "outputs": [
    {
     "name": "stdout",
     "output_type": "stream",
     "text": [
      "+----------+-----------+------------+-------------+----+\n",
      "|RECORDTYPE| SERVEDIMEI|SERVEDMSISDN|CALLINGNUMBER|Rank|\n",
      "+----------+-----------+------------+-------------+----+\n",
      "|  incoming|1.23457E+15|     1111111|       451111|   1|\n",
      "|  incoming|1.23471E+15|    16665111|     24935557|   2|\n",
      "|  incoming|1.23472E+15|    17776111|     26684446|   3|\n",
      "|  incoming|1.23474E+15|    19998111|     30182224|   4|\n",
      "|  incoming|1.23458E+15|     2222111|      2200000|   5|\n",
      "|  incoming|1.23459E+15|     3333111|      3948889|   6|\n",
      "|  incoming| 1.2346E+15|     4444111|      5697778|   7|\n",
      "|  incoming|1.23461E+15|     5555111|      7446667|   8|\n",
      "|  incoming|1.23462E+15|     6666111|      9195556|   9|\n",
      "|  incoming|1.23463E+15|     7777111|     10944445|  10|\n",
      "|  incoming|1.23464E+15|     8888111|     12693334|  11|\n",
      "|  incoming|1.23465E+15|     9999111|     14442223|  12|\n",
      "|  outgoing|1.23466E+15|    11110111|     16191112|   1|\n",
      "|  outgoing|1.23467E+15|    12221111|     17940001|   2|\n",
      "|  outgoing|1.23468E+15|    13332111|     19688890|   3|\n",
      "|  outgoing|1.23469E+15|    14443111|     21437779|   4|\n",
      "|  outgoing| 1.2347E+15|    15554111|     23186668|   5|\n",
      "|  outgoing|1.23473E+15|    18887111|     28433335|   6|\n",
      "|  outgoing|1.23475E+15|    21109111|     31931113|   7|\n",
      "|  outgoing|1.23476E+15|    22220111|     33680002|   8|\n",
      "+----------+-----------+------------+-------------+----+\n",
      "only showing top 20 rows\n",
      "\n"
     ]
    }
   ],
   "source": [
    "df4=df2.withColumn(\"Rank\",rank().over(windowSpec))\n",
    "df4.show()"
   ]
  },
  {
   "cell_type": "code",
   "execution_count": 30,
   "id": "7ad79da7",
   "metadata": {},
   "outputs": [
    {
     "name": "stdout",
     "output_type": "stream",
     "text": [
      "+----------+-----------+------------+-------------+--------------------------+\n",
      "|RECORDTYPE| SERVEDIMEI|SERVEDMSISDN|CALLINGNUMBER|Ranks_Given_To_Recordtypes|\n",
      "+----------+-----------+------------+-------------+--------------------------+\n",
      "|  incoming|1.23457E+15|     1111111|       451111|                         1|\n",
      "|  incoming|1.23471E+15|    16665111|     24935557|                         2|\n",
      "|  incoming|1.23472E+15|    17776111|     26684446|                         3|\n",
      "|  incoming|1.23474E+15|    19998111|     30182224|                         4|\n",
      "|  incoming|1.23458E+15|     2222111|      2200000|                         5|\n",
      "|  incoming|1.23459E+15|     3333111|      3948889|                         6|\n",
      "|  incoming| 1.2346E+15|     4444111|      5697778|                         7|\n",
      "|  incoming|1.23461E+15|     5555111|      7446667|                         8|\n",
      "|  incoming|1.23462E+15|     6666111|      9195556|                         9|\n",
      "|  incoming|1.23463E+15|     7777111|     10944445|                        10|\n",
      "|  incoming|1.23464E+15|     8888111|     12693334|                        11|\n",
      "|  incoming|1.23465E+15|     9999111|     14442223|                        12|\n",
      "|  outgoing|1.23466E+15|    11110111|     16191112|                         1|\n",
      "|  outgoing|1.23467E+15|    12221111|     17940001|                         2|\n",
      "|  outgoing|1.23468E+15|    13332111|     19688890|                         3|\n",
      "|  outgoing|1.23469E+15|    14443111|     21437779|                         4|\n",
      "|  outgoing| 1.2347E+15|    15554111|     23186668|                         5|\n",
      "|  outgoing|1.23473E+15|    18887111|     28433335|                         6|\n",
      "|  outgoing|1.23475E+15|    21109111|     31931113|                         7|\n",
      "|  outgoing|1.23476E+15|    22220111|     33680002|                         8|\n",
      "+----------+-----------+------------+-------------+--------------------------+\n",
      "only showing top 20 rows\n",
      "\n"
     ]
    }
   ],
   "source": [
    "df4.withColumnRenamed(\"Rank\",\"Ranks_Given_To_Recordtypes\").show()"
   ]
  },
  {
   "cell_type": "code",
   "execution_count": 15,
   "id": "9541bce4",
   "metadata": {},
   "outputs": [],
   "source": [
    "from pyspark.sql.functions import percent_rank #show the rank by percentile...."
   ]
  },
  {
   "cell_type": "code",
   "execution_count": 16,
   "id": "4bac539f",
   "metadata": {},
   "outputs": [
    {
     "name": "stdout",
     "output_type": "stream",
     "text": [
      "+----------+-----------+------------+-------------+-------------------+\n",
      "|RECORDTYPE| SERVEDIMEI|SERVEDMSISDN|CALLINGNUMBER|    Percentile Rank|\n",
      "+----------+-----------+------------+-------------+-------------------+\n",
      "|  incoming|1.23457E+15|     1111111|       451111|                0.0|\n",
      "|  incoming|1.23471E+15|    16665111|     24935557|0.09090909090909091|\n",
      "|  incoming|1.23472E+15|    17776111|     26684446|0.18181818181818182|\n",
      "|  incoming|1.23474E+15|    19998111|     30182224| 0.2727272727272727|\n",
      "|  incoming|1.23458E+15|     2222111|      2200000|0.36363636363636365|\n",
      "|  incoming|1.23459E+15|     3333111|      3948889|0.45454545454545453|\n",
      "|  incoming| 1.2346E+15|     4444111|      5697778| 0.5454545454545454|\n",
      "|  incoming|1.23461E+15|     5555111|      7446667| 0.6363636363636364|\n",
      "|  incoming|1.23462E+15|     6666111|      9195556| 0.7272727272727273|\n",
      "|  incoming|1.23463E+15|     7777111|     10944445| 0.8181818181818182|\n",
      "|  incoming|1.23464E+15|     8888111|     12693334| 0.9090909090909091|\n",
      "|  incoming|1.23465E+15|     9999111|     14442223|                1.0|\n",
      "|  outgoing|1.23466E+15|    11110111|     16191112|                0.0|\n",
      "|  outgoing|1.23467E+15|    12221111|     17940001|0.14285714285714285|\n",
      "|  outgoing|1.23468E+15|    13332111|     19688890| 0.2857142857142857|\n",
      "|  outgoing|1.23469E+15|    14443111|     21437779|0.42857142857142855|\n",
      "|  outgoing| 1.2347E+15|    15554111|     23186668| 0.5714285714285714|\n",
      "|  outgoing|1.23473E+15|    18887111|     28433335| 0.7142857142857143|\n",
      "|  outgoing|1.23475E+15|    21109111|     31931113| 0.8571428571428571|\n",
      "|  outgoing|1.23476E+15|    22220111|     33680002|                1.0|\n",
      "+----------+-----------+------------+-------------+-------------------+\n",
      "only showing top 20 rows\n",
      "\n"
     ]
    }
   ],
   "source": [
    "df2.withColumn(\"Percentile Rank\",percent_rank().over(windowSpec)).show()"
   ]
  },
  {
   "cell_type": "code",
   "execution_count": 17,
   "id": "16914a37",
   "metadata": {},
   "outputs": [],
   "source": [
    "from pyspark.sql.functions import ntile"
   ]
  },
  {
   "cell_type": "code",
   "execution_count": 18,
   "id": "36a626d1",
   "metadata": {},
   "outputs": [
    {
     "name": "stdout",
     "output_type": "stream",
     "text": [
      "+----------+-----------+------------+-------------+-------------+\n",
      "|RECORDTYPE| SERVEDIMEI|SERVEDMSISDN|CALLINGNUMBER|Relative Rank|\n",
      "+----------+-----------+------------+-------------+-------------+\n",
      "|  incoming|1.23457E+15|     1111111|       451111|            1|\n",
      "|  incoming|1.23471E+15|    16665111|     24935557|            1|\n",
      "|  incoming|1.23472E+15|    17776111|     26684446|            1|\n",
      "|  incoming|1.23474E+15|    19998111|     30182224|            1|\n",
      "|  incoming|1.23458E+15|     2222111|      2200000|            2|\n",
      "|  incoming|1.23459E+15|     3333111|      3948889|            2|\n",
      "|  incoming| 1.2346E+15|     4444111|      5697778|            2|\n",
      "|  incoming|1.23461E+15|     5555111|      7446667|            2|\n",
      "|  incoming|1.23462E+15|     6666111|      9195556|            3|\n",
      "|  incoming|1.23463E+15|     7777111|     10944445|            3|\n",
      "|  incoming|1.23464E+15|     8888111|     12693334|            3|\n",
      "|  incoming|1.23465E+15|     9999111|     14442223|            3|\n",
      "|  outgoing|1.23466E+15|    11110111|     16191112|            1|\n",
      "|  outgoing|1.23467E+15|    12221111|     17940001|            1|\n",
      "|  outgoing|1.23468E+15|    13332111|     19688890|            1|\n",
      "|  outgoing|1.23469E+15|    14443111|     21437779|            2|\n",
      "|  outgoing| 1.2347E+15|    15554111|     23186668|            2|\n",
      "|  outgoing|1.23473E+15|    18887111|     28433335|            2|\n",
      "|  outgoing|1.23475E+15|    21109111|     31931113|            3|\n",
      "|  outgoing|1.23476E+15|    22220111|     33680002|            3|\n",
      "+----------+-----------+------------+-------------+-------------+\n",
      "only showing top 20 rows\n",
      "\n"
     ]
    }
   ],
   "source": [
    "df2.withColumn(\"Relative Rank\",ntile(3).over(windowSpec)).show() #relative rank with 3 ranks..."
   ]
  },
  {
   "cell_type": "markdown",
   "id": "c9c54fae",
   "metadata": {},
   "source": [
    "## Window Analytic functions"
   ]
  },
  {
   "cell_type": "code",
   "execution_count": 19,
   "id": "206c651e",
   "metadata": {},
   "outputs": [],
   "source": [
    "from pyspark.sql.functions import cume_dist"
   ]
  },
  {
   "cell_type": "code",
   "execution_count": 20,
   "id": "18ff082c",
   "metadata": {},
   "outputs": [
    {
     "name": "stdout",
     "output_type": "stream",
     "text": [
      "+----------+-----------+------------+-------------+-------------------+\n",
      "|RECORDTYPE| SERVEDIMEI|SERVEDMSISDN|CALLINGNUMBER|cumulative distance|\n",
      "+----------+-----------+------------+-------------+-------------------+\n",
      "|  incoming|1.23457E+15|     1111111|       451111|0.08333333333333333|\n",
      "|  incoming|1.23471E+15|    16665111|     24935557|0.16666666666666666|\n",
      "|  incoming|1.23472E+15|    17776111|     26684446|               0.25|\n",
      "|  incoming|1.23474E+15|    19998111|     30182224| 0.3333333333333333|\n",
      "|  incoming|1.23458E+15|     2222111|      2200000| 0.4166666666666667|\n",
      "|  incoming|1.23459E+15|     3333111|      3948889|                0.5|\n",
      "|  incoming| 1.2346E+15|     4444111|      5697778| 0.5833333333333334|\n",
      "|  incoming|1.23461E+15|     5555111|      7446667| 0.6666666666666666|\n",
      "|  incoming|1.23462E+15|     6666111|      9195556|               0.75|\n",
      "|  incoming|1.23463E+15|     7777111|     10944445| 0.8333333333333334|\n",
      "|  incoming|1.23464E+15|     8888111|     12693334| 0.9166666666666666|\n",
      "|  incoming|1.23465E+15|     9999111|     14442223|                1.0|\n",
      "|  outgoing|1.23466E+15|    11110111|     16191112|              0.125|\n",
      "|  outgoing|1.23467E+15|    12221111|     17940001|               0.25|\n",
      "|  outgoing|1.23468E+15|    13332111|     19688890|              0.375|\n",
      "|  outgoing|1.23469E+15|    14443111|     21437779|                0.5|\n",
      "|  outgoing| 1.2347E+15|    15554111|     23186668|              0.625|\n",
      "|  outgoing|1.23473E+15|    18887111|     28433335|               0.75|\n",
      "|  outgoing|1.23475E+15|    21109111|     31931113|              0.875|\n",
      "|  outgoing|1.23476E+15|    22220111|     33680002|                1.0|\n",
      "+----------+-----------+------------+-------------+-------------------+\n",
      "only showing top 20 rows\n",
      "\n"
     ]
    }
   ],
   "source": [
    "df2.withColumn(\"cumulative distance\",cume_dist().over(windowSpec)).show()"
   ]
  },
  {
   "cell_type": "code",
   "execution_count": 21,
   "id": "5e5fc021",
   "metadata": {},
   "outputs": [],
   "source": [
    "from pyspark.sql.functions import lag\n"
   ]
  },
  {
   "cell_type": "code",
   "execution_count": 22,
   "id": "2f8700b9",
   "metadata": {},
   "outputs": [
    {
     "name": "stdout",
     "output_type": "stream",
     "text": [
      "+----------+-----------+------------+-------------+--------------------------+\n",
      "|RECORDTYPE| SERVEDIMEI|SERVEDMSISDN|CALLINGNUMBER|Lag value in CALLINGNUMBER|\n",
      "+----------+-----------+------------+-------------+--------------------------+\n",
      "|  incoming|1.23457E+15|     1111111|       451111|                      null|\n",
      "|  incoming|1.23471E+15|    16665111|     24935557|                    451111|\n",
      "|  incoming|1.23472E+15|    17776111|     26684446|                  24935557|\n",
      "|  incoming|1.23474E+15|    19998111|     30182224|                  26684446|\n",
      "|  incoming|1.23458E+15|     2222111|      2200000|                  30182224|\n",
      "|  incoming|1.23459E+15|     3333111|      3948889|                   2200000|\n",
      "|  incoming| 1.2346E+15|     4444111|      5697778|                   3948889|\n",
      "|  incoming|1.23461E+15|     5555111|      7446667|                   5697778|\n",
      "|  incoming|1.23462E+15|     6666111|      9195556|                   7446667|\n",
      "|  incoming|1.23463E+15|     7777111|     10944445|                   9195556|\n",
      "|  incoming|1.23464E+15|     8888111|     12693334|                  10944445|\n",
      "|  incoming|1.23465E+15|     9999111|     14442223|                  12693334|\n",
      "|  outgoing|1.23466E+15|    11110111|     16191112|                      null|\n",
      "|  outgoing|1.23467E+15|    12221111|     17940001|                  16191112|\n",
      "|  outgoing|1.23468E+15|    13332111|     19688890|                  17940001|\n",
      "|  outgoing|1.23469E+15|    14443111|     21437779|                  19688890|\n",
      "|  outgoing| 1.2347E+15|    15554111|     23186668|                  21437779|\n",
      "|  outgoing|1.23473E+15|    18887111|     28433335|                  23186668|\n",
      "|  outgoing|1.23475E+15|    21109111|     31931113|                  28433335|\n",
      "|  outgoing|1.23476E+15|    22220111|     33680002|                  31931113|\n",
      "+----------+-----------+------------+-------------+--------------------------+\n",
      "only showing top 20 rows\n",
      "\n"
     ]
    }
   ],
   "source": [
    "df2.withColumn(\"Lag value in CALLINGNUMBER\",lag('CALLINGNUMBER').over(windowSpec)).show()"
   ]
  },
  {
   "cell_type": "code",
   "execution_count": 23,
   "id": "afeca13e",
   "metadata": {},
   "outputs": [
    {
     "name": "stdout",
     "output_type": "stream",
     "text": [
      "+----------+-----------+------------+-------------+---------------------------+\n",
      "|RECORDTYPE| SERVEDIMEI|SERVEDMSISDN|CALLINGNUMBER|Lead value in CALLINGNUMBER|\n",
      "+----------+-----------+------------+-------------+---------------------------+\n",
      "|  incoming|1.23457E+15|     1111111|       451111|                   24935557|\n",
      "|  incoming|1.23471E+15|    16665111|     24935557|                   26684446|\n",
      "|  incoming|1.23472E+15|    17776111|     26684446|                   30182224|\n",
      "|  incoming|1.23474E+15|    19998111|     30182224|                    2200000|\n",
      "|  incoming|1.23458E+15|     2222111|      2200000|                    3948889|\n",
      "|  incoming|1.23459E+15|     3333111|      3948889|                    5697778|\n",
      "|  incoming| 1.2346E+15|     4444111|      5697778|                    7446667|\n",
      "|  incoming|1.23461E+15|     5555111|      7446667|                    9195556|\n",
      "|  incoming|1.23462E+15|     6666111|      9195556|                   10944445|\n",
      "|  incoming|1.23463E+15|     7777111|     10944445|                   12693334|\n",
      "|  incoming|1.23464E+15|     8888111|     12693334|                   14442223|\n",
      "|  incoming|1.23465E+15|     9999111|     14442223|                       null|\n",
      "|  outgoing|1.23466E+15|    11110111|     16191112|                   17940001|\n",
      "|  outgoing|1.23467E+15|    12221111|     17940001|                   19688890|\n",
      "|  outgoing|1.23468E+15|    13332111|     19688890|                   21437779|\n",
      "|  outgoing|1.23469E+15|    14443111|     21437779|                   23186668|\n",
      "|  outgoing| 1.2347E+15|    15554111|     23186668|                   28433335|\n",
      "|  outgoing|1.23473E+15|    18887111|     28433335|                   31931113|\n",
      "|  outgoing|1.23475E+15|    21109111|     31931113|                   33680002|\n",
      "|  outgoing|1.23476E+15|    22220111|     33680002|                       null|\n",
      "+----------+-----------+------------+-------------+---------------------------+\n",
      "only showing top 20 rows\n",
      "\n"
     ]
    }
   ],
   "source": [
    "from pyspark.sql.functions import lead\n",
    "df2.withColumn(\"Lead value in CALLINGNUMBER\",lead('CALLINGNUMBER').over(windowSpec)).show()"
   ]
  },
  {
   "cell_type": "markdown",
   "id": "0ca84f58",
   "metadata": {},
   "source": [
    "## Window Aggregate Functions"
   ]
  },
  {
   "cell_type": "code",
   "execution_count": 24,
   "id": "52ddaf30",
   "metadata": {},
   "outputs": [],
   "source": [
    "from pyspark.sql.functions import col,avg,sum,min,max,mean,row_number"
   ]
  },
  {
   "cell_type": "code",
   "execution_count": 25,
   "id": "e9131d8f",
   "metadata": {},
   "outputs": [
    {
     "name": "stdout",
     "output_type": "stream",
     "text": [
      "+----------+-----------+--------+--------+-----------+-----------+\n",
      "|RECORDTYPE|    Average|     Max|     Min|        Sum|       Mean|\n",
      "+----------+-----------+--------+--------+-----------+-----------+\n",
      "|  incoming|   451111.0|  451111|  451111|   451111.0|   451111.0|\n",
      "|  outgoing|1.6191112E7|16191112|16191112|1.6191112E7|1.6191112E7|\n",
      "|      null|       null|    null|    null|       null|       null|\n",
      "+----------+-----------+--------+--------+-----------+-----------+\n",
      "\n"
     ]
    }
   ],
   "source": [
    "df2.withColumn(\"row\",row_number().over(windowSpec)).withColumn(\"Average\",avg(col('CALLINGNUMBER')).over(windowSpec)).withColumn(\"Max\",max(col(\"CALLINGNUMBER\")).over(windowSpec)).withColumn(\"Min\",min(col('CALLINGNUMBER')).over(windowSpec)).withColumn(\"Sum\",sum(col('CALLINGNUMBER')).over(windowSpec)).withColumn(\"Mean\",mean(col('CALLINGNUMBER')).over(windowSpec)).where(col(\"row\")==1).select('RECORDTYPE','Average','Max','Min','Sum',\"Mean\").show()"
   ]
  }
 ],
 "metadata": {
  "kernelspec": {
   "display_name": "Python 3",
   "language": "python",
   "name": "python3"
  },
  "language_info": {
   "codemirror_mode": {
    "name": "ipython",
    "version": 3
   },
   "file_extension": ".py",
   "mimetype": "text/x-python",
   "name": "python",
   "nbconvert_exporter": "python",
   "pygments_lexer": "ipython3",
   "version": "3.5.6"
  }
 },
 "nbformat": 4,
 "nbformat_minor": 5
}
