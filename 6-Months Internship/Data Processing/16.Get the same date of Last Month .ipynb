{
 "cells": [
  {
   "cell_type": "code",
   "execution_count": 1,
   "id": "0736a61a",
   "metadata": {},
   "outputs": [],
   "source": [
    "import mysql.connector"
   ]
  },
  {
   "cell_type": "code",
   "execution_count": 2,
   "id": "dfdc4af9",
   "metadata": {},
   "outputs": [],
   "source": [
    "mydb=mysql.connector.connect(\n",
    "    host=\"localhost\",\n",
    "    user=\"root\",\n",
    "    #password=\"\"\n",
    "    database=\"hospital\"\n",
    ")"
   ]
  },
  {
   "cell_type": "code",
   "execution_count": 3,
   "id": "e5b41e52",
   "metadata": {},
   "outputs": [],
   "source": [
    "mycursor=mydb.cursor()"
   ]
  },
  {
   "cell_type": "code",
   "execution_count": 4,
   "id": "0f0c3f45",
   "metadata": {},
   "outputs": [
    {
     "name": "stdout",
     "output_type": "stream",
     "text": [
      "2008-04-24\n",
      "2008-04-24\n",
      "2008-04-25\n",
      "2008-04-25\n"
     ]
    }
   ],
   "source": [
    "mycursor.execute(\"SELECT DATE(Start) FROM appointment\")\n",
    "result = mycursor.fetchall()\n",
    "for i in result:\n",
    "  print(i[0])"
   ]
  },
  {
   "cell_type": "code",
   "execution_count": 15,
   "id": "12d0d5a8",
   "metadata": {},
   "outputs": [
    {
     "name": "stdout",
     "output_type": "stream",
     "text": [
      "2008-03-24\n",
      "2008-03-24\n",
      "2008-03-25\n",
      "2008-03-25\n"
     ]
    }
   ],
   "source": [
    "#take last month dates(same dates.).........\n",
    "mycursor.execute(\"SELECT DATE(Start)-INTERVAL 1 MONTH FROM appointment\")\n",
    "result = mycursor.fetchall()\n",
    "for i in result:\n",
    "  print(i[0])"
   ]
  },
  {
   "cell_type": "code",
   "execution_count": 17,
   "id": "2d06eb77",
   "metadata": {},
   "outputs": [
    {
     "name": "stdout",
     "output_type": "stream",
     "text": [
      "monday\n",
      "monday\n",
      "tuesday\n",
      "tuesday\n"
     ]
    }
   ],
   "source": [
    "#take the corresponding week day........\n",
    "mycursor.execute(\"SELECT DAYOFWEEK(DATE(Start)-INTERVAL 1 MONTH) FROM appointment\")\n",
    "result = mycursor.fetchall()\n",
    "for i in result:\n",
    "  if i[0]==1:\n",
    "    print('sunday')\n",
    "  elif i[0]==2:\n",
    "    print('monday')\n",
    "  elif i[0]==3:\n",
    "    print('tuesday')\n",
    "  elif i[0]==4:\n",
    "    print('wednesday')\n",
    "  elif i[0]==5:\n",
    "    print('thrusday')\n",
    "  elif i[0]==6:\n",
    "    print('friday')\n",
    "  else:\n",
    "    print('saturday')"
   ]
  },
  {
   "cell_type": "code",
   "execution_count": null,
   "id": "3289633c",
   "metadata": {},
   "outputs": [],
   "source": []
  }
 ],
 "metadata": {
  "kernelspec": {
   "display_name": "Python 3",
   "language": "python",
   "name": "python3"
  },
  "language_info": {
   "codemirror_mode": {
    "name": "ipython",
    "version": 3
   },
   "file_extension": ".py",
   "mimetype": "text/x-python",
   "name": "python",
   "nbconvert_exporter": "python",
   "pygments_lexer": "ipython3",
   "version": "3.5.6"
  }
 },
 "nbformat": 4,
 "nbformat_minor": 5
}
