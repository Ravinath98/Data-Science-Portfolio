{
 "cells": [
  {
   "cell_type": "code",
   "execution_count": 1,
   "id": "0c9631f1",
   "metadata": {},
   "outputs": [],
   "source": [
    "import mysql.connector"
   ]
  },
  {
   "cell_type": "code",
   "execution_count": 2,
   "id": "d3ce9e01",
   "metadata": {},
   "outputs": [],
   "source": [
    "mydb=mysql.connector.connect(\n",
    "    host=\"localhost\",\n",
    "    user=\"root\"\n",
    "    #password=\"\"\n",
    ")"
   ]
  },
  {
   "cell_type": "code",
   "execution_count": 3,
   "id": "06c137c2",
   "metadata": {},
   "outputs": [],
   "source": [
    "mycursor=mydb.cursor() #to execute sql quaries"
   ]
  },
  {
   "cell_type": "code",
   "execution_count": 4,
   "id": "f730b07b",
   "metadata": {},
   "outputs": [],
   "source": [
    "mycursor.execute(\"CREATE DATABASE hospital\")"
   ]
  },
  {
   "cell_type": "code",
   "execution_count": 5,
   "id": "ac9f2960",
   "metadata": {},
   "outputs": [],
   "source": [
    "mydb=mysql.connector.connect(\n",
    "    host=\"localhost\",\n",
    "    user=\"root\",\n",
    "    #password=\"\"\n",
    "    database=\"hospital\"\n",
    ")"
   ]
  },
  {
   "cell_type": "code",
   "execution_count": 6,
   "id": "85daf203",
   "metadata": {},
   "outputs": [],
   "source": [
    "mycursor=mydb.cursor()"
   ]
  },
  {
   "cell_type": "code",
   "execution_count": 7,
   "id": "a97a9f9c",
   "metadata": {},
   "outputs": [],
   "source": [
    "#Write data to mysql table\n",
    "mycursor.execute(\"CREATE TABLE department (DepartmentID INT(20),Name VARCHAR(50), HeadID INT(20),PRIMARY KEY (DepartmentID))\")"
   ]
  },
  {
   "cell_type": "code",
   "execution_count": 8,
   "id": "da64571a",
   "metadata": {},
   "outputs": [],
   "source": [
    "#insert data into tables\n",
    "mycursor.execute(\"INSERT INTO department(DepartmentID,Name,HeadID) VALUES(1, 'General Medicine', 4),(2, 'Surgery', 7),(3, 'Psychiatry', 9);\")"
   ]
  },
  {
   "cell_type": "code",
   "execution_count": 10,
   "id": "13660c61",
   "metadata": {},
   "outputs": [
    {
     "name": "stdout",
     "output_type": "stream",
     "text": [
      "(1, 'General Medicine', 4)\n",
      "(2, 'Surgery', 7)\n",
      "(3, 'Psychiatry', 9)\n"
     ]
    }
   ],
   "source": [
    "#read data from mysql table\n",
    "mycursor.execute(\"SELECT * FROM department\")\n",
    "result = mycursor.fetchall()\n",
    "for i in result:\n",
    "  print(i)"
   ]
  },
  {
   "cell_type": "code",
   "execution_count": 12,
   "id": "5bfcb2d9",
   "metadata": {},
   "outputs": [],
   "source": [
    "#create table..\n",
    "mycursor.execute(\"CREATE TABLE appointment(AppointmentID INT(20),PatientID INT(20),PrepNurseID INT(20),PhysicianID INT(20),Start datetime,End datetime,ExaminationRoom VARCHAR(20),PRIMARY KEY (AppointmentID))\")\n"
   ]
  },
  {
   "cell_type": "code",
   "execution_count": 13,
   "id": "376cfa6a",
   "metadata": {},
   "outputs": [],
   "source": [
    "#insert data to the table\n",
    "mycursor.execute(\"INSERT INTO appointment (AppointmentID,PatientID,PrepNurseID,PhysicianID,Start,End,ExaminationRoom) VALUES(13216584, 100000001, 101, 1, '2008-04-24 10:00:00', '2008-04-24 11:00:00', 'A'),(26548913, 100000002, 101, 2, '2008-04-24 10:00:00', '2008-04-24 11:00:00', 'B'),(36549879, 100000001, 102, 1, '2008-04-25 10:00:00', '2008-04-25 11:00:00', 'A'),(46846589, 100000004, 103, 4, '2008-04-25 10:00:00', '2008-04-25 11:00:00', 'B');\")"
   ]
  },
  {
   "cell_type": "code",
   "execution_count": 51,
   "id": "434bd140",
   "metadata": {},
   "outputs": [
    {
     "name": "stdout",
     "output_type": "stream",
     "text": [
      "('24-04-2008 10:00:00',)\n",
      "('24-04-2008 10:00:00',)\n",
      "('25-04-2008 10:00:00',)\n",
      "('25-04-2008 10:00:00',)\n"
     ]
    }
   ],
   "source": [
    "#format the date time of Start\n",
    "mycursor.execute(\"SELECT DATE_FORMAT(Start,'%d-%m-%Y %T') FROM appointment\")\n",
    "result = mycursor.fetchall()\n",
    "for i in result:\n",
    "  print(i)"
   ]
  },
  {
   "cell_type": "code",
   "execution_count": 46,
   "id": "1fe15b42",
   "metadata": {},
   "outputs": [
    {
     "name": "stdout",
     "output_type": "stream",
     "text": [
      "('10:00:00 04-24-2008',)\n",
      "('10:00:00 04-24-2008',)\n",
      "('10:00:00 04-25-2008',)\n",
      "('10:00:00 04-25-2008',)\n"
     ]
    }
   ],
   "source": [
    "mycursor.execute(\"SELECT DATE_FORMAT(Start,'%T %m-%d-%Y') FROM appointment\")\n",
    "result = mycursor.fetchall()\n",
    "for i in result:\n",
    "  print(i)"
   ]
  },
  {
   "cell_type": "code",
   "execution_count": 49,
   "id": "f1975a33",
   "metadata": {},
   "outputs": [
    {
     "name": "stdout",
     "output_type": "stream",
     "text": [
      "('10:00:00,2008-24th-April',)\n",
      "('10:00:00,2008-24th-April',)\n",
      "('10:00:00,2008-25th-April',)\n",
      "('10:00:00,2008-25th-April',)\n"
     ]
    }
   ],
   "source": [
    "mycursor.execute(\"SELECT DATE_FORMAT(Start,'%T,%Y-%D-%M') FROM appointment\")\n",
    "result = mycursor.fetchall()\n",
    "for i in result:\n",
    "  print(i)"
   ]
  }
 ],
 "metadata": {
  "kernelspec": {
   "display_name": "Python 3",
   "language": "python",
   "name": "python3"
  },
  "language_info": {
   "codemirror_mode": {
    "name": "ipython",
    "version": 3
   },
   "file_extension": ".py",
   "mimetype": "text/x-python",
   "name": "python",
   "nbconvert_exporter": "python",
   "pygments_lexer": "ipython3",
   "version": "3.5.6"
  }
 },
 "nbformat": 4,
 "nbformat_minor": 5
}
