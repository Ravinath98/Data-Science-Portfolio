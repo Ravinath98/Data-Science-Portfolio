{
 "cells": [
  {
   "cell_type": "code",
   "execution_count": 1,
   "id": "ab79a4fc",
   "metadata": {},
   "outputs": [],
   "source": [
    "from pyspark.sql import SparkSession"
   ]
  },
  {
   "cell_type": "code",
   "execution_count": 2,
   "id": "19f9e157",
   "metadata": {},
   "outputs": [
    {
     "name": "stderr",
     "output_type": "stream",
     "text": [
      "C:\\Users\\RAVI\\anaconda3\\envs\\vizuamatix\\lib\\site-packages\\pyspark\\context.py:227: DeprecationWarning: Support for Python 2 and Python 3 prior to version 3.6 is deprecated as of Spark 3.0. See also the plan for dropping Python 2 support at https://spark.apache.org/news/plan-for-dropping-python-2-support.html.\n",
      "  DeprecationWarning)\n"
     ]
    }
   ],
   "source": [
    "spark=SparkSession.builder.getOrCreate()"
   ]
  },
  {
   "cell_type": "code",
   "execution_count": 3,
   "id": "7c1e67de",
   "metadata": {},
   "outputs": [],
   "source": [
    "#create pyspark dataframe.....\n",
    "df=spark.read.csv('E:\\Desktop\\Datasets\\Loan payments data.csv',header=True)"
   ]
  },
  {
   "cell_type": "code",
   "execution_count": 4,
   "id": "07ce5362",
   "metadata": {},
   "outputs": [
    {
     "name": "stdout",
     "output_type": "stream",
     "text": [
      "+-----------+-----------+---------+-----+--------------+---------+---------------+-------------+---+--------------------+------+\n",
      "|    Loan_ID|loan_status|Principal|terms|effective_date| due_date|  paid_off_time|past_due_days|age|           education|Gender|\n",
      "+-----------+-----------+---------+-----+--------------+---------+---------------+-------------+---+--------------------+------+\n",
      "|xqd20166231|    PAIDOFF|     1000|   30|      9/8/2016|10/7/2016|9/14/2016 19:31|         null| 45|High School or Below|  male|\n",
      "|xqd20168902|    PAIDOFF|     1000|   30|      9/8/2016|10/7/2016| 10/7/2016 9:00|         null| 50|            Bechalor|female|\n",
      "|xqd20160003|    PAIDOFF|     1000|   30|      9/8/2016|10/7/2016|9/25/2016 16:58|         null| 33|            Bechalor|female|\n",
      "|xqd20160004|    PAIDOFF|     1000|   15|      9/8/2016|9/22/2016|9/22/2016 20:00|         null| 27|             college|  male|\n",
      "|xqd20160005|    PAIDOFF|     1000|   30|      9/9/2016|10/8/2016|9/23/2016 21:36|         null| 28|             college|female|\n",
      "|xqd20160706|    PAIDOFF|      300|    7|      9/9/2016|9/15/2016| 9/9/2016 13:45|         null| 35|     Master or Above|  male|\n",
      "|xqd20160007|    PAIDOFF|     1000|   30|      9/9/2016|10/8/2016|10/7/2016 23:07|         null| 29|             college|  male|\n",
      "|xqd20160008|    PAIDOFF|     1000|   30|      9/9/2016|10/8/2016|10/5/2016 20:33|         null| 36|             college|  male|\n",
      "|xqd20160909|    PAIDOFF|     1000|   30|      9/9/2016|10/8/2016|10/8/2016 16:00|         null| 28|             college|  male|\n",
      "|xqd20160010|    PAIDOFF|      800|   15|     9/10/2016|9/24/2016|9/24/2016 13:00|         null| 26|             college|  male|\n",
      "|xqd20160011|    PAIDOFF|      300|    7|     9/10/2016|9/16/2016|9/11/2016 19:11|         null| 29|             college|  male|\n",
      "|xqd20160012|    PAIDOFF|     1000|   15|     9/10/2016|10/9/2016|10/9/2016 16:00|         null| 39|High School or Below|  male|\n",
      "|xqd20160013|    PAIDOFF|     1000|   30|     9/10/2016|10/9/2016|10/7/2016 23:32|         null| 26|             college|  male|\n",
      "|xqd20160014|    PAIDOFF|      900|    7|     9/10/2016|9/16/2016|9/13/2016 21:57|         null| 26|             college|female|\n",
      "|xqd20160015|    PAIDOFF|     1000|    7|     9/10/2016|9/16/2016|9/15/2016 14:27|         null| 27|High School or Below|  male|\n",
      "|xqd20160016|    PAIDOFF|      800|   15|     9/10/2016|9/24/2016|9/24/2016 16:00|         null| 26|             college|  male|\n",
      "|xqd20160017|    PAIDOFF|     1000|   30|     9/10/2016|10/9/2016|9/27/2016 14:21|         null| 40|High School or Below|  male|\n",
      "|xqd20160018|    PAIDOFF|     1000|   15|     9/10/2016|9/24/2016|9/23/2016 18:49|         null| 32|High School or Below|  male|\n",
      "|xqd20160019|    PAIDOFF|     1000|   30|     9/10/2016|10/9/2016|10/5/2016 22:05|         null| 32|High School or Below|  male|\n",
      "|xqd20160020|    PAIDOFF|      800|   30|     9/10/2016|10/9/2016| 9/23/2016 7:42|         null| 26|             college|  male|\n",
      "+-----------+-----------+---------+-----+--------------+---------+---------------+-------------+---+--------------------+------+\n",
      "only showing top 20 rows\n",
      "\n"
     ]
    }
   ],
   "source": [
    "df.show()"
   ]
  },
  {
   "cell_type": "code",
   "execution_count": 5,
   "id": "1fd11b99",
   "metadata": {},
   "outputs": [
    {
     "data": {
      "text/plain": [
       "['Loan_ID',\n",
       " 'loan_status',\n",
       " 'Principal',\n",
       " 'terms',\n",
       " 'effective_date',\n",
       " 'due_date',\n",
       " 'paid_off_time',\n",
       " 'past_due_days',\n",
       " 'age',\n",
       " 'education',\n",
       " 'Gender']"
      ]
     },
     "execution_count": 5,
     "metadata": {},
     "output_type": "execute_result"
    }
   ],
   "source": [
    "df.columns"
   ]
  },
  {
   "cell_type": "code",
   "execution_count": 6,
   "id": "7597ac75",
   "metadata": {},
   "outputs": [
    {
     "name": "stdout",
     "output_type": "stream",
     "text": [
      "+-----------+---------+-----+---+--------------------+------+\n",
      "|    Loan_ID|Principal|terms|age|           education|Gender|\n",
      "+-----------+---------+-----+---+--------------------+------+\n",
      "|xqd20166231|     1000|   30| 45|High School or Below|  male|\n",
      "|xqd20168902|     1000|   30| 50|            Bechalor|female|\n",
      "|xqd20160003|     1000|   30| 33|            Bechalor|female|\n",
      "|xqd20160004|     1000|   15| 27|             college|  male|\n",
      "|xqd20160005|     1000|   30| 28|             college|female|\n",
      "|xqd20160706|      300|    7| 35|     Master or Above|  male|\n",
      "|xqd20160007|     1000|   30| 29|             college|  male|\n",
      "|xqd20160008|     1000|   30| 36|             college|  male|\n",
      "|xqd20160909|     1000|   30| 28|             college|  male|\n",
      "|xqd20160010|      800|   15| 26|             college|  male|\n",
      "|xqd20160011|      300|    7| 29|             college|  male|\n",
      "|xqd20160012|     1000|   15| 39|High School or Below|  male|\n",
      "|xqd20160013|     1000|   30| 26|             college|  male|\n",
      "|xqd20160014|      900|    7| 26|             college|female|\n",
      "|xqd20160015|     1000|    7| 27|High School or Below|  male|\n",
      "|xqd20160016|      800|   15| 26|             college|  male|\n",
      "|xqd20160017|     1000|   30| 40|High School or Below|  male|\n",
      "|xqd20160018|     1000|   15| 32|High School or Below|  male|\n",
      "|xqd20160019|     1000|   30| 32|High School or Below|  male|\n",
      "|xqd20160020|      800|   30| 26|             college|  male|\n",
      "+-----------+---------+-----+---+--------------------+------+\n",
      "only showing top 20 rows\n",
      "\n"
     ]
    }
   ],
   "source": [
    "#select specific number of columns from the dataset...\n",
    "columns=['Loan_ID','Principal','terms','age','education','Gender']\n",
    "df=df.select(columns)\n",
    "df.show()"
   ]
  },
  {
   "cell_type": "code",
   "execution_count": 7,
   "id": "2b6ceaae",
   "metadata": {},
   "outputs": [
    {
     "data": {
      "text/plain": [
       "[('Loan_ID', 'string'),\n",
       " ('Principal', 'string'),\n",
       " ('terms', 'string'),\n",
       " ('age', 'string'),\n",
       " ('education', 'string'),\n",
       " ('Gender', 'string')]"
      ]
     },
     "execution_count": 7,
     "metadata": {},
     "output_type": "execute_result"
    }
   ],
   "source": [
    "df.dtypes"
   ]
  },
  {
   "cell_type": "code",
   "execution_count": 8,
   "id": "71ee1d33",
   "metadata": {},
   "outputs": [],
   "source": [
    "#convert age datatype to integer.....\n",
    "df=df.withColumn(\"age\",df.age.cast('int'))"
   ]
  },
  {
   "cell_type": "code",
   "execution_count": 9,
   "id": "00359ede",
   "metadata": {},
   "outputs": [
    {
     "data": {
      "text/plain": [
       "[('Loan_ID', 'string'),\n",
       " ('Principal', 'string'),\n",
       " ('terms', 'string'),\n",
       " ('age', 'int'),\n",
       " ('education', 'string'),\n",
       " ('Gender', 'string')]"
      ]
     },
     "execution_count": 9,
     "metadata": {},
     "output_type": "execute_result"
    }
   ],
   "source": [
    "df.dtypes"
   ]
  },
  {
   "cell_type": "code",
   "execution_count": 10,
   "id": "1253c636",
   "metadata": {},
   "outputs": [],
   "source": [
    "#convert Principal datatype to integer.....\n",
    "df=df.withColumn(\"Principal\",df.Principal.cast('int'))"
   ]
  },
  {
   "cell_type": "code",
   "execution_count": 11,
   "id": "0bbd6dea",
   "metadata": {},
   "outputs": [
    {
     "data": {
      "text/plain": [
       "[('Loan_ID', 'string'),\n",
       " ('Principal', 'int'),\n",
       " ('terms', 'string'),\n",
       " ('age', 'int'),\n",
       " ('education', 'string'),\n",
       " ('Gender', 'string')]"
      ]
     },
     "execution_count": 11,
     "metadata": {},
     "output_type": "execute_result"
    }
   ],
   "source": [
    "df.dtypes"
   ]
  },
  {
   "cell_type": "markdown",
   "id": "75078481",
   "metadata": {},
   "source": [
    "# Filter.............."
   ]
  },
  {
   "cell_type": "code",
   "execution_count": 12,
   "id": "7e0a4743",
   "metadata": {},
   "outputs": [
    {
     "name": "stdout",
     "output_type": "stream",
     "text": [
      "+-----------+---------+-----+---+--------------------+------+\n",
      "|    Loan_ID|Principal|terms|age|           education|Gender|\n",
      "+-----------+---------+-----+---+--------------------+------+\n",
      "|xqd20160004|     1000|   15| 27|             college|  male|\n",
      "|xqd20160005|     1000|   30| 28|             college|female|\n",
      "|xqd20160007|     1000|   30| 29|             college|  male|\n",
      "|xqd20160909|     1000|   30| 28|             college|  male|\n",
      "|xqd20160010|      800|   15| 26|             college|  male|\n",
      "|xqd20160011|      300|    7| 29|             college|  male|\n",
      "|xqd20160013|     1000|   30| 26|             college|  male|\n",
      "|xqd20160014|      900|    7| 26|             college|female|\n",
      "|xqd20160015|     1000|    7| 27|High School or Below|  male|\n",
      "|xqd20160016|      800|   15| 26|             college|  male|\n",
      "|xqd20160020|      800|   30| 26|             college|  male|\n",
      "|xqd20160021|     1000|   30| 26|             college|  male|\n",
      "|xqd20160023|     1000|   30| 25|High School or Below|  male|\n",
      "|xqd20160024|     1000|   15| 26|             college|  male|\n",
      "|xqd20160025|     1000|   30| 26|             college|  male|\n",
      "|xqd20160026|     1000|   30| 29|High School or Below|  male|\n",
      "|xqd20160033|     1000|   30| 27|             college|  male|\n",
      "|xqd20160036|      800|   15| 29|            Bechalor|  male|\n",
      "|xqd20160037|     1000|   30| 27|High School or Below|  male|\n",
      "|xqd20160039|     1000|   15| 24|             college|  male|\n",
      "+-----------+---------+-----+---+--------------------+------+\n",
      "only showing top 20 rows\n",
      "\n"
     ]
    }
   ],
   "source": [
    "#filter age less than 30.......rows\n",
    "df.filter(\"age<30\").show()"
   ]
  },
  {
   "cell_type": "code",
   "execution_count": 13,
   "id": "28c0122e",
   "metadata": {},
   "outputs": [
    {
     "name": "stdout",
     "output_type": "stream",
     "text": [
      "+-----------+---------+-----+---+--------------------+------+\n",
      "|    Loan_ID|Principal|terms|age|           education|Gender|\n",
      "+-----------+---------+-----+---+--------------------+------+\n",
      "|xqd20166231|     1000|   30| 45|High School or Below|  male|\n",
      "|xqd20160003|     1000|   30| 33|            Bechalor|female|\n",
      "|xqd20160706|      300|    7| 35|     Master or Above|  male|\n",
      "|xqd20160008|     1000|   30| 36|             college|  male|\n",
      "|xqd20160012|     1000|   15| 39|High School or Below|  male|\n",
      "|xqd20160017|     1000|   30| 40|High School or Below|  male|\n",
      "|xqd20160018|     1000|   15| 32|High School or Below|  male|\n",
      "|xqd20160019|     1000|   30| 32|High School or Below|  male|\n",
      "|xqd20160022|     1000|   30| 43|High School or Below|female|\n",
      "|xqd20160027|      800|   15| 39|            Bechalor|  male|\n",
      "|xqd20170088|     1000|   15| 34|            Bechalor|  male|\n",
      "|xqd20160029|     1000|   30| 31|             college|  male|\n",
      "|xqd20160030|     1000|   30| 33|             college|  male|\n",
      "|xqd88160031|      800|   15| 33|High School or Below|  male|\n",
      "|xqd20160032|     1000|   30| 37|             college|  male|\n",
      "|xqd22169034|     1000|   30| 37|             college|  male|\n",
      "|xqd20160035|      800|   15| 33|             college|  male|\n",
      "|xqd20160038|      700|   15| 33|High School or Below|  male|\n",
      "|xqd20160041|     1000|   15| 32|             college|female|\n",
      "|xqd20160043|     1000|    7| 31|            Bechalor|  male|\n",
      "+-----------+---------+-----+---+--------------------+------+\n",
      "only showing top 20 rows\n",
      "\n"
     ]
    }
   ],
   "source": [
    "#filter ages between 30 and 50...and operation..\n",
    "df.filter(\"age>30 and age<50\").show()"
   ]
  },
  {
   "cell_type": "code",
   "execution_count": 14,
   "id": "987dcacb",
   "metadata": {},
   "outputs": [
    {
     "name": "stdout",
     "output_type": "stream",
     "text": [
      "+-----------+---+\n",
      "|    Loan_ID|age|\n",
      "+-----------+---+\n",
      "|xqd20166231| 45|\n",
      "|xqd20160003| 33|\n",
      "|xqd20160706| 35|\n",
      "|xqd20160008| 36|\n",
      "|xqd20160012| 39|\n",
      "|xqd20160017| 40|\n",
      "|xqd20160018| 32|\n",
      "|xqd20160019| 32|\n",
      "|xqd20160022| 43|\n",
      "|xqd20160027| 39|\n",
      "|xqd20170088| 34|\n",
      "|xqd20160029| 31|\n",
      "|xqd20160030| 33|\n",
      "|xqd88160031| 33|\n",
      "|xqd20160032| 37|\n",
      "|xqd22169034| 37|\n",
      "|xqd20160035| 33|\n",
      "|xqd20160038| 33|\n",
      "|xqd20160041| 32|\n",
      "|xqd20160043| 31|\n",
      "+-----------+---+\n",
      "only showing top 20 rows\n",
      "\n"
     ]
    }
   ],
   "source": [
    "#filter ages between 30 and 50...(showing only selected columns...) and operation..\n",
    "df.filter(\"age>30 and age<50\").select(['Loan_ID','age']).show()"
   ]
  },
  {
   "cell_type": "code",
   "execution_count": 15,
   "id": "14fb4b56",
   "metadata": {},
   "outputs": [
    {
     "name": "stdout",
     "output_type": "stream",
     "text": [
      "+-----------+---------+-----+---+--------------------+------+\n",
      "|    Loan_ID|Principal|terms|age|           education|Gender|\n",
      "+-----------+---------+-----+---+--------------------+------+\n",
      "|xqd20160042|      800|   15| 30|             college|  male|\n",
      "|xqd20160044|     1000|   15| 30|             college|  male|\n",
      "|xqd20160076|     1000|   30| 30|High School or Below|  male|\n",
      "|xqd20160103|     1000|   30| 30|             college|  male|\n",
      "|xqd20160106|     1000|   30| 30|             college|  male|\n",
      "|xqd20160136|     1000|   30| 30|High School or Below|  male|\n",
      "|xqd20160145|     1000|   30| 30|High School or Below|  male|\n",
      "|xqd20160154|     1000|   15| 30|             college|  male|\n",
      "|xqd20160178|     1000|   30| 30|             college|  male|\n",
      "|xqd20160184|      800|   15| 30|High School or Below|  male|\n",
      "|xqd20160192|     1000|   30| 30|High School or Below|  male|\n",
      "|xqd20160201|     1000|   15| 30|             college|  male|\n",
      "|xqd20160212|     1000|   30| 30|High School or Below|  male|\n",
      "|xqd20160224|     1000|   15| 30|High School or Below|  male|\n",
      "|xqd20160236|     1000|   30| 30|High School or Below|  male|\n",
      "|xqd20160237|     1000|   30| 30|             college|  male|\n",
      "|xqd20160244|      800|   15| 30|High School or Below|female|\n",
      "|xqd20160264|     1000|   15| 30|High School or Below|  male|\n",
      "|xqd20160275|     1000|   30| 30|            Bechalor|  male|\n",
      "|xqd20160283|     1000|   30| 30|             college|  male|\n",
      "+-----------+---------+-----+---+--------------------+------+\n",
      "only showing top 20 rows\n",
      "\n"
     ]
    }
   ],
   "source": [
    "#age 30 rows..............== operation..\n",
    "df.filter(\"age==30\").show()"
   ]
  },
  {
   "cell_type": "code",
   "execution_count": 16,
   "id": "9b1a02f8",
   "metadata": {},
   "outputs": [
    {
     "name": "stdout",
     "output_type": "stream",
     "text": [
      "+-----------+---------+-----+---+--------------------+------+\n",
      "|    Loan_ID|Principal|terms|age|           education|Gender|\n",
      "+-----------+---------+-----+---+--------------------+------+\n",
      "|xqd20166231|     1000|   30| 45|High School or Below|  male|\n",
      "|xqd20168902|     1000|   30| 50|            Bechalor|female|\n",
      "|xqd20160003|     1000|   30| 33|            Bechalor|female|\n",
      "|xqd20160706|      300|    7| 35|     Master or Above|  male|\n",
      "|xqd20160008|     1000|   30| 36|             college|  male|\n",
      "|xqd20160012|     1000|   15| 39|High School or Below|  male|\n",
      "|xqd20160017|     1000|   30| 40|High School or Below|  male|\n",
      "|xqd20160018|     1000|   15| 32|High School or Below|  male|\n",
      "|xqd20160019|     1000|   30| 32|High School or Below|  male|\n",
      "|xqd20160022|     1000|   30| 43|High School or Below|female|\n",
      "|xqd20160027|      800|   15| 39|            Bechalor|  male|\n",
      "|xqd20170088|     1000|   15| 34|            Bechalor|  male|\n",
      "|xqd20160029|     1000|   30| 31|             college|  male|\n",
      "|xqd20160030|     1000|   30| 33|             college|  male|\n",
      "|xqd88160031|      800|   15| 33|High School or Below|  male|\n",
      "|xqd20160032|     1000|   30| 37|             college|  male|\n",
      "|xqd22169034|     1000|   30| 37|             college|  male|\n",
      "|xqd20160035|      800|   15| 33|             college|  male|\n",
      "|xqd20160038|      700|   15| 33|High School or Below|  male|\n",
      "|xqd20160041|     1000|   15| 32|             college|female|\n",
      "+-----------+---------+-----+---+--------------------+------+\n",
      "only showing top 20 rows\n",
      "\n"
     ]
    }
   ],
   "source": [
    "#2 conditions on 2 columns....and operation..\n",
    "df.filter(\"age>30 and Principal>30\").show()"
   ]
  },
  {
   "cell_type": "code",
   "execution_count": 17,
   "id": "fe280fc5",
   "metadata": {},
   "outputs": [
    {
     "name": "stdout",
     "output_type": "stream",
     "text": [
      "+-----------+---------+---+\n",
      "|    Loan_ID|Principal|age|\n",
      "+-----------+---------+---+\n",
      "|xqd20166231|     1000| 45|\n",
      "|xqd20168902|     1000| 50|\n",
      "|xqd20160003|     1000| 33|\n",
      "|xqd20160706|      300| 35|\n",
      "|xqd20160008|     1000| 36|\n",
      "|xqd20160012|     1000| 39|\n",
      "|xqd20160017|     1000| 40|\n",
      "|xqd20160018|     1000| 32|\n",
      "|xqd20160019|     1000| 32|\n",
      "|xqd20160022|     1000| 43|\n",
      "|xqd20160027|      800| 39|\n",
      "|xqd20170088|     1000| 34|\n",
      "|xqd20160029|     1000| 31|\n",
      "|xqd20160030|     1000| 33|\n",
      "|xqd88160031|      800| 33|\n",
      "|xqd20160032|     1000| 37|\n",
      "|xqd22169034|     1000| 37|\n",
      "|xqd20160035|      800| 33|\n",
      "|xqd20160038|      700| 33|\n",
      "|xqd20160041|     1000| 32|\n",
      "+-----------+---------+---+\n",
      "only showing top 20 rows\n",
      "\n"
     ]
    }
   ],
   "source": [
    "#2 conditions on 2 columns....(show selected columns..) and operation..\n",
    "df.filter(\"age>30 and Principal>30\").select(['Loan_ID','Principal','age']).show()"
   ]
  },
  {
   "cell_type": "code",
   "execution_count": 18,
   "id": "825803ea",
   "metadata": {},
   "outputs": [
    {
     "name": "stdout",
     "output_type": "stream",
     "text": [
      "+-----------+---------+---+\n",
      "|    Loan_ID|Principal|age|\n",
      "+-----------+---------+---+\n",
      "|xqd20166231|     1000| 45|\n",
      "|xqd20168902|     1000| 50|\n",
      "|xqd20160003|     1000| 33|\n",
      "|xqd20160004|     1000| 27|\n",
      "|xqd20160005|     1000| 28|\n",
      "|xqd20160706|      300| 35|\n",
      "|xqd20160007|     1000| 29|\n",
      "|xqd20160008|     1000| 36|\n",
      "|xqd20160909|     1000| 28|\n",
      "|xqd20160010|      800| 26|\n",
      "|xqd20160011|      300| 29|\n",
      "|xqd20160012|     1000| 39|\n",
      "|xqd20160013|     1000| 26|\n",
      "|xqd20160014|      900| 26|\n",
      "|xqd20160015|     1000| 27|\n",
      "|xqd20160016|      800| 26|\n",
      "|xqd20160017|     1000| 40|\n",
      "|xqd20160018|     1000| 32|\n",
      "|xqd20160019|     1000| 32|\n",
      "|xqd20160020|      800| 26|\n",
      "+-----------+---------+---+\n",
      "only showing top 20 rows\n",
      "\n"
     ]
    }
   ],
   "source": [
    "#2 conditions on 2 columns....(show selected columns..) or operation..\n",
    "df.filter(\"age>30 or Principal>30\").select(['Loan_ID','Principal','age']).show()"
   ]
  },
  {
   "cell_type": "code",
   "execution_count": 19,
   "id": "9baa642c",
   "metadata": {},
   "outputs": [
    {
     "name": "stdout",
     "output_type": "stream",
     "text": [
      "+-------+---------+---+\n",
      "|Loan_ID|Principal|age|\n",
      "+-------+---------+---+\n",
      "+-------+---------+---+\n",
      "\n"
     ]
    }
   ],
   "source": [
    "#2 conditions on 2 columns....(show selected columns..) not,and operatios.\n",
    "df.filter(\"not(age>30) and Principal<30\").select(['Loan_ID','Principal','age']).show()"
   ]
  },
  {
   "cell_type": "markdown",
   "id": "2fb47f37",
   "metadata": {},
   "source": [
    "# Where clause"
   ]
  },
  {
   "cell_type": "markdown",
   "id": "93cb4b0b",
   "metadata": {},
   "source": [
    "Implement the same codes for filter(). Because this \"where()\" is also same as that filter clause............"
   ]
  },
  {
   "cell_type": "code",
   "execution_count": 20,
   "id": "d9c17ae8",
   "metadata": {},
   "outputs": [
    {
     "name": "stdout",
     "output_type": "stream",
     "text": [
      "+-----------+---------+-----+---+--------------------+------+\n",
      "|    Loan_ID|Principal|terms|age|           education|Gender|\n",
      "+-----------+---------+-----+---+--------------------+------+\n",
      "|xqd20160004|     1000|   15| 27|             college|  male|\n",
      "|xqd20160005|     1000|   30| 28|             college|female|\n",
      "|xqd20160007|     1000|   30| 29|             college|  male|\n",
      "|xqd20160909|     1000|   30| 28|             college|  male|\n",
      "|xqd20160010|      800|   15| 26|             college|  male|\n",
      "|xqd20160011|      300|    7| 29|             college|  male|\n",
      "|xqd20160013|     1000|   30| 26|             college|  male|\n",
      "|xqd20160014|      900|    7| 26|             college|female|\n",
      "|xqd20160015|     1000|    7| 27|High School or Below|  male|\n",
      "|xqd20160016|      800|   15| 26|             college|  male|\n",
      "|xqd20160020|      800|   30| 26|             college|  male|\n",
      "|xqd20160021|     1000|   30| 26|             college|  male|\n",
      "|xqd20160023|     1000|   30| 25|High School or Below|  male|\n",
      "|xqd20160024|     1000|   15| 26|             college|  male|\n",
      "|xqd20160025|     1000|   30| 26|             college|  male|\n",
      "|xqd20160026|     1000|   30| 29|High School or Below|  male|\n",
      "|xqd20160033|     1000|   30| 27|             college|  male|\n",
      "|xqd20160036|      800|   15| 29|            Bechalor|  male|\n",
      "|xqd20160037|     1000|   30| 27|High School or Below|  male|\n",
      "|xqd20160039|     1000|   15| 24|             college|  male|\n",
      "+-----------+---------+-----+---+--------------------+------+\n",
      "only showing top 20 rows\n",
      "\n"
     ]
    }
   ],
   "source": [
    "#age where less than 30.......rows\n",
    "df.where(\"age<30\").show()"
   ]
  },
  {
   "cell_type": "code",
   "execution_count": 21,
   "id": "c16e45fe",
   "metadata": {},
   "outputs": [
    {
     "name": "stdout",
     "output_type": "stream",
     "text": [
      "+-----------+---------+-----+---+--------------------+------+\n",
      "|    Loan_ID|Principal|terms|age|           education|Gender|\n",
      "+-----------+---------+-----+---+--------------------+------+\n",
      "|xqd20166231|     1000|   30| 45|High School or Below|  male|\n",
      "|xqd20160003|     1000|   30| 33|            Bechalor|female|\n",
      "|xqd20160706|      300|    7| 35|     Master or Above|  male|\n",
      "|xqd20160008|     1000|   30| 36|             college|  male|\n",
      "|xqd20160012|     1000|   15| 39|High School or Below|  male|\n",
      "|xqd20160017|     1000|   30| 40|High School or Below|  male|\n",
      "|xqd20160018|     1000|   15| 32|High School or Below|  male|\n",
      "|xqd20160019|     1000|   30| 32|High School or Below|  male|\n",
      "|xqd20160022|     1000|   30| 43|High School or Below|female|\n",
      "|xqd20160027|      800|   15| 39|            Bechalor|  male|\n",
      "|xqd20170088|     1000|   15| 34|            Bechalor|  male|\n",
      "|xqd20160029|     1000|   30| 31|             college|  male|\n",
      "|xqd20160030|     1000|   30| 33|             college|  male|\n",
      "|xqd88160031|      800|   15| 33|High School or Below|  male|\n",
      "|xqd20160032|     1000|   30| 37|             college|  male|\n",
      "|xqd22169034|     1000|   30| 37|             college|  male|\n",
      "|xqd20160035|      800|   15| 33|             college|  male|\n",
      "|xqd20160038|      700|   15| 33|High School or Below|  male|\n",
      "|xqd20160041|     1000|   15| 32|             college|female|\n",
      "|xqd20160043|     1000|    7| 31|            Bechalor|  male|\n",
      "+-----------+---------+-----+---+--------------------+------+\n",
      "only showing top 20 rows\n",
      "\n"
     ]
    }
   ],
   "source": [
    "#ages where  between 30 and 50...and operation..\n",
    "df.where(\"age>30 and age<50\").show()"
   ]
  },
  {
   "cell_type": "code",
   "execution_count": 22,
   "id": "add32c2b",
   "metadata": {},
   "outputs": [
    {
     "name": "stdout",
     "output_type": "stream",
     "text": [
      "+-----------+---+\n",
      "|    Loan_ID|age|\n",
      "+-----------+---+\n",
      "|xqd20166231| 45|\n",
      "|xqd20160003| 33|\n",
      "|xqd20160706| 35|\n",
      "|xqd20160008| 36|\n",
      "|xqd20160012| 39|\n",
      "|xqd20160017| 40|\n",
      "|xqd20160018| 32|\n",
      "|xqd20160019| 32|\n",
      "|xqd20160022| 43|\n",
      "|xqd20160027| 39|\n",
      "|xqd20170088| 34|\n",
      "|xqd20160029| 31|\n",
      "|xqd20160030| 33|\n",
      "|xqd88160031| 33|\n",
      "|xqd20160032| 37|\n",
      "|xqd22169034| 37|\n",
      "|xqd20160035| 33|\n",
      "|xqd20160038| 33|\n",
      "|xqd20160041| 32|\n",
      "|xqd20160043| 31|\n",
      "+-----------+---+\n",
      "only showing top 20 rows\n",
      "\n"
     ]
    }
   ],
   "source": [
    "#ages where  between 30 and 50...(showing only selected columns...) and operation..\n",
    "df.where(\"age>30 and age<50\").select(['Loan_ID','age']).show()"
   ]
  },
  {
   "cell_type": "code",
   "execution_count": 23,
   "id": "c0bb968a",
   "metadata": {},
   "outputs": [
    {
     "name": "stdout",
     "output_type": "stream",
     "text": [
      "+-----------+---------+-----+---+--------------------+------+\n",
      "|    Loan_ID|Principal|terms|age|           education|Gender|\n",
      "+-----------+---------+-----+---+--------------------+------+\n",
      "|xqd20160042|      800|   15| 30|             college|  male|\n",
      "|xqd20160044|     1000|   15| 30|             college|  male|\n",
      "|xqd20160076|     1000|   30| 30|High School or Below|  male|\n",
      "|xqd20160103|     1000|   30| 30|             college|  male|\n",
      "|xqd20160106|     1000|   30| 30|             college|  male|\n",
      "|xqd20160136|     1000|   30| 30|High School or Below|  male|\n",
      "|xqd20160145|     1000|   30| 30|High School or Below|  male|\n",
      "|xqd20160154|     1000|   15| 30|             college|  male|\n",
      "|xqd20160178|     1000|   30| 30|             college|  male|\n",
      "|xqd20160184|      800|   15| 30|High School or Below|  male|\n",
      "|xqd20160192|     1000|   30| 30|High School or Below|  male|\n",
      "|xqd20160201|     1000|   15| 30|             college|  male|\n",
      "|xqd20160212|     1000|   30| 30|High School or Below|  male|\n",
      "|xqd20160224|     1000|   15| 30|High School or Below|  male|\n",
      "|xqd20160236|     1000|   30| 30|High School or Below|  male|\n",
      "|xqd20160237|     1000|   30| 30|             college|  male|\n",
      "|xqd20160244|      800|   15| 30|High School or Below|female|\n",
      "|xqd20160264|     1000|   15| 30|High School or Below|  male|\n",
      "|xqd20160275|     1000|   30| 30|            Bechalor|  male|\n",
      "|xqd20160283|     1000|   30| 30|             college|  male|\n",
      "+-----------+---------+-----+---+--------------------+------+\n",
      "only showing top 20 rows\n",
      "\n"
     ]
    }
   ],
   "source": [
    "#age 30 rows..............== operation..\n",
    "df.where(\"age==30\").show()"
   ]
  },
  {
   "cell_type": "code",
   "execution_count": 24,
   "id": "9187dcf3",
   "metadata": {},
   "outputs": [
    {
     "name": "stdout",
     "output_type": "stream",
     "text": [
      "+-----------+---------+-----+---+--------------------+------+\n",
      "|    Loan_ID|Principal|terms|age|           education|Gender|\n",
      "+-----------+---------+-----+---+--------------------+------+\n",
      "|xqd20166231|     1000|   30| 45|High School or Below|  male|\n",
      "|xqd20168902|     1000|   30| 50|            Bechalor|female|\n",
      "|xqd20160003|     1000|   30| 33|            Bechalor|female|\n",
      "|xqd20160706|      300|    7| 35|     Master or Above|  male|\n",
      "|xqd20160008|     1000|   30| 36|             college|  male|\n",
      "|xqd20160012|     1000|   15| 39|High School or Below|  male|\n",
      "|xqd20160017|     1000|   30| 40|High School or Below|  male|\n",
      "|xqd20160018|     1000|   15| 32|High School or Below|  male|\n",
      "|xqd20160019|     1000|   30| 32|High School or Below|  male|\n",
      "|xqd20160022|     1000|   30| 43|High School or Below|female|\n",
      "|xqd20160027|      800|   15| 39|            Bechalor|  male|\n",
      "|xqd20170088|     1000|   15| 34|            Bechalor|  male|\n",
      "|xqd20160029|     1000|   30| 31|             college|  male|\n",
      "|xqd20160030|     1000|   30| 33|             college|  male|\n",
      "|xqd88160031|      800|   15| 33|High School or Below|  male|\n",
      "|xqd20160032|     1000|   30| 37|             college|  male|\n",
      "|xqd22169034|     1000|   30| 37|             college|  male|\n",
      "|xqd20160035|      800|   15| 33|             college|  male|\n",
      "|xqd20160038|      700|   15| 33|High School or Below|  male|\n",
      "|xqd20160041|     1000|   15| 32|             college|female|\n",
      "+-----------+---------+-----+---+--------------------+------+\n",
      "only showing top 20 rows\n",
      "\n"
     ]
    }
   ],
   "source": [
    "#2 conditions on 2 columns....and operation..\n",
    "df.where(\"age>30 and Principal>30\").show()"
   ]
  },
  {
   "cell_type": "code",
   "execution_count": 25,
   "id": "c17e934b",
   "metadata": {},
   "outputs": [
    {
     "name": "stdout",
     "output_type": "stream",
     "text": [
      "+-----------+---------+---+\n",
      "|    Loan_ID|Principal|age|\n",
      "+-----------+---------+---+\n",
      "|xqd20166231|     1000| 45|\n",
      "|xqd20168902|     1000| 50|\n",
      "|xqd20160003|     1000| 33|\n",
      "|xqd20160706|      300| 35|\n",
      "|xqd20160008|     1000| 36|\n",
      "|xqd20160012|     1000| 39|\n",
      "|xqd20160017|     1000| 40|\n",
      "|xqd20160018|     1000| 32|\n",
      "|xqd20160019|     1000| 32|\n",
      "|xqd20160022|     1000| 43|\n",
      "|xqd20160027|      800| 39|\n",
      "|xqd20170088|     1000| 34|\n",
      "|xqd20160029|     1000| 31|\n",
      "|xqd20160030|     1000| 33|\n",
      "|xqd88160031|      800| 33|\n",
      "|xqd20160032|     1000| 37|\n",
      "|xqd22169034|     1000| 37|\n",
      "|xqd20160035|      800| 33|\n",
      "|xqd20160038|      700| 33|\n",
      "|xqd20160041|     1000| 32|\n",
      "+-----------+---------+---+\n",
      "only showing top 20 rows\n",
      "\n"
     ]
    }
   ],
   "source": [
    "#2 conditions on 2 columns....(show selected columns..) and operation..\n",
    "df.where(\"age>30 and Principal>30\").select(['Loan_ID','Principal','age']).show()"
   ]
  },
  {
   "cell_type": "code",
   "execution_count": 26,
   "id": "91989197",
   "metadata": {},
   "outputs": [
    {
     "name": "stdout",
     "output_type": "stream",
     "text": [
      "+-----------+---------+---+\n",
      "|    Loan_ID|Principal|age|\n",
      "+-----------+---------+---+\n",
      "|xqd20166231|     1000| 45|\n",
      "|xqd20168902|     1000| 50|\n",
      "|xqd20160003|     1000| 33|\n",
      "|xqd20160004|     1000| 27|\n",
      "|xqd20160005|     1000| 28|\n",
      "|xqd20160706|      300| 35|\n",
      "|xqd20160007|     1000| 29|\n",
      "|xqd20160008|     1000| 36|\n",
      "|xqd20160909|     1000| 28|\n",
      "|xqd20160010|      800| 26|\n",
      "|xqd20160011|      300| 29|\n",
      "|xqd20160012|     1000| 39|\n",
      "|xqd20160013|     1000| 26|\n",
      "|xqd20160014|      900| 26|\n",
      "|xqd20160015|     1000| 27|\n",
      "|xqd20160016|      800| 26|\n",
      "|xqd20160017|     1000| 40|\n",
      "|xqd20160018|     1000| 32|\n",
      "|xqd20160019|     1000| 32|\n",
      "|xqd20160020|      800| 26|\n",
      "+-----------+---------+---+\n",
      "only showing top 20 rows\n",
      "\n"
     ]
    }
   ],
   "source": [
    "#2 conditions on 2 columns....(show selected columns..) or operation..\n",
    "df.where(\"age>30 or Principal>30\").select(['Loan_ID','Principal','age']).show()"
   ]
  },
  {
   "cell_type": "code",
   "execution_count": 29,
   "id": "cbc40e49",
   "metadata": {},
   "outputs": [
    {
     "name": "stdout",
     "output_type": "stream",
     "text": [
      "+-----------+---------+---+\n",
      "|    Loan_ID|Principal|age|\n",
      "+-----------+---------+---+\n",
      "|xqd20160004|     1000| 27|\n",
      "|xqd20160005|     1000| 28|\n",
      "|xqd20160007|     1000| 29|\n",
      "|xqd20160909|     1000| 28|\n",
      "|xqd20160010|      800| 26|\n",
      "|xqd20160011|      300| 29|\n",
      "|xqd20160013|     1000| 26|\n",
      "|xqd20160014|      900| 26|\n",
      "|xqd20160015|     1000| 27|\n",
      "|xqd20160016|      800| 26|\n",
      "|xqd20160020|      800| 26|\n",
      "|xqd20160021|     1000| 26|\n",
      "|xqd20160023|     1000| 25|\n",
      "|xqd20160024|     1000| 26|\n",
      "|xqd20160025|     1000| 26|\n",
      "|xqd20160026|     1000| 29|\n",
      "|xqd20160033|     1000| 27|\n",
      "|xqd20160036|      800| 29|\n",
      "|xqd20160037|     1000| 27|\n",
      "|xqd20160039|     1000| 24|\n",
      "+-----------+---------+---+\n",
      "only showing top 20 rows\n",
      "\n"
     ]
    }
   ],
   "source": [
    "#2 conditions on 2 columns....(show selected columns..) not,and operatios.\n",
    "df.where(\"not(age>30) and Principal>20\").select(['Loan_ID','Principal','age']).show()"
   ]
  }
 ],
 "metadata": {
  "kernelspec": {
   "display_name": "Python 3",
   "language": "python",
   "name": "python3"
  },
  "language_info": {
   "codemirror_mode": {
    "name": "ipython",
    "version": 3
   },
   "file_extension": ".py",
   "mimetype": "text/x-python",
   "name": "python",
   "nbconvert_exporter": "python",
   "pygments_lexer": "ipython3",
   "version": "3.5.6"
  }
 },
 "nbformat": 4,
 "nbformat_minor": 5
}
