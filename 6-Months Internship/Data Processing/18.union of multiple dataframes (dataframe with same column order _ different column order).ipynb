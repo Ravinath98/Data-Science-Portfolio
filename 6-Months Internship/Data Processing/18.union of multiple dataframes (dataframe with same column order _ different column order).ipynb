{
 "cells": [
  {
   "cell_type": "code",
   "execution_count": 1,
   "id": "18076704",
   "metadata": {},
   "outputs": [
    {
     "name": "stdout",
     "output_type": "stream",
     "text": [
      "Requirement already satisfied: pyspark in c:\\users\\ravi\\anaconda3\\envs\\vizuamatix\\lib\\site-packages (3.0.3)\n",
      "Requirement already satisfied: py4j==0.10.9 in c:\\users\\ravi\\anaconda3\\envs\\vizuamatix\\lib\\site-packages (from pyspark) (0.10.9)\n"
     ]
    },
    {
     "name": "stderr",
     "output_type": "stream",
     "text": [
      "You are using pip version 10.0.1, however version 20.3.4 is available.\n",
      "You should consider upgrading via the 'python -m pip install --upgrade pip' command.\n"
     ]
    }
   ],
   "source": [
    "!pip install pyspark"
   ]
  },
  {
   "cell_type": "markdown",
   "id": "c6ca2cf6",
   "metadata": {},
   "source": [
    "# Get familier with pyspark"
   ]
  },
  {
   "cell_type": "code",
   "execution_count": 2,
   "id": "790343c9",
   "metadata": {},
   "outputs": [],
   "source": [
    "import pyspark"
   ]
  },
  {
   "cell_type": "code",
   "execution_count": 3,
   "id": "e8cd75b1",
   "metadata": {},
   "outputs": [],
   "source": [
    "#start a spark session\n",
    "from pyspark.sql import SparkSession "
   ]
  },
  {
   "cell_type": "code",
   "execution_count": 4,
   "id": "cc1d831e",
   "metadata": {},
   "outputs": [
    {
     "name": "stderr",
     "output_type": "stream",
     "text": [
      "C:\\Users\\RAVI\\anaconda3\\envs\\vizuamatix\\lib\\site-packages\\pyspark\\context.py:227: DeprecationWarning: Support for Python 2 and Python 3 prior to version 3.6 is deprecated as of Spark 3.0. See also the plan for dropping Python 2 support at https://spark.apache.org/news/plan-for-dropping-python-2-support.html.\n",
      "  DeprecationWarning)\n"
     ]
    }
   ],
   "source": [
    "#create spark session\n",
    "spark=SparkSession.builder.appName('Study').getOrCreate()"
   ]
  },
  {
   "cell_type": "code",
   "execution_count": 5,
   "id": "7939857d",
   "metadata": {},
   "outputs": [
    {
     "data": {
      "text/html": [
       "\n",
       "            <div>\n",
       "                <p><b>SparkSession - in-memory</b></p>\n",
       "                \n",
       "        <div>\n",
       "            <p><b>SparkContext</b></p>\n",
       "\n",
       "            <p><a href=\"http://DESKTOP-OEHU6II:4040\">Spark UI</a></p>\n",
       "\n",
       "            <dl>\n",
       "              <dt>Version</dt>\n",
       "                <dd><code>v3.1.2</code></dd>\n",
       "              <dt>Master</dt>\n",
       "                <dd><code>local[*]</code></dd>\n",
       "              <dt>AppName</dt>\n",
       "                <dd><code>Study</code></dd>\n",
       "            </dl>\n",
       "        </div>\n",
       "        \n",
       "            </div>\n",
       "        "
      ],
      "text/plain": [
       "<pyspark.sql.session.SparkSession at 0x1b4747a2080>"
      ]
     },
     "execution_count": 5,
     "metadata": {},
     "output_type": "execute_result"
    }
   ],
   "source": [
    "spark"
   ]
  },
  {
   "cell_type": "code",
   "execution_count": 6,
   "id": "c6cda5cf",
   "metadata": {},
   "outputs": [],
   "source": [
    "#read csv file\n",
    "df1=spark.read.csv(\"E:\\Desktop\\Datasets\\dummy_cdr.csv\") #read without headers as in the dataset"
   ]
  },
  {
   "cell_type": "code",
   "execution_count": 7,
   "id": "1cfd4dbb",
   "metadata": {},
   "outputs": [
    {
     "data": {
      "text/plain": [
       "DataFrame[_c0: string, _c1: string, _c2: string, _c3: string, _c4: string, _c5: string, _c6: string, _c7: string, _c8: string, _c9: string, _c10: string, _c11: string, _c12: string, _c13: string, _c14: string, _c15: string, _c16: string, _c17: string, _c18: string, _c19: string, _c20: string]"
      ]
     },
     "execution_count": 7,
     "metadata": {},
     "output_type": "execute_result"
    }
   ],
   "source": [
    "df1"
   ]
  },
  {
   "cell_type": "code",
   "execution_count": 8,
   "id": "86ec960e",
   "metadata": {},
   "outputs": [
    {
     "name": "stdout",
     "output_type": "stream",
     "text": [
      "+----------+-----------+------------+-------------+------------+-----+------+--------------------+--------------------+--------------------+-----------------+-------------+----------+--------------------+----------+--------------------+----------+--------+----------+--------+--------------------+\n",
      "|       _c0|        _c1|         _c2|          _c3|         _c4|  _c5|   _c6|                 _c7|                 _c8|                 _c9|             _c10|         _c11|      _c12|                _c13|      _c14|                _c15|      _c16|    _c17|      _c18|    _c19|                _c20|\n",
      "+----------+-----------+------------+-------------+------------+-----+------+--------------------+--------------------+--------------------+-----------------+-------------+----------+--------------------+----------+--------------------+----------+--------+----------+--------+--------------------+\n",
      "|RECORDTYPE| SERVEDIMEI|SERVEDMSISDN|CALLINGNUMBER|CALLEDNUMBER|  LAC|CELLID|         SEIZURETIME|          ANSWERTIME|         RELEASETIME|CALLDURATION(sec)|CALLREFERENCE|SERVICEKEY|NETWORKCALLREFERENCE|MSCADDRESS|ORIGINALCALLEDNUMBER|CALLEDIMSI|CALLTYPE|CALLEDIMEI|ORGMSCID|            CELLNAME|\n",
      "|  incoming|1.23457E+15|     1111111|       451111|     2330925|28106|123456|2021-10-01T21:20:42Z|2021-10-01T21:20:48Z|2021-10-01T21:24:49Z|              241|    336617966|         -|                   -|       322|                   -|         -|   onnet|         -|       -|Keppetipola-1_G1-091|\n",
      "|  incoming|1.23458E+15|     2222111|      2200000|    67554005|25004|234567|2021-10-01T21:20:29Z|2021-10-01T21:20:53Z|2021-10-01T21:24:49Z|              236|     93517596|         -|                   -|       322|                   -|         -|  offnet|         -|       -| Kandangoda-1_G3-091|\n",
      "|  incoming|1.23459E+15|     3333111|      3948889|   132777085|    -|345678|2021-10-01T21:23:16Z|2021-10-01T21:24:16Z|2021-10-01T21:24:50Z|               34|    219174645|         -|    1A0000402510F556|       322|                   -|         -|   onnet|         -|       -|                   -|\n",
      "|  incoming| 1.2346E+15|     4444111|      5697778|   198000165|30805|456789|2021-10-01T21:19:29Z|2021-10-01T21:19:35Z|2021-10-01T21:24:50Z|              315|    185608981|         -|                   -|       322|                   -|         -|   onnet|         -|       -|   Siripura-1_U3-213|\n",
      "+----------+-----------+------------+-------------+------------+-----+------+--------------------+--------------------+--------------------+-----------------+-------------+----------+--------------------+----------+--------------------+----------+--------+----------+--------+--------------------+\n",
      "only showing top 5 rows\n",
      "\n"
     ]
    }
   ],
   "source": [
    "df1.show(5)"
   ]
  },
  {
   "cell_type": "code",
   "execution_count": 9,
   "id": "44a871cf",
   "metadata": {},
   "outputs": [],
   "source": [
    "df1=spark.read.option('header','true').csv(\"E:\\Desktop\\Datasets\\dummy_cdr.csv\") #read headers as in the dataset"
   ]
  },
  {
   "cell_type": "code",
   "execution_count": 10,
   "id": "1465afa1",
   "metadata": {},
   "outputs": [
    {
     "name": "stdout",
     "output_type": "stream",
     "text": [
      "+----------+-----------+------------+-------------+------------+-----+------+--------------------+--------------------+--------------------+-----------------+-------------+----------+--------------------+----------+--------------------+----------+--------+----------+--------+--------------------+\n",
      "|RECORDTYPE| SERVEDIMEI|SERVEDMSISDN|CALLINGNUMBER|CALLEDNUMBER|  LAC|CELLID|         SEIZURETIME|          ANSWERTIME|         RELEASETIME|CALLDURATION(sec)|CALLREFERENCE|SERVICEKEY|NETWORKCALLREFERENCE|MSCADDRESS|ORIGINALCALLEDNUMBER|CALLEDIMSI|CALLTYPE|CALLEDIMEI|ORGMSCID|            CELLNAME|\n",
      "+----------+-----------+------------+-------------+------------+-----+------+--------------------+--------------------+--------------------+-----------------+-------------+----------+--------------------+----------+--------------------+----------+--------+----------+--------+--------------------+\n",
      "|  incoming|1.23457E+15|     1111111|       451111|     2330925|28106|123456|2021-10-01T21:20:42Z|2021-10-01T21:20:48Z|2021-10-01T21:24:49Z|              241|    336617966|         -|                   -|       322|                   -|         -|   onnet|         -|       -|Keppetipola-1_G1-091|\n",
      "|  incoming|1.23458E+15|     2222111|      2200000|    67554005|25004|234567|2021-10-01T21:20:29Z|2021-10-01T21:20:53Z|2021-10-01T21:24:49Z|              236|     93517596|         -|                   -|       322|                   -|         -|  offnet|         -|       -| Kandangoda-1_G3-091|\n",
      "|  incoming|1.23459E+15|     3333111|      3948889|   132777085|    -|345678|2021-10-01T21:23:16Z|2021-10-01T21:24:16Z|2021-10-01T21:24:50Z|               34|    219174645|         -|    1A0000402510F556|       322|                   -|         -|   onnet|         -|       -|                   -|\n",
      "|  incoming| 1.2346E+15|     4444111|      5697778|   198000165|30805|456789|2021-10-01T21:19:29Z|2021-10-01T21:19:35Z|2021-10-01T21:24:50Z|              315|    185608981|         -|                   -|       322|                   -|         -|   onnet|         -|       -|   Siripura-1_U3-213|\n",
      "|  incoming|1.23461E+15|     5555111|      7446667|   263223245|28103|567900|2021-10-01T21:23:21Z|2021-10-01T21:24:16Z|2021-10-01T21:24:50Z|               34|    143680279|         -|                   -|       322|                   -|         -|  offnet|         -|       -|   Ellewewa-1_G3-091|\n",
      "+----------+-----------+------------+-------------+------------+-----+------+--------------------+--------------------+--------------------+-----------------+-------------+----------+--------------------+----------+--------------------+----------+--------+----------+--------+--------------------+\n",
      "only showing top 5 rows\n",
      "\n"
     ]
    }
   ],
   "source": [
    "df1.show(5)"
   ]
  },
  {
   "cell_type": "code",
   "execution_count": 11,
   "id": "fab412d4",
   "metadata": {},
   "outputs": [
    {
     "data": {
      "text/plain": [
       "pyspark.sql.dataframe.DataFrame"
      ]
     },
     "execution_count": 11,
     "metadata": {},
     "output_type": "execute_result"
    }
   ],
   "source": [
    "type(df1)"
   ]
  },
  {
   "cell_type": "code",
   "execution_count": 12,
   "id": "1002c053",
   "metadata": {},
   "outputs": [
    {
     "data": {
      "text/plain": [
       "Row(RECORDTYPE='incoming', SERVEDIMEI='1.23457E+15', SERVEDMSISDN='1111111', CALLINGNUMBER='451111', CALLEDNUMBER='2330925', LAC='28106', CELLID='123456', SEIZURETIME='2021-10-01T21:20:42Z', ANSWERTIME='2021-10-01T21:20:48Z', RELEASETIME='2021-10-01T21:24:49Z', CALLDURATION(sec)='241', CALLREFERENCE='336617966', SERVICEKEY='-', NETWORKCALLREFERENCE='-', MSCADDRESS='322', ORIGINALCALLEDNUMBER='-', CALLEDIMSI='-', CALLTYPE='onnet', CALLEDIMEI='-', ORGMSCID='-', CELLNAME='Keppetipola-1_G1-091')"
      ]
     },
     "execution_count": 12,
     "metadata": {},
     "output_type": "execute_result"
    }
   ],
   "source": [
    "df1.head()"
   ]
  },
  {
   "cell_type": "code",
   "execution_count": 13,
   "id": "cb291808",
   "metadata": {},
   "outputs": [
    {
     "name": "stdout",
     "output_type": "stream",
     "text": [
      "== Physical Plan ==\n",
      "FileScan csv [RECORDTYPE#180,SERVEDIMEI#181,SERVEDMSISDN#182,CALLINGNUMBER#183,CALLEDNUMBER#184,LAC#185,CELLID#186,SEIZURETIME#187,ANSWERTIME#188,RELEASETIME#189,CALLDURATION(sec)#190,CALLREFERENCE#191,SERVICEKEY#192,NETWORKCALLREFERENCE#193,MSCADDRESS#194,ORIGINALCALLEDNUMBER#195,CALLEDIMSI#196,CALLTYPE#197,CALLEDIMEI#198,ORGMSCID#199,CELLNAME#200] Batched: false, DataFilters: [], Format: CSV, Location: InMemoryFileIndex[file:/E:/Desktop/Datasets/dummy_cdr.csv], PartitionFilters: [], PushedFilters: [], ReadSchema: struct<RECORDTYPE:string,SERVEDIMEI:string,SERVEDMSISDN:string,CALLINGNUMBER:string,CALLEDNUMBER:...\n",
      "\n",
      "\n"
     ]
    }
   ],
   "source": [
    "df1.explain()"
   ]
  },
  {
   "cell_type": "code",
   "execution_count": 14,
   "id": "b1ce5222",
   "metadata": {},
   "outputs": [
    {
     "data": {
      "text/plain": [
       "['RECORDTYPE',\n",
       " 'SERVEDIMEI',\n",
       " 'SERVEDMSISDN',\n",
       " 'CALLINGNUMBER',\n",
       " 'CALLEDNUMBER',\n",
       " 'LAC',\n",
       " 'CELLID',\n",
       " 'SEIZURETIME',\n",
       " 'ANSWERTIME',\n",
       " 'RELEASETIME',\n",
       " 'CALLDURATION(sec)',\n",
       " 'CALLREFERENCE',\n",
       " 'SERVICEKEY',\n",
       " 'NETWORKCALLREFERENCE',\n",
       " 'MSCADDRESS',\n",
       " 'ORIGINALCALLEDNUMBER',\n",
       " 'CALLEDIMSI',\n",
       " 'CALLTYPE',\n",
       " 'CALLEDIMEI',\n",
       " 'ORGMSCID',\n",
       " 'CELLNAME']"
      ]
     },
     "execution_count": 14,
     "metadata": {},
     "output_type": "execute_result"
    }
   ],
   "source": [
    "df1.columns"
   ]
  },
  {
   "cell_type": "markdown",
   "id": "d05b645a",
   "metadata": {},
   "source": [
    "# 2 data frames with same column order"
   ]
  },
  {
   "cell_type": "code",
   "execution_count": 15,
   "id": "b3aba7b3",
   "metadata": {},
   "outputs": [
    {
     "name": "stdout",
     "output_type": "stream",
     "text": [
      "+----------+-----------+------------+-------------+\n",
      "|RECORDTYPE| SERVEDIMEI|SERVEDMSISDN|CALLINGNUMBER|\n",
      "+----------+-----------+------------+-------------+\n",
      "|  incoming|1.23457E+15|     1111111|       451111|\n",
      "|  incoming|1.23458E+15|     2222111|      2200000|\n",
      "|  incoming|1.23459E+15|     3333111|      3948889|\n",
      "|  incoming| 1.2346E+15|     4444111|      5697778|\n",
      "|  incoming|1.23461E+15|     5555111|      7446667|\n",
      "+----------+-----------+------------+-------------+\n",
      "only showing top 5 rows\n",
      "\n"
     ]
    }
   ],
   "source": [
    "df1=spark.read.option('header','true').csv(\"E:\\Desktop\\Datasets\\dummy_cdr.csv\")\n",
    "df2=df1.select(['RECORDTYPE','SERVEDIMEI','SERVEDMSISDN','CALLINGNUMBER'])\n",
    "df2.show(5)"
   ]
  },
  {
   "cell_type": "code",
   "execution_count": 16,
   "id": "7cb6026f",
   "metadata": {},
   "outputs": [
    {
     "name": "stdout",
     "output_type": "stream",
     "text": [
      "+----------+-----------+------------+-------------+\n",
      "|RECORDTYPE| SERVEDIMEI|SERVEDMSISDN|CALLINGNUMBER|\n",
      "+----------+-----------+------------+-------------+\n",
      "|  incoming|1.23457E+15|     1111111|       451111|\n",
      "|  incoming|1.23458E+15|     2222111|      2200000|\n",
      "|  incoming|1.23459E+15|     3333111|      3948889|\n",
      "|  incoming| 1.2346E+15|     4444111|      5697778|\n",
      "|  incoming|1.23461E+15|     5555111|      7446667|\n",
      "+----------+-----------+------------+-------------+\n",
      "only showing top 5 rows\n",
      "\n"
     ]
    }
   ],
   "source": [
    "df3=df1.select(['RECORDTYPE','SERVEDIMEI','SERVEDMSISDN','CALLINGNUMBER'])\n",
    "df3.show(5)"
   ]
  },
  {
   "cell_type": "code",
   "execution_count": 17,
   "id": "7c8941c0",
   "metadata": {},
   "outputs": [
    {
     "name": "stdout",
     "output_type": "stream",
     "text": [
      "+----------+-----------+------------+-------------+\n",
      "|RECORDTYPE| SERVEDIMEI|SERVEDMSISDN|CALLINGNUMBER|\n",
      "+----------+-----------+------------+-------------+\n",
      "|  incoming|1.23457E+15|     1111111|       451111|\n",
      "|  incoming|1.23458E+15|     2222111|      2200000|\n",
      "|  incoming|1.23459E+15|     3333111|      3948889|\n",
      "|  incoming| 1.2346E+15|     4444111|      5697778|\n",
      "|  incoming|1.23461E+15|     5555111|      7446667|\n",
      "|  incoming|1.23462E+15|     6666111|      9195556|\n",
      "|  incoming|1.23463E+15|     7777111|     10944445|\n",
      "|  incoming|1.23464E+15|     8888111|     12693334|\n",
      "|  incoming|1.23465E+15|     9999111|     14442223|\n",
      "|  outgoing|1.23466E+15|    11110111|     16191112|\n",
      "|  outgoing|1.23467E+15|    12221111|     17940001|\n",
      "|  outgoing|1.23468E+15|    13332111|     19688890|\n",
      "|  outgoing|1.23469E+15|    14443111|     21437779|\n",
      "|  outgoing| 1.2347E+15|    15554111|     23186668|\n",
      "|  incoming|1.23471E+15|    16665111|     24935557|\n",
      "|  incoming|1.23472E+15|    17776111|     26684446|\n",
      "|  outgoing|1.23473E+15|    18887111|     28433335|\n",
      "|  incoming|1.23474E+15|    19998111|     30182224|\n",
      "|  outgoing|1.23475E+15|    21109111|     31931113|\n",
      "|  outgoing|1.23476E+15|    22220111|     33680002|\n",
      "|      null|       null|        null|         null|\n",
      "|  incoming|1.23457E+15|     1111111|       451111|\n",
      "|  incoming|1.23458E+15|     2222111|      2200000|\n",
      "|  incoming|1.23459E+15|     3333111|      3948889|\n",
      "|  incoming| 1.2346E+15|     4444111|      5697778|\n",
      "|  incoming|1.23461E+15|     5555111|      7446667|\n",
      "|  incoming|1.23462E+15|     6666111|      9195556|\n",
      "|  incoming|1.23463E+15|     7777111|     10944445|\n",
      "|  incoming|1.23464E+15|     8888111|     12693334|\n",
      "|  incoming|1.23465E+15|     9999111|     14442223|\n",
      "+----------+-----------+------------+-------------+\n",
      "only showing top 30 rows\n",
      "\n"
     ]
    }
   ],
   "source": [
    "#union the 2 dataframes...\n",
    "df2.union(df3).show(30)"
   ]
  },
  {
   "cell_type": "markdown",
   "id": "fbddc6e5",
   "metadata": {},
   "source": [
    "# 2 data frames with different column order"
   ]
  },
  {
   "cell_type": "code",
   "execution_count": 18,
   "id": "91b96cc0",
   "metadata": {},
   "outputs": [
    {
     "name": "stdout",
     "output_type": "stream",
     "text": [
      "+----------+-----------+------------+-------------+\n",
      "|RECORDTYPE| SERVEDIMEI|SERVEDMSISDN|CALLINGNUMBER|\n",
      "+----------+-----------+------------+-------------+\n",
      "|  incoming|1.23457E+15|     1111111|       451111|\n",
      "|  incoming|1.23458E+15|     2222111|      2200000|\n",
      "|  incoming|1.23459E+15|     3333111|      3948889|\n",
      "|  incoming| 1.2346E+15|     4444111|      5697778|\n",
      "|  incoming|1.23461E+15|     5555111|      7446667|\n",
      "+----------+-----------+------------+-------------+\n",
      "only showing top 5 rows\n",
      "\n"
     ]
    }
   ],
   "source": [
    "df1=spark.read.option('header','true').csv(\"E:\\Desktop\\Datasets\\dummy_cdr.csv\")\n",
    "df2=df1.select(['RECORDTYPE','SERVEDIMEI','SERVEDMSISDN','CALLINGNUMBER'])\n",
    "df2.show(5)"
   ]
  },
  {
   "cell_type": "code",
   "execution_count": 19,
   "id": "b38f09ce",
   "metadata": {},
   "outputs": [
    {
     "name": "stdout",
     "output_type": "stream",
     "text": [
      "+------------+----------+-------------+-----------+\n",
      "|SERVEDMSISDN|RECORDTYPE|CALLINGNUMBER| SERVEDIMEI|\n",
      "+------------+----------+-------------+-----------+\n",
      "|     1111111|  incoming|       451111|1.23457E+15|\n",
      "|     2222111|  incoming|      2200000|1.23458E+15|\n",
      "|     3333111|  incoming|      3948889|1.23459E+15|\n",
      "|     4444111|  incoming|      5697778| 1.2346E+15|\n",
      "|     5555111|  incoming|      7446667|1.23461E+15|\n",
      "+------------+----------+-------------+-----------+\n",
      "only showing top 5 rows\n",
      "\n"
     ]
    }
   ],
   "source": [
    "df3=df1.select(['SERVEDMSISDN','RECORDTYPE','CALLINGNUMBER','SERVEDIMEI'])\n",
    "df3.show(5)"
   ]
  },
  {
   "cell_type": "code",
   "execution_count": 20,
   "id": "04a4f9cd",
   "metadata": {},
   "outputs": [
    {
     "name": "stdout",
     "output_type": "stream",
     "text": [
      "+----------+-----------+------------+-------------+\n",
      "|RECORDTYPE| SERVEDIMEI|SERVEDMSISDN|CALLINGNUMBER|\n",
      "+----------+-----------+------------+-------------+\n",
      "|  incoming|1.23457E+15|     1111111|       451111|\n",
      "|  incoming|1.23458E+15|     2222111|      2200000|\n",
      "|  incoming|1.23459E+15|     3333111|      3948889|\n",
      "|  incoming| 1.2346E+15|     4444111|      5697778|\n",
      "|  incoming|1.23461E+15|     5555111|      7446667|\n",
      "|  incoming|1.23462E+15|     6666111|      9195556|\n",
      "|  incoming|1.23463E+15|     7777111|     10944445|\n",
      "|  incoming|1.23464E+15|     8888111|     12693334|\n",
      "|  incoming|1.23465E+15|     9999111|     14442223|\n",
      "|  outgoing|1.23466E+15|    11110111|     16191112|\n",
      "|  outgoing|1.23467E+15|    12221111|     17940001|\n",
      "|  outgoing|1.23468E+15|    13332111|     19688890|\n",
      "|  outgoing|1.23469E+15|    14443111|     21437779|\n",
      "|  outgoing| 1.2347E+15|    15554111|     23186668|\n",
      "|  incoming|1.23471E+15|    16665111|     24935557|\n",
      "|  incoming|1.23472E+15|    17776111|     26684446|\n",
      "|  outgoing|1.23473E+15|    18887111|     28433335|\n",
      "|  incoming|1.23474E+15|    19998111|     30182224|\n",
      "|  outgoing|1.23475E+15|    21109111|     31931113|\n",
      "|  outgoing|1.23476E+15|    22220111|     33680002|\n",
      "|      null|       null|        null|         null|\n",
      "|   1111111|   incoming|      451111|  1.23457E+15|\n",
      "|   2222111|   incoming|     2200000|  1.23458E+15|\n",
      "|   3333111|   incoming|     3948889|  1.23459E+15|\n",
      "|   4444111|   incoming|     5697778|   1.2346E+15|\n",
      "|   5555111|   incoming|     7446667|  1.23461E+15|\n",
      "|   6666111|   incoming|     9195556|  1.23462E+15|\n",
      "|   7777111|   incoming|    10944445|  1.23463E+15|\n",
      "|   8888111|   incoming|    12693334|  1.23464E+15|\n",
      "|   9999111|   incoming|    14442223|  1.23465E+15|\n",
      "+----------+-----------+------------+-------------+\n",
      "only showing top 30 rows\n",
      "\n"
     ]
    }
   ],
   "source": [
    "df2.union(df3).show(30) #here it can be seen because of different order of columns, the union output is not correct..."
   ]
  },
  {
   "cell_type": "markdown",
   "id": "c8a864ac",
   "metadata": {},
   "source": [
    "#solution for above issue...(Union by name)"
   ]
  },
  {
   "cell_type": "code",
   "execution_count": 21,
   "id": "7a5e6bca",
   "metadata": {},
   "outputs": [
    {
     "name": "stdout",
     "output_type": "stream",
     "text": [
      "+----------+-----------+------------+-------------+\n",
      "|RECORDTYPE| SERVEDIMEI|SERVEDMSISDN|CALLINGNUMBER|\n",
      "+----------+-----------+------------+-------------+\n",
      "|  incoming|1.23457E+15|     1111111|       451111|\n",
      "|  incoming|1.23458E+15|     2222111|      2200000|\n",
      "|  incoming|1.23459E+15|     3333111|      3948889|\n",
      "|  incoming| 1.2346E+15|     4444111|      5697778|\n",
      "|  incoming|1.23461E+15|     5555111|      7446667|\n",
      "|  incoming|1.23462E+15|     6666111|      9195556|\n",
      "|  incoming|1.23463E+15|     7777111|     10944445|\n",
      "|  incoming|1.23464E+15|     8888111|     12693334|\n",
      "|  incoming|1.23465E+15|     9999111|     14442223|\n",
      "|  outgoing|1.23466E+15|    11110111|     16191112|\n",
      "|  outgoing|1.23467E+15|    12221111|     17940001|\n",
      "|  outgoing|1.23468E+15|    13332111|     19688890|\n",
      "|  outgoing|1.23469E+15|    14443111|     21437779|\n",
      "|  outgoing| 1.2347E+15|    15554111|     23186668|\n",
      "|  incoming|1.23471E+15|    16665111|     24935557|\n",
      "|  incoming|1.23472E+15|    17776111|     26684446|\n",
      "|  outgoing|1.23473E+15|    18887111|     28433335|\n",
      "|  incoming|1.23474E+15|    19998111|     30182224|\n",
      "|  outgoing|1.23475E+15|    21109111|     31931113|\n",
      "|  outgoing|1.23476E+15|    22220111|     33680002|\n",
      "|      null|       null|        null|         null|\n",
      "|  incoming|1.23457E+15|     1111111|       451111|\n",
      "|  incoming|1.23458E+15|     2222111|      2200000|\n",
      "|  incoming|1.23459E+15|     3333111|      3948889|\n",
      "|  incoming| 1.2346E+15|     4444111|      5697778|\n",
      "|  incoming|1.23461E+15|     5555111|      7446667|\n",
      "|  incoming|1.23462E+15|     6666111|      9195556|\n",
      "|  incoming|1.23463E+15|     7777111|     10944445|\n",
      "|  incoming|1.23464E+15|     8888111|     12693334|\n",
      "|  incoming|1.23465E+15|     9999111|     14442223|\n",
      "+----------+-----------+------------+-------------+\n",
      "only showing top 30 rows\n",
      "\n"
     ]
    }
   ],
   "source": [
    "df2.unionByName(df3).show(30) #correct output...."
   ]
  },
  {
   "cell_type": "markdown",
   "id": "13c967a6",
   "metadata": {},
   "source": [
    "# Union more than 2 dataframes with same column order(consider 3 dataframes)"
   ]
  },
  {
   "cell_type": "code",
   "execution_count": 22,
   "id": "fbfb5bf1",
   "metadata": {},
   "outputs": [],
   "source": [
    "df6=df1.select(['RECORDTYPE','SERVEDIMEI','SERVEDMSISDN','CALLINGNUMBER'])"
   ]
  },
  {
   "cell_type": "code",
   "execution_count": 23,
   "id": "20e0cefa",
   "metadata": {},
   "outputs": [],
   "source": [
    "df7=df1.select(['RECORDTYPE','SERVEDIMEI','SERVEDMSISDN','CALLINGNUMBER'])"
   ]
  },
  {
   "cell_type": "code",
   "execution_count": 24,
   "id": "1eeb4234",
   "metadata": {},
   "outputs": [],
   "source": [
    "df8=df1.select(['RECORDTYPE','SERVEDIMEI','SERVEDMSISDN','CALLINGNUMBER'])"
   ]
  },
  {
   "cell_type": "code",
   "execution_count": 25,
   "id": "d686e787",
   "metadata": {},
   "outputs": [],
   "source": [
    "dfs=[df6,df7,df8] #data frame list which wanted to union....."
   ]
  },
  {
   "cell_type": "code",
   "execution_count": 26,
   "id": "d1d42548",
   "metadata": {},
   "outputs": [],
   "source": [
    "from pyspark.sql import DataFrame\n",
    "from functools import reduce"
   ]
  },
  {
   "cell_type": "code",
   "execution_count": 27,
   "id": "4a94b468",
   "metadata": {},
   "outputs": [
    {
     "name": "stdout",
     "output_type": "stream",
     "text": [
      "+----------+-----------+------------+-------------+\n",
      "|RECORDTYPE| SERVEDIMEI|SERVEDMSISDN|CALLINGNUMBER|\n",
      "+----------+-----------+------------+-------------+\n",
      "|  incoming|1.23457E+15|     1111111|       451111|\n",
      "|  incoming|1.23458E+15|     2222111|      2200000|\n",
      "|  incoming|1.23459E+15|     3333111|      3948889|\n",
      "|  incoming| 1.2346E+15|     4444111|      5697778|\n",
      "|  incoming|1.23461E+15|     5555111|      7446667|\n",
      "|  incoming|1.23462E+15|     6666111|      9195556|\n",
      "|  incoming|1.23463E+15|     7777111|     10944445|\n",
      "|  incoming|1.23464E+15|     8888111|     12693334|\n",
      "|  incoming|1.23465E+15|     9999111|     14442223|\n",
      "|  outgoing|1.23466E+15|    11110111|     16191112|\n",
      "|  outgoing|1.23467E+15|    12221111|     17940001|\n",
      "|  outgoing|1.23468E+15|    13332111|     19688890|\n",
      "|  outgoing|1.23469E+15|    14443111|     21437779|\n",
      "|  outgoing| 1.2347E+15|    15554111|     23186668|\n",
      "|  incoming|1.23471E+15|    16665111|     24935557|\n",
      "|  incoming|1.23472E+15|    17776111|     26684446|\n",
      "|  outgoing|1.23473E+15|    18887111|     28433335|\n",
      "|  incoming|1.23474E+15|    19998111|     30182224|\n",
      "|  outgoing|1.23475E+15|    21109111|     31931113|\n",
      "|  outgoing|1.23476E+15|    22220111|     33680002|\n",
      "|      null|       null|        null|         null|\n",
      "|  incoming|1.23457E+15|     1111111|       451111|\n",
      "|  incoming|1.23458E+15|     2222111|      2200000|\n",
      "|  incoming|1.23459E+15|     3333111|      3948889|\n",
      "|  incoming| 1.2346E+15|     4444111|      5697778|\n",
      "|  incoming|1.23461E+15|     5555111|      7446667|\n",
      "|  incoming|1.23462E+15|     6666111|      9195556|\n",
      "|  incoming|1.23463E+15|     7777111|     10944445|\n",
      "|  incoming|1.23464E+15|     8888111|     12693334|\n",
      "|  incoming|1.23465E+15|     9999111|     14442223|\n",
      "|  outgoing|1.23466E+15|    11110111|     16191112|\n",
      "|  outgoing|1.23467E+15|    12221111|     17940001|\n",
      "|  outgoing|1.23468E+15|    13332111|     19688890|\n",
      "|  outgoing|1.23469E+15|    14443111|     21437779|\n",
      "|  outgoing| 1.2347E+15|    15554111|     23186668|\n",
      "|  incoming|1.23471E+15|    16665111|     24935557|\n",
      "|  incoming|1.23472E+15|    17776111|     26684446|\n",
      "|  outgoing|1.23473E+15|    18887111|     28433335|\n",
      "|  incoming|1.23474E+15|    19998111|     30182224|\n",
      "|  outgoing|1.23475E+15|    21109111|     31931113|\n",
      "|  outgoing|1.23476E+15|    22220111|     33680002|\n",
      "|      null|       null|        null|         null|\n",
      "|  incoming|1.23457E+15|     1111111|       451111|\n",
      "|  incoming|1.23458E+15|     2222111|      2200000|\n",
      "|  incoming|1.23459E+15|     3333111|      3948889|\n",
      "|  incoming| 1.2346E+15|     4444111|      5697778|\n",
      "|  incoming|1.23461E+15|     5555111|      7446667|\n",
      "|  incoming|1.23462E+15|     6666111|      9195556|\n",
      "|  incoming|1.23463E+15|     7777111|     10944445|\n",
      "|  incoming|1.23464E+15|     8888111|     12693334|\n",
      "|  incoming|1.23465E+15|     9999111|     14442223|\n",
      "|  outgoing|1.23466E+15|    11110111|     16191112|\n",
      "|  outgoing|1.23467E+15|    12221111|     17940001|\n",
      "|  outgoing|1.23468E+15|    13332111|     19688890|\n",
      "|  outgoing|1.23469E+15|    14443111|     21437779|\n",
      "|  outgoing| 1.2347E+15|    15554111|     23186668|\n",
      "|  incoming|1.23471E+15|    16665111|     24935557|\n",
      "|  incoming|1.23472E+15|    17776111|     26684446|\n",
      "|  outgoing|1.23473E+15|    18887111|     28433335|\n",
      "|  incoming|1.23474E+15|    19998111|     30182224|\n",
      "+----------+-----------+------------+-------------+\n",
      "only showing top 60 rows\n",
      "\n"
     ]
    }
   ],
   "source": [
    "df_new = reduce(DataFrame.unionAll, dfs)\n",
    "df_new.show(60)"
   ]
  },
  {
   "cell_type": "markdown",
   "id": "ed90b08d",
   "metadata": {},
   "source": [
    "# Union more than 2 dataframes with different column order(consider 3 dataframes)"
   ]
  },
  {
   "cell_type": "code",
   "execution_count": 28,
   "id": "5bc10207",
   "metadata": {},
   "outputs": [],
   "source": [
    "df9=df1.select(['RECORDTYPE','SERVEDIMEI','SERVEDMSISDN','CALLINGNUMBER'])"
   ]
  },
  {
   "cell_type": "code",
   "execution_count": 29,
   "id": "b29649e7",
   "metadata": {},
   "outputs": [],
   "source": [
    "df10=df1.select(['SERVEDMSISDN','RECORDTYPE','SERVEDIMEI','CALLINGNUMBER'])"
   ]
  },
  {
   "cell_type": "code",
   "execution_count": 30,
   "id": "922a88c6",
   "metadata": {},
   "outputs": [],
   "source": [
    "df11=df1.select(['SERVEDMSISDN','RECORDTYPE','CALLINGNUMBER','SERVEDIMEI'])"
   ]
  },
  {
   "cell_type": "code",
   "execution_count": 31,
   "id": "c6d28a01",
   "metadata": {},
   "outputs": [],
   "source": [
    "dfs1=[df9,df10,df11]"
   ]
  },
  {
   "cell_type": "code",
   "execution_count": 32,
   "id": "5d6f2710",
   "metadata": {},
   "outputs": [
    {
     "name": "stdout",
     "output_type": "stream",
     "text": [
      "+----------+-----------+------------+-------------+\n",
      "|RECORDTYPE| SERVEDIMEI|SERVEDMSISDN|CALLINGNUMBER|\n",
      "+----------+-----------+------------+-------------+\n",
      "|  incoming|1.23457E+15|     1111111|       451111|\n",
      "|  incoming|1.23458E+15|     2222111|      2200000|\n",
      "|  incoming|1.23459E+15|     3333111|      3948889|\n",
      "|  incoming| 1.2346E+15|     4444111|      5697778|\n",
      "|  incoming|1.23461E+15|     5555111|      7446667|\n",
      "|  incoming|1.23462E+15|     6666111|      9195556|\n",
      "|  incoming|1.23463E+15|     7777111|     10944445|\n",
      "|  incoming|1.23464E+15|     8888111|     12693334|\n",
      "|  incoming|1.23465E+15|     9999111|     14442223|\n",
      "|  outgoing|1.23466E+15|    11110111|     16191112|\n",
      "|  outgoing|1.23467E+15|    12221111|     17940001|\n",
      "|  outgoing|1.23468E+15|    13332111|     19688890|\n",
      "|  outgoing|1.23469E+15|    14443111|     21437779|\n",
      "|  outgoing| 1.2347E+15|    15554111|     23186668|\n",
      "|  incoming|1.23471E+15|    16665111|     24935557|\n",
      "|  incoming|1.23472E+15|    17776111|     26684446|\n",
      "|  outgoing|1.23473E+15|    18887111|     28433335|\n",
      "|  incoming|1.23474E+15|    19998111|     30182224|\n",
      "|  outgoing|1.23475E+15|    21109111|     31931113|\n",
      "|  outgoing|1.23476E+15|    22220111|     33680002|\n",
      "|      null|       null|        null|         null|\n",
      "|   1111111|   incoming| 1.23457E+15|       451111|\n",
      "|   2222111|   incoming| 1.23458E+15|      2200000|\n",
      "|   3333111|   incoming| 1.23459E+15|      3948889|\n",
      "|   4444111|   incoming|  1.2346E+15|      5697778|\n",
      "|   5555111|   incoming| 1.23461E+15|      7446667|\n",
      "|   6666111|   incoming| 1.23462E+15|      9195556|\n",
      "|   7777111|   incoming| 1.23463E+15|     10944445|\n",
      "|   8888111|   incoming| 1.23464E+15|     12693334|\n",
      "|   9999111|   incoming| 1.23465E+15|     14442223|\n",
      "|  11110111|   outgoing| 1.23466E+15|     16191112|\n",
      "|  12221111|   outgoing| 1.23467E+15|     17940001|\n",
      "|  13332111|   outgoing| 1.23468E+15|     19688890|\n",
      "|  14443111|   outgoing| 1.23469E+15|     21437779|\n",
      "|  15554111|   outgoing|  1.2347E+15|     23186668|\n",
      "|  16665111|   incoming| 1.23471E+15|     24935557|\n",
      "|  17776111|   incoming| 1.23472E+15|     26684446|\n",
      "|  18887111|   outgoing| 1.23473E+15|     28433335|\n",
      "|  19998111|   incoming| 1.23474E+15|     30182224|\n",
      "|  21109111|   outgoing| 1.23475E+15|     31931113|\n",
      "|  22220111|   outgoing| 1.23476E+15|     33680002|\n",
      "|      null|       null|        null|         null|\n",
      "|   1111111|   incoming|      451111|  1.23457E+15|\n",
      "|   2222111|   incoming|     2200000|  1.23458E+15|\n",
      "|   3333111|   incoming|     3948889|  1.23459E+15|\n",
      "|   4444111|   incoming|     5697778|   1.2346E+15|\n",
      "|   5555111|   incoming|     7446667|  1.23461E+15|\n",
      "|   6666111|   incoming|     9195556|  1.23462E+15|\n",
      "|   7777111|   incoming|    10944445|  1.23463E+15|\n",
      "|   8888111|   incoming|    12693334|  1.23464E+15|\n",
      "|   9999111|   incoming|    14442223|  1.23465E+15|\n",
      "|  11110111|   outgoing|    16191112|  1.23466E+15|\n",
      "|  12221111|   outgoing|    17940001|  1.23467E+15|\n",
      "|  13332111|   outgoing|    19688890|  1.23468E+15|\n",
      "|  14443111|   outgoing|    21437779|  1.23469E+15|\n",
      "|  15554111|   outgoing|    23186668|   1.2347E+15|\n",
      "|  16665111|   incoming|    24935557|  1.23471E+15|\n",
      "|  17776111|   incoming|    26684446|  1.23472E+15|\n",
      "|  18887111|   outgoing|    28433335|  1.23473E+15|\n",
      "|  19998111|   incoming|    30182224|  1.23474E+15|\n",
      "+----------+-----------+------------+-------------+\n",
      "only showing top 60 rows\n",
      "\n"
     ]
    }
   ],
   "source": [
    "df_new = reduce(DataFrame.unionAll, dfs1) #whrong output given....(correct solution below...)\n",
    "df_new.show(60)"
   ]
  },
  {
   "cell_type": "code",
   "execution_count": 33,
   "id": "37cb9b04",
   "metadata": {},
   "outputs": [
    {
     "name": "stdout",
     "output_type": "stream",
     "text": [
      "+----------+-----------+------------+-------------+\n",
      "|RECORDTYPE| SERVEDIMEI|SERVEDMSISDN|CALLINGNUMBER|\n",
      "+----------+-----------+------------+-------------+\n",
      "|  incoming|1.23457E+15|     1111111|       451111|\n",
      "|  incoming|1.23458E+15|     2222111|      2200000|\n",
      "|  incoming|1.23459E+15|     3333111|      3948889|\n",
      "|  incoming| 1.2346E+15|     4444111|      5697778|\n",
      "|  incoming|1.23461E+15|     5555111|      7446667|\n",
      "|  incoming|1.23462E+15|     6666111|      9195556|\n",
      "|  incoming|1.23463E+15|     7777111|     10944445|\n",
      "|  incoming|1.23464E+15|     8888111|     12693334|\n",
      "|  incoming|1.23465E+15|     9999111|     14442223|\n",
      "|  outgoing|1.23466E+15|    11110111|     16191112|\n",
      "|  outgoing|1.23467E+15|    12221111|     17940001|\n",
      "|  outgoing|1.23468E+15|    13332111|     19688890|\n",
      "|  outgoing|1.23469E+15|    14443111|     21437779|\n",
      "|  outgoing| 1.2347E+15|    15554111|     23186668|\n",
      "|  incoming|1.23471E+15|    16665111|     24935557|\n",
      "|  incoming|1.23472E+15|    17776111|     26684446|\n",
      "|  outgoing|1.23473E+15|    18887111|     28433335|\n",
      "|  incoming|1.23474E+15|    19998111|     30182224|\n",
      "|  outgoing|1.23475E+15|    21109111|     31931113|\n",
      "|  outgoing|1.23476E+15|    22220111|     33680002|\n",
      "|      null|       null|        null|         null|\n",
      "|  incoming|1.23457E+15|     1111111|       451111|\n",
      "|  incoming|1.23458E+15|     2222111|      2200000|\n",
      "|  incoming|1.23459E+15|     3333111|      3948889|\n",
      "|  incoming| 1.2346E+15|     4444111|      5697778|\n",
      "|  incoming|1.23461E+15|     5555111|      7446667|\n",
      "|  incoming|1.23462E+15|     6666111|      9195556|\n",
      "|  incoming|1.23463E+15|     7777111|     10944445|\n",
      "|  incoming|1.23464E+15|     8888111|     12693334|\n",
      "|  incoming|1.23465E+15|     9999111|     14442223|\n",
      "|  outgoing|1.23466E+15|    11110111|     16191112|\n",
      "|  outgoing|1.23467E+15|    12221111|     17940001|\n",
      "|  outgoing|1.23468E+15|    13332111|     19688890|\n",
      "|  outgoing|1.23469E+15|    14443111|     21437779|\n",
      "|  outgoing| 1.2347E+15|    15554111|     23186668|\n",
      "|  incoming|1.23471E+15|    16665111|     24935557|\n",
      "|  incoming|1.23472E+15|    17776111|     26684446|\n",
      "|  outgoing|1.23473E+15|    18887111|     28433335|\n",
      "|  incoming|1.23474E+15|    19998111|     30182224|\n",
      "|  outgoing|1.23475E+15|    21109111|     31931113|\n",
      "|  outgoing|1.23476E+15|    22220111|     33680002|\n",
      "|      null|       null|        null|         null|\n",
      "|  incoming|1.23457E+15|     1111111|       451111|\n",
      "|  incoming|1.23458E+15|     2222111|      2200000|\n",
      "|  incoming|1.23459E+15|     3333111|      3948889|\n",
      "|  incoming| 1.2346E+15|     4444111|      5697778|\n",
      "|  incoming|1.23461E+15|     5555111|      7446667|\n",
      "|  incoming|1.23462E+15|     6666111|      9195556|\n",
      "|  incoming|1.23463E+15|     7777111|     10944445|\n",
      "|  incoming|1.23464E+15|     8888111|     12693334|\n",
      "|  incoming|1.23465E+15|     9999111|     14442223|\n",
      "|  outgoing|1.23466E+15|    11110111|     16191112|\n",
      "|  outgoing|1.23467E+15|    12221111|     17940001|\n",
      "|  outgoing|1.23468E+15|    13332111|     19688890|\n",
      "|  outgoing|1.23469E+15|    14443111|     21437779|\n",
      "|  outgoing| 1.2347E+15|    15554111|     23186668|\n",
      "|  incoming|1.23471E+15|    16665111|     24935557|\n",
      "|  incoming|1.23472E+15|    17776111|     26684446|\n",
      "|  outgoing|1.23473E+15|    18887111|     28433335|\n",
      "|  incoming|1.23474E+15|    19998111|     30182224|\n",
      "+----------+-----------+------------+-------------+\n",
      "only showing top 60 rows\n",
      "\n"
     ]
    }
   ],
   "source": [
    "dfs2=[df10,df11]\n",
    "#df9.unionByName(dfs1)\n",
    "for i in dfs1:\n",
    "    df9=df9.unionByName(i)\n",
    "df9.show(60)\n",
    "#here I get the df9 as baseframe and loop through other dataframe by unionByName..............."
   ]
  }
 ],
 "metadata": {
  "kernelspec": {
   "display_name": "Python 3",
   "language": "python",
   "name": "python3"
  },
  "language_info": {
   "codemirror_mode": {
    "name": "ipython",
    "version": 3
   },
   "file_extension": ".py",
   "mimetype": "text/x-python",
   "name": "python",
   "nbconvert_exporter": "python",
   "pygments_lexer": "ipython3",
   "version": "3.5.6"
  }
 },
 "nbformat": 4,
 "nbformat_minor": 5
}
