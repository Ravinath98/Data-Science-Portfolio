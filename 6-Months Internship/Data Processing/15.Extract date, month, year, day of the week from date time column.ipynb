{
 "cells": [
  {
   "cell_type": "code",
   "execution_count": 1,
   "id": "5fe7f3db",
   "metadata": {},
   "outputs": [],
   "source": [
    "import mysql.connector"
   ]
  },
  {
   "cell_type": "code",
   "execution_count": 2,
   "id": "e9f6206e",
   "metadata": {},
   "outputs": [],
   "source": [
    "mydb=mysql.connector.connect(\n",
    "    host=\"localhost\",\n",
    "    user=\"root\",\n",
    "    #password=\"\"\n",
    "    database=\"hospital\"\n",
    ")"
   ]
  },
  {
   "cell_type": "code",
   "execution_count": 3,
   "id": "46878489",
   "metadata": {},
   "outputs": [],
   "source": [
    "mycursor=mydb.cursor()"
   ]
  },
  {
   "cell_type": "code",
   "execution_count": 4,
   "id": "0e4ed40c",
   "metadata": {},
   "outputs": [
    {
     "name": "stdout",
     "output_type": "stream",
     "text": [
      "(13216584, 100000001, 101, 1, datetime.datetime(2008, 4, 24, 10, 0), datetime.datetime(2008, 4, 24, 11, 0), 'A')\n",
      "(26548913, 100000002, 101, 2, datetime.datetime(2008, 4, 24, 10, 0), datetime.datetime(2008, 4, 24, 11, 0), 'B')\n",
      "(36549879, 100000001, 102, 1, datetime.datetime(2008, 4, 25, 10, 0), datetime.datetime(2008, 4, 25, 11, 0), 'A')\n",
      "(46846589, 100000004, 103, 4, datetime.datetime(2008, 4, 25, 10, 0), datetime.datetime(2008, 4, 25, 11, 0), 'B')\n"
     ]
    }
   ],
   "source": [
    "#read data from mysql table\n",
    "mycursor.execute(\"SELECT * FROM appointment\")\n",
    "result = mycursor.fetchall()\n",
    "for i in result:\n",
    "  print(i)"
   ]
  },
  {
   "cell_type": "code",
   "execution_count": 5,
   "id": "4da49b55",
   "metadata": {},
   "outputs": [
    {
     "name": "stdout",
     "output_type": "stream",
     "text": [
      "2008-04-24\n",
      "2008-04-24\n",
      "2008-04-25\n",
      "2008-04-25\n"
     ]
    }
   ],
   "source": [
    "#EXTRACT THE DATE\n",
    "mycursor.execute(\"SELECT DATE(Start) FROM appointment\")\n",
    "result = mycursor.fetchall()\n",
    "for i in result:\n",
    "  print(i[0])"
   ]
  },
  {
   "cell_type": "code",
   "execution_count": 6,
   "id": "bcb7e5ec",
   "metadata": {},
   "outputs": [
    {
     "name": "stdout",
     "output_type": "stream",
     "text": [
      "2008\n",
      "2008\n",
      "2008\n",
      "2008\n"
     ]
    }
   ],
   "source": [
    "#extract the year...\n",
    "mycursor.execute(\"SELECT YEAR(Start) FROM appointment\")\n",
    "result = mycursor.fetchall()\n",
    "for i in result:\n",
    "  print(i[0])"
   ]
  },
  {
   "cell_type": "code",
   "execution_count": 7,
   "id": "702f77f5",
   "metadata": {},
   "outputs": [
    {
     "name": "stdout",
     "output_type": "stream",
     "text": [
      "April\n",
      "April\n",
      "April\n",
      "April\n"
     ]
    }
   ],
   "source": [
    "#extract the MONTH(in name)\n",
    "mycursor.execute(\"SELECT MONTHNAME(Start) FROM appointment\")\n",
    "result = mycursor.fetchall()\n",
    "for i in result:\n",
    "  print(i[0])"
   ]
  },
  {
   "cell_type": "code",
   "execution_count": 8,
   "id": "2206514a",
   "metadata": {},
   "outputs": [
    {
     "name": "stdout",
     "output_type": "stream",
     "text": [
      "4\n",
      "4\n",
      "4\n",
      "4\n"
     ]
    }
   ],
   "source": [
    "#extract the MONTH(in numeric)\n",
    "mycursor.execute(\"SELECT MONTH(Start) FROM appointment\")\n",
    "result = mycursor.fetchall()\n",
    "for i in result:\n",
    "  print(i[0])"
   ]
  },
  {
   "cell_type": "code",
   "execution_count": 9,
   "id": "61b88d33",
   "metadata": {},
   "outputs": [
    {
     "name": "stdout",
     "output_type": "stream",
     "text": [
      "24\n",
      "24\n",
      "25\n",
      "25\n"
     ]
    }
   ],
   "source": [
    "#EXTRACT THE DAY\n",
    "mycursor.execute(\"SELECT DAY(Start) FROM appointment\")\n",
    "result = mycursor.fetchall()\n",
    "for i in result:\n",
    "  print(i[0])"
   ]
  },
  {
   "cell_type": "code",
   "execution_count": 10,
   "id": "294966e9",
   "metadata": {},
   "outputs": [
    {
     "name": "stdout",
     "output_type": "stream",
     "text": [
      "5\n",
      "5\n",
      "6\n",
      "6\n"
     ]
    }
   ],
   "source": [
    "#EXTRACT THE DAY of week (get the index of day sunday=1, monday=2 and so on....)\n",
    "mycursor.execute(\"SELECT DAYOFWEEK(Start) FROM appointment\")\n",
    "result = mycursor.fetchall()\n",
    "for i in result:\n",
    "    print(i[0])\n",
    "    #print(type(i))\n",
    "    #print(list(i))"
   ]
  },
  {
   "cell_type": "code",
   "execution_count": 11,
   "id": "062d5550",
   "metadata": {},
   "outputs": [
    {
     "name": "stdout",
     "output_type": "stream",
     "text": [
      "thrusday\n",
      "thrusday\n",
      "friday\n",
      "friday\n"
     ]
    }
   ],
   "source": [
    "#EXTRACT THE DAY of week(correct day....)\n",
    "mycursor.execute(\"SELECT DAYOFWEEK(Start) FROM appointment\")\n",
    "result = mycursor.fetchall()\n",
    "for i in result:\n",
    "  if i[0]==1:\n",
    "    print('sunday')\n",
    "  elif i[0]==2:\n",
    "    print('monday')\n",
    "  elif i[0]==3:\n",
    "    print('tuesday')\n",
    "  elif i[0]==4:\n",
    "    print('wednesday')\n",
    "  elif i[0]==5:\n",
    "    print('thrusday')\n",
    "  elif i[0]==6:\n",
    "    print('friday')\n",
    "  else:\n",
    "    print('saturday')\n",
    "  \n"
   ]
  }
 ],
 "metadata": {
  "kernelspec": {
   "display_name": "Python 3",
   "language": "python",
   "name": "python3"
  },
  "language_info": {
   "codemirror_mode": {
    "name": "ipython",
    "version": 3
   },
   "file_extension": ".py",
   "mimetype": "text/x-python",
   "name": "python",
   "nbconvert_exporter": "python",
   "pygments_lexer": "ipython3",
   "version": "3.5.6"
  }
 },
 "nbformat": 4,
 "nbformat_minor": 5
}
