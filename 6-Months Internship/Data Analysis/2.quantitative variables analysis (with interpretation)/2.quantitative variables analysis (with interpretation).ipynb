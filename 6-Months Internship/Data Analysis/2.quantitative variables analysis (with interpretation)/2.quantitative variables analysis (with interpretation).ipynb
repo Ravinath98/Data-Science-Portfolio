{
 "cells": [
  {
   "cell_type": "markdown",
   "id": "e9f00a65",
   "metadata": {},
   "source": [
    "Qnatitative: Basically this type can be measured by numerical variables . So, in actual & forecast datasets,all the time columns consist with quatitative variables..So,I considered the mean,median,mode,standard deviation & skewness of the data within each time column(across all the plants)-in 1st sheet on both actual & forecast datasets"
   ]
  },
  {
   "cell_type": "code",
   "execution_count": 1,
   "id": "37a8f956",
   "metadata": {},
   "outputs": [],
   "source": [
    "import pandas as pd\n",
    "import os"
   ]
  },
  {
   "cell_type": "markdown",
   "id": "252d01d4",
   "metadata": {},
   "source": [
    "# Acutal"
   ]
  },
  {
   "cell_type": "code",
   "execution_count": 2,
   "id": "db8369fc",
   "metadata": {},
   "outputs": [],
   "source": [
    "data_frames_1=[]\n",
    "data_frames_2=[]\n",
    "for i in range(0,31):\n",
    "    df=pd.read_excel(r'E:\\Desktop\\Datasets\\actual_july\\15 min Dispatch July 2020.xlsx',sheet_name=i) \n",
    "\n",
    "    temp=list(df.columns)\n",
    "\n",
    "    date = temp[8].date()\n",
    "    df.columns = df.iloc[0]\n",
    "    df=df.drop(0)\n",
    "    df=df.drop(columns=df.columns[-3:],axis=1)\n",
    "    x=df.iloc[:, 0]\n",
    "\n",
    "    t=0\n",
    "    for i in x:\n",
    "        t=t+1\n",
    "        if i=='Total MW':\n",
    "\n",
    "            break\n",
    "    df=df.iloc[:t-1, :]\n",
    "    df1 = pd.DataFrame()\n",
    "    import datetime as dt\n",
    "    t1 = dt.datetime.strptime('00:00:00', '%H:%M:%S')\n",
    "    for i in range (1,len(df.columns),2):\n",
    "        df1[str(t1.time())]=df.iloc[:, i]+df.iloc[:, i+1]\n",
    "        t2 = dt.datetime.strptime('00:30:00', '%H:%M:%S')\n",
    "        time_zero = dt.datetime.strptime('00:00:00', '%H:%M:%S')\n",
    "        x=(t1 - time_zero + t2).time()\n",
    "        t1 = dt.datetime.strptime(str(x), '%H:%M:%S')\n",
    "        \n",
    "    m=df.iloc[:t-1, 0]\n",
    "    list(m)\n",
    "    df1.insert(0, 'Power_Plant', m)\n",
    "    df2=pd.melt(df1,id_vars=['Power_Plant'])\n",
    "    df1['Date']=date\n",
    "    df2['Date']=date\n",
    "    data_frames_1.append(df1)\n",
    "    data_frames_2.append(df2)\n"
   ]
  },
  {
   "cell_type": "code",
   "execution_count": 3,
   "id": "56bcc00c",
   "metadata": {},
   "outputs": [
    {
     "data": {
      "text/html": [
       "<div>\n",
       "<style scoped>\n",
       "    .dataframe tbody tr th:only-of-type {\n",
       "        vertical-align: middle;\n",
       "    }\n",
       "\n",
       "    .dataframe tbody tr th {\n",
       "        vertical-align: top;\n",
       "    }\n",
       "\n",
       "    .dataframe thead th {\n",
       "        text-align: right;\n",
       "    }\n",
       "</style>\n",
       "<table border=\"1\" class=\"dataframe\">\n",
       "  <thead>\n",
       "    <tr style=\"text-align: right;\">\n",
       "      <th></th>\n",
       "      <th>Power_Plant</th>\n",
       "      <th>00:00:00</th>\n",
       "      <th>00:30:00</th>\n",
       "      <th>01:00:00</th>\n",
       "      <th>01:30:00</th>\n",
       "      <th>02:00:00</th>\n",
       "      <th>02:30:00</th>\n",
       "      <th>03:00:00</th>\n",
       "      <th>03:30:00</th>\n",
       "      <th>04:00:00</th>\n",
       "      <th>...</th>\n",
       "      <th>19:30:00</th>\n",
       "      <th>20:00:00</th>\n",
       "      <th>20:30:00</th>\n",
       "      <th>21:00:00</th>\n",
       "      <th>21:30:00</th>\n",
       "      <th>22:00:00</th>\n",
       "      <th>22:30:00</th>\n",
       "      <th>23:00:00</th>\n",
       "      <th>23:30:00</th>\n",
       "      <th>Date</th>\n",
       "    </tr>\n",
       "  </thead>\n",
       "  <tbody>\n",
       "    <tr>\n",
       "      <th>1</th>\n",
       "      <td>Canyon</td>\n",
       "      <td>20.0</td>\n",
       "      <td>20.0</td>\n",
       "      <td>20.0</td>\n",
       "      <td>20.0</td>\n",
       "      <td>20.0</td>\n",
       "      <td>20.0</td>\n",
       "      <td>0.0</td>\n",
       "      <td>0.0</td>\n",
       "      <td>0.0</td>\n",
       "      <td>...</td>\n",
       "      <td>60.0</td>\n",
       "      <td>60.0</td>\n",
       "      <td>60.0</td>\n",
       "      <td>60.0</td>\n",
       "      <td>60.0</td>\n",
       "      <td>60.0</td>\n",
       "      <td>30.0</td>\n",
       "      <td>0.0</td>\n",
       "      <td>0.0</td>\n",
       "      <td>2020-07-01</td>\n",
       "    </tr>\n",
       "    <tr>\n",
       "      <th>2</th>\n",
       "      <td>WPS</td>\n",
       "      <td>0.0</td>\n",
       "      <td>0.0</td>\n",
       "      <td>0.0</td>\n",
       "      <td>0.0</td>\n",
       "      <td>0.0</td>\n",
       "      <td>0.0</td>\n",
       "      <td>0.0</td>\n",
       "      <td>0.0</td>\n",
       "      <td>0.0</td>\n",
       "      <td>...</td>\n",
       "      <td>20.0</td>\n",
       "      <td>20.0</td>\n",
       "      <td>0.0</td>\n",
       "      <td>0.0</td>\n",
       "      <td>0.0</td>\n",
       "      <td>0.0</td>\n",
       "      <td>0.0</td>\n",
       "      <td>0.0</td>\n",
       "      <td>0.0</td>\n",
       "      <td>2020-07-01</td>\n",
       "    </tr>\n",
       "    <tr>\n",
       "      <th>3</th>\n",
       "      <td>Olax</td>\n",
       "      <td>10.0</td>\n",
       "      <td>10.0</td>\n",
       "      <td>10.0</td>\n",
       "      <td>10.0</td>\n",
       "      <td>10.0</td>\n",
       "      <td>10.0</td>\n",
       "      <td>10.0</td>\n",
       "      <td>10.0</td>\n",
       "      <td>34.0</td>\n",
       "      <td>...</td>\n",
       "      <td>103.0</td>\n",
       "      <td>42.0</td>\n",
       "      <td>28.0</td>\n",
       "      <td>28.0</td>\n",
       "      <td>28.0</td>\n",
       "      <td>28.0</td>\n",
       "      <td>28.0</td>\n",
       "      <td>28.0</td>\n",
       "      <td>28.0</td>\n",
       "      <td>2020-07-01</td>\n",
       "    </tr>\n",
       "    <tr>\n",
       "      <th>4</th>\n",
       "      <td>Nlax</td>\n",
       "      <td>91.0</td>\n",
       "      <td>39.0</td>\n",
       "      <td>34.0</td>\n",
       "      <td>19.0</td>\n",
       "      <td>20.0</td>\n",
       "      <td>22.0</td>\n",
       "      <td>31.0</td>\n",
       "      <td>59.0</td>\n",
       "      <td>84.0</td>\n",
       "      <td>...</td>\n",
       "      <td>212.0</td>\n",
       "      <td>210.0</td>\n",
       "      <td>210.0</td>\n",
       "      <td>168.0</td>\n",
       "      <td>36.0</td>\n",
       "      <td>58.0</td>\n",
       "      <td>71.0</td>\n",
       "      <td>76.0</td>\n",
       "      <td>54.0</td>\n",
       "      <td>2020-07-01</td>\n",
       "    </tr>\n",
       "    <tr>\n",
       "      <th>5</th>\n",
       "      <td>Polp</td>\n",
       "      <td>40.0</td>\n",
       "      <td>39.0</td>\n",
       "      <td>35.0</td>\n",
       "      <td>42.0</td>\n",
       "      <td>46.0</td>\n",
       "      <td>44.0</td>\n",
       "      <td>46.0</td>\n",
       "      <td>42.0</td>\n",
       "      <td>49.0</td>\n",
       "      <td>...</td>\n",
       "      <td>180.0</td>\n",
       "      <td>175.0</td>\n",
       "      <td>144.0</td>\n",
       "      <td>111.0</td>\n",
       "      <td>81.0</td>\n",
       "      <td>45.0</td>\n",
       "      <td>46.0</td>\n",
       "      <td>43.0</td>\n",
       "      <td>40.0</td>\n",
       "      <td>2020-07-01</td>\n",
       "    </tr>\n",
       "  </tbody>\n",
       "</table>\n",
       "<p>5 rows × 50 columns</p>\n",
       "</div>"
      ],
      "text/plain": [
       "  Power_Plant 00:00:00 00:30:00 01:00:00 01:30:00 02:00:00 02:30:00 03:00:00  \\\n",
       "1      Canyon     20.0     20.0     20.0     20.0     20.0     20.0      0.0   \n",
       "2         WPS      0.0      0.0      0.0      0.0      0.0      0.0      0.0   \n",
       "3        Olax     10.0     10.0     10.0     10.0     10.0     10.0     10.0   \n",
       "4        Nlax     91.0     39.0     34.0     19.0     20.0     22.0     31.0   \n",
       "5        Polp     40.0     39.0     35.0     42.0     46.0     44.0     46.0   \n",
       "\n",
       "  03:30:00 04:00:00  ... 19:30:00 20:00:00 20:30:00 21:00:00 21:30:00  \\\n",
       "1      0.0      0.0  ...     60.0     60.0     60.0     60.0     60.0   \n",
       "2      0.0      0.0  ...     20.0     20.0      0.0      0.0      0.0   \n",
       "3     10.0     34.0  ...    103.0     42.0     28.0     28.0     28.0   \n",
       "4     59.0     84.0  ...    212.0    210.0    210.0    168.0     36.0   \n",
       "5     42.0     49.0  ...    180.0    175.0    144.0    111.0     81.0   \n",
       "\n",
       "  22:00:00 22:30:00 23:00:00 23:30:00        Date  \n",
       "1     60.0     30.0      0.0      0.0  2020-07-01  \n",
       "2      0.0      0.0      0.0      0.0  2020-07-01  \n",
       "3     28.0     28.0     28.0     28.0  2020-07-01  \n",
       "4     58.0     71.0     76.0     54.0  2020-07-01  \n",
       "5     45.0     46.0     43.0     40.0  2020-07-01  \n",
       "\n",
       "[5 rows x 50 columns]"
      ]
     },
     "execution_count": 3,
     "metadata": {},
     "output_type": "execute_result"
    }
   ],
   "source": [
    "data_frames_1[0].head()"
   ]
  },
  {
   "cell_type": "markdown",
   "id": "8c1a9730",
   "metadata": {},
   "source": [
    "## median"
   ]
  },
  {
   "cell_type": "code",
   "execution_count": 4,
   "id": "3c578d37",
   "metadata": {},
   "outputs": [
    {
     "name": "stderr",
     "output_type": "stream",
     "text": [
      "C:\\Users\\RAVI\\AppData\\Local\\Temp/ipykernel_3224/3081235149.py:2: FutureWarning: Dropping of nuisance columns in DataFrame reductions (with 'numeric_only=None') is deprecated; in a future version this will raise TypeError.  Select only valid columns before calling the reduction.\n",
      "  data_frames_1[0].median()\n"
     ]
    },
    {
     "data": {
      "text/plain": [
       "00:00:00     0.0\n",
       "00:30:00     0.0\n",
       "01:00:00     0.0\n",
       "01:30:00     0.0\n",
       "02:00:00     0.0\n",
       "02:30:00     0.0\n",
       "03:00:00     0.0\n",
       "03:30:00     0.0\n",
       "04:00:00     0.0\n",
       "04:30:00     0.0\n",
       "05:00:00     3.0\n",
       "05:30:00    28.5\n",
       "06:00:00    38.5\n",
       "06:30:00    48.0\n",
       "07:00:00    39.0\n",
       "07:30:00    39.0\n",
       "08:00:00    48.5\n",
       "08:30:00    53.0\n",
       "09:00:00    65.0\n",
       "09:30:00    65.0\n",
       "10:00:00    65.0\n",
       "10:30:00    66.0\n",
       "11:00:00    77.0\n",
       "11:30:00    67.5\n",
       "12:00:00    71.0\n",
       "12:30:00    61.0\n",
       "13:00:00    63.5\n",
       "13:30:00    61.0\n",
       "14:00:00    67.0\n",
       "14:30:00    67.0\n",
       "15:00:00    62.0\n",
       "15:30:00    62.0\n",
       "16:00:00    62.0\n",
       "16:30:00    61.5\n",
       "17:00:00    61.0\n",
       "17:30:00    61.0\n",
       "18:00:00    70.0\n",
       "18:30:00    92.5\n",
       "19:00:00    92.0\n",
       "19:30:00    87.5\n",
       "20:00:00    75.0\n",
       "20:30:00    75.0\n",
       "21:00:00    64.5\n",
       "21:30:00    50.5\n",
       "22:00:00    42.5\n",
       "22:30:00    35.0\n",
       "23:00:00    12.5\n",
       "23:30:00     0.0\n",
       "dtype: float64"
      ]
     },
     "execution_count": 4,
     "metadata": {},
     "output_type": "execute_result"
    }
   ],
   "source": [
    "#median in each time frame....\n",
    "data_frames_1[0].median()"
   ]
  },
  {
   "cell_type": "markdown",
   "id": "6aa9d86b",
   "metadata": {},
   "source": [
    "## mean"
   ]
  },
  {
   "cell_type": "code",
   "execution_count": 44,
   "id": "8db88c4d",
   "metadata": {},
   "outputs": [
    {
     "name": "stderr",
     "output_type": "stream",
     "text": [
      "C:\\Users\\RAVI\\AppData\\Local\\Temp/ipykernel_3224/2168811272.py:2: FutureWarning: Dropping of nuisance columns in DataFrame reductions (with 'numeric_only=None') is deprecated; in a future version this will raise TypeError.  Select only valid columns before calling the reduction.\n",
      "  data_frames_1[0].mean()\n"
     ]
    },
    {
     "data": {
      "text/plain": [
       "00:00:00     74.921053\n",
       "00:30:00     73.157895\n",
       "01:00:00     72.500000\n",
       "01:30:00     70.684211\n",
       "02:00:00     69.342105\n",
       "02:30:00     68.789474\n",
       "03:00:00     68.736842\n",
       "03:30:00     69.105263\n",
       "04:00:00     71.736842\n",
       "04:30:00     74.184211\n",
       "05:00:00     82.736842\n",
       "05:30:00     89.763158\n",
       "06:00:00     93.026316\n",
       "06:30:00     90.815789\n",
       "07:00:00     90.052632\n",
       "07:30:00     91.894737\n",
       "08:00:00     96.973684\n",
       "08:30:00    101.157895\n",
       "09:00:00    103.763158\n",
       "09:30:00    105.421053\n",
       "10:00:00    105.815789\n",
       "10:30:00    107.473684\n",
       "11:00:00    109.578947\n",
       "11:30:00    111.131579\n",
       "12:00:00    108.921053\n",
       "12:30:00    106.000000\n",
       "13:00:00    105.684211\n",
       "13:30:00    105.473684\n",
       "14:00:00    107.315789\n",
       "14:30:00    108.157895\n",
       "15:00:00    107.500000\n",
       "15:30:00    107.526316\n",
       "16:00:00    107.289474\n",
       "16:30:00    106.342105\n",
       "17:00:00    103.789474\n",
       "17:30:00    101.763158\n",
       "18:00:00    109.000000\n",
       "18:30:00    123.552632\n",
       "19:00:00    128.105263\n",
       "19:30:00    123.842105\n",
       "20:00:00    118.263158\n",
       "20:30:00    113.131579\n",
       "21:00:00    107.210526\n",
       "21:30:00    101.657895\n",
       "22:00:00     93.421053\n",
       "22:30:00     87.394737\n",
       "23:00:00     83.026316\n",
       "23:30:00     78.684211\n",
       "dtype: float64"
      ]
     },
     "execution_count": 44,
     "metadata": {},
     "output_type": "execute_result"
    }
   ],
   "source": [
    "#mean in each time frame in the 1st sheet....\n",
    "data_frames_1[0].mean()"
   ]
  },
  {
   "cell_type": "code",
   "execution_count": 6,
   "id": "ca2db0d9",
   "metadata": {},
   "outputs": [
    {
     "data": {
      "text/plain": [
       "0    0.0\n",
       "dtype: object"
      ]
     },
     "execution_count": 6,
     "metadata": {},
     "output_type": "execute_result"
    }
   ],
   "source": [
    "#mode in first time frame in the 1st sheet....\n",
    "data_frames_1[0]['00:00:00'].mode() "
   ]
  },
  {
   "cell_type": "code",
   "execution_count": 7,
   "id": "e195d1ec",
   "metadata": {},
   "outputs": [
    {
     "data": {
      "text/plain": [
       "0    0.0\n",
       "dtype: object"
      ]
     },
     "execution_count": 7,
     "metadata": {},
     "output_type": "execute_result"
    }
   ],
   "source": [
    "data_frames_1[0]['00:30:00'].mode() "
   ]
  },
  {
   "cell_type": "code",
   "execution_count": 8,
   "id": "984f8add",
   "metadata": {},
   "outputs": [],
   "source": [
    "cols=list(data_frames_1[0].columns)"
   ]
  },
  {
   "cell_type": "code",
   "execution_count": 9,
   "id": "836fd248",
   "metadata": {},
   "outputs": [
    {
     "data": {
      "text/plain": [
       "['Power_Plant',\n",
       " '00:00:00',\n",
       " '00:30:00',\n",
       " '01:00:00',\n",
       " '01:30:00',\n",
       " '02:00:00',\n",
       " '02:30:00',\n",
       " '03:00:00',\n",
       " '03:30:00',\n",
       " '04:00:00',\n",
       " '04:30:00',\n",
       " '05:00:00',\n",
       " '05:30:00',\n",
       " '06:00:00',\n",
       " '06:30:00',\n",
       " '07:00:00',\n",
       " '07:30:00',\n",
       " '08:00:00',\n",
       " '08:30:00',\n",
       " '09:00:00',\n",
       " '09:30:00',\n",
       " '10:00:00',\n",
       " '10:30:00',\n",
       " '11:00:00',\n",
       " '11:30:00',\n",
       " '12:00:00',\n",
       " '12:30:00',\n",
       " '13:00:00',\n",
       " '13:30:00',\n",
       " '14:00:00',\n",
       " '14:30:00',\n",
       " '15:00:00',\n",
       " '15:30:00',\n",
       " '16:00:00',\n",
       " '16:30:00',\n",
       " '17:00:00',\n",
       " '17:30:00',\n",
       " '18:00:00',\n",
       " '18:30:00',\n",
       " '19:00:00',\n",
       " '19:30:00',\n",
       " '20:00:00',\n",
       " '20:30:00',\n",
       " '21:00:00',\n",
       " '21:30:00',\n",
       " '22:00:00',\n",
       " '22:30:00',\n",
       " '23:00:00',\n",
       " '23:30:00',\n",
       " 'Date']"
      ]
     },
     "execution_count": 9,
     "metadata": {},
     "output_type": "execute_result"
    }
   ],
   "source": [
    "cols"
   ]
  },
  {
   "cell_type": "code",
   "execution_count": 10,
   "id": "d7a93570",
   "metadata": {},
   "outputs": [],
   "source": [
    "cols.remove('Date')\n",
    "cols.remove('Power_Plant')"
   ]
  },
  {
   "cell_type": "code",
   "execution_count": 11,
   "id": "dbfa5527",
   "metadata": {},
   "outputs": [
    {
     "data": {
      "text/plain": [
       "['00:00:00',\n",
       " '00:30:00',\n",
       " '01:00:00',\n",
       " '01:30:00',\n",
       " '02:00:00',\n",
       " '02:30:00',\n",
       " '03:00:00',\n",
       " '03:30:00',\n",
       " '04:00:00',\n",
       " '04:30:00',\n",
       " '05:00:00',\n",
       " '05:30:00',\n",
       " '06:00:00',\n",
       " '06:30:00',\n",
       " '07:00:00',\n",
       " '07:30:00',\n",
       " '08:00:00',\n",
       " '08:30:00',\n",
       " '09:00:00',\n",
       " '09:30:00',\n",
       " '10:00:00',\n",
       " '10:30:00',\n",
       " '11:00:00',\n",
       " '11:30:00',\n",
       " '12:00:00',\n",
       " '12:30:00',\n",
       " '13:00:00',\n",
       " '13:30:00',\n",
       " '14:00:00',\n",
       " '14:30:00',\n",
       " '15:00:00',\n",
       " '15:30:00',\n",
       " '16:00:00',\n",
       " '16:30:00',\n",
       " '17:00:00',\n",
       " '17:30:00',\n",
       " '18:00:00',\n",
       " '18:30:00',\n",
       " '19:00:00',\n",
       " '19:30:00',\n",
       " '20:00:00',\n",
       " '20:30:00',\n",
       " '21:00:00',\n",
       " '21:30:00',\n",
       " '22:00:00',\n",
       " '22:30:00',\n",
       " '23:00:00',\n",
       " '23:30:00']"
      ]
     },
     "execution_count": 11,
     "metadata": {},
     "output_type": "execute_result"
    }
   ],
   "source": [
    "cols"
   ]
  },
  {
   "cell_type": "markdown",
   "id": "790284a0",
   "metadata": {},
   "source": [
    "## mode"
   ]
  },
  {
   "cell_type": "code",
   "execution_count": 12,
   "id": "9023ebad",
   "metadata": {},
   "outputs": [
    {
     "name": "stdout",
     "output_type": "stream",
     "text": [
      "0    0.0\n",
      "dtype: object\n",
      "0    0.0\n",
      "dtype: object\n",
      "0    0.0\n",
      "dtype: object\n",
      "0    0.0\n",
      "dtype: object\n",
      "0    0.0\n",
      "dtype: object\n",
      "0    0.0\n",
      "dtype: object\n",
      "0    0.0\n",
      "dtype: object\n",
      "0    0.0\n",
      "dtype: object\n",
      "0    0.0\n",
      "dtype: object\n",
      "0    0.0\n",
      "dtype: object\n",
      "0    0.0\n",
      "dtype: object\n",
      "0    0.0\n",
      "dtype: object\n",
      "0    0.0\n",
      "dtype: object\n",
      "0    0.0\n",
      "dtype: object\n",
      "0    0.0\n",
      "dtype: object\n",
      "0    0.0\n",
      "dtype: object\n",
      "0    0.0\n",
      "dtype: object\n",
      "0    0.0\n",
      "dtype: object\n",
      "0    0.0\n",
      "dtype: object\n",
      "0    0.0\n",
      "dtype: object\n",
      "0    0.0\n",
      "dtype: object\n",
      "0    0.0\n",
      "dtype: object\n",
      "0    0.0\n",
      "dtype: object\n",
      "0    0.0\n",
      "dtype: object\n",
      "0    0.0\n",
      "dtype: object\n",
      "0    0.0\n",
      "dtype: object\n",
      "0    0.0\n",
      "dtype: object\n",
      "0    0.0\n",
      "dtype: object\n",
      "0    0.0\n",
      "dtype: object\n",
      "0    0.0\n",
      "dtype: object\n",
      "0    0.0\n",
      "dtype: object\n",
      "0    0.0\n",
      "dtype: object\n",
      "0    0.0\n",
      "dtype: object\n",
      "0    0.0\n",
      "dtype: object\n",
      "0    0.0\n",
      "dtype: object\n",
      "0    0.0\n",
      "dtype: object\n",
      "0    0.0\n",
      "dtype: object\n",
      "0    0.0\n",
      "dtype: object\n",
      "0    0.0\n",
      "dtype: object\n",
      "0    0.0\n",
      "dtype: object\n",
      "0    0.0\n",
      "dtype: object\n",
      "0    0.0\n",
      "dtype: object\n",
      "0    0.0\n",
      "dtype: object\n",
      "0    0.0\n",
      "dtype: object\n",
      "0    0.0\n",
      "dtype: object\n",
      "0    0.0\n",
      "dtype: object\n",
      "0    0.0\n",
      "dtype: object\n",
      "0    0.0\n",
      "dtype: object\n"
     ]
    }
   ],
   "source": [
    "#mode in each time frame(across the plants) in the first sheet\n",
    "for i in cols:\n",
    "    print(data_frames_1[0][i].mode()) "
   ]
  },
  {
   "cell_type": "markdown",
   "id": "748a07c9",
   "metadata": {},
   "source": [
    "## Standard Deviation"
   ]
  },
  {
   "cell_type": "code",
   "execution_count": 13,
   "id": "8ab3876f",
   "metadata": {},
   "outputs": [
    {
     "name": "stderr",
     "output_type": "stream",
     "text": [
      "C:\\Users\\RAVI\\AppData\\Local\\Temp/ipykernel_3224/1385977204.py:2: FutureWarning: Dropping of nuisance columns in DataFrame reductions (with 'numeric_only=None') is deprecated; in a future version this will raise TypeError.  Select only valid columns before calling the reduction.\n",
      "  data_frames_1[0].std()\n"
     ]
    },
    {
     "data": {
      "text/plain": [
       "00:00:00    150.490259\n",
       "00:30:00    150.374942\n",
       "01:00:00    150.446677\n",
       "01:30:00    151.102275\n",
       "02:00:00    151.481205\n",
       "02:30:00    151.415333\n",
       "03:00:00    151.512498\n",
       "03:30:00    151.500743\n",
       "04:00:00    151.243081\n",
       "04:30:00    150.387042\n",
       "05:00:00    149.568150\n",
       "05:30:00    149.615441\n",
       "06:00:00    148.970247\n",
       "06:30:00    147.225302\n",
       "07:00:00    146.992912\n",
       "07:30:00    148.907152\n",
       "08:00:00    150.194016\n",
       "08:30:00    149.478287\n",
       "09:00:00    149.151009\n",
       "09:30:00    149.060052\n",
       "10:00:00    148.477654\n",
       "10:30:00    148.436307\n",
       "11:00:00    148.272509\n",
       "11:30:00    148.636900\n",
       "12:00:00    148.697658\n",
       "12:30:00    149.249112\n",
       "13:00:00    149.006277\n",
       "13:30:00    148.383495\n",
       "14:00:00    148.133451\n",
       "14:30:00    148.550569\n",
       "15:00:00    149.011472\n",
       "15:30:00    149.167190\n",
       "16:00:00    149.208707\n",
       "16:30:00    149.673749\n",
       "17:00:00    149.566790\n",
       "17:30:00    148.938303\n",
       "18:00:00    148.653415\n",
       "18:30:00    146.543545\n",
       "19:00:00    147.326222\n",
       "19:30:00    147.277184\n",
       "20:00:00    148.581161\n",
       "20:30:00    151.190621\n",
       "21:00:00    151.526495\n",
       "21:30:00    150.996022\n",
       "22:00:00    149.350600\n",
       "22:30:00    148.183695\n",
       "23:00:00    149.456762\n",
       "23:30:00    150.793058\n",
       "dtype: float64"
      ]
     },
     "execution_count": 13,
     "metadata": {},
     "output_type": "execute_result"
    }
   ],
   "source": [
    "#standard deviation in all the columns....\n",
    "data_frames_1[0].std()"
   ]
  },
  {
   "cell_type": "code",
   "execution_count": 14,
   "id": "9d93433c",
   "metadata": {},
   "outputs": [],
   "source": [
    "import matplotlib.pyplot as plt"
   ]
  },
  {
   "cell_type": "code",
   "execution_count": 15,
   "id": "6b48c970",
   "metadata": {},
   "outputs": [],
   "source": [
    "import numpy as np"
   ]
  },
  {
   "cell_type": "code",
   "execution_count": 16,
   "id": "dc8f22a9",
   "metadata": {},
   "outputs": [],
   "source": [
    "x=np.array(list(data_frames_1[0]['00:00:00']))"
   ]
  },
  {
   "cell_type": "code",
   "execution_count": 17,
   "id": "bbc3691f",
   "metadata": {},
   "outputs": [
    {
     "data": {
      "text/plain": [
       "array([ 20.,   0.,  10.,  91.,  40.,   0.,  96.,   0.,   0.,   0.,  72.,\n",
       "         0.,   0., 105., 548., 540., 540.,  66., 118.,   0.,  90.,   0.,\n",
       "         0.,   0.,   0., 280.,   0.,   0.,   0.,   0.,   0.,   0.,   0.,\n",
       "         0.,   0.,   0., 100., 131.])"
      ]
     },
     "execution_count": 17,
     "metadata": {},
     "output_type": "execute_result"
    }
   ],
   "source": [
    "x"
   ]
  },
  {
   "cell_type": "markdown",
   "id": "33ab3bb0",
   "metadata": {},
   "source": [
    "## Check skewness (by histograms)"
   ]
  },
  {
   "cell_type": "code",
   "execution_count": 18,
   "id": "2d5173ca",
   "metadata": {},
   "outputs": [
    {
     "data": {
      "image/png": "[encoded data removed]",
      "text/plain": [
       "<Figure size 432x288 with 1 Axes>"
      ]
     },
     "metadata": {
      "needs_background": "light"
     },
     "output_type": "display_data"
    }
   ],
   "source": [
    "plt.hist(x)\n",
    "plt.show()"
   ]
  },
  {
   "cell_type": "code",
   "execution_count": 19,
   "id": "363dd106",
   "metadata": {
    "scrolled": false
   },
   "outputs": [
    {
     "name": "stdout",
     "output_type": "stream",
     "text": [
      "00:00:00\n"
     ]
    },
    {
     "data": {
      "image/png": "[encoded data removed]",
      "text/plain": [
       "<Figure size 432x288 with 1 Axes>"
      ]
     },
     "metadata": {
      "needs_background": "light"
     },
     "output_type": "display_data"
    },
    {
     "name": "stdout",
     "output_type": "stream",
     "text": [
      "00:30:00\n"
     ]
    },
    {
     "data": {
      "image/png": "[encoded data removed]",
      "text/plain": [
       "<Figure size 432x288 with 1 Axes>"
      ]
     },
     "metadata": {
      "needs_background": "light"
     },
     "output_type": "display_data"
    },
    {
     "name": "stdout",
     "output_type": "stream",
     "text": [
      "01:00:00\n"
     ]
    },
    {
     "data": {
      "image/png": "[encoded data removed]",
      "text/plain": [
       "<Figure size 432x288 with 1 Axes>"
      ]
     },
     "metadata": {
      "needs_background": "light"
     },
     "output_type": "display_data"
    },
    {
     "name": "stdout",
     "output_type": "stream",
     "text": [
      "01:30:00\n"
     ]
    },
    {
     "data": {
      "image/png": "[encoded data removed]",
      "text/plain": [
       "<Figure size 432x288 with 1 Axes>"
      ]
     },
     "metadata": {
      "needs_background": "light"
     },
     "output_type": "display_data"
    },
    {
     "name": "stdout",
     "output_type": "stream",
     "text": [
      "02:00:00\n"
     ]
    },
    {
     "data": {
      "image/png": "[encoded data removed]",
      "text/plain": [
       "<Figure size 432x288 with 1 Axes>"
      ]
     },
     "metadata": {
      "needs_background": "light"
     },
     "output_type": "display_data"
    },
    {
     "name": "stdout",
     "output_type": "stream",
     "text": [
      "02:30:00\n"
     ]
    },
    {
     "data": {
      "image/png": "[encoded data removed]",
      "text/plain": [
       "<Figure size 432x288 with 1 Axes>"
      ]
     },
     "metadata": {
      "needs_background": "light"
     },
     "output_type": "display_data"
    },
    {
     "name": "stdout",
     "output_type": "stream",
     "text": [
      "03:00:00\n"
     ]
    },
    {
     "data": {
      "image/png": "[encoded data removed]",
      "text/plain": [
       "<Figure size 432x288 with 1 Axes>"
      ]
     },
     "metadata": {
      "needs_background": "light"
     },
     "output_type": "display_data"
    },
    {
     "name": "stdout",
     "output_type": "stream",
     "text": [
      "03:30:00\n"
     ]
    },
    {
     "data": {
      "image/png": "[encoded data removed]",
      "text/plain": [
       "<Figure size 432x288 with 1 Axes>"
      ]
     },
     "metadata": {
      "needs_background": "light"
     },
     "output_type": "display_data"
    },
    {
     "name": "stdout",
     "output_type": "stream",
     "text": [
      "04:00:00\n"
     ]
    },
    {
     "data": {
      "image/png": "[encoded data removed]",
      "text/plain": [
       "<Figure size 432x288 with 1 Axes>"
      ]
     },
     "metadata": {
      "needs_background": "light"
     },
     "output_type": "display_data"
    },
    {
     "name": "stdout",
     "output_type": "stream",
     "text": [
      "04:30:00\n"
     ]
    },
    {
     "data": {
      "image/png": "[encoded data removed]",
      "text/plain": [
       "<Figure size 432x288 with 1 Axes>"
      ]
     },
     "metadata": {
      "needs_background": "light"
     },
     "output_type": "display_data"
    },
    {
     "name": "stdout",
     "output_type": "stream",
     "text": [
      "05:00:00\n"
     ]
    },
    {
     "data": {
      "image/png": "[encoded data removed]",
      "text/plain": [
       "<Figure size 432x288 with 1 Axes>"
      ]
     },
     "metadata": {
      "needs_background": "light"
     },
     "output_type": "display_data"
    },
    {
     "name": "stdout",
     "output_type": "stream",
     "text": [
      "05:30:00\n"
     ]
    },
    {
     "data": {
      "image/png": "[encoded data removed]",
      "text/plain": [
       "<Figure size 432x288 with 1 Axes>"
      ]
     },
     "metadata": {
      "needs_background": "light"
     },
     "output_type": "display_data"
    },
    {
     "name": "stdout",
     "output_type": "stream",
     "text": [
      "06:00:00\n"
     ]
    },
    {
     "data": {
      "image/png": "[encoded data removed]",
      "text/plain": [
       "<Figure size 432x288 with 1 Axes>"
      ]
     },
     "metadata": {
      "needs_background": "light"
     },
     "output_type": "display_data"
    },
    {
     "name": "stdout",
     "output_type": "stream",
     "text": [
      "06:30:00\n"
     ]
    },
    {
     "data": {
      "image/png": "[encoded data removed]",
      "text/plain": [
       "<Figure size 432x288 with 1 Axes>"
      ]
     },
     "metadata": {
      "needs_background": "light"
     },
     "output_type": "display_data"
    },
    {
     "name": "stdout",
     "output_type": "stream",
     "text": [
      "07:00:00\n"
     ]
    },
    {
     "data": {
      "image/png": "[encoded data removed]",
      "text/plain": [
       "<Figure size 432x288 with 1 Axes>"
      ]
     },
     "metadata": {
      "needs_background": "light"
     },
     "output_type": "display_data"
    },
    {
     "name": "stdout",
     "output_type": "stream",
     "text": [
      "07:30:00\n"
     ]
    },
    {
     "data": {
      "image/png": "[encoded data removed]",
      "text/plain": [
       "<Figure size 432x288 with 1 Axes>"
      ]
     },
     "metadata": {
      "needs_background": "light"
     },
     "output_type": "display_data"
    },
    {
     "name": "stdout",
     "output_type": "stream",
     "text": [
      "08:00:00\n"
     ]
    },
    {
     "data": {
      "image/png": "[encoded data removed]",
      "text/plain": [
       "<Figure size 432x288 with 1 Axes>"
      ]
     },
     "metadata": {
      "needs_background": "light"
     },
     "output_type": "display_data"
    },
    {
     "name": "stdout",
     "output_type": "stream",
     "text": [
      "08:30:00\n"
     ]
    },
    {
     "data": {
      "image/png": "[encoded data removed]",
      "text/plain": [
       "<Figure size 432x288 with 1 Axes>"
      ]
     },
     "metadata": {
      "needs_background": "light"
     },
     "output_type": "display_data"
    },
    {
     "name": "stdout",
     "output_type": "stream",
     "text": [
      "09:00:00\n"
     ]
    },
    {
     "data": {
      "image/png": "[encoded data removed]",
      "text/plain": [
       "<Figure size 432x288 with 1 Axes>"
      ]
     },
     "metadata": {
      "needs_background": "light"
     },
     "output_type": "display_data"
    },
    {
     "name": "stdout",
     "output_type": "stream",
     "text": [
      "09:30:00\n"
     ]
    },
    {
     "data": {
      "image/png": "[encoded data removed]",
      "text/plain": [
       "<Figure size 432x288 with 1 Axes>"
      ]
     },
     "metadata": {
      "needs_background": "light"
     },
     "output_type": "display_data"
    },
    {
     "name": "stdout",
     "output_type": "stream",
     "text": [
      "10:00:00\n"
     ]
    },
    {
     "data": {
      "image/png": "[encoded data removed]",
      "text/plain": [
       "<Figure size 432x288 with 1 Axes>"
      ]
     },
     "metadata": {
      "needs_background": "light"
     },
     "output_type": "display_data"
    },
    {
     "name": "stdout",
     "output_type": "stream",
     "text": [
      "10:30:00\n"
     ]
    },
    {
     "data": {
      "image/png": "[encoded data removed]",
      "text/plain": [
       "<Figure size 432x288 with 1 Axes>"
      ]
     },
     "metadata": {
      "needs_background": "light"
     },
     "output_type": "display_data"
    },
    {
     "name": "stdout",
     "output_type": "stream",
     "text": [
      "11:00:00\n"
     ]
    },
    {
     "data": {
      "image/png": "[encoded data removed]",
      "text/plain": [
       "<Figure size 432x288 with 1 Axes>"
      ]
     },
     "metadata": {
      "needs_background": "light"
     },
     "output_type": "display_data"
    },
    {
     "name": "stdout",
     "output_type": "stream",
     "text": [
      "11:30:00\n"
     ]
    },
    {
     "data": {
      "image/png": "[encoded data removed]",
      "text/plain": [
       "<Figure size 432x288 with 1 Axes>"
      ]
     },
     "metadata": {
      "needs_background": "light"
     },
     "output_type": "display_data"
    },
    {
     "name": "stdout",
     "output_type": "stream",
     "text": [
      "12:00:00\n"
     ]
    },
    {
     "data": {
      "image/png": "[encoded data removed]",
      "text/plain": [
       "<Figure size 432x288 with 1 Axes>"
      ]
     },
     "metadata": {
      "needs_background": "light"
     },
     "output_type": "display_data"
    },
    {
     "name": "stdout",
     "output_type": "stream",
     "text": [
      "12:30:00\n"
     ]
    },
    {
     "data": {
      "image/png": "[encoded data removed]",
      "text/plain": [
       "<Figure size 432x288 with 1 Axes>"
      ]
     },
     "metadata": {
      "needs_background": "light"
     },
     "output_type": "display_data"
    },
    {
     "name": "stdout",
     "output_type": "stream",
     "text": [
      "13:00:00\n"
     ]
    },
    {
     "data": {
      "image/png": "[encoded data removed]",
      "text/plain": [
       "<Figure size 432x288 with 1 Axes>"
      ]
     },
     "metadata": {
      "needs_background": "light"
     },
     "output_type": "display_data"
    },
    {
     "name": "stdout",
     "output_type": "stream",
     "text": [
      "13:30:00\n"
     ]
    },
    {
     "data": {
      "image/png": "[encoded data removed]",
      "text/plain": [
       "<Figure size 432x288 with 1 Axes>"
      ]
     },
     "metadata": {
      "needs_background": "light"
     },
     "output_type": "display_data"
    },
    {
     "name": "stdout",
     "output_type": "stream",
     "text": [
      "14:00:00\n"
     ]
    },
    {
     "data": {
      "image/png": "[encoded data removed]",
      "text/plain": [
       "<Figure size 432x288 with 1 Axes>"
      ]
     },
     "metadata": {
      "needs_background": "light"
     },
     "output_type": "display_data"
    },
    {
     "name": "stdout",
     "output_type": "stream",
     "text": [
      "14:30:00\n"
     ]
    },
    {
     "data": {
      "image/png": "[encoded data removed]",
      "text/plain": [
       "<Figure size 432x288 with 1 Axes>"
      ]
     },
     "metadata": {
      "needs_background": "light"
     },
     "output_type": "display_data"
    },
    {
     "name": "stdout",
     "output_type": "stream",
     "text": [
      "15:00:00\n"
     ]
    },
    {
     "data": {
      "image/png": "[encoded data removed]",
      "text/plain": [
       "<Figure size 432x288 with 1 Axes>"
      ]
     },
     "metadata": {
      "needs_background": "light"
     },
     "output_type": "display_data"
    },
    {
     "name": "stdout",
     "output_type": "stream",
     "text": [
      "15:30:00\n"
     ]
    },
    {
     "data": {
      "image/png": "[encoded data removed]",
      "text/plain": [
       "<Figure size 432x288 with 1 Axes>"
      ]
     },
     "metadata": {
      "needs_background": "light"
     },
     "output_type": "display_data"
    },
    {
     "name": "stdout",
     "output_type": "stream",
     "text": [
      "16:00:00\n"
     ]
    },
    {
     "data": {
      "image/png": "[encoded data removed]",
      "text/plain": [
       "<Figure size 432x288 with 1 Axes>"
      ]
     },
     "metadata": {
      "needs_background": "light"
     },
     "output_type": "display_data"
    },
    {
     "name": "stdout",
     "output_type": "stream",
     "text": [
      "16:30:00\n"
     ]
    },
    {
     "data": {
      "image/png": "[encoded data removed]",
      "text/plain": [
       "<Figure size 432x288 with 1 Axes>"
      ]
     },
     "metadata": {
      "needs_background": "light"
     },
     "output_type": "display_data"
    },
    {
     "name": "stdout",
     "output_type": "stream",
     "text": [
      "17:00:00\n"
     ]
    },
    {
     "data": {
      "image/png": "[encoded data removed]",
      "text/plain": [
       "<Figure size 432x288 with 1 Axes>"
      ]
     },
     "metadata": {
      "needs_background": "light"
     },
     "output_type": "display_data"
    },
    {
     "name": "stdout",
     "output_type": "stream",
     "text": [
      "17:30:00\n"
     ]
    },
    {
     "data": {
      "image/png": "[encoded data removed]",
      "text/plain": [
       "<Figure size 432x288 with 1 Axes>"
      ]
     },
     "metadata": {
      "needs_background": "light"
     },
     "output_type": "display_data"
    },
    {
     "name": "stdout",
     "output_type": "stream",
     "text": [
      "18:00:00\n"
     ]
    },
    {
     "data": {
      "image/png": "[encoded data removed]",
      "text/plain": [
       "<Figure size 432x288 with 1 Axes>"
      ]
     },
     "metadata": {
      "needs_background": "light"
     },
     "output_type": "display_data"
    },
    {
     "name": "stdout",
     "output_type": "stream",
     "text": [
      "18:30:00\n"
     ]
    },
    {
     "data": {
      "image/png": "[encoded data removed]",
      "text/plain": [
       "<Figure size 432x288 with 1 Axes>"
      ]
     },
     "metadata": {
      "needs_background": "light"
     },
     "output_type": "display_data"
    },
    {
     "name": "stdout",
     "output_type": "stream",
     "text": [
      "19:00:00\n"
     ]
    },
    {
     "data": {
      "image/png": "[encoded data removed]",
      "text/plain": [
       "<Figure size 432x288 with 1 Axes>"
      ]
     },
     "metadata": {
      "needs_background": "light"
     },
     "output_type": "display_data"
    },
    {
     "name": "stdout",
     "output_type": "stream",
     "text": [
      "19:30:00\n"
     ]
    },
    {
     "data": {
      "image/png": "[encoded data removed]",
      "text/plain": [
       "<Figure size 432x288 with 1 Axes>"
      ]
     },
     "metadata": {
      "needs_background": "light"
     },
     "output_type": "display_data"
    },
    {
     "name": "stdout",
     "output_type": "stream",
     "text": [
      "20:00:00\n"
     ]
    },
    {
     "data": {
      "image/png": "[encoded data removed]",
      "text/plain": [
       "<Figure size 432x288 with 1 Axes>"
      ]
     },
     "metadata": {
      "needs_background": "light"
     },
     "output_type": "display_data"
    },
    {
     "name": "stdout",
     "output_type": "stream",
     "text": [
      "20:30:00\n"
     ]
    },
    {
     "data": {
      "image/png": "[encoded data removed]",
      "text/plain": [
       "<Figure size 432x288 with 1 Axes>"
      ]
     },
     "metadata": {
      "needs_background": "light"
     },
     "output_type": "display_data"
    },
    {
     "name": "stdout",
     "output_type": "stream",
     "text": [
      "21:00:00\n"
     ]
    },
    {
     "data": {
      "image/png": "[encoded data removed]",
      "text/plain": [
       "<Figure size 432x288 with 1 Axes>"
      ]
     },
     "metadata": {
      "needs_background": "light"
     },
     "output_type": "display_data"
    },
    {
     "name": "stdout",
     "output_type": "stream",
     "text": [
      "21:30:00\n"
     ]
    },
    {
     "data": {
      "image/png": "[encoded data removed]",
      "text/plain": [
       "<Figure size 432x288 with 1 Axes>"
      ]
     },
     "metadata": {
      "needs_background": "light"
     },
     "output_type": "display_data"
    },
    {
     "name": "stdout",
     "output_type": "stream",
     "text": [
      "22:00:00\n"
     ]
    },
    {
     "data": {
      "image/png": "[encoded data removed]",
      "text/plain": [
       "<Figure size 432x288 with 1 Axes>"
      ]
     },
     "metadata": {
      "needs_background": "light"
     },
     "output_type": "display_data"
    },
    {
     "name": "stdout",
     "output_type": "stream",
     "text": [
      "22:30:00\n"
     ]
    },
    {
     "data": {
      "image/png": "[encoded data removed]",
      "text/plain": [
       "<Figure size 432x288 with 1 Axes>"
      ]
     },
     "metadata": {
      "needs_background": "light"
     },
     "output_type": "display_data"
    },
    {
     "name": "stdout",
     "output_type": "stream",
     "text": [
      "23:00:00\n"
     ]
    },
    {
     "data": {
      "image/png": "[encoded data removed]",
      "text/plain": [
       "<Figure size 432x288 with 1 Axes>"
      ]
     },
     "metadata": {
      "needs_background": "light"
     },
     "output_type": "display_data"
    },
    {
     "name": "stdout",
     "output_type": "stream",
     "text": [
      "23:30:00\n"
     ]
    },
    {
     "data": {
      "image/png": "[encoded data removed]",
      "text/plain": [
       "<Figure size 432x288 with 1 Axes>"
      ]
     },
     "metadata": {
      "needs_background": "light"
     },
     "output_type": "display_data"
    }
   ],
   "source": [
    "#all the time frames histograms across all the plants....\n",
    "for i in cols:\n",
    "    x=np.array(list(data_frames_1[0][i]))\n",
    "    print(i)\n",
    "    plt.hist(x,color='green',bins=15)\n",
    "    plt.show()"
   ]
  },
  {
   "cell_type": "markdown",
   "id": "42f839f5",
   "metadata": {},
   "source": [
    "# Forecast"
   ]
  },
  {
   "cell_type": "code",
   "execution_count": 20,
   "id": "4a7d0068",
   "metadata": {},
   "outputs": [],
   "source": [
    "#get all the files in the forecast folder..........\n",
    "def fileList(path):\n",
    "    listOfFiles = os.listdir(path)\n",
    "    files=[]\n",
    "    \n",
    "    for file in listOfFiles:\n",
    "        fullPath = os.path.join(path, file) #full path for the file\n",
    "        if os.path.isdir(fullPath): #if there are sub folders.....\n",
    "            files = files + fileList(fullPath) #recursively loop through the sub folder\n",
    "        else:\n",
    "            files.append(fullPath)\n",
    "                \n",
    "    return files\n",
    "\n",
    "all_the_files=fileList(r'E:\\Desktop\\Datasets\\forcast_july')"
   ]
  },
  {
   "cell_type": "code",
   "execution_count": 21,
   "id": "e2b314ee",
   "metadata": {},
   "outputs": [],
   "source": [
    "##############\n",
    "data_frames_3=[]\n",
    "data_frames_4=[]\n",
    "for file in all_the_files:\n",
    "    df=pd.read_excel(file)\n",
    "    df.columns = df.iloc[0] #make columns as 0th row items..\n",
    "    columns=df.columns\n",
    "    date=columns[1].date() \n",
    "    df=df.drop(0) #drop 0th row items\n",
    "    df.columns = df.iloc[0] #make columns as 0th row items..\n",
    "    df=df.drop(1)  #drop 1st row items\n",
    "    plants_temp=df.iloc[:,0] #all the items in plant column(this includes unnessasary items)\n",
    "    plants=[]\n",
    "    #get only the correct plants...\n",
    "    for plant in plants_temp:\n",
    "        if plant=='Total Generation':\n",
    "            break\n",
    "        else:\n",
    "            plants.append(plant)\n",
    "    df = df.loc[:, df.columns.notnull()] #remove nan columns.............\n",
    "    z=len(plants) #only get the relevant rows...............\n",
    "    df=df.head(z) #only get the dataframe which contains the needed rows...\n",
    "    df.insert(0, 'Power_Plant', plants)\n",
    "    df=df.drop(columns=df.columns[-1:],axis=1) #drop the last column.......\n",
    "    df3=pd.melt(df,id_vars=['Power_Plant']) #reshape the df using melt function...\n",
    "    df3['Date']=date\n",
    "    df['Date']=date\n",
    "    data_frames_3.append(df3)\n",
    "    data_frames_4.append(df)"
   ]
  },
  {
   "cell_type": "code",
   "execution_count": 22,
   "id": "925b6fcd",
   "metadata": {},
   "outputs": [
    {
     "data": {
      "text/html": [
       "<div>\n",
       "<style scoped>\n",
       "    .dataframe tbody tr th:only-of-type {\n",
       "        vertical-align: middle;\n",
       "    }\n",
       "\n",
       "    .dataframe tbody tr th {\n",
       "        vertical-align: top;\n",
       "    }\n",
       "\n",
       "    .dataframe thead th {\n",
       "        text-align: right;\n",
       "    }\n",
       "</style>\n",
       "<table border=\"1\" class=\"dataframe\">\n",
       "  <thead>\n",
       "    <tr style=\"text-align: right;\">\n",
       "      <th></th>\n",
       "      <th>Power_Plant</th>\n",
       "      <th>1</th>\n",
       "      <th>value</th>\n",
       "      <th>Date</th>\n",
       "    </tr>\n",
       "  </thead>\n",
       "  <tbody>\n",
       "    <tr>\n",
       "      <th>0</th>\n",
       "      <td>WPS</td>\n",
       "      <td>00:00:00</td>\n",
       "      <td>0</td>\n",
       "      <td>2020-07-01</td>\n",
       "    </tr>\n",
       "    <tr>\n",
       "      <th>1</th>\n",
       "      <td>Cany</td>\n",
       "      <td>00:00:00</td>\n",
       "      <td>0</td>\n",
       "      <td>2020-07-01</td>\n",
       "    </tr>\n",
       "    <tr>\n",
       "      <th>2</th>\n",
       "      <td>Olax</td>\n",
       "      <td>00:00:00</td>\n",
       "      <td>10</td>\n",
       "      <td>2020-07-01</td>\n",
       "    </tr>\n",
       "    <tr>\n",
       "      <th>3</th>\n",
       "      <td>Nlax</td>\n",
       "      <td>00:00:00</td>\n",
       "      <td>60.636</td>\n",
       "      <td>2020-07-01</td>\n",
       "    </tr>\n",
       "    <tr>\n",
       "      <th>4</th>\n",
       "      <td>Polp</td>\n",
       "      <td>00:00:00</td>\n",
       "      <td>78.479</td>\n",
       "      <td>2020-07-01</td>\n",
       "    </tr>\n",
       "  </tbody>\n",
       "</table>\n",
       "</div>"
      ],
      "text/plain": [
       "   Power_Plant         1   value        Date\n",
       "0     WPS       00:00:00       0  2020-07-01\n",
       "1    Cany       00:00:00       0  2020-07-01\n",
       "2  Olax         00:00:00      10  2020-07-01\n",
       "3         Nlax  00:00:00  60.636  2020-07-01\n",
       "4         Polp  00:00:00  78.479  2020-07-01"
      ]
     },
     "execution_count": 22,
     "metadata": {},
     "output_type": "execute_result"
    }
   ],
   "source": [
    "data_frames_3[0].head()"
   ]
  },
  {
   "cell_type": "code",
   "execution_count": 23,
   "id": "60a5b088",
   "metadata": {},
   "outputs": [
    {
     "data": {
      "text/html": [
       "<div>\n",
       "<style scoped>\n",
       "    .dataframe tbody tr th:only-of-type {\n",
       "        vertical-align: middle;\n",
       "    }\n",
       "\n",
       "    .dataframe tbody tr th {\n",
       "        vertical-align: top;\n",
       "    }\n",
       "\n",
       "    .dataframe thead th {\n",
       "        text-align: right;\n",
       "    }\n",
       "</style>\n",
       "<table border=\"1\" class=\"dataframe\">\n",
       "  <thead>\n",
       "    <tr style=\"text-align: right;\">\n",
       "      <th>1</th>\n",
       "      <th>Power_Plant</th>\n",
       "      <th>00:00:00</th>\n",
       "      <th>00:30:00</th>\n",
       "      <th>01:00:00</th>\n",
       "      <th>01:30:00</th>\n",
       "      <th>02:00:00</th>\n",
       "      <th>02:30:00</th>\n",
       "      <th>03:00:00</th>\n",
       "      <th>03:30:00</th>\n",
       "      <th>04:00:00</th>\n",
       "      <th>...</th>\n",
       "      <th>19:30:00</th>\n",
       "      <th>20:00:00</th>\n",
       "      <th>20:30:00</th>\n",
       "      <th>21:00:00</th>\n",
       "      <th>21:30:00</th>\n",
       "      <th>22:00:00</th>\n",
       "      <th>22:30:00</th>\n",
       "      <th>23:00:00</th>\n",
       "      <th>23:30:00</th>\n",
       "      <th>Date</th>\n",
       "    </tr>\n",
       "  </thead>\n",
       "  <tbody>\n",
       "    <tr>\n",
       "      <th>2</th>\n",
       "      <td>WPS</td>\n",
       "      <td>0</td>\n",
       "      <td>0</td>\n",
       "      <td>0</td>\n",
       "      <td>0</td>\n",
       "      <td>0</td>\n",
       "      <td>0</td>\n",
       "      <td>0</td>\n",
       "      <td>0</td>\n",
       "      <td>0</td>\n",
       "      <td>...</td>\n",
       "      <td>10</td>\n",
       "      <td>0</td>\n",
       "      <td>0</td>\n",
       "      <td>0</td>\n",
       "      <td>0</td>\n",
       "      <td>0</td>\n",
       "      <td>0</td>\n",
       "      <td>0</td>\n",
       "      <td>0</td>\n",
       "      <td>2020-07-01</td>\n",
       "    </tr>\n",
       "    <tr>\n",
       "      <th>3</th>\n",
       "      <td>Cany</td>\n",
       "      <td>0</td>\n",
       "      <td>0</td>\n",
       "      <td>0</td>\n",
       "      <td>0</td>\n",
       "      <td>0</td>\n",
       "      <td>0</td>\n",
       "      <td>0</td>\n",
       "      <td>0</td>\n",
       "      <td>0</td>\n",
       "      <td>...</td>\n",
       "      <td>0</td>\n",
       "      <td>0</td>\n",
       "      <td>0</td>\n",
       "      <td>0</td>\n",
       "      <td>0</td>\n",
       "      <td>0</td>\n",
       "      <td>0</td>\n",
       "      <td>0</td>\n",
       "      <td>0</td>\n",
       "      <td>2020-07-01</td>\n",
       "    </tr>\n",
       "    <tr>\n",
       "      <th>4</th>\n",
       "      <td>Olax</td>\n",
       "      <td>10</td>\n",
       "      <td>10</td>\n",
       "      <td>10</td>\n",
       "      <td>10</td>\n",
       "      <td>10</td>\n",
       "      <td>10</td>\n",
       "      <td>10</td>\n",
       "      <td>10</td>\n",
       "      <td>10</td>\n",
       "      <td>...</td>\n",
       "      <td>10.895</td>\n",
       "      <td>10.895</td>\n",
       "      <td>10</td>\n",
       "      <td>10</td>\n",
       "      <td>10</td>\n",
       "      <td>10</td>\n",
       "      <td>10</td>\n",
       "      <td>10</td>\n",
       "      <td>0</td>\n",
       "      <td>2020-07-01</td>\n",
       "    </tr>\n",
       "    <tr>\n",
       "      <th>5</th>\n",
       "      <td>Nlax</td>\n",
       "      <td>60.636</td>\n",
       "      <td>60.636</td>\n",
       "      <td>60.636</td>\n",
       "      <td>59.362</td>\n",
       "      <td>59.312</td>\n",
       "      <td>58.312</td>\n",
       "      <td>58.812</td>\n",
       "      <td>59.112</td>\n",
       "      <td>20.212</td>\n",
       "      <td>...</td>\n",
       "      <td>93.636</td>\n",
       "      <td>60.636</td>\n",
       "      <td>60.636</td>\n",
       "      <td>60.636</td>\n",
       "      <td>21.97</td>\n",
       "      <td>21.97</td>\n",
       "      <td>21.97</td>\n",
       "      <td>0</td>\n",
       "      <td>0</td>\n",
       "      <td>2020-07-01</td>\n",
       "    </tr>\n",
       "    <tr>\n",
       "      <th>6</th>\n",
       "      <td>Polp</td>\n",
       "      <td>78.479</td>\n",
       "      <td>58.347</td>\n",
       "      <td>31.008</td>\n",
       "      <td>6.1039</td>\n",
       "      <td>6.1039</td>\n",
       "      <td>6.1039</td>\n",
       "      <td>6.1039</td>\n",
       "      <td>6.1039</td>\n",
       "      <td>18.052</td>\n",
       "      <td>...</td>\n",
       "      <td>56.114</td>\n",
       "      <td>56.114</td>\n",
       "      <td>38.31</td>\n",
       "      <td>38.31</td>\n",
       "      <td>18.933</td>\n",
       "      <td>6.1039</td>\n",
       "      <td>31.762</td>\n",
       "      <td>7.923</td>\n",
       "      <td>0</td>\n",
       "      <td>2020-07-01</td>\n",
       "    </tr>\n",
       "  </tbody>\n",
       "</table>\n",
       "<p>5 rows × 50 columns</p>\n",
       "</div>"
      ],
      "text/plain": [
       "1  Power_Plant 00:00:00 00:30:00 01:00:00 01:30:00 02:00:00 02:30:00 03:00:00  \\\n",
       "2     WPS             0        0        0        0        0        0        0   \n",
       "3    Cany             0        0        0        0        0        0        0   \n",
       "4  Olax              10       10       10       10       10       10       10   \n",
       "5         Nlax   60.636   60.636   60.636   59.362   59.312   58.312   58.812   \n",
       "6         Polp   78.479   58.347   31.008   6.1039   6.1039   6.1039   6.1039   \n",
       "\n",
       "1 03:30:00 04:00:00  ... 19:30:00 20:00:00 20:30:00 21:00:00 21:30:00  \\\n",
       "2        0        0  ...       10        0        0        0        0   \n",
       "3        0        0  ...        0        0        0        0        0   \n",
       "4       10       10  ...   10.895   10.895       10       10       10   \n",
       "5   59.112   20.212  ...   93.636   60.636   60.636   60.636    21.97   \n",
       "6   6.1039   18.052  ...   56.114   56.114    38.31    38.31   18.933   \n",
       "\n",
       "1 22:00:00 22:30:00 23:00:00 23:30:00        Date  \n",
       "2        0        0        0        0  2020-07-01  \n",
       "3        0        0        0        0  2020-07-01  \n",
       "4       10       10       10        0  2020-07-01  \n",
       "5    21.97    21.97        0        0  2020-07-01  \n",
       "6   6.1039   31.762    7.923        0  2020-07-01  \n",
       "\n",
       "[5 rows x 50 columns]"
      ]
     },
     "execution_count": 23,
     "metadata": {},
     "output_type": "execute_result"
    }
   ],
   "source": [
    "data_frames_4[0].head()"
   ]
  },
  {
   "cell_type": "markdown",
   "id": "7f352433",
   "metadata": {},
   "source": [
    "## median"
   ]
  },
  {
   "cell_type": "code",
   "execution_count": 24,
   "id": "959a49e3",
   "metadata": {},
   "outputs": [
    {
     "name": "stderr",
     "output_type": "stream",
     "text": [
      "C:\\Users\\RAVI\\AppData\\Local\\Temp/ipykernel_3224/220805517.py:2: FutureWarning: Dropping of nuisance columns in DataFrame reductions (with 'numeric_only=None') is deprecated; in a future version this will raise TypeError.  Select only valid columns before calling the reduction.\n",
      "  data_frames_4[0].median()\n"
     ]
    },
    {
     "data": {
      "text/plain": [
       "1\n",
       "00:00:00     0.0000\n",
       "00:30:00     0.0000\n",
       "01:00:00     0.0000\n",
       "01:30:00     0.0000\n",
       "02:00:00     0.0000\n",
       "02:30:00     0.0000\n",
       "03:00:00     0.0000\n",
       "03:30:00     0.0000\n",
       "04:00:00     0.0000\n",
       "04:30:00     0.0000\n",
       "05:00:00    13.5785\n",
       "05:30:00    17.0000\n",
       "06:00:00    15.0000\n",
       "06:30:00    15.0000\n",
       "07:00:00    15.0000\n",
       "07:30:00    20.0000\n",
       "08:00:00    22.0000\n",
       "08:30:00    24.0000\n",
       "09:00:00    24.0000\n",
       "09:30:00    24.0000\n",
       "10:00:00    24.0000\n",
       "10:30:00    24.5000\n",
       "11:00:00    26.0000\n",
       "11:30:00    27.9505\n",
       "12:00:00    27.0000\n",
       "12:30:00    24.0000\n",
       "13:00:00    24.0000\n",
       "13:30:00    24.0000\n",
       "14:00:00    24.0000\n",
       "14:30:00    24.0000\n",
       "15:00:00    29.2855\n",
       "15:30:00    29.2855\n",
       "16:00:00    29.2855\n",
       "16:30:00    24.0000\n",
       "17:00:00    24.0000\n",
       "17:30:00    24.0000\n",
       "18:00:00    29.2855\n",
       "18:30:00    37.9320\n",
       "19:00:00    37.9320\n",
       "19:30:00    24.0000\n",
       "20:00:00    22.0000\n",
       "20:30:00    22.0000\n",
       "21:00:00    20.0000\n",
       "21:30:00    13.5675\n",
       "22:00:00     0.0000\n",
       "22:30:00     0.0000\n",
       "23:00:00     0.0000\n",
       "23:30:00     0.0000\n",
       "dtype: float64"
      ]
     },
     "execution_count": 24,
     "metadata": {},
     "output_type": "execute_result"
    }
   ],
   "source": [
    "#median in each time frame....\n",
    "data_frames_4[0].median()"
   ]
  },
  {
   "cell_type": "markdown",
   "id": "bcd3a051",
   "metadata": {},
   "source": [
    "## mean"
   ]
  },
  {
   "cell_type": "code",
   "execution_count": 25,
   "id": "8d0a081b",
   "metadata": {},
   "outputs": [
    {
     "name": "stderr",
     "output_type": "stream",
     "text": [
      "C:\\Users\\RAVI\\AppData\\Local\\Temp/ipykernel_3224/2575524503.py:2: FutureWarning: Dropping of nuisance columns in DataFrame reductions (with 'numeric_only=None') is deprecated; in a future version this will raise TypeError.  Select only valid columns before calling the reduction.\n",
      "  data_frames_4[0].mean()\n"
     ]
    },
    {
     "data": {
      "text/plain": [
       "1\n",
       "00:00:00    33.318173\n",
       "00:30:00    32.636350\n",
       "01:00:00    32.136364\n",
       "01:30:00    31.431816\n",
       "02:00:00    31.409089\n",
       "02:30:00    30.954543\n",
       "03:00:00    31.181816\n",
       "03:30:00    31.318173\n",
       "04:00:00    32.568166\n",
       "04:30:00    34.477250\n",
       "05:00:00    37.363614\n",
       "05:30:00    40.159077\n",
       "06:00:00    42.272730\n",
       "06:30:00    40.795457\n",
       "07:00:00    41.272741\n",
       "07:30:00    43.090914\n",
       "08:00:00    45.250005\n",
       "08:30:00    46.840914\n",
       "09:00:00    47.727277\n",
       "09:30:00    47.477277\n",
       "10:00:00    47.568186\n",
       "10:30:00    49.318186\n",
       "11:00:00    49.727277\n",
       "11:30:00    50.340914\n",
       "12:00:00    49.772732\n",
       "12:30:00    48.204550\n",
       "13:00:00    47.704550\n",
       "13:30:00    47.954550\n",
       "14:00:00    48.704550\n",
       "14:30:00    48.954550\n",
       "15:00:00    48.477273\n",
       "15:30:00    48.840909\n",
       "16:00:00    48.590909\n",
       "16:30:00    46.954545\n",
       "17:00:00    46.636364\n",
       "17:30:00    46.659091\n",
       "18:00:00    50.636364\n",
       "18:30:00    55.659091\n",
       "19:00:00    54.795455\n",
       "19:30:00    52.590909\n",
       "20:00:00    50.204545\n",
       "20:30:00    48.159000\n",
       "21:00:00    45.454545\n",
       "21:30:00    42.636364\n",
       "22:00:00    38.636361\n",
       "22:30:00    37.045432\n",
       "23:00:00    35.727273\n",
       "23:30:00    33.704545\n",
       "dtype: float64"
      ]
     },
     "execution_count": 25,
     "metadata": {},
     "output_type": "execute_result"
    }
   ],
   "source": [
    "#mean in each time frame in the 1st sheet....\n",
    "data_frames_4[0].mean()"
   ]
  },
  {
   "cell_type": "markdown",
   "id": "777fb641",
   "metadata": {},
   "source": [
    "## mode"
   ]
  },
  {
   "cell_type": "code",
   "execution_count": 26,
   "id": "be095112",
   "metadata": {},
   "outputs": [
    {
     "data": {
      "text/plain": [
       "['Power_Plant',\n",
       " '00:00:00',\n",
       " '00:30:00',\n",
       " '01:00:00',\n",
       " '01:30:00',\n",
       " '02:00:00',\n",
       " '02:30:00',\n",
       " '03:00:00',\n",
       " '03:30:00',\n",
       " '04:00:00',\n",
       " '04:30:00',\n",
       " '05:00:00',\n",
       " '05:30:00',\n",
       " '06:00:00',\n",
       " '06:30:00',\n",
       " '07:00:00',\n",
       " '07:30:00',\n",
       " '08:00:00',\n",
       " '08:30:00',\n",
       " '09:00:00',\n",
       " '09:30:00',\n",
       " '10:00:00',\n",
       " '10:30:00',\n",
       " '11:00:00',\n",
       " '11:30:00',\n",
       " '12:00:00',\n",
       " '12:30:00',\n",
       " '13:00:00',\n",
       " '13:30:00',\n",
       " '14:00:00',\n",
       " '14:30:00',\n",
       " '15:00:00',\n",
       " '15:30:00',\n",
       " '16:00:00',\n",
       " '16:30:00',\n",
       " '17:00:00',\n",
       " '17:30:00',\n",
       " '18:00:00',\n",
       " '18:30:00',\n",
       " '19:00:00',\n",
       " '19:30:00',\n",
       " '20:00:00',\n",
       " '20:30:00',\n",
       " '21:00:00',\n",
       " '21:30:00',\n",
       " '22:00:00',\n",
       " '22:30:00',\n",
       " '23:00:00',\n",
       " '23:30:00',\n",
       " 'Date']"
      ]
     },
     "execution_count": 26,
     "metadata": {},
     "output_type": "execute_result"
    }
   ],
   "source": [
    "li=[]\n",
    "for i in data_frames_4[0].columns:\n",
    "    li.append(str(i))\n",
    "li"
   ]
  },
  {
   "cell_type": "code",
   "execution_count": 27,
   "id": "095a1739",
   "metadata": {},
   "outputs": [
    {
     "data": {
      "text/plain": [
       "['00:00:00',\n",
       " '00:30:00',\n",
       " '01:00:00',\n",
       " '01:30:00',\n",
       " '02:00:00',\n",
       " '02:30:00',\n",
       " '03:00:00',\n",
       " '03:30:00',\n",
       " '04:00:00',\n",
       " '04:30:00',\n",
       " '05:00:00',\n",
       " '05:30:00',\n",
       " '06:00:00',\n",
       " '06:30:00',\n",
       " '07:00:00',\n",
       " '07:30:00',\n",
       " '08:00:00',\n",
       " '08:30:00',\n",
       " '09:00:00',\n",
       " '09:30:00',\n",
       " '10:00:00',\n",
       " '10:30:00',\n",
       " '11:00:00',\n",
       " '11:30:00',\n",
       " '12:00:00',\n",
       " '12:30:00',\n",
       " '13:00:00',\n",
       " '13:30:00',\n",
       " '14:00:00',\n",
       " '14:30:00',\n",
       " '15:00:00',\n",
       " '15:30:00',\n",
       " '16:00:00',\n",
       " '16:30:00',\n",
       " '17:00:00',\n",
       " '17:30:00',\n",
       " '18:00:00',\n",
       " '18:30:00',\n",
       " '19:00:00',\n",
       " '19:30:00',\n",
       " '20:00:00',\n",
       " '20:30:00',\n",
       " '21:00:00',\n",
       " '21:30:00',\n",
       " '22:00:00',\n",
       " '22:30:00',\n",
       " '23:00:00',\n",
       " '23:30:00']"
      ]
     },
     "execution_count": 27,
     "metadata": {},
     "output_type": "execute_result"
    }
   ],
   "source": [
    "li.remove('Date')\n",
    "li.remove('Power_Plant')\n",
    "li"
   ]
  },
  {
   "cell_type": "code",
   "execution_count": 28,
   "id": "d48eff6c",
   "metadata": {},
   "outputs": [
    {
     "data": {
      "text/plain": [
       "['00:00:00',\n",
       " '00:30:00',\n",
       " '01:00:00',\n",
       " '01:30:00',\n",
       " '02:00:00',\n",
       " '02:30:00',\n",
       " '03:00:00',\n",
       " '03:30:00',\n",
       " '04:00:00',\n",
       " '04:30:00',\n",
       " '05:00:00',\n",
       " '05:30:00',\n",
       " '06:00:00',\n",
       " '06:30:00',\n",
       " '07:00:00',\n",
       " '07:30:00',\n",
       " '08:00:00',\n",
       " '08:30:00',\n",
       " '09:00:00',\n",
       " '09:30:00',\n",
       " '10:00:00',\n",
       " '10:30:00',\n",
       " '11:00:00',\n",
       " '11:30:00',\n",
       " '12:00:00',\n",
       " '12:30:00',\n",
       " '13:00:00',\n",
       " '13:30:00',\n",
       " '14:00:00',\n",
       " '14:30:00',\n",
       " '15:00:00',\n",
       " '15:30:00',\n",
       " '16:00:00',\n",
       " '16:30:00',\n",
       " '17:00:00',\n",
       " '17:30:00',\n",
       " '18:00:00',\n",
       " '18:30:00',\n",
       " '19:00:00',\n",
       " '19:30:00',\n",
       " '20:00:00',\n",
       " '20:30:00',\n",
       " '21:00:00',\n",
       " '21:30:00',\n",
       " '22:00:00',\n",
       " '22:30:00',\n",
       " '23:00:00',\n",
       " '23:30:00']"
      ]
     },
     "execution_count": 28,
     "metadata": {},
     "output_type": "execute_result"
    }
   ],
   "source": [
    "li"
   ]
  },
  {
   "cell_type": "markdown",
   "id": "a6fb22e0",
   "metadata": {},
   "source": [
    "## Check skewness (by histograms)"
   ]
  },
  {
   "cell_type": "code",
   "execution_count": 40,
   "id": "3fd1d4ca",
   "metadata": {},
   "outputs": [
    {
     "name": "stdout",
     "output_type": "stream",
     "text": [
      "00:00:00\n"
     ]
    },
    {
     "data": {
      "image/png": "[encoded data removed]",
      "text/plain": [
       "<Figure size 432x288 with 1 Axes>"
      ]
     },
     "metadata": {
      "needs_background": "light"
     },
     "output_type": "display_data"
    },
    {
     "name": "stdout",
     "output_type": "stream",
     "text": [
      "00:30:00\n"
     ]
    },
    {
     "data": {
      "image/png": "[encoded data removed]",
      "text/plain": [
       "<Figure size 432x288 with 1 Axes>"
      ]
     },
     "metadata": {
      "needs_background": "light"
     },
     "output_type": "display_data"
    },
    {
     "name": "stdout",
     "output_type": "stream",
     "text": [
      "01:00:00\n"
     ]
    },
    {
     "data": {
      "image/png": "[encoded data removed]",
      "text/plain": [
       "<Figure size 432x288 with 1 Axes>"
      ]
     },
     "metadata": {
      "needs_background": "light"
     },
     "output_type": "display_data"
    },
    {
     "name": "stdout",
     "output_type": "stream",
     "text": [
      "01:30:00\n"
     ]
    },
    {
     "data": {
      "image/png": "[encoded data removed]",
      "text/plain": [
       "<Figure size 432x288 with 1 Axes>"
      ]
     },
     "metadata": {
      "needs_background": "light"
     },
     "output_type": "display_data"
    },
    {
     "name": "stdout",
     "output_type": "stream",
     "text": [
      "02:00:00\n"
     ]
    },
    {
     "data": {
      "image/png": "[encoded data removed]",
      "text/plain": [
       "<Figure size 432x288 with 1 Axes>"
      ]
     },
     "metadata": {
      "needs_background": "light"
     },
     "output_type": "display_data"
    },
    {
     "name": "stdout",
     "output_type": "stream",
     "text": [
      "02:30:00\n"
     ]
    },
    {
     "data": {
      "image/png": "[encoded data removed]",
      "text/plain": [
       "<Figure size 432x288 with 1 Axes>"
      ]
     },
     "metadata": {
      "needs_background": "light"
     },
     "output_type": "display_data"
    },
    {
     "name": "stdout",
     "output_type": "stream",
     "text": [
      "03:00:00\n"
     ]
    },
    {
     "data": {
      "image/png": "[encoded data removed]",
      "text/plain": [
       "<Figure size 432x288 with 1 Axes>"
      ]
     },
     "metadata": {
      "needs_background": "light"
     },
     "output_type": "display_data"
    },
    {
     "name": "stdout",
     "output_type": "stream",
     "text": [
      "03:30:00\n"
     ]
    },
    {
     "data": {
      "image/png": "[encoded data removed]",
      "text/plain": [
       "<Figure size 432x288 with 1 Axes>"
      ]
     },
     "metadata": {
      "needs_background": "light"
     },
     "output_type": "display_data"
    },
    {
     "name": "stdout",
     "output_type": "stream",
     "text": [
      "04:00:00\n"
     ]
    },
    {
     "data": {
      "image/png": "[encoded data removed]",
      "text/plain": [
       "<Figure size 432x288 with 1 Axes>"
      ]
     },
     "metadata": {
      "needs_background": "light"
     },
     "output_type": "display_data"
    },
    {
     "name": "stdout",
     "output_type": "stream",
     "text": [
      "04:30:00\n"
     ]
    },
    {
     "data": {
      "image/png": "[encoded data removed]",
      "text/plain": [
       "<Figure size 432x288 with 1 Axes>"
      ]
     },
     "metadata": {
      "needs_background": "light"
     },
     "output_type": "display_data"
    },
    {
     "name": "stdout",
     "output_type": "stream",
     "text": [
      "05:00:00\n"
     ]
    },
    {
     "data": {
      "image/png": "[encoded data removed]",
      "text/plain": [
       "<Figure size 432x288 with 1 Axes>"
      ]
     },
     "metadata": {
      "needs_background": "light"
     },
     "output_type": "display_data"
    },
    {
     "name": "stdout",
     "output_type": "stream",
     "text": [
      "05:30:00\n"
     ]
    },
    {
     "data": {
      "image/png": "[encoded data removed]",
      "text/plain": [
       "<Figure size 432x288 with 1 Axes>"
      ]
     },
     "metadata": {
      "needs_background": "light"
     },
     "output_type": "display_data"
    },
    {
     "name": "stdout",
     "output_type": "stream",
     "text": [
      "06:00:00\n"
     ]
    },
    {
     "data": {
      "image/png": "[encoded data removed]",
      "text/plain": [
       "<Figure size 432x288 with 1 Axes>"
      ]
     },
     "metadata": {
      "needs_background": "light"
     },
     "output_type": "display_data"
    },
    {
     "name": "stdout",
     "output_type": "stream",
     "text": [
      "06:30:00\n"
     ]
    },
    {
     "data": {
      "image/png": "[encoded data removed]",
      "text/plain": [
       "<Figure size 432x288 with 1 Axes>"
      ]
     },
     "metadata": {
      "needs_background": "light"
     },
     "output_type": "display_data"
    },
    {
     "name": "stdout",
     "output_type": "stream",
     "text": [
      "07:00:00\n"
     ]
    },
    {
     "data": {
      "image/png": "[encoded data removed]",
      "text/plain": [
       "<Figure size 432x288 with 1 Axes>"
      ]
     },
     "metadata": {
      "needs_background": "light"
     },
     "output_type": "display_data"
    },
    {
     "name": "stdout",
     "output_type": "stream",
     "text": [
      "07:30:00\n"
     ]
    },
    {
     "data": {
      "image/png": "[encoded data removed]",
      "text/plain": [
       "<Figure size 432x288 with 1 Axes>"
      ]
     },
     "metadata": {
      "needs_background": "light"
     },
     "output_type": "display_data"
    },
    {
     "name": "stdout",
     "output_type": "stream",
     "text": [
      "08:00:00\n"
     ]
    },
    {
     "data": {
      "image/png": "[encoded data removed]",
      "text/plain": [
       "<Figure size 432x288 with 1 Axes>"
      ]
     },
     "metadata": {
      "needs_background": "light"
     },
     "output_type": "display_data"
    },
    {
     "name": "stdout",
     "output_type": "stream",
     "text": [
      "08:30:00\n"
     ]
    },
    {
     "data": {
      "image/png": "[encoded data removed]",
      "text/plain": [
       "<Figure size 432x288 with 1 Axes>"
      ]
     },
     "metadata": {
      "needs_background": "light"
     },
     "output_type": "display_data"
    },
    {
     "name": "stdout",
     "output_type": "stream",
     "text": [
      "09:00:00\n"
     ]
    },
    {
     "data": {
      "image/png": "[encoded data removed]",
      "text/plain": [
       "<Figure size 432x288 with 1 Axes>"
      ]
     },
     "metadata": {
      "needs_background": "light"
     },
     "output_type": "display_data"
    },
    {
     "name": "stdout",
     "output_type": "stream",
     "text": [
      "09:30:00\n"
     ]
    },
    {
     "data": {
      "image/png": "[encoded data removed]",
      "text/plain": [
       "<Figure size 432x288 with 1 Axes>"
      ]
     },
     "metadata": {
      "needs_background": "light"
     },
     "output_type": "display_data"
    },
    {
     "name": "stdout",
     "output_type": "stream",
     "text": [
      "10:00:00\n"
     ]
    },
    {
     "data": {
      "image/png": "[encoded data removed]",
      "text/plain": [
       "<Figure size 432x288 with 1 Axes>"
      ]
     },
     "metadata": {
      "needs_background": "light"
     },
     "output_type": "display_data"
    },
    {
     "name": "stdout",
     "output_type": "stream",
     "text": [
      "10:30:00\n"
     ]
    },
    {
     "data": {
      "image/png": "[encoded data removed]",
      "text/plain": [
       "<Figure size 432x288 with 1 Axes>"
      ]
     },
     "metadata": {
      "needs_background": "light"
     },
     "output_type": "display_data"
    },
    {
     "name": "stdout",
     "output_type": "stream",
     "text": [
      "11:00:00\n"
     ]
    },
    {
     "data": {
      "image/png": "[encoded data removed]",
      "text/plain": [
       "<Figure size 432x288 with 1 Axes>"
      ]
     },
     "metadata": {
      "needs_background": "light"
     },
     "output_type": "display_data"
    },
    {
     "name": "stdout",
     "output_type": "stream",
     "text": [
      "11:30:00\n"
     ]
    },
    {
     "data": {
      "image/png": "[encoded data removed]",
      "text/plain": [
       "<Figure size 432x288 with 1 Axes>"
      ]
     },
     "metadata": {
      "needs_background": "light"
     },
     "output_type": "display_data"
    },
    {
     "name": "stdout",
     "output_type": "stream",
     "text": [
      "12:00:00\n"
     ]
    },
    {
     "data": {
      "image/png": "[encoded data removed]",
      "text/plain": [
       "<Figure size 432x288 with 1 Axes>"
      ]
     },
     "metadata": {
      "needs_background": "light"
     },
     "output_type": "display_data"
    },
    {
     "name": "stdout",
     "output_type": "stream",
     "text": [
      "12:30:00\n"
     ]
    },
    {
     "data": {
      "image/png": "[encoded data removed]",
      "text/plain": [
       "<Figure size 432x288 with 1 Axes>"
      ]
     },
     "metadata": {
      "needs_background": "light"
     },
     "output_type": "display_data"
    },
    {
     "name": "stdout",
     "output_type": "stream",
     "text": [
      "13:00:00\n"
     ]
    },
    {
     "data": {
      "image/png": "[encoded data removed]",
      "text/plain": [
       "<Figure size 432x288 with 1 Axes>"
      ]
     },
     "metadata": {
      "needs_background": "light"
     },
     "output_type": "display_data"
    },
    {
     "name": "stdout",
     "output_type": "stream",
     "text": [
      "13:30:00\n"
     ]
    },
    {
     "data": {
      "image/png": "[encoded data removed]",
      "text/plain": [
       "<Figure size 432x288 with 1 Axes>"
      ]
     },
     "metadata": {
      "needs_background": "light"
     },
     "output_type": "display_data"
    },
    {
     "name": "stdout",
     "output_type": "stream",
     "text": [
      "14:00:00\n"
     ]
    },
    {
     "data": {
      "image/png": "[encoded data removed]",
      "text/plain": [
       "<Figure size 432x288 with 1 Axes>"
      ]
     },
     "metadata": {
      "needs_background": "light"
     },
     "output_type": "display_data"
    },
    {
     "name": "stdout",
     "output_type": "stream",
     "text": [
      "14:30:00\n"
     ]
    },
    {
     "data": {
      "image/png": "[encoded data removed]",
      "text/plain": [
       "<Figure size 432x288 with 1 Axes>"
      ]
     },
     "metadata": {
      "needs_background": "light"
     },
     "output_type": "display_data"
    },
    {
     "name": "stdout",
     "output_type": "stream",
     "text": [
      "15:00:00\n"
     ]
    },
    {
     "data": {
      "image/png": "[encoded data removed]",
      "text/plain": [
       "<Figure size 432x288 with 1 Axes>"
      ]
     },
     "metadata": {
      "needs_background": "light"
     },
     "output_type": "display_data"
    },
    {
     "name": "stdout",
     "output_type": "stream",
     "text": [
      "15:30:00\n"
     ]
    },
    {
     "data": {
      "image/png": "[encoded data removed]",
      "text/plain": [
       "<Figure size 432x288 with 1 Axes>"
      ]
     },
     "metadata": {
      "needs_background": "light"
     },
     "output_type": "display_data"
    },
    {
     "name": "stdout",
     "output_type": "stream",
     "text": [
      "16:00:00\n"
     ]
    },
    {
     "data": {
      "image/png": "[encoded data removed]",
      "text/plain": [
       "<Figure size 432x288 with 1 Axes>"
      ]
     },
     "metadata": {
      "needs_background": "light"
     },
     "output_type": "display_data"
    },
    {
     "name": "stdout",
     "output_type": "stream",
     "text": [
      "16:30:00\n"
     ]
    },
    {
     "data": {
      "image/png": "[encoded data removed]",
      "text/plain": [
       "<Figure size 432x288 with 1 Axes>"
      ]
     },
     "metadata": {
      "needs_background": "light"
     },
     "output_type": "display_data"
    },
    {
     "name": "stdout",
     "output_type": "stream",
     "text": [
      "17:00:00\n"
     ]
    },
    {
     "data": {
      "image/png": "[encoded data removed]",
      "text/plain": [
       "<Figure size 432x288 with 1 Axes>"
      ]
     },
     "metadata": {
      "needs_background": "light"
     },
     "output_type": "display_data"
    },
    {
     "name": "stdout",
     "output_type": "stream",
     "text": [
      "17:30:00\n"
     ]
    },
    {
     "data": {
      "image/png": "[encoded data removed]",
      "text/plain": [
       "<Figure size 432x288 with 1 Axes>"
      ]
     },
     "metadata": {
      "needs_background": "light"
     },
     "output_type": "display_data"
    },
    {
     "name": "stdout",
     "output_type": "stream",
     "text": [
      "18:00:00\n"
     ]
    },
    {
     "data": {
      "image/png": "[encoded data removed]",
      "text/plain": [
       "<Figure size 432x288 with 1 Axes>"
      ]
     },
     "metadata": {
      "needs_background": "light"
     },
     "output_type": "display_data"
    },
    {
     "name": "stdout",
     "output_type": "stream",
     "text": [
      "18:30:00\n"
     ]
    },
    {
     "data": {
      "image/png": "[encoded data removed]",
      "text/plain": [
       "<Figure size 432x288 with 1 Axes>"
      ]
     },
     "metadata": {
      "needs_background": "light"
     },
     "output_type": "display_data"
    },
    {
     "name": "stdout",
     "output_type": "stream",
     "text": [
      "19:00:00\n"
     ]
    },
    {
     "data": {
      "image/png": "[encoded data removed]",
      "text/plain": [
       "<Figure size 432x288 with 1 Axes>"
      ]
     },
     "metadata": {
      "needs_background": "light"
     },
     "output_type": "display_data"
    },
    {
     "name": "stdout",
     "output_type": "stream",
     "text": [
      "19:30:00\n"
     ]
    },
    {
     "data": {
      "image/png": "[encoded data removed]",
      "text/plain": [
       "<Figure size 432x288 with 1 Axes>"
      ]
     },
     "metadata": {
      "needs_background": "light"
     },
     "output_type": "display_data"
    },
    {
     "name": "stdout",
     "output_type": "stream",
     "text": [
      "20:00:00\n"
     ]
    },
    {
     "data": {
      "image/png": "[encoded data removed]",
      "text/plain": [
       "<Figure size 432x288 with 1 Axes>"
      ]
     },
     "metadata": {
      "needs_background": "light"
     },
     "output_type": "display_data"
    },
    {
     "name": "stdout",
     "output_type": "stream",
     "text": [
      "20:30:00\n"
     ]
    },
    {
     "data": {
      "image/png": "[encoded data removed]",
      "text/plain": [
       "<Figure size 432x288 with 1 Axes>"
      ]
     },
     "metadata": {
      "needs_background": "light"
     },
     "output_type": "display_data"
    },
    {
     "name": "stdout",
     "output_type": "stream",
     "text": [
      "21:00:00\n"
     ]
    },
    {
     "data": {
      "image/png": "[encoded data removed]",
      "text/plain": [
       "<Figure size 432x288 with 1 Axes>"
      ]
     },
     "metadata": {
      "needs_background": "light"
     },
     "output_type": "display_data"
    },
    {
     "name": "stdout",
     "output_type": "stream",
     "text": [
      "21:30:00\n"
     ]
    },
    {
     "data": {
      "image/png": "[encoded data removed]",
      "text/plain": [
       "<Figure size 432x288 with 1 Axes>"
      ]
     },
     "metadata": {
      "needs_background": "light"
     },
     "output_type": "display_data"
    },
    {
     "name": "stdout",
     "output_type": "stream",
     "text": [
      "22:00:00\n"
     ]
    },
    {
     "data": {
      "image/png": "[encoded data removed]",
      "text/plain": [
       "<Figure size 432x288 with 1 Axes>"
      ]
     },
     "metadata": {
      "needs_background": "light"
     },
     "output_type": "display_data"
    },
    {
     "name": "stdout",
     "output_type": "stream",
     "text": [
      "22:30:00\n"
     ]
    },
    {
     "data": {
      "image/png": "[encoded data removed]",
      "text/plain": [
       "<Figure size 432x288 with 1 Axes>"
      ]
     },
     "metadata": {
      "needs_background": "light"
     },
     "output_type": "display_data"
    },
    {
     "name": "stdout",
     "output_type": "stream",
     "text": [
      "23:00:00\n"
     ]
    },
    {
     "data": {
      "image/png": "[encoded data removed]",
      "text/plain": [
       "<Figure size 432x288 with 1 Axes>"
      ]
     },
     "metadata": {
      "needs_background": "light"
     },
     "output_type": "display_data"
    },
    {
     "name": "stdout",
     "output_type": "stream",
     "text": [
      "23:30:00\n"
     ]
    },
    {
     "data": {
      "image/png": "[encoded data removed]",
      "text/plain": [
       "<Figure size 432x288 with 1 Axes>"
      ]
     },
     "metadata": {
      "needs_background": "light"
     },
     "output_type": "display_data"
    }
   ],
   "source": [
    "#all the time frames histograms across all the plants....\n",
    "for i in range(len(li)):\n",
    "    x=np.array(list(data_frames_4[0].iloc[:,i+1]))\n",
    "    print(li[i])\n",
    "    plt.hist(x,color='green',bins=15)\n",
    "    plt.show()"
   ]
  },
  {
   "cell_type": "code",
   "execution_count": 36,
   "id": "78d8f37d",
   "metadata": {},
   "outputs": [
    {
     "data": {
      "text/plain": [
       "2          0\n",
       "3          0\n",
       "4         10\n",
       "5     60.636\n",
       "6     58.347\n",
       "7          0\n",
       "8     31.376\n",
       "9          0\n",
       "10         0\n",
       "11         0\n",
       "12    26.222\n",
       "13         0\n",
       "14         0\n",
       "15         0\n",
       "16       270\n",
       "17       270\n",
       "18       259\n",
       "19         0\n",
       "20         0\n",
       "21         0\n",
       "22        54\n",
       "23        63\n",
       "24      32.9\n",
       "25        45\n",
       "26         0\n",
       "27     37.18\n",
       "28         0\n",
       "29    8.3384\n",
       "30         0\n",
       "31         0\n",
       "32         0\n",
       "33         0\n",
       "34         0\n",
       "35        85\n",
       "36         0\n",
       "37        50\n",
       "38         0\n",
       "39         0\n",
       "40         0\n",
       "41         0\n",
       "42         0\n",
       "43        17\n",
       "44         0\n",
       "45        58\n",
       "Name: 00:30:00, dtype: object"
      ]
     },
     "execution_count": 36,
     "metadata": {},
     "output_type": "execute_result"
    }
   ],
   "source": [
    "data_frames_4[0].iloc[:,2]"
   ]
  },
  {
   "cell_type": "markdown",
   "id": "48eb8d5c",
   "metadata": {},
   "source": [
    "## mode"
   ]
  },
  {
   "cell_type": "code",
   "execution_count": 43,
   "id": "184c9cbd",
   "metadata": {},
   "outputs": [
    {
     "name": "stdout",
     "output_type": "stream",
     "text": [
      "0    0\n",
      "dtype: object\n",
      "0    0\n",
      "dtype: object\n",
      "0    0\n",
      "dtype: object\n",
      "0    0\n",
      "dtype: object\n",
      "0    0\n",
      "dtype: object\n",
      "0    0\n",
      "dtype: object\n",
      "0    0\n",
      "dtype: object\n",
      "0    0\n",
      "dtype: object\n",
      "0    0\n",
      "dtype: object\n",
      "0    0\n",
      "dtype: object\n",
      "0    0\n",
      "dtype: object\n",
      "0    0\n",
      "dtype: object\n",
      "0    0\n",
      "dtype: object\n",
      "0    0\n",
      "dtype: object\n",
      "0    0\n",
      "dtype: object\n",
      "0    0\n",
      "dtype: object\n",
      "0    0\n",
      "dtype: object\n",
      "0    0\n",
      "dtype: object\n",
      "0    0\n",
      "dtype: object\n",
      "0    0\n",
      "dtype: object\n",
      "0    0\n",
      "dtype: object\n",
      "0    0\n",
      "dtype: object\n",
      "0    0\n",
      "dtype: object\n",
      "0    0\n",
      "dtype: object\n",
      "0    0\n",
      "dtype: object\n",
      "0    0\n",
      "dtype: object\n",
      "0    0\n",
      "dtype: object\n",
      "0    0\n",
      "dtype: object\n",
      "0    0\n",
      "dtype: object\n",
      "0    0\n",
      "dtype: object\n",
      "0    0\n",
      "dtype: object\n",
      "0    0\n",
      "dtype: object\n",
      "0    0\n",
      "dtype: object\n",
      "0    0\n",
      "dtype: object\n",
      "0    0\n",
      "dtype: object\n",
      "0    0\n",
      "dtype: object\n",
      "0    0\n",
      "dtype: object\n",
      "0    0\n",
      "dtype: object\n",
      "0    0\n",
      "dtype: object\n",
      "0    0\n",
      "dtype: object\n",
      "0    0\n",
      "dtype: object\n",
      "0    0\n",
      "dtype: object\n",
      "0    0\n",
      "dtype: object\n",
      "0    0\n",
      "dtype: object\n",
      "0    0\n",
      "dtype: object\n",
      "0    0\n",
      "dtype: object\n",
      "0    0\n",
      "dtype: object\n",
      "0    0\n",
      "dtype: object\n"
     ]
    }
   ],
   "source": [
    "#mode in each time frame(across the plants) in the first sheet\n",
    "for i in range(len(li)):\n",
    "    print(data_frames_4[0].iloc[:,i+1].mode()) "
   ]
  },
  {
   "cell_type": "markdown",
   "id": "e234aa67",
   "metadata": {},
   "source": [
    "## Standard Deviation"
   ]
  },
  {
   "cell_type": "code",
   "execution_count": 41,
   "id": "e482e118",
   "metadata": {},
   "outputs": [
    {
     "name": "stderr",
     "output_type": "stream",
     "text": [
      "C:\\Users\\RAVI\\AppData\\Local\\Temp/ipykernel_3224/1673537762.py:2: FutureWarning: Dropping of nuisance columns in DataFrame reductions (with 'numeric_only=None') is deprecated; in a future version this will raise TypeError.  Select only valid columns before calling the reduction.\n",
      "  data_frames_4[0].std()\n"
     ]
    },
    {
     "data": {
      "text/plain": [
       "1\n",
       "00:00:00    66.185536\n",
       "00:30:00    68.146671\n",
       "01:00:00    68.957486\n",
       "01:30:00    69.020986\n",
       "02:00:00    68.989927\n",
       "02:30:00    69.119190\n",
       "03:00:00    69.038001\n",
       "03:30:00    68.952220\n",
       "04:00:00    68.602579\n",
       "04:30:00    68.878650\n",
       "05:00:00    68.544803\n",
       "05:30:00    70.095935\n",
       "06:00:00    70.787979\n",
       "06:30:00    70.535710\n",
       "07:00:00    70.502500\n",
       "07:30:00    70.330186\n",
       "08:00:00    70.031936\n",
       "08:30:00    69.710524\n",
       "09:00:00    69.566016\n",
       "09:30:00    69.386984\n",
       "10:00:00    69.307813\n",
       "10:30:00    69.358681\n",
       "11:00:00    69.573124\n",
       "11:30:00    69.132924\n",
       "12:00:00    69.240464\n",
       "12:30:00    69.783750\n",
       "13:00:00    69.467612\n",
       "13:30:00    69.427958\n",
       "14:00:00    69.479924\n",
       "14:30:00    69.367498\n",
       "15:00:00    69.045772\n",
       "15:30:00    69.198987\n",
       "16:00:00    69.136958\n",
       "16:30:00    69.748683\n",
       "17:00:00    69.723096\n",
       "17:30:00    70.253042\n",
       "18:00:00    70.807271\n",
       "18:30:00    72.246086\n",
       "19:00:00    71.791492\n",
       "19:30:00    72.248411\n",
       "20:00:00    72.674387\n",
       "20:30:00    72.448135\n",
       "21:00:00    71.571592\n",
       "21:30:00    72.363074\n",
       "22:00:00    72.171370\n",
       "22:30:00    69.555062\n",
       "23:00:00    69.916778\n",
       "23:30:00    70.075170\n",
       "dtype: float64"
      ]
     },
     "execution_count": 41,
     "metadata": {},
     "output_type": "execute_result"
    }
   ],
   "source": [
    "#standard deviation in all the columns....\n",
    "data_frames_4[0].std()"
   ]
  }
 ],
 "metadata": {
  "kernelspec": {
   "display_name": "Python 3 (ipykernel)",
   "language": "python",
   "name": "python3"
  },
  "language_info": {
   "codemirror_mode": {
    "name": "ipython",
    "version": 3
   },
   "file_extension": ".py",
   "mimetype": "text/x-python",
   "name": "python",
   "nbconvert_exporter": "python",
   "pygments_lexer": "ipython3",
   "version": "3.8.12"
  }
 },
 "nbformat": 4,
 "nbformat_minor": 5
}
