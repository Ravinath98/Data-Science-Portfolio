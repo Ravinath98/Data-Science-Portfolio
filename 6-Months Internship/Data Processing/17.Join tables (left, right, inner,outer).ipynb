{
 "cells": [
  {
   "cell_type": "code",
   "execution_count": 1,
   "id": "ef810328",
   "metadata": {},
   "outputs": [],
   "source": [
    "import mysql.connector #import the mysql connector..."
   ]
  },
  {
   "cell_type": "code",
   "execution_count": 2,
   "id": "8bde1728",
   "metadata": {},
   "outputs": [],
   "source": [
    "#CONNECT TO THE DATABASE\n",
    "mydb=mysql.connector.connect(\n",
    "    host=\"localhost\",\n",
    "    user=\"root\",\n",
    "    #password=\"\"\n",
    "    database=\"hospital\"\n",
    ")"
   ]
  },
  {
   "cell_type": "code",
   "execution_count": 3,
   "id": "df671a31",
   "metadata": {},
   "outputs": [],
   "source": [
    "mycursor=mydb.cursor(buffered=True)"
   ]
  },
  {
   "cell_type": "code",
   "execution_count": 4,
   "id": "5f09ccb1",
   "metadata": {},
   "outputs": [],
   "source": [
    "#create the prescribes table(as in : https://www.w3resource.com/sql-exercises/hospital-database-exercise/index.php)\n",
    "mycursor.execute(\"CREATE TABLE prescribes (PhysicianID INT(20) NOT NULL,PatientID INT(20) NOT NULL,MedicationID INT(20) NOT NULL,Date datetime NOT NULL,AppointmentID INT(20) DEFAULT NULL,Dose VARCHAR(50) NOT NULL,PRIMARY KEY (PhysicianID,PatientID,MedicationID,Date))\")"
   ]
  },
  {
   "cell_type": "code",
   "execution_count": 5,
   "id": "dcc9306b",
   "metadata": {},
   "outputs": [],
   "source": [
    "#create the physician table(as in : https://www.w3resource.com/sql-exercises/hospital-database-exercise/index.php)\n",
    "mycursor.execute(\"CREATE TABLE physician (EmployeeID INT(20) NOT NULL,Name VARCHAR(20) NOT NULL,Position VARCHAR(50) NOT NULL,SSN INT(20) NOT NULL,PRIMARY KEY (EmployeeID))\")"
   ]
  },
  {
   "cell_type": "code",
   "execution_count": 6,
   "id": "83d41957",
   "metadata": {},
   "outputs": [],
   "source": [
    "#insert data to prescribes table\n",
    "mycursor.execute(\"INSERT INTO prescribes (PhysicianID,PatientID,MedicationID, Date, AppointmentID, Dose) VALUES(1, 100000001, 1, '2021-12-24 10:47:00', 13216584, '5'),(9, 100000004, 2, '2021-12-27 10:53:00', 86213939, '10'),(9, 100000004, 2, '2021-12-30 16:53:00', 76814931, '5'),(3, 100000005, 3, '2021-12-31 10:50:00', 96814931, '3'),(4, 100000006, 4, '2021-12-31 14:40:00', 36814931, '4'),(5, 100000007, 5, '2021-12-31 16:40:00', 16814931, '5')\")"
   ]
  },
  {
   "cell_type": "code",
   "execution_count": 7,
   "id": "a4190a43",
   "metadata": {},
   "outputs": [],
   "source": [
    "#insert data to physician table\n",
    "mycursor.execute(\"INSERT INTO physician (EmployeeID, Name, Position, SSN) VALUES (1, 'John Dorian', 'Staff Internist', 111111111),(2, 'Elliot Reid', 'Attending Physician', 222222222),(3, 'Christopher Turk', 'Surgical Attending Physician', 333333333),(4, 'Percival Cox', 'Senior Attending Physician', 444444444),(5, 'Bob Kelso', 'Head Chief of Medicine', 555555555),(6, 'Todd Quinlan', 'Surgical Attending Physician', 666666666),(7, 'John Wen', 'Surgical Attending Physician', 777777777),(8, 'Keith Dudemeister', 'MD Resident', 888888888),(9, 'Molly Clock', 'Attending Psychiatrist', 999999999)\")"
   ]
  },
  {
   "cell_type": "code",
   "execution_count": 8,
   "id": "436d7f7f",
   "metadata": {},
   "outputs": [
    {
     "name": "stdout",
     "output_type": "stream",
     "text": [
      "(1, 'John Dorian')\n",
      "(3, 'Christopher Turk')\n",
      "(4, 'Percival Cox')\n",
      "(5, 'Bob Kelso')\n",
      "(9, 'Molly Clock')\n",
      "(9, 'Molly Clock')\n"
     ]
    }
   ],
   "source": [
    "#left join\n",
    "mycursor.execute(\"SELECT prescribes.PhysicianID,physician.Name from prescribes LEFT JOIN physician ON prescribes.PhysicianID=physician.EmployeeID\")\n",
    "result = mycursor.fetchall()\n",
    "for i in result:\n",
    "  print(i)"
   ]
  },
  {
   "cell_type": "code",
   "execution_count": 9,
   "id": "1231164b",
   "metadata": {},
   "outputs": [
    {
     "name": "stdout",
     "output_type": "stream",
     "text": [
      "(1, 'John Dorian')\n",
      "(None, 'Elliot Reid')\n",
      "(3, 'Christopher Turk')\n",
      "(4, 'Percival Cox')\n",
      "(5, 'Bob Kelso')\n",
      "(None, 'Todd Quinlan')\n",
      "(None, 'John Wen')\n",
      "(None, 'Keith Dudemeister')\n",
      "(9, 'Molly Clock')\n",
      "(9, 'Molly Clock')\n"
     ]
    }
   ],
   "source": [
    "#right join\n",
    "mycursor.execute(\"SELECT prescribes.PhysicianID,physician.Name from prescribes RIGHT JOIN physician ON prescribes.PhysicianID=physician.EmployeeID\")\n",
    "result = mycursor.fetchall()\n",
    "for i in result:\n",
    "  print(i)"
   ]
  },
  {
   "cell_type": "code",
   "execution_count": 10,
   "id": "5350f73b",
   "metadata": {},
   "outputs": [
    {
     "name": "stdout",
     "output_type": "stream",
     "text": [
      "(1, 'John Dorian')\n",
      "(3, 'Christopher Turk')\n",
      "(4, 'Percival Cox')\n",
      "(5, 'Bob Kelso')\n",
      "(9, 'Molly Clock')\n",
      "(9, 'Molly Clock')\n"
     ]
    }
   ],
   "source": [
    "#inner join\n",
    "mycursor.execute(\"SELECT prescribes.PhysicianID,physician.Name from prescribes INNER JOIN physician ON prescribes.PhysicianID=physician.EmployeeID\")\n",
    "result = mycursor.fetchall()\n",
    "for i in result:\n",
    "  print(i)"
   ]
  },
  {
   "cell_type": "code",
   "execution_count": 11,
   "id": "eb43bb57",
   "metadata": {},
   "outputs": [
    {
     "name": "stdout",
     "output_type": "stream",
     "text": [
      "(1, 'John Dorian')\n",
      "(3, 'Christopher Turk')\n",
      "(4, 'Percival Cox')\n",
      "(5, 'Bob Kelso')\n",
      "(9, 'Molly Clock')\n",
      "(None, 'Elliot Reid')\n",
      "(None, 'Todd Quinlan')\n",
      "(None, 'John Wen')\n",
      "(None, 'Keith Dudemeister')\n"
     ]
    }
   ],
   "source": [
    "#full join\n",
    "mycursor.execute(\"SELECT prescribes.PhysicianID,physician.Name from prescribes LEFT JOIN physician ON prescribes.PhysicianID=physician.EmployeeID UNION SELECT prescribes.PhysicianID,physician.Name from prescribes RIGHT JOIN physician ON prescribes.PhysicianID=physician.EmployeeID\")\n",
    "result = mycursor.fetchall()\n",
    "for i in result:\n",
    "  print(i)"
   ]
  }
 ],
 "metadata": {
  "kernelspec": {
   "display_name": "Python 3",
   "language": "python",
   "name": "python3"
  },
  "language_info": {
   "codemirror_mode": {
    "name": "ipython",
    "version": 3
   },
   "file_extension": ".py",
   "mimetype": "text/x-python",
   "name": "python",
   "nbconvert_exporter": "python",
   "pygments_lexer": "ipython3",
   "version": "3.5.6"
  }
 },
 "nbformat": 4,
 "nbformat_minor": 5
}
