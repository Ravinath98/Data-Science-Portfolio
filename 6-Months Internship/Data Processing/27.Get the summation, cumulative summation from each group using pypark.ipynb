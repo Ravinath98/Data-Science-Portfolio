{
 "cells": [
  {
   "cell_type": "code",
   "execution_count": 1,
   "id": "33c48357",
   "metadata": {},
   "outputs": [],
   "source": [
    "from pyspark.sql import SparkSession"
   ]
  },
  {
   "cell_type": "code",
   "execution_count": 2,
   "id": "0e65cfe9",
   "metadata": {},
   "outputs": [
    {
     "name": "stderr",
     "output_type": "stream",
     "text": [
      "C:\\Users\\RAVI\\anaconda3\\envs\\vizuamatix\\lib\\site-packages\\pyspark\\context.py:227: DeprecationWarning: Support for Python 2 and Python 3 prior to version 3.6 is deprecated as of Spark 3.0. See also the plan for dropping Python 2 support at https://spark.apache.org/news/plan-for-dropping-python-2-support.html.\n",
      "  DeprecationWarning)\n"
     ]
    }
   ],
   "source": [
    "spark=SparkSession.builder.getOrCreate()"
   ]
  },
  {
   "cell_type": "code",
   "execution_count": 3,
   "id": "04afa440",
   "metadata": {},
   "outputs": [],
   "source": [
    "df=spark.read.csv('E:\\Desktop\\Datasets\\Loan payments data.csv',header=True)"
   ]
  },
  {
   "cell_type": "code",
   "execution_count": 4,
   "id": "e4f467b0",
   "metadata": {},
   "outputs": [
    {
     "name": "stdout",
     "output_type": "stream",
     "text": [
      "+-----------+-----------+---------+-----+--------------+---------+---------------+-------------+---+--------------------+------+\n",
      "|    Loan_ID|loan_status|Principal|terms|effective_date| due_date|  paid_off_time|past_due_days|age|           education|Gender|\n",
      "+-----------+-----------+---------+-----+--------------+---------+---------------+-------------+---+--------------------+------+\n",
      "|xqd20166231|    PAIDOFF|     1000|   30|      9/8/2016|10/7/2016|9/14/2016 19:31|         null| 45|High School or Below|  male|\n",
      "|xqd20168902|    PAIDOFF|     1000|   30|      9/8/2016|10/7/2016| 10/7/2016 9:00|         null| 50|            Bechalor|female|\n",
      "|xqd20160003|    PAIDOFF|     1000|   30|      9/8/2016|10/7/2016|9/25/2016 16:58|         null| 33|            Bechalor|female|\n",
      "|xqd20160004|    PAIDOFF|     1000|   15|      9/8/2016|9/22/2016|9/22/2016 20:00|         null| 27|             college|  male|\n",
      "|xqd20160005|    PAIDOFF|     1000|   30|      9/9/2016|10/8/2016|9/23/2016 21:36|         null| 28|             college|female|\n",
      "|xqd20160706|    PAIDOFF|      300|    7|      9/9/2016|9/15/2016| 9/9/2016 13:45|         null| 35|     Master or Above|  male|\n",
      "|xqd20160007|    PAIDOFF|     1000|   30|      9/9/2016|10/8/2016|10/7/2016 23:07|         null| 29|             college|  male|\n",
      "|xqd20160008|    PAIDOFF|     1000|   30|      9/9/2016|10/8/2016|10/5/2016 20:33|         null| 36|             college|  male|\n",
      "|xqd20160909|    PAIDOFF|     1000|   30|      9/9/2016|10/8/2016|10/8/2016 16:00|         null| 28|             college|  male|\n",
      "|xqd20160010|    PAIDOFF|      800|   15|     9/10/2016|9/24/2016|9/24/2016 13:00|         null| 26|             college|  male|\n",
      "|xqd20160011|    PAIDOFF|      300|    7|     9/10/2016|9/16/2016|9/11/2016 19:11|         null| 29|             college|  male|\n",
      "|xqd20160012|    PAIDOFF|     1000|   15|     9/10/2016|10/9/2016|10/9/2016 16:00|         null| 39|High School or Below|  male|\n",
      "|xqd20160013|    PAIDOFF|     1000|   30|     9/10/2016|10/9/2016|10/7/2016 23:32|         null| 26|             college|  male|\n",
      "|xqd20160014|    PAIDOFF|      900|    7|     9/10/2016|9/16/2016|9/13/2016 21:57|         null| 26|             college|female|\n",
      "|xqd20160015|    PAIDOFF|     1000|    7|     9/10/2016|9/16/2016|9/15/2016 14:27|         null| 27|High School or Below|  male|\n",
      "|xqd20160016|    PAIDOFF|      800|   15|     9/10/2016|9/24/2016|9/24/2016 16:00|         null| 26|             college|  male|\n",
      "|xqd20160017|    PAIDOFF|     1000|   30|     9/10/2016|10/9/2016|9/27/2016 14:21|         null| 40|High School or Below|  male|\n",
      "|xqd20160018|    PAIDOFF|     1000|   15|     9/10/2016|9/24/2016|9/23/2016 18:49|         null| 32|High School or Below|  male|\n",
      "|xqd20160019|    PAIDOFF|     1000|   30|     9/10/2016|10/9/2016|10/5/2016 22:05|         null| 32|High School or Below|  male|\n",
      "|xqd20160020|    PAIDOFF|      800|   30|     9/10/2016|10/9/2016| 9/23/2016 7:42|         null| 26|             college|  male|\n",
      "+-----------+-----------+---------+-----+--------------+---------+---------------+-------------+---+--------------------+------+\n",
      "only showing top 20 rows\n",
      "\n"
     ]
    }
   ],
   "source": [
    "df.show()"
   ]
  },
  {
   "cell_type": "code",
   "execution_count": 5,
   "id": "5d9af204",
   "metadata": {},
   "outputs": [],
   "source": [
    "#convert age datatype to integer.....\n",
    "df=df.withColumn(\"age\",df.age.cast('int'))"
   ]
  },
  {
   "cell_type": "code",
   "execution_count": 6,
   "id": "4d898bcc",
   "metadata": {},
   "outputs": [],
   "source": [
    "#convert Principal datatype to integer.....\n",
    "df=df.withColumn(\"Principal\",df.Principal.cast('int'))"
   ]
  },
  {
   "cell_type": "code",
   "execution_count": 7,
   "id": "41d521b6",
   "metadata": {},
   "outputs": [],
   "source": [
    "#convert Principal datatype to integer.....\n",
    "df=df.withColumn(\"terms\",df.terms.cast('int'))"
   ]
  },
  {
   "cell_type": "code",
   "execution_count": 8,
   "id": "bb12437c",
   "metadata": {},
   "outputs": [
    {
     "data": {
      "text/plain": [
       "[('Loan_ID', 'string'),\n",
       " ('loan_status', 'string'),\n",
       " ('Principal', 'int'),\n",
       " ('terms', 'int'),\n",
       " ('effective_date', 'string'),\n",
       " ('due_date', 'string'),\n",
       " ('paid_off_time', 'string'),\n",
       " ('past_due_days', 'string'),\n",
       " ('age', 'int'),\n",
       " ('education', 'string'),\n",
       " ('Gender', 'string')]"
      ]
     },
     "execution_count": 8,
     "metadata": {},
     "output_type": "execute_result"
    }
   ],
   "source": [
    "df.dtypes"
   ]
  },
  {
   "cell_type": "markdown",
   "id": "eafdb81f",
   "metadata": {},
   "source": [
    "## I will perform the summation and cumulative summation of Principal,terms and age for each group.."
   ]
  },
  {
   "cell_type": "markdown",
   "id": "c796d48d",
   "metadata": {},
   "source": [
    "### Summation"
   ]
  },
  {
   "cell_type": "code",
   "execution_count": 9,
   "id": "bfc54415",
   "metadata": {},
   "outputs": [
    {
     "name": "stdout",
     "output_type": "stream",
     "text": [
      "+--------------------+--------------+\n",
      "|           education|sum(Principal)|\n",
      "+--------------------+--------------+\n",
      "|             college|        207100|\n",
      "|     Master or Above|          2400|\n",
      "|            Bechalor|         63300|\n",
      "|High School or Below|        198800|\n",
      "+--------------------+--------------+\n",
      "\n"
     ]
    }
   ],
   "source": [
    "#summation of Principal for each education group...\n",
    "df.groupBy('education').sum('Principal').show()"
   ]
  },
  {
   "cell_type": "code",
   "execution_count": 10,
   "id": "2ad3d264",
   "metadata": {},
   "outputs": [
    {
     "name": "stdout",
     "output_type": "stream",
     "text": [
      "+------+--------------+\n",
      "|Gender|sum(Principal)|\n",
      "+------+--------------+\n",
      "|female|         72800|\n",
      "|  male|        398800|\n",
      "+------+--------------+\n",
      "\n"
     ]
    }
   ],
   "source": [
    "#summation of Principal for each Gender group...\n",
    "df.groupBy('Gender').sum('Principal').show()"
   ]
  },
  {
   "cell_type": "code",
   "execution_count": 11,
   "id": "44dcf5d1",
   "metadata": {},
   "outputs": [
    {
     "name": "stdout",
     "output_type": "stream",
     "text": [
      "+------------------+--------------+\n",
      "|       loan_status|sum(Principal)|\n",
      "+------------------+--------------+\n",
      "|        COLLECTION|         95400|\n",
      "|COLLECTION_PAIDOFF|         95700|\n",
      "|           PAIDOFF|        280500|\n",
      "+------------------+--------------+\n",
      "\n"
     ]
    }
   ],
   "source": [
    "#summation of Principal for each loan_status group...\n",
    "df.groupBy('loan_status').sum('Principal').show()"
   ]
  },
  {
   "cell_type": "code",
   "execution_count": 12,
   "id": "8cbfb8c8",
   "metadata": {},
   "outputs": [
    {
     "name": "stdout",
     "output_type": "stream",
     "text": [
      "+-----+--------------+\n",
      "|terms|sum(Principal)|\n",
      "+-----+--------------+\n",
      "|   15|        185000|\n",
      "|    7|         15800|\n",
      "|   30|        270800|\n",
      "+-----+--------------+\n",
      "\n"
     ]
    }
   ],
   "source": [
    "#summation of Principal for each terms group...\n",
    "df.groupBy('terms').sum('Principal').show()"
   ]
  },
  {
   "cell_type": "code",
   "execution_count": 13,
   "id": "1e9d1e34",
   "metadata": {},
   "outputs": [
    {
     "name": "stdout",
     "output_type": "stream",
     "text": [
      "+---+--------------+\n",
      "|age|sum(Principal)|\n",
      "+---+--------------+\n",
      "| 31|         21200|\n",
      "| 34|         24200|\n",
      "| 28|         30500|\n",
      "| 27|         36600|\n",
      "| 26|         44100|\n",
      "| 44|          3600|\n",
      "| 22|          7300|\n",
      "| 47|          2800|\n",
      "| 40|          7600|\n",
      "| 20|          4000|\n",
      "| 19|          2000|\n",
      "| 41|          4600|\n",
      "| 43|          4400|\n",
      "| 37|         17400|\n",
      "| 35|         23000|\n",
      "| 39|          9000|\n",
      "| 23|          8000|\n",
      "| 49|          1000|\n",
      "| 51|           800|\n",
      "| 50|          3800|\n",
      "+---+--------------+\n",
      "only showing top 20 rows\n",
      "\n"
     ]
    }
   ],
   "source": [
    "#summation of Principal for each age group...\n",
    "df.groupBy('age').sum('Principal').show()"
   ]
  },
  {
   "cell_type": "code",
   "execution_count": 14,
   "id": "96bffb89",
   "metadata": {},
   "outputs": [
    {
     "name": "stdout",
     "output_type": "stream",
     "text": [
      "+--------------------+----------+\n",
      "|           education|sum(terms)|\n",
      "+--------------------+----------+\n",
      "|             college|      4991|\n",
      "|     Master or Above|        44|\n",
      "|            Bechalor|      1438|\n",
      "|High School or Below|      4939|\n",
      "+--------------------+----------+\n",
      "\n"
     ]
    }
   ],
   "source": [
    "#summation of terms for each education group...\n",
    "df.groupBy('education').sum('terms').show()"
   ]
  },
  {
   "cell_type": "code",
   "execution_count": 15,
   "id": "e7ef650c",
   "metadata": {},
   "outputs": [
    {
     "name": "stdout",
     "output_type": "stream",
     "text": [
      "+------+----------+\n",
      "|Gender|sum(terms)|\n",
      "+------+----------+\n",
      "|female|      1745|\n",
      "|  male|      9667|\n",
      "+------+----------+\n",
      "\n"
     ]
    }
   ],
   "source": [
    "#summation of terms for each Gender group...\n",
    "df.groupBy('Gender').sum('terms').show()"
   ]
  },
  {
   "cell_type": "code",
   "execution_count": 16,
   "id": "4d024401",
   "metadata": {},
   "outputs": [
    {
     "name": "stdout",
     "output_type": "stream",
     "text": [
      "+------------------+----------+\n",
      "|       loan_status|sum(terms)|\n",
      "+------------------+----------+\n",
      "|        COLLECTION|      2385|\n",
      "|COLLECTION_PAIDOFF|      2392|\n",
      "|           PAIDOFF|      6635|\n",
      "+------------------+----------+\n",
      "\n"
     ]
    }
   ],
   "source": [
    "#summation of terms for each loan_status group...\n",
    "df.groupBy('loan_status').sum('terms').show()"
   ]
  },
  {
   "cell_type": "code",
   "execution_count": 17,
   "id": "edc34c9d",
   "metadata": {},
   "outputs": [
    {
     "name": "stdout",
     "output_type": "stream",
     "text": [
      "+---+----------+\n",
      "|age|sum(terms)|\n",
      "+---+----------+\n",
      "| 31|       494|\n",
      "| 34|       554|\n",
      "| 28|       780|\n",
      "| 27|       899|\n",
      "| 26|      1079|\n",
      "| 44|        90|\n",
      "| 22|       172|\n",
      "| 47|        45|\n",
      "| 40|       195|\n",
      "| 20|       105|\n",
      "| 19|        60|\n",
      "| 41|       105|\n",
      "| 43|       105|\n",
      "| 37|       442|\n",
      "| 35|       546|\n",
      "| 39|       195|\n",
      "| 23|       202|\n",
      "| 49|        30|\n",
      "| 51|        15|\n",
      "| 50|        75|\n",
      "+---+----------+\n",
      "only showing top 20 rows\n",
      "\n"
     ]
    }
   ],
   "source": [
    "#summation of terms for each age group...\n",
    "df.groupBy('age').sum('terms').show()"
   ]
  },
  {
   "cell_type": "code",
   "execution_count": 18,
   "id": "94e89e3f",
   "metadata": {},
   "outputs": [
    {
     "name": "stdout",
     "output_type": "stream",
     "text": [
      "+--------------------+--------+\n",
      "|           education|sum(age)|\n",
      "+--------------------+--------+\n",
      "|             college|    6686|\n",
      "|     Master or Above|     161|\n",
      "|            Bechalor|    2153|\n",
      "|High School or Below|    6558|\n",
      "+--------------------+--------+\n",
      "\n"
     ]
    }
   ],
   "source": [
    "#summation of age for each education group...\n",
    "df.groupBy('education').sum('age').show()"
   ]
  },
  {
   "cell_type": "code",
   "execution_count": 19,
   "id": "9efc3481",
   "metadata": {},
   "outputs": [
    {
     "name": "stdout",
     "output_type": "stream",
     "text": [
      "+------+--------+\n",
      "|Gender|sum(age)|\n",
      "+------+--------+\n",
      "|female|    2455|\n",
      "|  male|   13103|\n",
      "+------+--------+\n",
      "\n"
     ]
    }
   ],
   "source": [
    "#summation of age for each Gender group...\n",
    "df.groupBy('Gender').sum('age').show()"
   ]
  },
  {
   "cell_type": "code",
   "execution_count": 20,
   "id": "9164bb90",
   "metadata": {},
   "outputs": [
    {
     "name": "stdout",
     "output_type": "stream",
     "text": [
      "+------------------+--------+\n",
      "|       loan_status|sum(age)|\n",
      "+------------------+--------+\n",
      "|        COLLECTION|    3061|\n",
      "|COLLECTION_PAIDOFF|    3134|\n",
      "|           PAIDOFF|    9363|\n",
      "+------------------+--------+\n",
      "\n"
     ]
    }
   ],
   "source": [
    "#summation of age for each loan_status group...\n",
    "df.groupBy('loan_status').sum('age').show()"
   ]
  },
  {
   "cell_type": "code",
   "execution_count": 21,
   "id": "bf5e07d3",
   "metadata": {},
   "outputs": [
    {
     "name": "stdout",
     "output_type": "stream",
     "text": [
      "+-----+--------+\n",
      "|terms|sum(age)|\n",
      "+-----+--------+\n",
      "|   15|    6611|\n",
      "|    7|     621|\n",
      "|   30|    8326|\n",
      "+-----+--------+\n",
      "\n"
     ]
    }
   ],
   "source": [
    "#summation of age for each terms group...\n",
    "df.groupBy('terms').sum('age').show()"
   ]
  },
  {
   "cell_type": "markdown",
   "id": "e480e677",
   "metadata": {},
   "source": [
    "### cumulative summation "
   ]
  },
  {
   "cell_type": "code",
   "execution_count": 22,
   "id": "d8fae038",
   "metadata": {},
   "outputs": [
    {
     "name": "stdout",
     "output_type": "stream",
     "text": [
      "+-----------+-----------+---------+-----+--------------+---------+---------------+-------------+---+--------------------+------+\n",
      "|    Loan_ID|loan_status|Principal|terms|effective_date| due_date|  paid_off_time|past_due_days|age|           education|Gender|\n",
      "+-----------+-----------+---------+-----+--------------+---------+---------------+-------------+---+--------------------+------+\n",
      "|xqd20166231|    PAIDOFF|     1000|   30|      9/8/2016|10/7/2016|9/14/2016 19:31|         null| 45|High School or Below|  male|\n",
      "|xqd20168902|    PAIDOFF|     1000|   30|      9/8/2016|10/7/2016| 10/7/2016 9:00|         null| 50|            Bechalor|female|\n",
      "|xqd20160003|    PAIDOFF|     1000|   30|      9/8/2016|10/7/2016|9/25/2016 16:58|         null| 33|            Bechalor|female|\n",
      "|xqd20160004|    PAIDOFF|     1000|   15|      9/8/2016|9/22/2016|9/22/2016 20:00|         null| 27|             college|  male|\n",
      "|xqd20160005|    PAIDOFF|     1000|   30|      9/9/2016|10/8/2016|9/23/2016 21:36|         null| 28|             college|female|\n",
      "|xqd20160706|    PAIDOFF|      300|    7|      9/9/2016|9/15/2016| 9/9/2016 13:45|         null| 35|     Master or Above|  male|\n",
      "|xqd20160007|    PAIDOFF|     1000|   30|      9/9/2016|10/8/2016|10/7/2016 23:07|         null| 29|             college|  male|\n",
      "|xqd20160008|    PAIDOFF|     1000|   30|      9/9/2016|10/8/2016|10/5/2016 20:33|         null| 36|             college|  male|\n",
      "|xqd20160909|    PAIDOFF|     1000|   30|      9/9/2016|10/8/2016|10/8/2016 16:00|         null| 28|             college|  male|\n",
      "|xqd20160010|    PAIDOFF|      800|   15|     9/10/2016|9/24/2016|9/24/2016 13:00|         null| 26|             college|  male|\n",
      "|xqd20160011|    PAIDOFF|      300|    7|     9/10/2016|9/16/2016|9/11/2016 19:11|         null| 29|             college|  male|\n",
      "|xqd20160012|    PAIDOFF|     1000|   15|     9/10/2016|10/9/2016|10/9/2016 16:00|         null| 39|High School or Below|  male|\n",
      "|xqd20160013|    PAIDOFF|     1000|   30|     9/10/2016|10/9/2016|10/7/2016 23:32|         null| 26|             college|  male|\n",
      "|xqd20160014|    PAIDOFF|      900|    7|     9/10/2016|9/16/2016|9/13/2016 21:57|         null| 26|             college|female|\n",
      "|xqd20160015|    PAIDOFF|     1000|    7|     9/10/2016|9/16/2016|9/15/2016 14:27|         null| 27|High School or Below|  male|\n",
      "|xqd20160016|    PAIDOFF|      800|   15|     9/10/2016|9/24/2016|9/24/2016 16:00|         null| 26|             college|  male|\n",
      "|xqd20160017|    PAIDOFF|     1000|   30|     9/10/2016|10/9/2016|9/27/2016 14:21|         null| 40|High School or Below|  male|\n",
      "|xqd20160018|    PAIDOFF|     1000|   15|     9/10/2016|9/24/2016|9/23/2016 18:49|         null| 32|High School or Below|  male|\n",
      "|xqd20160019|    PAIDOFF|     1000|   30|     9/10/2016|10/9/2016|10/5/2016 22:05|         null| 32|High School or Below|  male|\n",
      "|xqd20160020|    PAIDOFF|      800|   30|     9/10/2016|10/9/2016| 9/23/2016 7:42|         null| 26|             college|  male|\n",
      "+-----------+-----------+---------+-----+--------------+---------+---------------+-------------+---+--------------------+------+\n",
      "only showing top 20 rows\n",
      "\n"
     ]
    }
   ],
   "source": [
    "df.show()"
   ]
  },
  {
   "cell_type": "code",
   "execution_count": 23,
   "id": "e8960d34",
   "metadata": {},
   "outputs": [
    {
     "name": "stdout",
     "output_type": "stream",
     "text": [
      "+---------+---+---------+-----------------+\n",
      "|education|age|Principal|cum_sum_Principal|\n",
      "+---------+---+---------+-----------------+\n",
      "|  college| 18|     1000|             1000|\n",
      "|  college| 20|     1000|             2000|\n",
      "|  college| 20|     1000|             3000|\n",
      "|  college| 21|      800|             3800|\n",
      "|  college| 21|     1000|             4800|\n",
      "|  college| 21|     1000|             5800|\n",
      "|  college| 22|     1000|             6800|\n",
      "|  college| 22|      800|             7600|\n",
      "|  college| 23|     1000|             8600|\n",
      "|  college| 23|      800|             9400|\n",
      "|  college| 23|      500|             9900|\n",
      "|  college| 23|      800|            10700|\n",
      "|  college| 23|      800|            11500|\n",
      "|  college| 24|     1000|            12500|\n",
      "|  college| 24|      800|            13300|\n",
      "|  college| 24|      800|            14100|\n",
      "|  college| 24|     1000|            15100|\n",
      "|  college| 24|     1000|            16100|\n",
      "|  college| 24|     1000|            17100|\n",
      "|  college| 24|     1000|            18100|\n",
      "+---------+---+---------+-----------------+\n",
      "only showing top 20 rows\n",
      "\n"
     ]
    }
   ],
   "source": [
    "#cumulative summation of Principal in education groups....\n",
    "import sys\n",
    "from pyspark.sql.window import Window\n",
    "from pyspark.sql.functions import sum,col\n",
    "cum_sum_Principal = df.withColumn('cum_sum_Principal', sum(col('Principal')).over(Window.partitionBy('education').orderBy('age').rowsBetween(-sys.maxsize, 0)))\n",
    "cum_sum_Principal.select('education','age','Principal','cum_sum_Principal').show()"
   ]
  },
  {
   "cell_type": "code",
   "execution_count": 24,
   "id": "600db796",
   "metadata": {},
   "outputs": [
    {
     "name": "stdout",
     "output_type": "stream",
     "text": [
      "+---------+---+---------+-----------+\n",
      "|education|age|Principal|cum_sum_age|\n",
      "+---------+---+---------+-----------+\n",
      "|  college| 27|     1000|         27|\n",
      "|  college| 28|     1000|         55|\n",
      "|  college| 29|     1000|         84|\n",
      "|  college| 36|     1000|        120|\n",
      "|  college| 28|     1000|        148|\n",
      "|  college| 26|      800|        174|\n",
      "|  college| 29|      300|        203|\n",
      "|  college| 26|     1000|        229|\n",
      "|  college| 26|      900|        255|\n",
      "|  college| 26|      800|        281|\n",
      "|  college| 26|      800|        307|\n",
      "|  college| 26|     1000|        333|\n",
      "|  college| 26|     1000|        359|\n",
      "|  college| 26|     1000|        385|\n",
      "|  college| 31|     1000|        416|\n",
      "|  college| 33|     1000|        449|\n",
      "|  college| 37|     1000|        486|\n",
      "|  college| 27|     1000|        513|\n",
      "|  college| 37|     1000|        550|\n",
      "|  college| 33|      800|        583|\n",
      "+---------+---+---------+-----------+\n",
      "only showing top 20 rows\n",
      "\n"
     ]
    }
   ],
   "source": [
    "#cumulative summation of age in education groups....\n",
    "cum_sum_age = df.withColumn('cum_sum_age', sum(col('age')).over(Window.partitionBy('education').rowsBetween(-sys.maxsize, 0)))\n",
    "cum_sum_age.select('education','age','Principal','cum_sum_age').show()"
   ]
  },
  {
   "cell_type": "code",
   "execution_count": 25,
   "id": "62cfd319",
   "metadata": {},
   "outputs": [
    {
     "name": "stdout",
     "output_type": "stream",
     "text": [
      "+--------------------+---+------+---------+-----------------+\n",
      "|           education|age|Gender|Principal|cum_sum_Principal|\n",
      "+--------------------+---+------+---------+-----------------+\n",
      "|High School or Below| 19|female|     1000|             1000|\n",
      "|             college| 21|female|     1000|             2000|\n",
      "|             college| 23|female|      500|             2500|\n",
      "|             college| 23|female|      800|             3300|\n",
      "|            Bechalor| 24|female|     1000|             4300|\n",
      "|High School or Below| 24|female|     1000|             5300|\n",
      "|High School or Below| 24|female|     1000|             6300|\n",
      "|High School or Below| 25|female|     1000|             7300|\n",
      "|             college| 25|female|     1000|             8300|\n",
      "|             college| 26|female|      900|             9200|\n",
      "|             college| 26|female|     1000|            10200|\n",
      "|High School or Below| 26|female|     1000|            11200|\n",
      "|            Bechalor| 26|female|     1000|            12200|\n",
      "|High School or Below| 26|female|      800|            13000|\n",
      "|High School or Below| 26|female|      800|            13800|\n",
      "|             college| 26|female|     1000|            14800|\n",
      "|High School or Below| 26|female|      800|            15600|\n",
      "|             college| 27|female|      800|            16400|\n",
      "|             college| 27|female|     1000|            17400|\n",
      "|             college| 27|female|     1000|            18400|\n",
      "+--------------------+---+------+---------+-----------------+\n",
      "only showing top 20 rows\n",
      "\n"
     ]
    }
   ],
   "source": [
    "#cumulative summation of Principal in Gender groups....\n",
    "cum_sum_Principal = df.withColumn('cum_sum_Principal', sum(col('Principal')).over(Window.partitionBy('Gender').orderBy('age').rowsBetween(-sys.maxsize, 0)))\n",
    "cum_sum_Principal.select('education','age','Gender','Principal','cum_sum_Principal').show()"
   ]
  },
  {
   "cell_type": "code",
   "execution_count": 26,
   "id": "a3bfcbd9",
   "metadata": {},
   "outputs": [
    {
     "name": "stdout",
     "output_type": "stream",
     "text": [
      "+--------------------+---+------+-----------+---------+-----------------+\n",
      "|           education|age|Gender|loan_status|Principal|cum_sum_Principal|\n",
      "+--------------------+---+------+-----------+---------+-----------------+\n",
      "|             college| 18|  male| COLLECTION|     1000|             1000|\n",
      "|High School or Below| 20|  male| COLLECTION|     1000|             2000|\n",
      "|High School or Below| 21|  male| COLLECTION|     1000|             3000|\n",
      "|            Bechalor| 22|  male| COLLECTION|     1000|             4000|\n",
      "|             college| 22|  male| COLLECTION|      800|             4800|\n",
      "|High School or Below| 23|  male| COLLECTION|     1000|             5800|\n",
      "|High School or Below| 23|  male| COLLECTION|     1000|             6800|\n",
      "|            Bechalor| 24|  male| COLLECTION|      800|             7600|\n",
      "|             college| 24|  male| COLLECTION|     1000|             8600|\n",
      "|            Bechalor| 24|  male| COLLECTION|     1000|             9600|\n",
      "|High School or Below| 24|female| COLLECTION|     1000|            10600|\n",
      "|             college| 24|  male| COLLECTION|     1000|            11600|\n",
      "|             college| 25|  male| COLLECTION|     1000|            12600|\n",
      "|             college| 25|  male| COLLECTION|     1000|            13600|\n",
      "|             college| 25|  male| COLLECTION|     1000|            14600|\n",
      "|High School or Below| 25|  male| COLLECTION|      800|            15400|\n",
      "|High School or Below| 25|  male| COLLECTION|     1000|            16400|\n",
      "|High School or Below| 25|  male| COLLECTION|     1000|            17400|\n",
      "|High School or Below| 26|female| COLLECTION|      800|            18200|\n",
      "|High School or Below| 26|  male| COLLECTION|     1000|            19200|\n",
      "+--------------------+---+------+-----------+---------+-----------------+\n",
      "only showing top 20 rows\n",
      "\n"
     ]
    }
   ],
   "source": [
    "#cumulative summation of Principal in loan_status groups....\n",
    "cum_sum_Principal = df.withColumn('cum_sum_Principal', sum(col('Principal')).over(Window.partitionBy('loan_status').orderBy('age').rowsBetween(-sys.maxsize, 0)))\n",
    "cum_sum_Principal.select('education','age','Gender','loan_status','Principal','cum_sum_Principal').show()"
   ]
  },
  {
   "cell_type": "code",
   "execution_count": 27,
   "id": "54106ad2",
   "metadata": {},
   "outputs": [
    {
     "name": "stdout",
     "output_type": "stream",
     "text": [
      "+--------------------+---+------+------------------+-----+---------+-----------------+\n",
      "|           education|age|Gender|       loan_status|terms|Principal|cum_sum_Principal|\n",
      "+--------------------+---+------+------------------+-----+---------+-----------------+\n",
      "|             college| 20|  male|           PAIDOFF|   15|     1000|             1000|\n",
      "|             college| 21|  male|           PAIDOFF|   15|      800|             1800|\n",
      "|             college| 22|  male|           PAIDOFF|   15|     1000|             2800|\n",
      "|             college| 22|  male|        COLLECTION|   15|      800|             3600|\n",
      "|High School or Below| 22|  male|COLLECTION_PAIDOFF|   15|     1000|             4600|\n",
      "|             college| 23|  male|           PAIDOFF|   15|     1000|             5600|\n",
      "|             college| 23|  male|           PAIDOFF|   15|      800|             6400|\n",
      "|             college| 23|female|           PAIDOFF|   15|      500|             6900|\n",
      "|             college| 23|  male|           PAIDOFF|   15|      800|             7700|\n",
      "|High School or Below| 23|  male|COLLECTION_PAIDOFF|   15|      800|             8500|\n",
      "|             college| 24|  male|           PAIDOFF|   15|     1000|             9500|\n",
      "|            Bechalor| 24|female|           PAIDOFF|   15|     1000|            10500|\n",
      "|High School or Below| 24|  male|           PAIDOFF|   15|      800|            11300|\n",
      "|             college| 24|  male|           PAIDOFF|   15|      800|            12100|\n",
      "|             college| 24|  male|           PAIDOFF|   15|      800|            12900|\n",
      "|High School or Below| 24|  male|           PAIDOFF|   15|     1000|            13900|\n",
      "|High School or Below| 24|  male|           PAIDOFF|   15|     1000|            14900|\n",
      "|            Bechalor| 24|  male|           PAIDOFF|   15|     1000|            15900|\n",
      "|            Bechalor| 24|  male|        COLLECTION|   15|      800|            16700|\n",
      "|            Bechalor| 24|  male|        COLLECTION|   15|     1000|            17700|\n",
      "+--------------------+---+------+------------------+-----+---------+-----------------+\n",
      "only showing top 20 rows\n",
      "\n"
     ]
    }
   ],
   "source": [
    "#cumulative summation of Principal in terms groups....\n",
    "cum_sum_Principal = df.withColumn('cum_sum_Principal', sum(col('Principal')).over(Window.partitionBy('terms').orderBy('age').rowsBetween(-sys.maxsize, 0)))\n",
    "cum_sum_Principal.select('education','age','Gender','loan_status','terms','Principal','cum_sum_Principal').show()"
   ]
  },
  {
   "cell_type": "code",
   "execution_count": 28,
   "id": "a9c9f6c8",
   "metadata": {},
   "outputs": [
    {
     "name": "stdout",
     "output_type": "stream",
     "text": [
      "+--------------------+---+------+------------------+-----+---------+-----------+\n",
      "|           education|age|Gender|       loan_status|terms|Principal|cum_sum_age|\n",
      "+--------------------+---+------+------------------+-----+---------+-----------+\n",
      "|     Master or Above| 35|  male|           PAIDOFF|    7|      300|         35|\n",
      "|             college| 29|  male|           PAIDOFF|    7|      300|         64|\n",
      "|             college| 35|  male|           PAIDOFF|    7|      300|         99|\n",
      "|     Master or Above| 37|  male|           PAIDOFF|    7|      300|        136|\n",
      "|High School or Below| 29|  male|           PAIDOFF|    7|      300|        165|\n",
      "|High School or Below| 23|  male|           PAIDOFF|    7|      300|        188|\n",
      "|             college| 23|female|           PAIDOFF|   15|      500|         23|\n",
      "|High School or Below| 22|  male|           PAIDOFF|    7|      500|         45|\n",
      "|            Bechalor| 37|  male|COLLECTION_PAIDOFF|   15|      500|         82|\n",
      "|             college| 26|female|           PAIDOFF|    7|      900|         26|\n",
      "|             college| 28|  male|           PAIDOFF|   15|      900|         54|\n",
      "|             college| 26|  male|           PAIDOFF|   15|      800|         26|\n",
      "|             college| 26|  male|           PAIDOFF|   15|      800|         52|\n",
      "|             college| 26|  male|           PAIDOFF|   30|      800|         78|\n",
      "|            Bechalor| 39|  male|           PAIDOFF|   15|      800|        117|\n",
      "|High School or Below| 33|  male|           PAIDOFF|   15|      800|        150|\n",
      "|             college| 33|  male|           PAIDOFF|   15|      800|        183|\n",
      "|            Bechalor| 29|  male|           PAIDOFF|   15|      800|        212|\n",
      "|             college| 30|  male|           PAIDOFF|   15|      800|        242|\n",
      "|High School or Below| 35|  male|           PAIDOFF|    7|      800|        277|\n",
      "+--------------------+---+------+------------------+-----+---------+-----------+\n",
      "only showing top 20 rows\n",
      "\n"
     ]
    }
   ],
   "source": [
    "#cumulative summation of age in Principal groups....\n",
    "cum_sum_age = df.withColumn('cum_sum_age', sum(col('age')).over(Window.partitionBy('Principal').rowsBetween(-sys.maxsize, 0)))\n",
    "cum_sum_age.select('education','age','Gender','loan_status','terms','Principal','cum_sum_age').show()"
   ]
  },
  {
   "cell_type": "code",
   "execution_count": 29,
   "id": "aaf9d177",
   "metadata": {},
   "outputs": [
    {
     "name": "stdout",
     "output_type": "stream",
     "text": [
      "+--------------------+---+------+------------------+-----+---------+-------------+\n",
      "|           education|age|Gender|       loan_status|terms|Principal|cum_sum_terms|\n",
      "+--------------------+---+------+------------------+-----+---------+-------------+\n",
      "|     Master or Above| 35|  male|           PAIDOFF|    7|      300|            7|\n",
      "|             college| 29|  male|           PAIDOFF|    7|      300|           14|\n",
      "|             college| 35|  male|           PAIDOFF|    7|      300|           21|\n",
      "|     Master or Above| 37|  male|           PAIDOFF|    7|      300|           28|\n",
      "|High School or Below| 29|  male|           PAIDOFF|    7|      300|           35|\n",
      "|High School or Below| 23|  male|           PAIDOFF|    7|      300|           42|\n",
      "|             college| 23|female|           PAIDOFF|   15|      500|           15|\n",
      "|High School or Below| 22|  male|           PAIDOFF|    7|      500|           22|\n",
      "|            Bechalor| 37|  male|COLLECTION_PAIDOFF|   15|      500|           37|\n",
      "|             college| 26|female|           PAIDOFF|    7|      900|            7|\n",
      "|             college| 28|  male|           PAIDOFF|   15|      900|           22|\n",
      "|             college| 26|  male|           PAIDOFF|   15|      800|           15|\n",
      "|             college| 26|  male|           PAIDOFF|   15|      800|           30|\n",
      "|             college| 26|  male|           PAIDOFF|   30|      800|           60|\n",
      "|            Bechalor| 39|  male|           PAIDOFF|   15|      800|           75|\n",
      "|High School or Below| 33|  male|           PAIDOFF|   15|      800|           90|\n",
      "|             college| 33|  male|           PAIDOFF|   15|      800|          105|\n",
      "|            Bechalor| 29|  male|           PAIDOFF|   15|      800|          120|\n",
      "|             college| 30|  male|           PAIDOFF|   15|      800|          135|\n",
      "|High School or Below| 35|  male|           PAIDOFF|    7|      800|          142|\n",
      "+--------------------+---+------+------------------+-----+---------+-------------+\n",
      "only showing top 20 rows\n",
      "\n"
     ]
    }
   ],
   "source": [
    "#cumulative summation of terms in Principal groups....\n",
    "cum_sum_terms = df.withColumn('cum_sum_terms', sum(col('terms')).over(Window.partitionBy('Principal').rowsBetween(-sys.maxsize, 0)))\n",
    "cum_sum_terms.select('education','age','Gender','loan_status','terms','Principal','cum_sum_terms').show()"
   ]
  },
  {
   "cell_type": "markdown",
   "id": "d3a90ae6",
   "metadata": {},
   "source": [
    "#similarly we can do for all the possible combinations(by changing the sum(col(x)),partitionBy(y),orderBy(z) functions' parameter variables...)"
   ]
  }
 ],
 "metadata": {
  "kernelspec": {
   "display_name": "Python 3",
   "language": "python",
   "name": "python3"
  },
  "language_info": {
   "codemirror_mode": {
    "name": "ipython",
    "version": 3
   },
   "file_extension": ".py",
   "mimetype": "text/x-python",
   "name": "python",
   "nbconvert_exporter": "python",
   "pygments_lexer": "ipython3",
   "version": "3.5.6"
  }
 },
 "nbformat": 4,
 "nbformat_minor": 5
}
