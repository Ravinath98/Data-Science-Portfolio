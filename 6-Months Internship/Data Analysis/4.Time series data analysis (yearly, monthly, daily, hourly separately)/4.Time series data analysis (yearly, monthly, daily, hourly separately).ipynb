{
 "cells": [
  {
   "cell_type": "code",
   "execution_count": 1,
   "id": "92cbfdc4",
   "metadata": {},
   "outputs": [],
   "source": [
    "#import libraries\n",
    "import pandas as pd\n",
    "import os"
   ]
  },
  {
   "cell_type": "code",
   "execution_count": 2,
   "id": "0b17b820",
   "metadata": {},
   "outputs": [
    {
     "name": "stdout",
     "output_type": "stream",
     "text": [
      "2020-07-01\n",
      "2020-07-03\n",
      "2020-07-03\n",
      "2020-07-05\n",
      "2020-07-06\n",
      "2020-07-07\n",
      "2020-07-08\n",
      "2020-07-09\n",
      "2020-07-10\n",
      "2020-07-11\n",
      "2020-07-12\n",
      "2020-07-13\n",
      "2020-07-14\n",
      "2020-07-15\n",
      "2020-07-16\n",
      "2020-07-17\n",
      "2020-07-18\n",
      "2020-07-19\n",
      "2020-07-20\n",
      "2020-07-21\n",
      "2020-07-22\n",
      "2020-07-23\n",
      "2020-07-24\n",
      "2020-07-25\n",
      "2020-07-26\n",
      "2020-07-27\n",
      "2020-07-28\n",
      "2020-07-29\n",
      "2020-07-30\n",
      "2020-07-31\n"
     ]
    }
   ],
   "source": [
    "#read all the days actual dispatch datasets at once and create a single data frame(2 dataframes are same,but with different shapes)\n",
    "data_frames_1=[]\n",
    "data_frames_2=[]\n",
    "for i in range(0,31):\n",
    "    if i==3:\n",
    "        continue\n",
    "    else:\n",
    "        df=pd.read_excel(r'E:\\Desktop\\Datasets\\actual_july\\15 min Dispatch July 2020.xlsx',sheet_name=i) \n",
    "\n",
    "        temp=list(df.columns)\n",
    "\n",
    "        date = temp[8].date()\n",
    "        df.columns = df.iloc[0]\n",
    "        df=df.drop(0)\n",
    "        df=df.drop(columns=df.columns[-3:],axis=1)\n",
    "        x=df.iloc[:, 0]\n",
    "\n",
    "        t=0\n",
    "        for i in x:\n",
    "            t=t+1\n",
    "            if i=='Total MW':\n",
    "\n",
    "                break\n",
    "        df=df.iloc[:t-1, :]\n",
    "        df1 = pd.DataFrame()\n",
    "        import datetime as dt\n",
    "        t1 = dt.datetime.strptime('00:00:00', '%H:%M:%S')\n",
    "        for i in range (1,len(df.columns),4):\n",
    "            df1[str(t1.time())]=df.iloc[:, i]+df.iloc[:, i+1]+df.iloc[:, i+2]+df.iloc[:, i+3]\n",
    "            t2 = dt.datetime.strptime('01:00:00', '%H:%M:%S') #make to hourly....\n",
    "            time_zero = dt.datetime.strptime('00:00:00', '%H:%M:%S')\n",
    "            x=(t1 - time_zero + t2).time()\n",
    "            t1 = dt.datetime.strptime(str(x), '%H:%M:%S')\n",
    "            #print(i)\n",
    "\n",
    "        m=df.iloc[:t-1, 0]\n",
    "        list(m)\n",
    "        df1.insert(0, 'Power_Plant', m)\n",
    "        df2=pd.melt(df1,id_vars=['Power_Plant'])\n",
    "        df1['Date']=date\n",
    "        df2['Date']=date\n",
    "        print(date)\n",
    "        data_frames_1.append(df1)\n",
    "        data_frames_2.append(df2)"
   ]
  },
  {
   "cell_type": "code",
   "execution_count": 3,
   "id": "e3838ebb",
   "metadata": {},
   "outputs": [
    {
     "data": {
      "text/html": [
       "<div>\n",
       "<style scoped>\n",
       "    .dataframe tbody tr th:only-of-type {\n",
       "        vertical-align: middle;\n",
       "    }\n",
       "\n",
       "    .dataframe tbody tr th {\n",
       "        vertical-align: top;\n",
       "    }\n",
       "\n",
       "    .dataframe thead th {\n",
       "        text-align: right;\n",
       "    }\n",
       "</style>\n",
       "<table border=\"1\" class=\"dataframe\">\n",
       "  <thead>\n",
       "    <tr style=\"text-align: right;\">\n",
       "      <th></th>\n",
       "      <th>Power_Plant</th>\n",
       "      <th>00:00:00</th>\n",
       "      <th>01:00:00</th>\n",
       "      <th>02:00:00</th>\n",
       "      <th>03:00:00</th>\n",
       "      <th>04:00:00</th>\n",
       "      <th>05:00:00</th>\n",
       "      <th>06:00:00</th>\n",
       "      <th>07:00:00</th>\n",
       "      <th>08:00:00</th>\n",
       "      <th>...</th>\n",
       "      <th>15:00:00</th>\n",
       "      <th>16:00:00</th>\n",
       "      <th>17:00:00</th>\n",
       "      <th>18:00:00</th>\n",
       "      <th>19:00:00</th>\n",
       "      <th>20:00:00</th>\n",
       "      <th>21:00:00</th>\n",
       "      <th>22:00:00</th>\n",
       "      <th>23:00:00</th>\n",
       "      <th>Date</th>\n",
       "    </tr>\n",
       "  </thead>\n",
       "  <tbody>\n",
       "    <tr>\n",
       "      <th>1</th>\n",
       "      <td>Canyon</td>\n",
       "      <td>40.0</td>\n",
       "      <td>40.0</td>\n",
       "      <td>40.0</td>\n",
       "      <td>0.0</td>\n",
       "      <td>0.0</td>\n",
       "      <td>0.0</td>\n",
       "      <td>0.0</td>\n",
       "      <td>0.0</td>\n",
       "      <td>22.0</td>\n",
       "      <td>...</td>\n",
       "      <td>120.0</td>\n",
       "      <td>120.0</td>\n",
       "      <td>120.0</td>\n",
       "      <td>120.0</td>\n",
       "      <td>120.0</td>\n",
       "      <td>120.0</td>\n",
       "      <td>120.0</td>\n",
       "      <td>90.0</td>\n",
       "      <td>0.0</td>\n",
       "      <td>2020-07-01</td>\n",
       "    </tr>\n",
       "    <tr>\n",
       "      <th>2</th>\n",
       "      <td>WPS</td>\n",
       "      <td>0.0</td>\n",
       "      <td>0.0</td>\n",
       "      <td>0.0</td>\n",
       "      <td>0.0</td>\n",
       "      <td>0.0</td>\n",
       "      <td>0.0</td>\n",
       "      <td>0.0</td>\n",
       "      <td>0.0</td>\n",
       "      <td>0.0</td>\n",
       "      <td>...</td>\n",
       "      <td>100.0</td>\n",
       "      <td>85.0</td>\n",
       "      <td>40.0</td>\n",
       "      <td>40.0</td>\n",
       "      <td>40.0</td>\n",
       "      <td>20.0</td>\n",
       "      <td>0.0</td>\n",
       "      <td>0.0</td>\n",
       "      <td>0.0</td>\n",
       "      <td>2020-07-01</td>\n",
       "    </tr>\n",
       "    <tr>\n",
       "      <th>3</th>\n",
       "      <td>Olax</td>\n",
       "      <td>20.0</td>\n",
       "      <td>20.0</td>\n",
       "      <td>20.0</td>\n",
       "      <td>20.0</td>\n",
       "      <td>100.0</td>\n",
       "      <td>148.0</td>\n",
       "      <td>113.0</td>\n",
       "      <td>94.0</td>\n",
       "      <td>186.0</td>\n",
       "      <td>...</td>\n",
       "      <td>124.0</td>\n",
       "      <td>123.0</td>\n",
       "      <td>120.0</td>\n",
       "      <td>163.0</td>\n",
       "      <td>207.0</td>\n",
       "      <td>70.0</td>\n",
       "      <td>56.0</td>\n",
       "      <td>56.0</td>\n",
       "      <td>56.0</td>\n",
       "      <td>2020-07-01</td>\n",
       "    </tr>\n",
       "    <tr>\n",
       "      <th>4</th>\n",
       "      <td>Nlax</td>\n",
       "      <td>130.0</td>\n",
       "      <td>53.0</td>\n",
       "      <td>42.0</td>\n",
       "      <td>90.0</td>\n",
       "      <td>118.0</td>\n",
       "      <td>225.0</td>\n",
       "      <td>273.0</td>\n",
       "      <td>127.0</td>\n",
       "      <td>235.0</td>\n",
       "      <td>...</td>\n",
       "      <td>420.0</td>\n",
       "      <td>422.0</td>\n",
       "      <td>238.0</td>\n",
       "      <td>277.0</td>\n",
       "      <td>424.0</td>\n",
       "      <td>420.0</td>\n",
       "      <td>204.0</td>\n",
       "      <td>129.0</td>\n",
       "      <td>130.0</td>\n",
       "      <td>2020-07-01</td>\n",
       "    </tr>\n",
       "    <tr>\n",
       "      <th>5</th>\n",
       "      <td>Polp</td>\n",
       "      <td>79.0</td>\n",
       "      <td>77.0</td>\n",
       "      <td>90.0</td>\n",
       "      <td>88.0</td>\n",
       "      <td>85.0</td>\n",
       "      <td>152.0</td>\n",
       "      <td>309.0</td>\n",
       "      <td>143.0</td>\n",
       "      <td>95.0</td>\n",
       "      <td>...</td>\n",
       "      <td>203.0</td>\n",
       "      <td>263.0</td>\n",
       "      <td>320.0</td>\n",
       "      <td>239.0</td>\n",
       "      <td>360.0</td>\n",
       "      <td>319.0</td>\n",
       "      <td>192.0</td>\n",
       "      <td>91.0</td>\n",
       "      <td>83.0</td>\n",
       "      <td>2020-07-01</td>\n",
       "    </tr>\n",
       "  </tbody>\n",
       "</table>\n",
       "<p>5 rows × 26 columns</p>\n",
       "</div>"
      ],
      "text/plain": [
       "  Power_Plant 00:00:00 01:00:00 02:00:00 03:00:00 04:00:00 05:00:00 06:00:00  \\\n",
       "1      Canyon     40.0     40.0     40.0      0.0      0.0      0.0      0.0   \n",
       "2         WPS      0.0      0.0      0.0      0.0      0.0      0.0      0.0   \n",
       "3        Olax     20.0     20.0     20.0     20.0    100.0    148.0    113.0   \n",
       "4        Nlax    130.0     53.0     42.0     90.0    118.0    225.0    273.0   \n",
       "5        Polp     79.0     77.0     90.0     88.0     85.0    152.0    309.0   \n",
       "\n",
       "  07:00:00 08:00:00  ... 15:00:00 16:00:00 17:00:00 18:00:00 19:00:00  \\\n",
       "1      0.0     22.0  ...    120.0    120.0    120.0    120.0    120.0   \n",
       "2      0.0      0.0  ...    100.0     85.0     40.0     40.0     40.0   \n",
       "3     94.0    186.0  ...    124.0    123.0    120.0    163.0    207.0   \n",
       "4    127.0    235.0  ...    420.0    422.0    238.0    277.0    424.0   \n",
       "5    143.0     95.0  ...    203.0    263.0    320.0    239.0    360.0   \n",
       "\n",
       "  20:00:00 21:00:00 22:00:00 23:00:00        Date  \n",
       "1    120.0    120.0     90.0      0.0  2020-07-01  \n",
       "2     20.0      0.0      0.0      0.0  2020-07-01  \n",
       "3     70.0     56.0     56.0     56.0  2020-07-01  \n",
       "4    420.0    204.0    129.0    130.0  2020-07-01  \n",
       "5    319.0    192.0     91.0     83.0  2020-07-01  \n",
       "\n",
       "[5 rows x 26 columns]"
      ]
     },
     "execution_count": 3,
     "metadata": {},
     "output_type": "execute_result"
    }
   ],
   "source": [
    "data_frames_1[0].head() #hourly.... in first sheet..."
   ]
  },
  {
   "cell_type": "code",
   "execution_count": 4,
   "id": "d34fb59b",
   "metadata": {},
   "outputs": [
    {
     "data": {
      "text/html": [
       "<div>\n",
       "<style scoped>\n",
       "    .dataframe tbody tr th:only-of-type {\n",
       "        vertical-align: middle;\n",
       "    }\n",
       "\n",
       "    .dataframe tbody tr th {\n",
       "        vertical-align: top;\n",
       "    }\n",
       "\n",
       "    .dataframe thead th {\n",
       "        text-align: right;\n",
       "    }\n",
       "</style>\n",
       "<table border=\"1\" class=\"dataframe\">\n",
       "  <thead>\n",
       "    <tr style=\"text-align: right;\">\n",
       "      <th></th>\n",
       "      <th>Power_Plant</th>\n",
       "      <th>variable</th>\n",
       "      <th>value</th>\n",
       "      <th>Date</th>\n",
       "    </tr>\n",
       "  </thead>\n",
       "  <tbody>\n",
       "    <tr>\n",
       "      <th>0</th>\n",
       "      <td>Canyon</td>\n",
       "      <td>00:00:00</td>\n",
       "      <td>40.0</td>\n",
       "      <td>2020-07-01</td>\n",
       "    </tr>\n",
       "    <tr>\n",
       "      <th>1</th>\n",
       "      <td>WPS</td>\n",
       "      <td>00:00:00</td>\n",
       "      <td>0.0</td>\n",
       "      <td>2020-07-01</td>\n",
       "    </tr>\n",
       "    <tr>\n",
       "      <th>2</th>\n",
       "      <td>Olax</td>\n",
       "      <td>00:00:00</td>\n",
       "      <td>20.0</td>\n",
       "      <td>2020-07-01</td>\n",
       "    </tr>\n",
       "    <tr>\n",
       "      <th>3</th>\n",
       "      <td>Nlax</td>\n",
       "      <td>00:00:00</td>\n",
       "      <td>130.0</td>\n",
       "      <td>2020-07-01</td>\n",
       "    </tr>\n",
       "    <tr>\n",
       "      <th>4</th>\n",
       "      <td>Polp</td>\n",
       "      <td>00:00:00</td>\n",
       "      <td>79.0</td>\n",
       "      <td>2020-07-01</td>\n",
       "    </tr>\n",
       "  </tbody>\n",
       "</table>\n",
       "</div>"
      ],
      "text/plain": [
       "  Power_Plant  variable  value        Date\n",
       "0      Canyon  00:00:00   40.0  2020-07-01\n",
       "1         WPS  00:00:00    0.0  2020-07-01\n",
       "2        Olax  00:00:00   20.0  2020-07-01\n",
       "3        Nlax  00:00:00  130.0  2020-07-01\n",
       "4        Polp  00:00:00   79.0  2020-07-01"
      ]
     },
     "execution_count": 4,
     "metadata": {},
     "output_type": "execute_result"
    }
   ],
   "source": [
    "data_frames_2[0].head()"
   ]
  },
  {
   "cell_type": "markdown",
   "id": "b0c67b0a",
   "metadata": {},
   "source": [
    "# Hourly"
   ]
  },
  {
   "cell_type": "code",
   "execution_count": 5,
   "id": "65b86725",
   "metadata": {},
   "outputs": [],
   "source": [
    "df=data_frames_1[0].drop('Date',axis=1)"
   ]
  },
  {
   "cell_type": "code",
   "execution_count": 6,
   "id": "3a139fda",
   "metadata": {},
   "outputs": [
    {
     "data": {
      "text/html": [
       "<div>\n",
       "<style scoped>\n",
       "    .dataframe tbody tr th:only-of-type {\n",
       "        vertical-align: middle;\n",
       "    }\n",
       "\n",
       "    .dataframe tbody tr th {\n",
       "        vertical-align: top;\n",
       "    }\n",
       "\n",
       "    .dataframe thead th {\n",
       "        text-align: right;\n",
       "    }\n",
       "</style>\n",
       "<table border=\"1\" class=\"dataframe\">\n",
       "  <thead>\n",
       "    <tr style=\"text-align: right;\">\n",
       "      <th></th>\n",
       "      <th>Power_Plant</th>\n",
       "      <th>00:00:00</th>\n",
       "      <th>01:00:00</th>\n",
       "      <th>02:00:00</th>\n",
       "      <th>03:00:00</th>\n",
       "      <th>04:00:00</th>\n",
       "      <th>05:00:00</th>\n",
       "      <th>06:00:00</th>\n",
       "      <th>07:00:00</th>\n",
       "      <th>08:00:00</th>\n",
       "      <th>...</th>\n",
       "      <th>14:00:00</th>\n",
       "      <th>15:00:00</th>\n",
       "      <th>16:00:00</th>\n",
       "      <th>17:00:00</th>\n",
       "      <th>18:00:00</th>\n",
       "      <th>19:00:00</th>\n",
       "      <th>20:00:00</th>\n",
       "      <th>21:00:00</th>\n",
       "      <th>22:00:00</th>\n",
       "      <th>23:00:00</th>\n",
       "    </tr>\n",
       "  </thead>\n",
       "  <tbody>\n",
       "    <tr>\n",
       "      <th>1</th>\n",
       "      <td>Canyon</td>\n",
       "      <td>40.0</td>\n",
       "      <td>40.0</td>\n",
       "      <td>40.0</td>\n",
       "      <td>0.0</td>\n",
       "      <td>0.0</td>\n",
       "      <td>0.0</td>\n",
       "      <td>0.0</td>\n",
       "      <td>0.0</td>\n",
       "      <td>22.0</td>\n",
       "      <td>...</td>\n",
       "      <td>120.0</td>\n",
       "      <td>120.0</td>\n",
       "      <td>120.0</td>\n",
       "      <td>120.0</td>\n",
       "      <td>120.0</td>\n",
       "      <td>120.0</td>\n",
       "      <td>120.0</td>\n",
       "      <td>120.0</td>\n",
       "      <td>90.0</td>\n",
       "      <td>0.0</td>\n",
       "    </tr>\n",
       "    <tr>\n",
       "      <th>2</th>\n",
       "      <td>WPS</td>\n",
       "      <td>0.0</td>\n",
       "      <td>0.0</td>\n",
       "      <td>0.0</td>\n",
       "      <td>0.0</td>\n",
       "      <td>0.0</td>\n",
       "      <td>0.0</td>\n",
       "      <td>0.0</td>\n",
       "      <td>0.0</td>\n",
       "      <td>0.0</td>\n",
       "      <td>...</td>\n",
       "      <td>100.0</td>\n",
       "      <td>100.0</td>\n",
       "      <td>85.0</td>\n",
       "      <td>40.0</td>\n",
       "      <td>40.0</td>\n",
       "      <td>40.0</td>\n",
       "      <td>20.0</td>\n",
       "      <td>0.0</td>\n",
       "      <td>0.0</td>\n",
       "      <td>0.0</td>\n",
       "    </tr>\n",
       "    <tr>\n",
       "      <th>3</th>\n",
       "      <td>Olax</td>\n",
       "      <td>20.0</td>\n",
       "      <td>20.0</td>\n",
       "      <td>20.0</td>\n",
       "      <td>20.0</td>\n",
       "      <td>100.0</td>\n",
       "      <td>148.0</td>\n",
       "      <td>113.0</td>\n",
       "      <td>94.0</td>\n",
       "      <td>186.0</td>\n",
       "      <td>...</td>\n",
       "      <td>124.0</td>\n",
       "      <td>124.0</td>\n",
       "      <td>123.0</td>\n",
       "      <td>120.0</td>\n",
       "      <td>163.0</td>\n",
       "      <td>207.0</td>\n",
       "      <td>70.0</td>\n",
       "      <td>56.0</td>\n",
       "      <td>56.0</td>\n",
       "      <td>56.0</td>\n",
       "    </tr>\n",
       "    <tr>\n",
       "      <th>4</th>\n",
       "      <td>Nlax</td>\n",
       "      <td>130.0</td>\n",
       "      <td>53.0</td>\n",
       "      <td>42.0</td>\n",
       "      <td>90.0</td>\n",
       "      <td>118.0</td>\n",
       "      <td>225.0</td>\n",
       "      <td>273.0</td>\n",
       "      <td>127.0</td>\n",
       "      <td>235.0</td>\n",
       "      <td>...</td>\n",
       "      <td>348.0</td>\n",
       "      <td>420.0</td>\n",
       "      <td>422.0</td>\n",
       "      <td>238.0</td>\n",
       "      <td>277.0</td>\n",
       "      <td>424.0</td>\n",
       "      <td>420.0</td>\n",
       "      <td>204.0</td>\n",
       "      <td>129.0</td>\n",
       "      <td>130.0</td>\n",
       "    </tr>\n",
       "    <tr>\n",
       "      <th>5</th>\n",
       "      <td>Polp</td>\n",
       "      <td>79.0</td>\n",
       "      <td>77.0</td>\n",
       "      <td>90.0</td>\n",
       "      <td>88.0</td>\n",
       "      <td>85.0</td>\n",
       "      <td>152.0</td>\n",
       "      <td>309.0</td>\n",
       "      <td>143.0</td>\n",
       "      <td>95.0</td>\n",
       "      <td>...</td>\n",
       "      <td>240.0</td>\n",
       "      <td>203.0</td>\n",
       "      <td>263.0</td>\n",
       "      <td>320.0</td>\n",
       "      <td>239.0</td>\n",
       "      <td>360.0</td>\n",
       "      <td>319.0</td>\n",
       "      <td>192.0</td>\n",
       "      <td>91.0</td>\n",
       "      <td>83.0</td>\n",
       "    </tr>\n",
       "  </tbody>\n",
       "</table>\n",
       "<p>5 rows × 25 columns</p>\n",
       "</div>"
      ],
      "text/plain": [
       "  Power_Plant 00:00:00 01:00:00 02:00:00 03:00:00 04:00:00 05:00:00 06:00:00  \\\n",
       "1      Canyon     40.0     40.0     40.0      0.0      0.0      0.0      0.0   \n",
       "2         WPS      0.0      0.0      0.0      0.0      0.0      0.0      0.0   \n",
       "3        Olax     20.0     20.0     20.0     20.0    100.0    148.0    113.0   \n",
       "4        Nlax    130.0     53.0     42.0     90.0    118.0    225.0    273.0   \n",
       "5        Polp     79.0     77.0     90.0     88.0     85.0    152.0    309.0   \n",
       "\n",
       "  07:00:00 08:00:00  ... 14:00:00 15:00:00 16:00:00 17:00:00 18:00:00  \\\n",
       "1      0.0     22.0  ...    120.0    120.0    120.0    120.0    120.0   \n",
       "2      0.0      0.0  ...    100.0    100.0     85.0     40.0     40.0   \n",
       "3     94.0    186.0  ...    124.0    124.0    123.0    120.0    163.0   \n",
       "4    127.0    235.0  ...    348.0    420.0    422.0    238.0    277.0   \n",
       "5    143.0     95.0  ...    240.0    203.0    263.0    320.0    239.0   \n",
       "\n",
       "  19:00:00 20:00:00 21:00:00 22:00:00 23:00:00  \n",
       "1    120.0    120.0    120.0     90.0      0.0  \n",
       "2     40.0     20.0      0.0      0.0      0.0  \n",
       "3    207.0     70.0     56.0     56.0     56.0  \n",
       "4    424.0    420.0    204.0    129.0    130.0  \n",
       "5    360.0    319.0    192.0     91.0     83.0  \n",
       "\n",
       "[5 rows x 25 columns]"
      ]
     },
     "execution_count": 6,
     "metadata": {},
     "output_type": "execute_result"
    }
   ],
   "source": [
    "df.head()"
   ]
  },
  {
   "cell_type": "code",
   "execution_count": 7,
   "id": "8fbe70f7",
   "metadata": {},
   "outputs": [
    {
     "data": {
      "text/html": [
       "<div>\n",
       "<style scoped>\n",
       "    .dataframe tbody tr th:only-of-type {\n",
       "        vertical-align: middle;\n",
       "    }\n",
       "\n",
       "    .dataframe tbody tr th {\n",
       "        vertical-align: top;\n",
       "    }\n",
       "\n",
       "    .dataframe thead th {\n",
       "        text-align: right;\n",
       "    }\n",
       "</style>\n",
       "<table border=\"1\" class=\"dataframe\">\n",
       "  <thead>\n",
       "    <tr style=\"text-align: right;\">\n",
       "      <th></th>\n",
       "      <th>Power_Plant</th>\n",
       "      <th>00:00:00</th>\n",
       "      <th>01:00:00</th>\n",
       "      <th>02:00:00</th>\n",
       "      <th>03:00:00</th>\n",
       "      <th>04:00:00</th>\n",
       "      <th>05:00:00</th>\n",
       "      <th>06:00:00</th>\n",
       "      <th>07:00:00</th>\n",
       "      <th>08:00:00</th>\n",
       "      <th>...</th>\n",
       "      <th>15:00:00</th>\n",
       "      <th>16:00:00</th>\n",
       "      <th>17:00:00</th>\n",
       "      <th>18:00:00</th>\n",
       "      <th>19:00:00</th>\n",
       "      <th>20:00:00</th>\n",
       "      <th>21:00:00</th>\n",
       "      <th>22:00:00</th>\n",
       "      <th>23:00:00</th>\n",
       "      <th>Date</th>\n",
       "    </tr>\n",
       "  </thead>\n",
       "  <tbody>\n",
       "    <tr>\n",
       "      <th>1</th>\n",
       "      <td>Canyon</td>\n",
       "      <td>40.0</td>\n",
       "      <td>40.0</td>\n",
       "      <td>40.0</td>\n",
       "      <td>0.0</td>\n",
       "      <td>0.0</td>\n",
       "      <td>0.0</td>\n",
       "      <td>0.0</td>\n",
       "      <td>0.0</td>\n",
       "      <td>22.0</td>\n",
       "      <td>...</td>\n",
       "      <td>120.0</td>\n",
       "      <td>120.0</td>\n",
       "      <td>120.0</td>\n",
       "      <td>120.0</td>\n",
       "      <td>120.0</td>\n",
       "      <td>120.0</td>\n",
       "      <td>120.0</td>\n",
       "      <td>90.0</td>\n",
       "      <td>0.0</td>\n",
       "      <td>2020-07-01</td>\n",
       "    </tr>\n",
       "    <tr>\n",
       "      <th>2</th>\n",
       "      <td>WPS</td>\n",
       "      <td>0.0</td>\n",
       "      <td>0.0</td>\n",
       "      <td>0.0</td>\n",
       "      <td>0.0</td>\n",
       "      <td>0.0</td>\n",
       "      <td>0.0</td>\n",
       "      <td>0.0</td>\n",
       "      <td>0.0</td>\n",
       "      <td>0.0</td>\n",
       "      <td>...</td>\n",
       "      <td>100.0</td>\n",
       "      <td>85.0</td>\n",
       "      <td>40.0</td>\n",
       "      <td>40.0</td>\n",
       "      <td>40.0</td>\n",
       "      <td>20.0</td>\n",
       "      <td>0.0</td>\n",
       "      <td>0.0</td>\n",
       "      <td>0.0</td>\n",
       "      <td>2020-07-01</td>\n",
       "    </tr>\n",
       "    <tr>\n",
       "      <th>3</th>\n",
       "      <td>Olax</td>\n",
       "      <td>20.0</td>\n",
       "      <td>20.0</td>\n",
       "      <td>20.0</td>\n",
       "      <td>20.0</td>\n",
       "      <td>100.0</td>\n",
       "      <td>148.0</td>\n",
       "      <td>113.0</td>\n",
       "      <td>94.0</td>\n",
       "      <td>186.0</td>\n",
       "      <td>...</td>\n",
       "      <td>124.0</td>\n",
       "      <td>123.0</td>\n",
       "      <td>120.0</td>\n",
       "      <td>163.0</td>\n",
       "      <td>207.0</td>\n",
       "      <td>70.0</td>\n",
       "      <td>56.0</td>\n",
       "      <td>56.0</td>\n",
       "      <td>56.0</td>\n",
       "      <td>2020-07-01</td>\n",
       "    </tr>\n",
       "    <tr>\n",
       "      <th>4</th>\n",
       "      <td>Nlax</td>\n",
       "      <td>130.0</td>\n",
       "      <td>53.0</td>\n",
       "      <td>42.0</td>\n",
       "      <td>90.0</td>\n",
       "      <td>118.0</td>\n",
       "      <td>225.0</td>\n",
       "      <td>273.0</td>\n",
       "      <td>127.0</td>\n",
       "      <td>235.0</td>\n",
       "      <td>...</td>\n",
       "      <td>420.0</td>\n",
       "      <td>422.0</td>\n",
       "      <td>238.0</td>\n",
       "      <td>277.0</td>\n",
       "      <td>424.0</td>\n",
       "      <td>420.0</td>\n",
       "      <td>204.0</td>\n",
       "      <td>129.0</td>\n",
       "      <td>130.0</td>\n",
       "      <td>2020-07-01</td>\n",
       "    </tr>\n",
       "    <tr>\n",
       "      <th>5</th>\n",
       "      <td>Polp</td>\n",
       "      <td>79.0</td>\n",
       "      <td>77.0</td>\n",
       "      <td>90.0</td>\n",
       "      <td>88.0</td>\n",
       "      <td>85.0</td>\n",
       "      <td>152.0</td>\n",
       "      <td>309.0</td>\n",
       "      <td>143.0</td>\n",
       "      <td>95.0</td>\n",
       "      <td>...</td>\n",
       "      <td>203.0</td>\n",
       "      <td>263.0</td>\n",
       "      <td>320.0</td>\n",
       "      <td>239.0</td>\n",
       "      <td>360.0</td>\n",
       "      <td>319.0</td>\n",
       "      <td>192.0</td>\n",
       "      <td>91.0</td>\n",
       "      <td>83.0</td>\n",
       "      <td>2020-07-01</td>\n",
       "    </tr>\n",
       "  </tbody>\n",
       "</table>\n",
       "<p>5 rows × 26 columns</p>\n",
       "</div>"
      ],
      "text/plain": [
       "  Power_Plant 00:00:00 01:00:00 02:00:00 03:00:00 04:00:00 05:00:00 06:00:00  \\\n",
       "1      Canyon     40.0     40.0     40.0      0.0      0.0      0.0      0.0   \n",
       "2         WPS      0.0      0.0      0.0      0.0      0.0      0.0      0.0   \n",
       "3        Olax     20.0     20.0     20.0     20.0    100.0    148.0    113.0   \n",
       "4        Nlax    130.0     53.0     42.0     90.0    118.0    225.0    273.0   \n",
       "5        Polp     79.0     77.0     90.0     88.0     85.0    152.0    309.0   \n",
       "\n",
       "  07:00:00 08:00:00  ... 15:00:00 16:00:00 17:00:00 18:00:00 19:00:00  \\\n",
       "1      0.0     22.0  ...    120.0    120.0    120.0    120.0    120.0   \n",
       "2      0.0      0.0  ...    100.0     85.0     40.0     40.0     40.0   \n",
       "3     94.0    186.0  ...    124.0    123.0    120.0    163.0    207.0   \n",
       "4    127.0    235.0  ...    420.0    422.0    238.0    277.0    424.0   \n",
       "5    143.0     95.0  ...    203.0    263.0    320.0    239.0    360.0   \n",
       "\n",
       "  20:00:00 21:00:00 22:00:00 23:00:00        Date  \n",
       "1    120.0    120.0     90.0      0.0  2020-07-01  \n",
       "2     20.0      0.0      0.0      0.0  2020-07-01  \n",
       "3     70.0     56.0     56.0     56.0  2020-07-01  \n",
       "4    420.0    204.0    129.0    130.0  2020-07-01  \n",
       "5    319.0    192.0     91.0     83.0  2020-07-01  \n",
       "\n",
       "[5 rows x 26 columns]"
      ]
     },
     "execution_count": 7,
     "metadata": {},
     "output_type": "execute_result"
    }
   ],
   "source": [
    "data_frames_1[0].head()"
   ]
  },
  {
   "cell_type": "code",
   "execution_count": 8,
   "id": "303eb9d8",
   "metadata": {},
   "outputs": [
    {
     "data": {
      "text/plain": [
       "Power_Plant    Canyon\n",
       "00:00:00         40.0\n",
       "01:00:00         40.0\n",
       "02:00:00         40.0\n",
       "03:00:00          0.0\n",
       "04:00:00          0.0\n",
       "05:00:00          0.0\n",
       "06:00:00          0.0\n",
       "07:00:00          0.0\n",
       "08:00:00         22.0\n",
       "09:00:00         44.0\n",
       "10:00:00        101.0\n",
       "11:00:00        120.0\n",
       "12:00:00        120.0\n",
       "13:00:00        120.0\n",
       "14:00:00        120.0\n",
       "15:00:00        120.0\n",
       "16:00:00        120.0\n",
       "17:00:00        120.0\n",
       "18:00:00        120.0\n",
       "19:00:00        120.0\n",
       "20:00:00        120.0\n",
       "21:00:00        120.0\n",
       "22:00:00         90.0\n",
       "23:00:00          0.0\n",
       "Name: 1, dtype: object"
      ]
     },
     "execution_count": 8,
     "metadata": {},
     "output_type": "execute_result"
    }
   ],
   "source": [
    "x=df.iloc[0,:]\n",
    "x"
   ]
  },
  {
   "cell_type": "code",
   "execution_count": 9,
   "id": "39cb89d2",
   "metadata": {},
   "outputs": [],
   "source": [
    "x=x.drop('Power_Plant')"
   ]
  },
  {
   "cell_type": "code",
   "execution_count": 10,
   "id": "34838a3b",
   "metadata": {},
   "outputs": [
    {
     "data": {
      "text/plain": [
       "00:00:00     40.0\n",
       "01:00:00     40.0\n",
       "02:00:00     40.0\n",
       "03:00:00      0.0\n",
       "04:00:00      0.0\n",
       "05:00:00      0.0\n",
       "06:00:00      0.0\n",
       "07:00:00      0.0\n",
       "08:00:00     22.0\n",
       "09:00:00     44.0\n",
       "10:00:00    101.0\n",
       "11:00:00    120.0\n",
       "12:00:00    120.0\n",
       "13:00:00    120.0\n",
       "14:00:00    120.0\n",
       "15:00:00    120.0\n",
       "16:00:00    120.0\n",
       "17:00:00    120.0\n",
       "18:00:00    120.0\n",
       "19:00:00    120.0\n",
       "20:00:00    120.0\n",
       "21:00:00    120.0\n",
       "22:00:00     90.0\n",
       "23:00:00      0.0\n",
       "Name: 1, dtype: object"
      ]
     },
     "execution_count": 10,
     "metadata": {},
     "output_type": "execute_result"
    }
   ],
   "source": [
    "x"
   ]
  },
  {
   "cell_type": "code",
   "execution_count": 11,
   "id": "5c25676e",
   "metadata": {},
   "outputs": [
    {
     "data": {
      "text/html": [
       "<div>\n",
       "<style scoped>\n",
       "    .dataframe tbody tr th:only-of-type {\n",
       "        vertical-align: middle;\n",
       "    }\n",
       "\n",
       "    .dataframe tbody tr th {\n",
       "        vertical-align: top;\n",
       "    }\n",
       "\n",
       "    .dataframe thead th {\n",
       "        text-align: right;\n",
       "    }\n",
       "</style>\n",
       "<table border=\"1\" class=\"dataframe\">\n",
       "  <thead>\n",
       "    <tr style=\"text-align: right;\">\n",
       "      <th></th>\n",
       "      <th>index</th>\n",
       "      <th>1</th>\n",
       "    </tr>\n",
       "  </thead>\n",
       "  <tbody>\n",
       "    <tr>\n",
       "      <th>0</th>\n",
       "      <td>00:00:00</td>\n",
       "      <td>40.0</td>\n",
       "    </tr>\n",
       "    <tr>\n",
       "      <th>1</th>\n",
       "      <td>01:00:00</td>\n",
       "      <td>40.0</td>\n",
       "    </tr>\n",
       "    <tr>\n",
       "      <th>2</th>\n",
       "      <td>02:00:00</td>\n",
       "      <td>40.0</td>\n",
       "    </tr>\n",
       "    <tr>\n",
       "      <th>3</th>\n",
       "      <td>03:00:00</td>\n",
       "      <td>0.0</td>\n",
       "    </tr>\n",
       "    <tr>\n",
       "      <th>4</th>\n",
       "      <td>04:00:00</td>\n",
       "      <td>0.0</td>\n",
       "    </tr>\n",
       "  </tbody>\n",
       "</table>\n",
       "</div>"
      ],
      "text/plain": [
       "      index     1\n",
       "0  00:00:00  40.0\n",
       "1  01:00:00  40.0\n",
       "2  02:00:00  40.0\n",
       "3  03:00:00   0.0\n",
       "4  04:00:00   0.0"
      ]
     },
     "execution_count": 11,
     "metadata": {},
     "output_type": "execute_result"
    }
   ],
   "source": [
    "df1 = x.to_frame().reset_index()  \n",
    "# show the dataframe\n",
    "df1.head()"
   ]
  },
  {
   "cell_type": "code",
   "execution_count": 12,
   "id": "514981f1",
   "metadata": {},
   "outputs": [
    {
     "data": {
      "text/html": [
       "<div>\n",
       "<style scoped>\n",
       "    .dataframe tbody tr th:only-of-type {\n",
       "        vertical-align: middle;\n",
       "    }\n",
       "\n",
       "    .dataframe tbody tr th {\n",
       "        vertical-align: top;\n",
       "    }\n",
       "\n",
       "    .dataframe thead th {\n",
       "        text-align: right;\n",
       "    }\n",
       "</style>\n",
       "<table border=\"1\" class=\"dataframe\">\n",
       "  <thead>\n",
       "    <tr style=\"text-align: right;\">\n",
       "      <th></th>\n",
       "      <th>Time</th>\n",
       "      <th>Dispatch</th>\n",
       "    </tr>\n",
       "  </thead>\n",
       "  <tbody>\n",
       "    <tr>\n",
       "      <th>0</th>\n",
       "      <td>00:00:00</td>\n",
       "      <td>40.0</td>\n",
       "    </tr>\n",
       "    <tr>\n",
       "      <th>1</th>\n",
       "      <td>01:00:00</td>\n",
       "      <td>40.0</td>\n",
       "    </tr>\n",
       "    <tr>\n",
       "      <th>2</th>\n",
       "      <td>02:00:00</td>\n",
       "      <td>40.0</td>\n",
       "    </tr>\n",
       "    <tr>\n",
       "      <th>3</th>\n",
       "      <td>03:00:00</td>\n",
       "      <td>0.0</td>\n",
       "    </tr>\n",
       "    <tr>\n",
       "      <th>4</th>\n",
       "      <td>04:00:00</td>\n",
       "      <td>0.0</td>\n",
       "    </tr>\n",
       "  </tbody>\n",
       "</table>\n",
       "</div>"
      ],
      "text/plain": [
       "       Time Dispatch\n",
       "0  00:00:00     40.0\n",
       "1  01:00:00     40.0\n",
       "2  02:00:00     40.0\n",
       "3  03:00:00      0.0\n",
       "4  04:00:00      0.0"
      ]
     },
     "execution_count": 12,
     "metadata": {},
     "output_type": "execute_result"
    }
   ],
   "source": [
    "df1=df1.rename(columns = {'index':'Time',1:'Dispatch'}) #renaming...\n",
    "df1.head()"
   ]
  },
  {
   "cell_type": "code",
   "execution_count": 13,
   "id": "7c89c233",
   "metadata": {},
   "outputs": [
    {
     "data": {
      "text/plain": [
       "datetime.date(2020, 7, 1)"
      ]
     },
     "execution_count": 13,
     "metadata": {},
     "output_type": "execute_result"
    }
   ],
   "source": [
    "date=data_frames_2[0].iloc[0,3]\n",
    "date"
   ]
  },
  {
   "cell_type": "code",
   "execution_count": 14,
   "id": "4e9dbc00",
   "metadata": {},
   "outputs": [],
   "source": [
    "df1['date']=date"
   ]
  },
  {
   "cell_type": "code",
   "execution_count": 15,
   "id": "1ff3019a",
   "metadata": {},
   "outputs": [
    {
     "data": {
      "text/html": [
       "<div>\n",
       "<style scoped>\n",
       "    .dataframe tbody tr th:only-of-type {\n",
       "        vertical-align: middle;\n",
       "    }\n",
       "\n",
       "    .dataframe tbody tr th {\n",
       "        vertical-align: top;\n",
       "    }\n",
       "\n",
       "    .dataframe thead th {\n",
       "        text-align: right;\n",
       "    }\n",
       "</style>\n",
       "<table border=\"1\" class=\"dataframe\">\n",
       "  <thead>\n",
       "    <tr style=\"text-align: right;\">\n",
       "      <th></th>\n",
       "      <th>Time</th>\n",
       "      <th>Dispatch</th>\n",
       "      <th>date</th>\n",
       "    </tr>\n",
       "  </thead>\n",
       "  <tbody>\n",
       "    <tr>\n",
       "      <th>0</th>\n",
       "      <td>00:00:00</td>\n",
       "      <td>40.0</td>\n",
       "      <td>2020-07-01</td>\n",
       "    </tr>\n",
       "    <tr>\n",
       "      <th>1</th>\n",
       "      <td>01:00:00</td>\n",
       "      <td>40.0</td>\n",
       "      <td>2020-07-01</td>\n",
       "    </tr>\n",
       "    <tr>\n",
       "      <th>2</th>\n",
       "      <td>02:00:00</td>\n",
       "      <td>40.0</td>\n",
       "      <td>2020-07-01</td>\n",
       "    </tr>\n",
       "    <tr>\n",
       "      <th>3</th>\n",
       "      <td>03:00:00</td>\n",
       "      <td>0.0</td>\n",
       "      <td>2020-07-01</td>\n",
       "    </tr>\n",
       "    <tr>\n",
       "      <th>4</th>\n",
       "      <td>04:00:00</td>\n",
       "      <td>0.0</td>\n",
       "      <td>2020-07-01</td>\n",
       "    </tr>\n",
       "  </tbody>\n",
       "</table>\n",
       "</div>"
      ],
      "text/plain": [
       "       Time Dispatch        date\n",
       "0  00:00:00     40.0  2020-07-01\n",
       "1  01:00:00     40.0  2020-07-01\n",
       "2  02:00:00     40.0  2020-07-01\n",
       "3  03:00:00      0.0  2020-07-01\n",
       "4  04:00:00      0.0  2020-07-01"
      ]
     },
     "execution_count": 15,
     "metadata": {},
     "output_type": "execute_result"
    }
   ],
   "source": [
    "df1.head()"
   ]
  },
  {
   "cell_type": "code",
   "execution_count": 16,
   "id": "77cc1c80",
   "metadata": {},
   "outputs": [],
   "source": [
    "df1['ConvertedDate']=df1['date'].astype(str) #not working..(try another way below)"
   ]
  },
  {
   "cell_type": "code",
   "execution_count": 17,
   "id": "86350eb7",
   "metadata": {},
   "outputs": [
    {
     "data": {
      "text/plain": [
       "Time             object\n",
       "Dispatch         object\n",
       "date             object\n",
       "ConvertedDate    object\n",
       "dtype: object"
      ]
     },
     "execution_count": 17,
     "metadata": {},
     "output_type": "execute_result"
    }
   ],
   "source": [
    "df1.dtypes"
   ]
  },
  {
   "cell_type": "code",
   "execution_count": 18,
   "id": "2b57b079",
   "metadata": {},
   "outputs": [],
   "source": [
    "df1['date'] = df1['date'].astype(\"string\") #change the data type"
   ]
  },
  {
   "cell_type": "code",
   "execution_count": 19,
   "id": "0257ce21",
   "metadata": {},
   "outputs": [
    {
     "data": {
      "text/plain": [
       "Time             object\n",
       "Dispatch         object\n",
       "date             string\n",
       "ConvertedDate    object\n",
       "dtype: object"
      ]
     },
     "execution_count": 19,
     "metadata": {},
     "output_type": "execute_result"
    }
   ],
   "source": [
    "df1.dtypes"
   ]
  },
  {
   "cell_type": "code",
   "execution_count": 20,
   "id": "69c648f7",
   "metadata": {},
   "outputs": [],
   "source": [
    "df1['Date-Time']=df1['date'] + ' ' + df1['Time'] #combine date and the time.."
   ]
  },
  {
   "cell_type": "code",
   "execution_count": 21,
   "id": "17012a7b",
   "metadata": {},
   "outputs": [
    {
     "data": {
      "text/html": [
       "<div>\n",
       "<style scoped>\n",
       "    .dataframe tbody tr th:only-of-type {\n",
       "        vertical-align: middle;\n",
       "    }\n",
       "\n",
       "    .dataframe tbody tr th {\n",
       "        vertical-align: top;\n",
       "    }\n",
       "\n",
       "    .dataframe thead th {\n",
       "        text-align: right;\n",
       "    }\n",
       "</style>\n",
       "<table border=\"1\" class=\"dataframe\">\n",
       "  <thead>\n",
       "    <tr style=\"text-align: right;\">\n",
       "      <th></th>\n",
       "      <th>Time</th>\n",
       "      <th>Dispatch</th>\n",
       "      <th>date</th>\n",
       "      <th>ConvertedDate</th>\n",
       "      <th>Date-Time</th>\n",
       "    </tr>\n",
       "  </thead>\n",
       "  <tbody>\n",
       "    <tr>\n",
       "      <th>0</th>\n",
       "      <td>00:00:00</td>\n",
       "      <td>40.0</td>\n",
       "      <td>2020-07-01</td>\n",
       "      <td>2020-07-01</td>\n",
       "      <td>2020-07-01 00:00:00</td>\n",
       "    </tr>\n",
       "    <tr>\n",
       "      <th>1</th>\n",
       "      <td>01:00:00</td>\n",
       "      <td>40.0</td>\n",
       "      <td>2020-07-01</td>\n",
       "      <td>2020-07-01</td>\n",
       "      <td>2020-07-01 01:00:00</td>\n",
       "    </tr>\n",
       "    <tr>\n",
       "      <th>2</th>\n",
       "      <td>02:00:00</td>\n",
       "      <td>40.0</td>\n",
       "      <td>2020-07-01</td>\n",
       "      <td>2020-07-01</td>\n",
       "      <td>2020-07-01 02:00:00</td>\n",
       "    </tr>\n",
       "    <tr>\n",
       "      <th>3</th>\n",
       "      <td>03:00:00</td>\n",
       "      <td>0.0</td>\n",
       "      <td>2020-07-01</td>\n",
       "      <td>2020-07-01</td>\n",
       "      <td>2020-07-01 03:00:00</td>\n",
       "    </tr>\n",
       "    <tr>\n",
       "      <th>4</th>\n",
       "      <td>04:00:00</td>\n",
       "      <td>0.0</td>\n",
       "      <td>2020-07-01</td>\n",
       "      <td>2020-07-01</td>\n",
       "      <td>2020-07-01 04:00:00</td>\n",
       "    </tr>\n",
       "  </tbody>\n",
       "</table>\n",
       "</div>"
      ],
      "text/plain": [
       "       Time Dispatch        date ConvertedDate            Date-Time\n",
       "0  00:00:00     40.0  2020-07-01    2020-07-01  2020-07-01 00:00:00\n",
       "1  01:00:00     40.0  2020-07-01    2020-07-01  2020-07-01 01:00:00\n",
       "2  02:00:00     40.0  2020-07-01    2020-07-01  2020-07-01 02:00:00\n",
       "3  03:00:00      0.0  2020-07-01    2020-07-01  2020-07-01 03:00:00\n",
       "4  04:00:00      0.0  2020-07-01    2020-07-01  2020-07-01 04:00:00"
      ]
     },
     "execution_count": 21,
     "metadata": {},
     "output_type": "execute_result"
    }
   ],
   "source": [
    "df1.head()"
   ]
  },
  {
   "cell_type": "code",
   "execution_count": 22,
   "id": "bebdc08b",
   "metadata": {},
   "outputs": [],
   "source": [
    "df1['Date-Time'] = pd.to_datetime(df1['Date-Time'])"
   ]
  },
  {
   "cell_type": "code",
   "execution_count": 23,
   "id": "4fc3c1a7",
   "metadata": {},
   "outputs": [
    {
     "data": {
      "text/plain": [
       "Time                     object\n",
       "Dispatch                 object\n",
       "date                     string\n",
       "ConvertedDate            object\n",
       "Date-Time        datetime64[ns]\n",
       "dtype: object"
      ]
     },
     "execution_count": 23,
     "metadata": {},
     "output_type": "execute_result"
    }
   ],
   "source": [
    "df1.dtypes"
   ]
  },
  {
   "cell_type": "code",
   "execution_count": 24,
   "id": "45968367",
   "metadata": {},
   "outputs": [],
   "source": [
    "df2=df1[['Date-Time','Dispatch']] #select only needed columns."
   ]
  },
  {
   "cell_type": "code",
   "execution_count": 25,
   "id": "5502b241",
   "metadata": {},
   "outputs": [
    {
     "data": {
      "text/html": [
       "<div>\n",
       "<style scoped>\n",
       "    .dataframe tbody tr th:only-of-type {\n",
       "        vertical-align: middle;\n",
       "    }\n",
       "\n",
       "    .dataframe tbody tr th {\n",
       "        vertical-align: top;\n",
       "    }\n",
       "\n",
       "    .dataframe thead th {\n",
       "        text-align: right;\n",
       "    }\n",
       "</style>\n",
       "<table border=\"1\" class=\"dataframe\">\n",
       "  <thead>\n",
       "    <tr style=\"text-align: right;\">\n",
       "      <th></th>\n",
       "      <th>Date-Time</th>\n",
       "      <th>Dispatch</th>\n",
       "    </tr>\n",
       "  </thead>\n",
       "  <tbody>\n",
       "    <tr>\n",
       "      <th>0</th>\n",
       "      <td>2020-07-01 00:00:00</td>\n",
       "      <td>40.0</td>\n",
       "    </tr>\n",
       "    <tr>\n",
       "      <th>1</th>\n",
       "      <td>2020-07-01 01:00:00</td>\n",
       "      <td>40.0</td>\n",
       "    </tr>\n",
       "    <tr>\n",
       "      <th>2</th>\n",
       "      <td>2020-07-01 02:00:00</td>\n",
       "      <td>40.0</td>\n",
       "    </tr>\n",
       "    <tr>\n",
       "      <th>3</th>\n",
       "      <td>2020-07-01 03:00:00</td>\n",
       "      <td>0.0</td>\n",
       "    </tr>\n",
       "    <tr>\n",
       "      <th>4</th>\n",
       "      <td>2020-07-01 04:00:00</td>\n",
       "      <td>0.0</td>\n",
       "    </tr>\n",
       "  </tbody>\n",
       "</table>\n",
       "</div>"
      ],
      "text/plain": [
       "            Date-Time Dispatch\n",
       "0 2020-07-01 00:00:00     40.0\n",
       "1 2020-07-01 01:00:00     40.0\n",
       "2 2020-07-01 02:00:00     40.0\n",
       "3 2020-07-01 03:00:00      0.0\n",
       "4 2020-07-01 04:00:00      0.0"
      ]
     },
     "execution_count": 25,
     "metadata": {},
     "output_type": "execute_result"
    }
   ],
   "source": [
    "df2.head()"
   ]
  },
  {
   "cell_type": "code",
   "execution_count": 26,
   "id": "92538bde",
   "metadata": {},
   "outputs": [
    {
     "data": {
      "text/plain": [
       "Date-Time    datetime64[ns]\n",
       "Dispatch             object\n",
       "dtype: object"
      ]
     },
     "execution_count": 26,
     "metadata": {},
     "output_type": "execute_result"
    }
   ],
   "source": [
    "df2.dtypes"
   ]
  },
  {
   "cell_type": "code",
   "execution_count": 27,
   "id": "d23fcdde",
   "metadata": {},
   "outputs": [
    {
     "name": "stderr",
     "output_type": "stream",
     "text": [
      "C:\\Users\\RAVI\\AppData\\Local\\Temp/ipykernel_17604/3214833419.py:1: SettingWithCopyWarning: \n",
      "A value is trying to be set on a copy of a slice from a DataFrame.\n",
      "Try using .loc[row_indexer,col_indexer] = value instead\n",
      "\n",
      "See the caveats in the documentation: https://pandas.pydata.org/pandas-docs/stable/user_guide/indexing.html#returning-a-view-versus-a-copy\n",
      "  df2['Dispatch'] = df1['Dispatch'].astype(\"float\")  #change the data type\n"
     ]
    }
   ],
   "source": [
    "df2['Dispatch'] = df1['Dispatch'].astype(\"float\")  #change the data type"
   ]
  },
  {
   "cell_type": "code",
   "execution_count": 28,
   "id": "7ead466b",
   "metadata": {},
   "outputs": [
    {
     "data": {
      "text/plain": [
       "Date-Time    datetime64[ns]\n",
       "Dispatch            float64\n",
       "dtype: object"
      ]
     },
     "execution_count": 28,
     "metadata": {},
     "output_type": "execute_result"
    }
   ],
   "source": [
    "df2.dtypes"
   ]
  },
  {
   "cell_type": "code",
   "execution_count": 29,
   "id": "4056b4e4",
   "metadata": {},
   "outputs": [
    {
     "data": {
      "text/html": [
       "<div>\n",
       "<style scoped>\n",
       "    .dataframe tbody tr th:only-of-type {\n",
       "        vertical-align: middle;\n",
       "    }\n",
       "\n",
       "    .dataframe tbody tr th {\n",
       "        vertical-align: top;\n",
       "    }\n",
       "\n",
       "    .dataframe thead th {\n",
       "        text-align: right;\n",
       "    }\n",
       "</style>\n",
       "<table border=\"1\" class=\"dataframe\">\n",
       "  <thead>\n",
       "    <tr style=\"text-align: right;\">\n",
       "      <th></th>\n",
       "      <th>Date-Time</th>\n",
       "      <th>Dispatch</th>\n",
       "    </tr>\n",
       "  </thead>\n",
       "  <tbody>\n",
       "    <tr>\n",
       "      <th>0</th>\n",
       "      <td>2020-07-01 00:00:00</td>\n",
       "      <td>40.0</td>\n",
       "    </tr>\n",
       "    <tr>\n",
       "      <th>1</th>\n",
       "      <td>2020-07-01 01:00:00</td>\n",
       "      <td>40.0</td>\n",
       "    </tr>\n",
       "    <tr>\n",
       "      <th>2</th>\n",
       "      <td>2020-07-01 02:00:00</td>\n",
       "      <td>40.0</td>\n",
       "    </tr>\n",
       "    <tr>\n",
       "      <th>3</th>\n",
       "      <td>2020-07-01 03:00:00</td>\n",
       "      <td>0.0</td>\n",
       "    </tr>\n",
       "    <tr>\n",
       "      <th>4</th>\n",
       "      <td>2020-07-01 04:00:00</td>\n",
       "      <td>0.0</td>\n",
       "    </tr>\n",
       "  </tbody>\n",
       "</table>\n",
       "</div>"
      ],
      "text/plain": [
       "            Date-Time  Dispatch\n",
       "0 2020-07-01 00:00:00      40.0\n",
       "1 2020-07-01 01:00:00      40.0\n",
       "2 2020-07-01 02:00:00      40.0\n",
       "3 2020-07-01 03:00:00       0.0\n",
       "4 2020-07-01 04:00:00       0.0"
      ]
     },
     "execution_count": 29,
     "metadata": {},
     "output_type": "execute_result"
    }
   ],
   "source": [
    "df2.head()"
   ]
  },
  {
   "cell_type": "code",
   "execution_count": 30,
   "id": "1115d439",
   "metadata": {},
   "outputs": [],
   "source": [
    "df2Copy = df2.copy() #make a copy of the dataframe to use if something went wrong.."
   ]
  },
  {
   "cell_type": "code",
   "execution_count": 31,
   "id": "26814bfa",
   "metadata": {},
   "outputs": [
    {
     "data": {
      "text/html": [
       "<div>\n",
       "<style scoped>\n",
       "    .dataframe tbody tr th:only-of-type {\n",
       "        vertical-align: middle;\n",
       "    }\n",
       "\n",
       "    .dataframe tbody tr th {\n",
       "        vertical-align: top;\n",
       "    }\n",
       "\n",
       "    .dataframe thead th {\n",
       "        text-align: right;\n",
       "    }\n",
       "</style>\n",
       "<table border=\"1\" class=\"dataframe\">\n",
       "  <thead>\n",
       "    <tr style=\"text-align: right;\">\n",
       "      <th></th>\n",
       "      <th>Date-Time</th>\n",
       "      <th>Dispatch</th>\n",
       "    </tr>\n",
       "  </thead>\n",
       "  <tbody>\n",
       "    <tr>\n",
       "      <th>0</th>\n",
       "      <td>2020-07-01 00:00:00</td>\n",
       "      <td>40.0</td>\n",
       "    </tr>\n",
       "    <tr>\n",
       "      <th>1</th>\n",
       "      <td>2020-07-01 01:00:00</td>\n",
       "      <td>40.0</td>\n",
       "    </tr>\n",
       "    <tr>\n",
       "      <th>2</th>\n",
       "      <td>2020-07-01 02:00:00</td>\n",
       "      <td>40.0</td>\n",
       "    </tr>\n",
       "    <tr>\n",
       "      <th>3</th>\n",
       "      <td>2020-07-01 03:00:00</td>\n",
       "      <td>0.0</td>\n",
       "    </tr>\n",
       "    <tr>\n",
       "      <th>4</th>\n",
       "      <td>2020-07-01 04:00:00</td>\n",
       "      <td>0.0</td>\n",
       "    </tr>\n",
       "  </tbody>\n",
       "</table>\n",
       "</div>"
      ],
      "text/plain": [
       "            Date-Time  Dispatch\n",
       "0 2020-07-01 00:00:00      40.0\n",
       "1 2020-07-01 01:00:00      40.0\n",
       "2 2020-07-01 02:00:00      40.0\n",
       "3 2020-07-01 03:00:00       0.0\n",
       "4 2020-07-01 04:00:00       0.0"
      ]
     },
     "execution_count": 31,
     "metadata": {},
     "output_type": "execute_result"
    }
   ],
   "source": [
    "df2Copy.head() #check the copy"
   ]
  },
  {
   "cell_type": "code",
   "execution_count": 32,
   "id": "0b0cafb0",
   "metadata": {},
   "outputs": [
    {
     "data": {
      "text/plain": [
       "Date-Time    datetime64[ns]\n",
       "Dispatch            float64\n",
       "dtype: object"
      ]
     },
     "execution_count": 32,
     "metadata": {},
     "output_type": "execute_result"
    }
   ],
   "source": [
    "df2Copy.dtypes    #check the copy"
   ]
  },
  {
   "cell_type": "code",
   "execution_count": 33,
   "id": "7bf54883",
   "metadata": {},
   "outputs": [
    {
     "data": {
      "text/plain": [
       "<AxesSubplot:xlabel='Date-Time'>"
      ]
     },
     "execution_count": 33,
     "metadata": {},
     "output_type": "execute_result"
    },
    {
     "data": {
      "image/png": "[encoded data removed]",
      "text/plain": [
       "<Figure size 720x360 with 1 Axes>"
      ]
     },
     "metadata": {
      "needs_background": "light"
     },
     "output_type": "display_data"
    }
   ],
   "source": [
    "#plot Dispatch against time in the Canyon Plant (1st of july)\n",
    "df2Copy=df2Copy.set_index('Date-Time') #set index column as the time column....\n",
    "df2Copy.plot(figsize=(10,5))"
   ]
  },
  {
   "cell_type": "code",
   "execution_count": 35,
   "id": "b4e79c71",
   "metadata": {},
   "outputs": [],
   "source": [
    "#df2Copy=df2Copy.set_index('Date-Time')"
   ]
  },
  {
   "cell_type": "code",
   "execution_count": 36,
   "id": "ee764b89",
   "metadata": {},
   "outputs": [
    {
     "data": {
      "text/html": [
       "<div>\n",
       "<style scoped>\n",
       "    .dataframe tbody tr th:only-of-type {\n",
       "        vertical-align: middle;\n",
       "    }\n",
       "\n",
       "    .dataframe tbody tr th {\n",
       "        vertical-align: top;\n",
       "    }\n",
       "\n",
       "    .dataframe thead th {\n",
       "        text-align: right;\n",
       "    }\n",
       "</style>\n",
       "<table border=\"1\" class=\"dataframe\">\n",
       "  <thead>\n",
       "    <tr style=\"text-align: right;\">\n",
       "      <th></th>\n",
       "      <th>Dispatch</th>\n",
       "    </tr>\n",
       "    <tr>\n",
       "      <th>Date-Time</th>\n",
       "      <th></th>\n",
       "    </tr>\n",
       "  </thead>\n",
       "  <tbody>\n",
       "    <tr>\n",
       "      <th>2020-07-01 00:00:00</th>\n",
       "      <td>40.0</td>\n",
       "    </tr>\n",
       "    <tr>\n",
       "      <th>2020-07-01 01:00:00</th>\n",
       "      <td>40.0</td>\n",
       "    </tr>\n",
       "    <tr>\n",
       "      <th>2020-07-01 02:00:00</th>\n",
       "      <td>40.0</td>\n",
       "    </tr>\n",
       "    <tr>\n",
       "      <th>2020-07-01 03:00:00</th>\n",
       "      <td>0.0</td>\n",
       "    </tr>\n",
       "    <tr>\n",
       "      <th>2020-07-01 04:00:00</th>\n",
       "      <td>0.0</td>\n",
       "    </tr>\n",
       "  </tbody>\n",
       "</table>\n",
       "</div>"
      ],
      "text/plain": [
       "                     Dispatch\n",
       "Date-Time                    \n",
       "2020-07-01 00:00:00      40.0\n",
       "2020-07-01 01:00:00      40.0\n",
       "2020-07-01 02:00:00      40.0\n",
       "2020-07-01 03:00:00       0.0\n",
       "2020-07-01 04:00:00       0.0"
      ]
     },
     "execution_count": 36,
     "metadata": {},
     "output_type": "execute_result"
    }
   ],
   "source": [
    "df2Copy.head()"
   ]
  },
  {
   "cell_type": "code",
   "execution_count": null,
   "id": "8cdf660a",
   "metadata": {},
   "outputs": [],
   "source": [
    "#df2Copy.plot(figsize=(12,6))"
   ]
  },
  {
   "cell_type": "code",
   "execution_count": 37,
   "id": "23f89ca1",
   "metadata": {},
   "outputs": [],
   "source": [
    "from statsmodels.tsa.seasonal import seasonal_decompose"
   ]
  },
  {
   "cell_type": "code",
   "execution_count": null,
   "id": "43debe35",
   "metadata": {},
   "outputs": [],
   "source": [
    "#res = seasonal_decompose(df2Copy['Dispatch'])   #Error occured!!it's needed 48 observations(but here only have 24 observations)\n",
    "#res.plot();"
   ]
  },
  {
   "cell_type": "code",
   "execution_count": 38,
   "id": "3d6d670a",
   "metadata": {},
   "outputs": [
    {
     "data": {
      "text/plain": [
       "24"
      ]
     },
     "execution_count": 38,
     "metadata": {},
     "output_type": "execute_result"
    }
   ],
   "source": [
    "len(df2Copy)"
   ]
  },
  {
   "cell_type": "code",
   "execution_count": 39,
   "id": "4e151ea7",
   "metadata": {},
   "outputs": [],
   "source": [
    "train = df2Copy.iloc[:20] \n",
    "test = df2Copy.iloc[20:]"
   ]
  },
  {
   "cell_type": "code",
   "execution_count": null,
   "id": "eec47ce6",
   "metadata": {},
   "outputs": [],
   "source": [
    "#train"
   ]
  },
  {
   "cell_type": "code",
   "execution_count": 40,
   "id": "74385ff4",
   "metadata": {},
   "outputs": [],
   "source": [
    "#convert the dataset into 0-1 scale\n",
    "from sklearn.preprocessing import MinMaxScaler\n",
    "scaler = MinMaxScaler()"
   ]
  },
  {
   "cell_type": "code",
   "execution_count": 41,
   "id": "a3ef92f7",
   "metadata": {},
   "outputs": [
    {
     "name": "stdout",
     "output_type": "stream",
     "text": [
      "                     Dispatch\n",
      "Date-Time                    \n",
      "2020-07-01 00:00:00      40.0\n",
      "2020-07-01 01:00:00      40.0\n",
      "2020-07-01 02:00:00      40.0\n",
      "2020-07-01 03:00:00       0.0\n",
      "2020-07-01 04:00:00       0.0\n",
      "                     Dispatch\n",
      "Date-Time                    \n",
      "2020-07-01 19:00:00     120.0\n",
      "2020-07-01 20:00:00     120.0\n",
      "2020-07-01 21:00:00     120.0\n",
      "2020-07-01 22:00:00      90.0\n",
      "2020-07-01 23:00:00       0.0\n"
     ]
    }
   ],
   "source": [
    "print(df2Copy.head())\n",
    "print(df2Copy.tail())"
   ]
  },
  {
   "cell_type": "code",
   "execution_count": 42,
   "id": "993e3392",
   "metadata": {},
   "outputs": [],
   "source": [
    "#scaling the dispatch values....\n",
    "scaler.fit(train)\n",
    "scaled_train = scaler.transform(train)\n",
    "scaled_test = scaler.transform(test)"
   ]
  },
  {
   "cell_type": "code",
   "execution_count": 43,
   "id": "a744a969",
   "metadata": {},
   "outputs": [
    {
     "data": {
      "text/plain": [
       "array([[0.33333333],\n",
       "       [0.33333333],\n",
       "       [0.33333333],\n",
       "       [0.        ],\n",
       "       [0.        ],\n",
       "       [0.        ],\n",
       "       [0.        ],\n",
       "       [0.        ],\n",
       "       [0.18333333],\n",
       "       [0.36666667]])"
      ]
     },
     "execution_count": 43,
     "metadata": {},
     "output_type": "execute_result"
    }
   ],
   "source": [
    "scaled_train[:10]"
   ]
  },
  {
   "cell_type": "code",
   "execution_count": 44,
   "id": "22369c21",
   "metadata": {},
   "outputs": [],
   "source": [
    "from keras.preprocessing.sequence import TimeseriesGenerator"
   ]
  },
  {
   "cell_type": "code",
   "execution_count": 45,
   "id": "f3ce9f0a",
   "metadata": {},
   "outputs": [],
   "source": [
    "n_input = 10\n",
    "n_features = 1\n",
    "generator = TimeseriesGenerator(scaled_train, scaled_train, length=n_input, batch_size=1)"
   ]
  },
  {
   "cell_type": "code",
   "execution_count": 46,
   "id": "becf5d2e",
   "metadata": {},
   "outputs": [],
   "source": [
    "from keras.models import Sequential\n",
    "from keras.layers import Dense\n",
    "from keras.layers import LSTM"
   ]
  },
  {
   "cell_type": "code",
   "execution_count": null,
   "id": "f53cdaea",
   "metadata": {},
   "outputs": [],
   "source": [
    "# define model #Error occured...................\n",
    "#model = Sequential()\n",
    "#model.add(LSTM(100, activation='relu', input_shape=(n_input, n_features))) #with 100 neurons....\n",
    "#model.add(Dense(1))\n",
    "#model.compile(optimizer='adam', loss='mse')"
   ]
  },
  {
   "cell_type": "code",
   "execution_count": 47,
   "id": "cf8a90c4",
   "metadata": {},
   "outputs": [
    {
     "data": {
      "text/html": [
       "<div>\n",
       "<style scoped>\n",
       "    .dataframe tbody tr th:only-of-type {\n",
       "        vertical-align: middle;\n",
       "    }\n",
       "\n",
       "    .dataframe tbody tr th {\n",
       "        vertical-align: top;\n",
       "    }\n",
       "\n",
       "    .dataframe thead th {\n",
       "        text-align: right;\n",
       "    }\n",
       "</style>\n",
       "<table border=\"1\" class=\"dataframe\">\n",
       "  <thead>\n",
       "    <tr style=\"text-align: right;\">\n",
       "      <th></th>\n",
       "      <th>Dispatch</th>\n",
       "    </tr>\n",
       "    <tr>\n",
       "      <th>Date-Time</th>\n",
       "      <th></th>\n",
       "    </tr>\n",
       "  </thead>\n",
       "  <tbody>\n",
       "    <tr>\n",
       "      <th>2020-07-01 00:00:00</th>\n",
       "      <td>40.0</td>\n",
       "    </tr>\n",
       "    <tr>\n",
       "      <th>2020-07-01 01:00:00</th>\n",
       "      <td>40.0</td>\n",
       "    </tr>\n",
       "    <tr>\n",
       "      <th>2020-07-01 02:00:00</th>\n",
       "      <td>40.0</td>\n",
       "    </tr>\n",
       "    <tr>\n",
       "      <th>2020-07-01 03:00:00</th>\n",
       "      <td>0.0</td>\n",
       "    </tr>\n",
       "    <tr>\n",
       "      <th>2020-07-01 04:00:00</th>\n",
       "      <td>0.0</td>\n",
       "    </tr>\n",
       "  </tbody>\n",
       "</table>\n",
       "</div>"
      ],
      "text/plain": [
       "                     Dispatch\n",
       "Date-Time                    \n",
       "2020-07-01 00:00:00      40.0\n",
       "2020-07-01 01:00:00      40.0\n",
       "2020-07-01 02:00:00      40.0\n",
       "2020-07-01 03:00:00       0.0\n",
       "2020-07-01 04:00:00       0.0"
      ]
     },
     "execution_count": 47,
     "metadata": {},
     "output_type": "execute_result"
    }
   ],
   "source": [
    "df2Copy.head()"
   ]
  },
  {
   "cell_type": "code",
   "execution_count": 48,
   "id": "c3aa035a",
   "metadata": {},
   "outputs": [
    {
     "data": {
      "text/plain": [
       "<AxesSubplot:xlabel='Date-Time'>"
      ]
     },
     "execution_count": 48,
     "metadata": {},
     "output_type": "execute_result"
    },
    {
     "data": {
      "image/png": "[encoded data removed]",
      "text/plain": [
       "<Figure size 432x288 with 1 Axes>"
      ]
     },
     "metadata": {
      "needs_background": "light"
     },
     "output_type": "display_data"
    }
   ],
   "source": [
    "df2Copy.plot()"
   ]
  },
  {
   "cell_type": "code",
   "execution_count": 49,
   "id": "70588a1f",
   "metadata": {},
   "outputs": [],
   "source": [
    "#testing for stationary\n",
    "from statsmodels.tsa.stattools import adfuller"
   ]
  },
  {
   "cell_type": "code",
   "execution_count": 50,
   "id": "db7bd5fd",
   "metadata": {},
   "outputs": [],
   "source": [
    "test_result=adfuller(df2Copy['Dispatch'])"
   ]
  },
  {
   "cell_type": "code",
   "execution_count": 51,
   "id": "583a82a4",
   "metadata": {},
   "outputs": [],
   "source": [
    "#Ho: It is non stationary\n",
    "#H1: It is stationary\n",
    "\n",
    "def adfuller_test(dispatch):\n",
    "    result=adfuller(dispatch)\n",
    "    labels = ['ADF Test Statistic','p-value','#Lags Used','Number of Observations Used']\n",
    "    for value,label in zip(result,labels):\n",
    "        print(label+' : '+str(value) )\n",
    "    if result[1] <= 0.05:\n",
    "        print(\"strong evidence against the null hypothesis(Ho), reject the null hypothesis. Data has no unit root and is stationary\")\n",
    "    else:\n",
    "        print(\"weak evidence against null hypothesis, time series has a unit root, indicating it is non-stationary \")"
   ]
  },
  {
   "cell_type": "code",
   "execution_count": 52,
   "id": "4912092b",
   "metadata": {},
   "outputs": [
    {
     "name": "stdout",
     "output_type": "stream",
     "text": [
      "ADF Test Statistic : -1.4738768399842597\n",
      "p-value : 0.5463922533085422\n",
      "#Lags Used : 1\n",
      "Number of Observations Used : 22\n",
      "weak evidence against null hypothesis, time series has a unit root, indicating it is non-stationary \n"
     ]
    }
   ],
   "source": [
    "adfuller_test(df2Copy['Dispatch'])"
   ]
  },
  {
   "cell_type": "code",
   "execution_count": 53,
   "id": "4da50bfb",
   "metadata": {},
   "outputs": [
    {
     "data": {
      "text/plain": [
       "30"
      ]
     },
     "execution_count": 53,
     "metadata": {},
     "output_type": "execute_result"
    }
   ],
   "source": [
    "len(data_frames_1)"
   ]
  },
  {
   "cell_type": "code",
   "execution_count": 54,
   "id": "a14a8111",
   "metadata": {},
   "outputs": [],
   "source": [
    "data_frames_1_Copy=data_frames_1.copy() #used.."
   ]
  },
  {
   "cell_type": "code",
   "execution_count": 56,
   "id": "d642c74d",
   "metadata": {},
   "outputs": [],
   "source": [
    "data_frames_1_copy=data_frames_1.copy() #new"
   ]
  },
  {
   "cell_type": "code",
   "execution_count": 57,
   "id": "1ebc4e99",
   "metadata": {},
   "outputs": [],
   "source": [
    "#for canyon..\n",
    "from datetime import datetime\n",
    "canyon=[]\n",
    "for i in range(5,30):\n",
    "    data_frames_1_copy[i]=data_frames_1_copy[i].drop('Date',axis=1)\n",
    "    x=data_frames_1_copy[i].iloc[0,:]\n",
    "    x=x.drop('Power_Plant')\n",
    "    df1 = x.to_frame().reset_index()  \n",
    "    df1=df1.rename(columns = {'index':'Time',1:'Dispatch'}) #renaming...\n",
    "    date=data_frames_2[i].iloc[0,3] #get the date\n",
    "    df1['date']=date\n",
    "    df1['date'] = df1['date'].astype(\"string\") #change the data type\n",
    "    df1['Date-Time']=df1['date'] + ' ' + df1['Time'] #combine date and the time..\n",
    "    #df1['Date-Time'] = pd.to_datetime(df1['Date-Time'])\n",
    "    df1['Date-Time'] = df1['Date-Time'].astype('datetime64[ns]')\n",
    "    df2=df1[['Date-Time','Dispatch']] #select only needed columns.\n",
    "    #df2['Dispatch'] = df1['Dispatch'].astype(\"float\")  #change the data type\n",
    "    #pd.to_datetime(df2['Date-Time'])\n",
    "    #print(df2.dtypes)\n",
    "    canyon.append(df2)\n",
    "    \n",
    "    "
   ]
  },
  {
   "cell_type": "code",
   "execution_count": 59,
   "id": "c8096bf1",
   "metadata": {},
   "outputs": [
    {
     "data": {
      "text/plain": [
       "(600, 2)"
      ]
     },
     "execution_count": 59,
     "metadata": {},
     "output_type": "execute_result"
    }
   ],
   "source": [
    "#merge all the dataframes(all days for canyon start from 7th july)\n",
    "from functools import reduce\n",
    "df_merged_1 = reduce(lambda  left,right: pd.merge(left,right,how='outer'), canyon)\n",
    "df_merged_1.shape"
   ]
  },
  {
   "cell_type": "code",
   "execution_count": 61,
   "id": "30006c25",
   "metadata": {},
   "outputs": [
    {
     "data": {
      "text/html": [
       "<div>\n",
       "<style scoped>\n",
       "    .dataframe tbody tr th:only-of-type {\n",
       "        vertical-align: middle;\n",
       "    }\n",
       "\n",
       "    .dataframe tbody tr th {\n",
       "        vertical-align: top;\n",
       "    }\n",
       "\n",
       "    .dataframe thead th {\n",
       "        text-align: right;\n",
       "    }\n",
       "</style>\n",
       "<table border=\"1\" class=\"dataframe\">\n",
       "  <thead>\n",
       "    <tr style=\"text-align: right;\">\n",
       "      <th></th>\n",
       "      <th>Date-Time</th>\n",
       "      <th>Dispatch</th>\n",
       "    </tr>\n",
       "  </thead>\n",
       "  <tbody>\n",
       "    <tr>\n",
       "      <th>0</th>\n",
       "      <td>2020-07-07 00:00:00</td>\n",
       "      <td>0.0</td>\n",
       "    </tr>\n",
       "    <tr>\n",
       "      <th>1</th>\n",
       "      <td>2020-07-07 01:00:00</td>\n",
       "      <td>0.0</td>\n",
       "    </tr>\n",
       "    <tr>\n",
       "      <th>2</th>\n",
       "      <td>2020-07-07 02:00:00</td>\n",
       "      <td>0.0</td>\n",
       "    </tr>\n",
       "    <tr>\n",
       "      <th>3</th>\n",
       "      <td>2020-07-07 03:00:00</td>\n",
       "      <td>0.0</td>\n",
       "    </tr>\n",
       "    <tr>\n",
       "      <th>4</th>\n",
       "      <td>2020-07-07 04:00:00</td>\n",
       "      <td>0.0</td>\n",
       "    </tr>\n",
       "    <tr>\n",
       "      <th>5</th>\n",
       "      <td>2020-07-07 05:00:00</td>\n",
       "      <td>38.0</td>\n",
       "    </tr>\n",
       "    <tr>\n",
       "      <th>6</th>\n",
       "      <td>2020-07-07 06:00:00</td>\n",
       "      <td>110.0</td>\n",
       "    </tr>\n",
       "    <tr>\n",
       "      <th>7</th>\n",
       "      <td>2020-07-07 07:00:00</td>\n",
       "      <td>80.0</td>\n",
       "    </tr>\n",
       "    <tr>\n",
       "      <th>8</th>\n",
       "      <td>2020-07-07 08:00:00</td>\n",
       "      <td>80.0</td>\n",
       "    </tr>\n",
       "    <tr>\n",
       "      <th>9</th>\n",
       "      <td>2020-07-07 09:00:00</td>\n",
       "      <td>80.0</td>\n",
       "    </tr>\n",
       "    <tr>\n",
       "      <th>10</th>\n",
       "      <td>2020-07-07 10:00:00</td>\n",
       "      <td>80.0</td>\n",
       "    </tr>\n",
       "    <tr>\n",
       "      <th>11</th>\n",
       "      <td>2020-07-07 11:00:00</td>\n",
       "      <td>80.0</td>\n",
       "    </tr>\n",
       "    <tr>\n",
       "      <th>12</th>\n",
       "      <td>2020-07-07 12:00:00</td>\n",
       "      <td>80.0</td>\n",
       "    </tr>\n",
       "    <tr>\n",
       "      <th>13</th>\n",
       "      <td>2020-07-07 13:00:00</td>\n",
       "      <td>80.0</td>\n",
       "    </tr>\n",
       "    <tr>\n",
       "      <th>14</th>\n",
       "      <td>2020-07-07 14:00:00</td>\n",
       "      <td>80.0</td>\n",
       "    </tr>\n",
       "    <tr>\n",
       "      <th>15</th>\n",
       "      <td>2020-07-07 15:00:00</td>\n",
       "      <td>80.0</td>\n",
       "    </tr>\n",
       "    <tr>\n",
       "      <th>16</th>\n",
       "      <td>2020-07-07 16:00:00</td>\n",
       "      <td>80.0</td>\n",
       "    </tr>\n",
       "    <tr>\n",
       "      <th>17</th>\n",
       "      <td>2020-07-07 17:00:00</td>\n",
       "      <td>80.0</td>\n",
       "    </tr>\n",
       "    <tr>\n",
       "      <th>18</th>\n",
       "      <td>2020-07-07 18:00:00</td>\n",
       "      <td>101.0</td>\n",
       "    </tr>\n",
       "    <tr>\n",
       "      <th>19</th>\n",
       "      <td>2020-07-07 19:00:00</td>\n",
       "      <td>124.0</td>\n",
       "    </tr>\n",
       "    <tr>\n",
       "      <th>20</th>\n",
       "      <td>2020-07-07 20:00:00</td>\n",
       "      <td>124.0</td>\n",
       "    </tr>\n",
       "    <tr>\n",
       "      <th>21</th>\n",
       "      <td>2020-07-07 21:00:00</td>\n",
       "      <td>124.0</td>\n",
       "    </tr>\n",
       "    <tr>\n",
       "      <th>22</th>\n",
       "      <td>2020-07-07 22:00:00</td>\n",
       "      <td>124.0</td>\n",
       "    </tr>\n",
       "    <tr>\n",
       "      <th>23</th>\n",
       "      <td>2020-07-07 23:00:00</td>\n",
       "      <td>0.0</td>\n",
       "    </tr>\n",
       "    <tr>\n",
       "      <th>24</th>\n",
       "      <td>2020-07-08 00:00:00</td>\n",
       "      <td>0.0</td>\n",
       "    </tr>\n",
       "    <tr>\n",
       "      <th>25</th>\n",
       "      <td>2020-07-08 01:00:00</td>\n",
       "      <td>0.0</td>\n",
       "    </tr>\n",
       "    <tr>\n",
       "      <th>26</th>\n",
       "      <td>2020-07-08 02:00:00</td>\n",
       "      <td>0.0</td>\n",
       "    </tr>\n",
       "    <tr>\n",
       "      <th>27</th>\n",
       "      <td>2020-07-08 03:00:00</td>\n",
       "      <td>0.0</td>\n",
       "    </tr>\n",
       "    <tr>\n",
       "      <th>28</th>\n",
       "      <td>2020-07-08 04:00:00</td>\n",
       "      <td>90.0</td>\n",
       "    </tr>\n",
       "    <tr>\n",
       "      <th>29</th>\n",
       "      <td>2020-07-08 05:00:00</td>\n",
       "      <td>120.0</td>\n",
       "    </tr>\n",
       "    <tr>\n",
       "      <th>30</th>\n",
       "      <td>2020-07-08 06:00:00</td>\n",
       "      <td>120.0</td>\n",
       "    </tr>\n",
       "    <tr>\n",
       "      <th>31</th>\n",
       "      <td>2020-07-08 07:00:00</td>\n",
       "      <td>124.0</td>\n",
       "    </tr>\n",
       "    <tr>\n",
       "      <th>32</th>\n",
       "      <td>2020-07-08 08:00:00</td>\n",
       "      <td>124.0</td>\n",
       "    </tr>\n",
       "    <tr>\n",
       "      <th>33</th>\n",
       "      <td>2020-07-08 09:00:00</td>\n",
       "      <td>124.0</td>\n",
       "    </tr>\n",
       "    <tr>\n",
       "      <th>34</th>\n",
       "      <td>2020-07-08 10:00:00</td>\n",
       "      <td>124.0</td>\n",
       "    </tr>\n",
       "    <tr>\n",
       "      <th>35</th>\n",
       "      <td>2020-07-08 11:00:00</td>\n",
       "      <td>124.0</td>\n",
       "    </tr>\n",
       "    <tr>\n",
       "      <th>36</th>\n",
       "      <td>2020-07-08 12:00:00</td>\n",
       "      <td>124.0</td>\n",
       "    </tr>\n",
       "    <tr>\n",
       "      <th>37</th>\n",
       "      <td>2020-07-08 13:00:00</td>\n",
       "      <td>124.0</td>\n",
       "    </tr>\n",
       "    <tr>\n",
       "      <th>38</th>\n",
       "      <td>2020-07-08 14:00:00</td>\n",
       "      <td>124.0</td>\n",
       "    </tr>\n",
       "    <tr>\n",
       "      <th>39</th>\n",
       "      <td>2020-07-08 15:00:00</td>\n",
       "      <td>124.0</td>\n",
       "    </tr>\n",
       "    <tr>\n",
       "      <th>40</th>\n",
       "      <td>2020-07-08 16:00:00</td>\n",
       "      <td>124.0</td>\n",
       "    </tr>\n",
       "    <tr>\n",
       "      <th>41</th>\n",
       "      <td>2020-07-08 17:00:00</td>\n",
       "      <td>71.0</td>\n",
       "    </tr>\n",
       "    <tr>\n",
       "      <th>42</th>\n",
       "      <td>2020-07-08 18:00:00</td>\n",
       "      <td>51.0</td>\n",
       "    </tr>\n",
       "    <tr>\n",
       "      <th>43</th>\n",
       "      <td>2020-07-08 19:00:00</td>\n",
       "      <td>81.0</td>\n",
       "    </tr>\n",
       "    <tr>\n",
       "      <th>44</th>\n",
       "      <td>2020-07-08 20:00:00</td>\n",
       "      <td>70.0</td>\n",
       "    </tr>\n",
       "    <tr>\n",
       "      <th>45</th>\n",
       "      <td>2020-07-08 21:00:00</td>\n",
       "      <td>40.0</td>\n",
       "    </tr>\n",
       "    <tr>\n",
       "      <th>46</th>\n",
       "      <td>2020-07-08 22:00:00</td>\n",
       "      <td>0.0</td>\n",
       "    </tr>\n",
       "    <tr>\n",
       "      <th>47</th>\n",
       "      <td>2020-07-08 23:00:00</td>\n",
       "      <td>0.0</td>\n",
       "    </tr>\n",
       "    <tr>\n",
       "      <th>48</th>\n",
       "      <td>2020-07-09 00:00:00</td>\n",
       "      <td>0.0</td>\n",
       "    </tr>\n",
       "    <tr>\n",
       "      <th>49</th>\n",
       "      <td>2020-07-09 01:00:00</td>\n",
       "      <td>0.0</td>\n",
       "    </tr>\n",
       "  </tbody>\n",
       "</table>\n",
       "</div>"
      ],
      "text/plain": [
       "             Date-Time Dispatch\n",
       "0  2020-07-07 00:00:00      0.0\n",
       "1  2020-07-07 01:00:00      0.0\n",
       "2  2020-07-07 02:00:00      0.0\n",
       "3  2020-07-07 03:00:00      0.0\n",
       "4  2020-07-07 04:00:00      0.0\n",
       "5  2020-07-07 05:00:00     38.0\n",
       "6  2020-07-07 06:00:00    110.0\n",
       "7  2020-07-07 07:00:00     80.0\n",
       "8  2020-07-07 08:00:00     80.0\n",
       "9  2020-07-07 09:00:00     80.0\n",
       "10 2020-07-07 10:00:00     80.0\n",
       "11 2020-07-07 11:00:00     80.0\n",
       "12 2020-07-07 12:00:00     80.0\n",
       "13 2020-07-07 13:00:00     80.0\n",
       "14 2020-07-07 14:00:00     80.0\n",
       "15 2020-07-07 15:00:00     80.0\n",
       "16 2020-07-07 16:00:00     80.0\n",
       "17 2020-07-07 17:00:00     80.0\n",
       "18 2020-07-07 18:00:00    101.0\n",
       "19 2020-07-07 19:00:00    124.0\n",
       "20 2020-07-07 20:00:00    124.0\n",
       "21 2020-07-07 21:00:00    124.0\n",
       "22 2020-07-07 22:00:00    124.0\n",
       "23 2020-07-07 23:00:00      0.0\n",
       "24 2020-07-08 00:00:00      0.0\n",
       "25 2020-07-08 01:00:00      0.0\n",
       "26 2020-07-08 02:00:00      0.0\n",
       "27 2020-07-08 03:00:00      0.0\n",
       "28 2020-07-08 04:00:00     90.0\n",
       "29 2020-07-08 05:00:00    120.0\n",
       "30 2020-07-08 06:00:00    120.0\n",
       "31 2020-07-08 07:00:00    124.0\n",
       "32 2020-07-08 08:00:00    124.0\n",
       "33 2020-07-08 09:00:00    124.0\n",
       "34 2020-07-08 10:00:00    124.0\n",
       "35 2020-07-08 11:00:00    124.0\n",
       "36 2020-07-08 12:00:00    124.0\n",
       "37 2020-07-08 13:00:00    124.0\n",
       "38 2020-07-08 14:00:00    124.0\n",
       "39 2020-07-08 15:00:00    124.0\n",
       "40 2020-07-08 16:00:00    124.0\n",
       "41 2020-07-08 17:00:00     71.0\n",
       "42 2020-07-08 18:00:00     51.0\n",
       "43 2020-07-08 19:00:00     81.0\n",
       "44 2020-07-08 20:00:00     70.0\n",
       "45 2020-07-08 21:00:00     40.0\n",
       "46 2020-07-08 22:00:00      0.0\n",
       "47 2020-07-08 23:00:00      0.0\n",
       "48 2020-07-09 00:00:00      0.0\n",
       "49 2020-07-09 01:00:00      0.0"
      ]
     },
     "execution_count": 61,
     "metadata": {},
     "output_type": "execute_result"
    }
   ],
   "source": [
    "df_merged_1.head(50)"
   ]
  },
  {
   "cell_type": "code",
   "execution_count": 67,
   "id": "adcbbfd1",
   "metadata": {},
   "outputs": [],
   "source": [
    "df_merged_1_copy1=df_merged_1.copy()"
   ]
  },
  {
   "cell_type": "code",
   "execution_count": 68,
   "id": "5ca8f2a2",
   "metadata": {},
   "outputs": [
    {
     "data": {
      "text/html": [
       "<div>\n",
       "<style scoped>\n",
       "    .dataframe tbody tr th:only-of-type {\n",
       "        vertical-align: middle;\n",
       "    }\n",
       "\n",
       "    .dataframe tbody tr th {\n",
       "        vertical-align: top;\n",
       "    }\n",
       "\n",
       "    .dataframe thead th {\n",
       "        text-align: right;\n",
       "    }\n",
       "</style>\n",
       "<table border=\"1\" class=\"dataframe\">\n",
       "  <thead>\n",
       "    <tr style=\"text-align: right;\">\n",
       "      <th></th>\n",
       "      <th>Date-Time</th>\n",
       "      <th>Dispatch</th>\n",
       "    </tr>\n",
       "  </thead>\n",
       "  <tbody>\n",
       "    <tr>\n",
       "      <th>0</th>\n",
       "      <td>2020-07-07 00:00:00</td>\n",
       "      <td>0.0</td>\n",
       "    </tr>\n",
       "    <tr>\n",
       "      <th>1</th>\n",
       "      <td>2020-07-07 01:00:00</td>\n",
       "      <td>0.0</td>\n",
       "    </tr>\n",
       "    <tr>\n",
       "      <th>2</th>\n",
       "      <td>2020-07-07 02:00:00</td>\n",
       "      <td>0.0</td>\n",
       "    </tr>\n",
       "    <tr>\n",
       "      <th>3</th>\n",
       "      <td>2020-07-07 03:00:00</td>\n",
       "      <td>0.0</td>\n",
       "    </tr>\n",
       "    <tr>\n",
       "      <th>4</th>\n",
       "      <td>2020-07-07 04:00:00</td>\n",
       "      <td>0.0</td>\n",
       "    </tr>\n",
       "  </tbody>\n",
       "</table>\n",
       "</div>"
      ],
      "text/plain": [
       "            Date-Time Dispatch\n",
       "0 2020-07-07 00:00:00      0.0\n",
       "1 2020-07-07 01:00:00      0.0\n",
       "2 2020-07-07 02:00:00      0.0\n",
       "3 2020-07-07 03:00:00      0.0\n",
       "4 2020-07-07 04:00:00      0.0"
      ]
     },
     "execution_count": 68,
     "metadata": {},
     "output_type": "execute_result"
    }
   ],
   "source": [
    "df_merged_1_copy1.head()"
   ]
  },
  {
   "cell_type": "code",
   "execution_count": 69,
   "id": "a9a76e76",
   "metadata": {},
   "outputs": [],
   "source": [
    "#plot Dispatch against time in the Canyon Plant(from 7th july to 31st july)\n",
    "df_merged_1_copy1=df_merged_1_copy1.set_index('Date-Time') #set index column as the time column...."
   ]
  },
  {
   "cell_type": "code",
   "execution_count": 70,
   "id": "8470b84e",
   "metadata": {},
   "outputs": [
    {
     "data": {
      "text/plain": [
       "<AxesSubplot:xlabel='Date-Time'>"
      ]
     },
     "execution_count": 70,
     "metadata": {},
     "output_type": "execute_result"
    },
    {
     "data": {
      "image/png": "[encoded data removed]",
      "text/plain": [
       "<Figure size 1440x360 with 1 Axes>"
      ]
     },
     "metadata": {
      "needs_background": "light"
     },
     "output_type": "display_data"
    }
   ],
   "source": [
    "df_merged_1_copy.plot(figsize=(20,5))"
   ]
  },
  {
   "cell_type": "code",
   "execution_count": 71,
   "id": "e7dff1f7",
   "metadata": {},
   "outputs": [],
   "source": [
    "from statsmodels.tsa.seasonal import seasonal_decompose"
   ]
  },
  {
   "cell_type": "code",
   "execution_count": 72,
   "id": "169c33e3",
   "metadata": {},
   "outputs": [
    {
     "data": {
      "image/png": "[encoded data removed]",
      "text/plain": [
       "<Figure size 432x288 with 4 Axes>"
      ]
     },
     "metadata": {
      "needs_background": "light"
     },
     "output_type": "display_data"
    }
   ],
   "source": [
    "results = seasonal_decompose(df_merged_1_copy['Dispatch'])\n",
    "results.plot();"
   ]
  },
  {
   "cell_type": "markdown",
   "id": "b07fc5b4",
   "metadata": {},
   "source": [
    "# Testing for stationarity"
   ]
  },
  {
   "cell_type": "code",
   "execution_count": 73,
   "id": "6c0750df",
   "metadata": {},
   "outputs": [],
   "source": [
    "from statsmodels.tsa.stattools import adfuller"
   ]
  },
  {
   "cell_type": "code",
   "execution_count": 74,
   "id": "6acbb727",
   "metadata": {},
   "outputs": [],
   "source": [
    "test_result=adfuller(df_merged_1_copy['Dispatch'])"
   ]
  },
  {
   "cell_type": "code",
   "execution_count": 75,
   "id": "a9498771",
   "metadata": {},
   "outputs": [],
   "source": [
    "#Ho: It is non stationary\n",
    "#H1: It is stationary\n",
    "\n",
    "def adfuller_test(dispatch):\n",
    "    result=adfuller(dispatch)\n",
    "    labels = ['ADF Test Statistic','p-value','#Lags Used','Number of Observations Used']\n",
    "    for value,label in zip(result,labels):\n",
    "        print(label+' : '+str(value) )\n",
    "    if result[1] <= 0.05:\n",
    "        print(\"strong evidence against the null hypothesis(Ho), reject the null hypothesis. Data has no unit root and is stationary\")\n",
    "    else:\n",
    "        print(\"weak evidence against null hypothesis, time series has a unit root, indicating it is non-stationary \")"
   ]
  },
  {
   "cell_type": "code",
   "execution_count": 76,
   "id": "79a2278a",
   "metadata": {},
   "outputs": [
    {
     "name": "stdout",
     "output_type": "stream",
     "text": [
      "ADF Test Statistic : -4.47611087768758\n",
      "p-value : 0.00021713612527982987\n",
      "#Lags Used : 19\n",
      "Number of Observations Used : 580\n",
      "strong evidence against the null hypothesis(Ho), reject the null hypothesis. Data has no unit root and is stationary\n"
     ]
    }
   ],
   "source": [
    "adfuller_test(df_merged_1_copy['Dispatch'])"
   ]
  },
  {
   "cell_type": "code",
   "execution_count": 83,
   "id": "15aa9ff5",
   "metadata": {},
   "outputs": [],
   "source": [
    "#from statsmodels.tsa.arima_model import ARIMA"
   ]
  },
  {
   "cell_type": "code",
   "execution_count": 84,
   "id": "9c9c0513",
   "metadata": {
    "scrolled": true
   },
   "outputs": [],
   "source": [
    "#model=ARIMA(df_merged_1_copy['Dispatch'],order=(1,1,1)) #p,d and q values..\n",
    "#model_fit=model.fit()"
   ]
  },
  {
   "cell_type": "code",
   "execution_count": 85,
   "id": "4db2516e",
   "metadata": {},
   "outputs": [],
   "source": [
    "import statsmodels.api as sm"
   ]
  },
  {
   "cell_type": "code",
   "execution_count": null,
   "id": "7a29250a",
   "metadata": {},
   "outputs": [],
   "source": []
  },
  {
   "cell_type": "code",
   "execution_count": 95,
   "id": "d3056840",
   "metadata": {},
   "outputs": [
    {
     "data": {
      "text/plain": [
       "Date-Time\n",
       "2020-07-07 00:00:00    0.0\n",
       "2020-07-07 01:00:00    0.0\n",
       "2020-07-07 02:00:00    0.0\n",
       "2020-07-07 03:00:00    0.0\n",
       "2020-07-07 04:00:00    0.0\n",
       "Name: Dispatch, dtype: object"
      ]
     },
     "execution_count": 95,
     "metadata": {},
     "output_type": "execute_result"
    }
   ],
   "source": [
    "df_merged_1_copy['Dispatch'].head()"
   ]
  },
  {
   "cell_type": "code",
   "execution_count": 96,
   "id": "a279a9be",
   "metadata": {},
   "outputs": [],
   "source": [
    "df_merged_1_copy['Dispatch']=df_merged_1_copy['Dispatch'].astype(float) #convert to float(because there was an error occured when using the datatype as object)"
   ]
  },
  {
   "cell_type": "code",
   "execution_count": 97,
   "id": "8f6b77d0",
   "metadata": {},
   "outputs": [
    {
     "data": {
      "text/plain": [
       "Date-Time\n",
       "2020-07-07 00:00:00    0.0\n",
       "2020-07-07 01:00:00    0.0\n",
       "2020-07-07 02:00:00    0.0\n",
       "2020-07-07 03:00:00    0.0\n",
       "2020-07-07 04:00:00    0.0\n",
       "Name: Dispatch, dtype: float64"
      ]
     },
     "execution_count": 97,
     "metadata": {},
     "output_type": "execute_result"
    }
   ],
   "source": [
    "df_merged_1_copy['Dispatch'].head()"
   ]
  },
  {
   "cell_type": "code",
   "execution_count": 98,
   "id": "3a7f0962",
   "metadata": {},
   "outputs": [
    {
     "name": "stderr",
     "output_type": "stream",
     "text": [
      "C:\\Users\\RAVI\\anaconda3\\envs\\tensorflow\\lib\\site-packages\\statsmodels\\tsa\\base\\tsa_model.py:471: ValueWarning: No frequency information was provided, so inferred frequency H will be used.\n",
      "  self._init_dates(dates, freq)\n",
      "C:\\Users\\RAVI\\anaconda3\\envs\\tensorflow\\lib\\site-packages\\statsmodels\\tsa\\base\\tsa_model.py:471: ValueWarning: No frequency information was provided, so inferred frequency H will be used.\n",
      "  self._init_dates(dates, freq)\n"
     ]
    }
   ],
   "source": [
    "model=sm.tsa.statespace.SARIMAX(df_merged_1_copy['Dispatch'],order=(1, 1, 0),seasonal_order=(1,1,0,24))\n",
    "results=model.fit()"
   ]
  },
  {
   "cell_type": "code",
   "execution_count": 104,
   "id": "c0a82fcc",
   "metadata": {},
   "outputs": [
    {
     "data": {
      "text/plain": [
       "<AxesSubplot:xlabel='Date-Time'>"
      ]
     },
     "execution_count": 104,
     "metadata": {},
     "output_type": "execute_result"
    },
    {
     "data": {
      "image/png": "[encoded data removed]",
      "text/plain": [
       "<Figure size 1440x720 with 1 Axes>"
      ]
     },
     "metadata": {
      "needs_background": "light"
     },
     "output_type": "display_data"
    }
   ],
   "source": [
    "df_merged_1_copy['Predicted']=results.predict(start=576,end=600,dynamic=True) #predict vs real last 24 hours of canyon plant dispatch\n",
    "df_merged_1_copy[['Dispatch','Predicted']].plot(figsize=(20,10))  #plotting the output"
   ]
  },
  {
   "cell_type": "code",
   "execution_count": 99,
   "id": "f5c0406e",
   "metadata": {},
   "outputs": [
    {
     "data": {
      "text/plain": [
       "(600,)"
      ]
     },
     "execution_count": 99,
     "metadata": {},
     "output_type": "execute_result"
    }
   ],
   "source": [
    "df_merged_1_copy['Dispatch'].shape"
   ]
  },
  {
   "cell_type": "code",
   "execution_count": 106,
   "id": "ecbcfd4c",
   "metadata": {},
   "outputs": [],
   "source": [
    "#df_merged_1_copy['Predicted']=results.predict(start=601,end=624,dynamic=True) #predict next 24 hours of canyon plant dispatch\n",
    "#df_merged_1_copy[['Dispatch','Predicted']].plot(figsize=(20,10))  #plotting the output"
   ]
  },
  {
   "cell_type": "code",
   "execution_count": null,
   "id": "7dd26cae",
   "metadata": {},
   "outputs": [],
   "source": [
    "future_df['forecast'] = results.predict(start = 104, end = 120, dynamic= True)  \n",
    "future_df[['Sales', 'forecast']].plot(figsize=(12, 8)) "
   ]
  },
  {
   "cell_type": "code",
   "execution_count": null,
   "id": "3a48dd4a",
   "metadata": {},
   "outputs": [],
   "source": [
    "#make the next 24 hours..\n",
    "datetime=[]\n",
    "for i in range(24):\n",
    "    datetime.append('2020-08-01'+' '+)\n",
    "    \n",
    "    "
   ]
  },
  {
   "cell_type": "code",
   "execution_count": 114,
   "id": "1e2482a0",
   "metadata": {},
   "outputs": [],
   "source": [
    "\n",
    "import datetime as dt\n",
    "t1 = dt.datetime.strptime('00:00:00', '%H:%M:%S')\n",
    "datetime=[]\n",
    "for i in range (24):\n",
    "    datetime.append(t1)\n",
    "    t2 = dt.datetime.strptime('01:00:00', '%H:%M:%S') #make to hourly....\n",
    "    time_zero = dt.datetime.strptime('00:00:00', '%H:%M:%S')\n",
    "    x=(t1 - time_zero + t2).time()\n",
    "    t1 = dt.datetime.strptime(str(x), '%H:%M:%S')"
   ]
  },
  {
   "cell_type": "code",
   "execution_count": 124,
   "id": "13121a30",
   "metadata": {},
   "outputs": [],
   "source": [
    "#print(datetime[0].time())\n",
    "Time=[]\n",
    "for i in range(24):\n",
    "    Time.append(datetime[i].time())"
   ]
  },
  {
   "cell_type": "code",
   "execution_count": 127,
   "id": "98be26f0",
   "metadata": {},
   "outputs": [],
   "source": [
    "D='2020-08-01'\n",
    "Date=[]\n",
    "for i in range(24):\n",
    "    Date.append(D)\n",
    "    "
   ]
  },
  {
   "cell_type": "code",
   "execution_count": 130,
   "id": "7988692d",
   "metadata": {},
   "outputs": [
    {
     "data": {
      "text/html": [
       "<div>\n",
       "<style scoped>\n",
       "    .dataframe tbody tr th:only-of-type {\n",
       "        vertical-align: middle;\n",
       "    }\n",
       "\n",
       "    .dataframe tbody tr th {\n",
       "        vertical-align: top;\n",
       "    }\n",
       "\n",
       "    .dataframe thead th {\n",
       "        text-align: right;\n",
       "    }\n",
       "</style>\n",
       "<table border=\"1\" class=\"dataframe\">\n",
       "  <thead>\n",
       "    <tr style=\"text-align: right;\">\n",
       "      <th></th>\n",
       "      <th>Date</th>\n",
       "      <th>Time</th>\n",
       "    </tr>\n",
       "  </thead>\n",
       "  <tbody>\n",
       "    <tr>\n",
       "      <th>0</th>\n",
       "      <td>2020-08-01</td>\n",
       "      <td>00:00:00</td>\n",
       "    </tr>\n",
       "    <tr>\n",
       "      <th>1</th>\n",
       "      <td>2020-08-01</td>\n",
       "      <td>01:00:00</td>\n",
       "    </tr>\n",
       "    <tr>\n",
       "      <th>2</th>\n",
       "      <td>2020-08-01</td>\n",
       "      <td>02:00:00</td>\n",
       "    </tr>\n",
       "    <tr>\n",
       "      <th>3</th>\n",
       "      <td>2020-08-01</td>\n",
       "      <td>03:00:00</td>\n",
       "    </tr>\n",
       "    <tr>\n",
       "      <th>4</th>\n",
       "      <td>2020-08-01</td>\n",
       "      <td>04:00:00</td>\n",
       "    </tr>\n",
       "    <tr>\n",
       "      <th>5</th>\n",
       "      <td>2020-08-01</td>\n",
       "      <td>05:00:00</td>\n",
       "    </tr>\n",
       "    <tr>\n",
       "      <th>6</th>\n",
       "      <td>2020-08-01</td>\n",
       "      <td>06:00:00</td>\n",
       "    </tr>\n",
       "    <tr>\n",
       "      <th>7</th>\n",
       "      <td>2020-08-01</td>\n",
       "      <td>07:00:00</td>\n",
       "    </tr>\n",
       "    <tr>\n",
       "      <th>8</th>\n",
       "      <td>2020-08-01</td>\n",
       "      <td>08:00:00</td>\n",
       "    </tr>\n",
       "    <tr>\n",
       "      <th>9</th>\n",
       "      <td>2020-08-01</td>\n",
       "      <td>09:00:00</td>\n",
       "    </tr>\n",
       "    <tr>\n",
       "      <th>10</th>\n",
       "      <td>2020-08-01</td>\n",
       "      <td>10:00:00</td>\n",
       "    </tr>\n",
       "    <tr>\n",
       "      <th>11</th>\n",
       "      <td>2020-08-01</td>\n",
       "      <td>11:00:00</td>\n",
       "    </tr>\n",
       "    <tr>\n",
       "      <th>12</th>\n",
       "      <td>2020-08-01</td>\n",
       "      <td>12:00:00</td>\n",
       "    </tr>\n",
       "    <tr>\n",
       "      <th>13</th>\n",
       "      <td>2020-08-01</td>\n",
       "      <td>13:00:00</td>\n",
       "    </tr>\n",
       "    <tr>\n",
       "      <th>14</th>\n",
       "      <td>2020-08-01</td>\n",
       "      <td>14:00:00</td>\n",
       "    </tr>\n",
       "    <tr>\n",
       "      <th>15</th>\n",
       "      <td>2020-08-01</td>\n",
       "      <td>15:00:00</td>\n",
       "    </tr>\n",
       "    <tr>\n",
       "      <th>16</th>\n",
       "      <td>2020-08-01</td>\n",
       "      <td>16:00:00</td>\n",
       "    </tr>\n",
       "    <tr>\n",
       "      <th>17</th>\n",
       "      <td>2020-08-01</td>\n",
       "      <td>17:00:00</td>\n",
       "    </tr>\n",
       "    <tr>\n",
       "      <th>18</th>\n",
       "      <td>2020-08-01</td>\n",
       "      <td>18:00:00</td>\n",
       "    </tr>\n",
       "    <tr>\n",
       "      <th>19</th>\n",
       "      <td>2020-08-01</td>\n",
       "      <td>19:00:00</td>\n",
       "    </tr>\n",
       "    <tr>\n",
       "      <th>20</th>\n",
       "      <td>2020-08-01</td>\n",
       "      <td>20:00:00</td>\n",
       "    </tr>\n",
       "    <tr>\n",
       "      <th>21</th>\n",
       "      <td>2020-08-01</td>\n",
       "      <td>21:00:00</td>\n",
       "    </tr>\n",
       "    <tr>\n",
       "      <th>22</th>\n",
       "      <td>2020-08-01</td>\n",
       "      <td>22:00:00</td>\n",
       "    </tr>\n",
       "    <tr>\n",
       "      <th>23</th>\n",
       "      <td>2020-08-01</td>\n",
       "      <td>23:00:00</td>\n",
       "    </tr>\n",
       "  </tbody>\n",
       "</table>\n",
       "</div>"
      ],
      "text/plain": [
       "          Date      Time\n",
       "0   2020-08-01  00:00:00\n",
       "1   2020-08-01  01:00:00\n",
       "2   2020-08-01  02:00:00\n",
       "3   2020-08-01  03:00:00\n",
       "4   2020-08-01  04:00:00\n",
       "5   2020-08-01  05:00:00\n",
       "6   2020-08-01  06:00:00\n",
       "7   2020-08-01  07:00:00\n",
       "8   2020-08-01  08:00:00\n",
       "9   2020-08-01  09:00:00\n",
       "10  2020-08-01  10:00:00\n",
       "11  2020-08-01  11:00:00\n",
       "12  2020-08-01  12:00:00\n",
       "13  2020-08-01  13:00:00\n",
       "14  2020-08-01  14:00:00\n",
       "15  2020-08-01  15:00:00\n",
       "16  2020-08-01  16:00:00\n",
       "17  2020-08-01  17:00:00\n",
       "18  2020-08-01  18:00:00\n",
       "19  2020-08-01  19:00:00\n",
       "20  2020-08-01  20:00:00\n",
       "21  2020-08-01  21:00:00\n",
       "22  2020-08-01  22:00:00\n",
       "23  2020-08-01  23:00:00"
      ]
     },
     "execution_count": 130,
     "metadata": {},
     "output_type": "execute_result"
    }
   ],
   "source": [
    "dftemp = pd.DataFrame({'Date':Date,'Time':Time}) #make empty dataframe...\n",
    "dftemp"
   ]
  },
  {
   "cell_type": "code",
   "execution_count": 134,
   "id": "5df562c5",
   "metadata": {},
   "outputs": [
    {
     "data": {
      "text/plain": [
       "Date    string\n",
       "Time    string\n",
       "dtype: object"
      ]
     },
     "execution_count": 134,
     "metadata": {},
     "output_type": "execute_result"
    }
   ],
   "source": [
    "#dftemp.dtypes\n",
    "dftemp['Date'] = dftemp['Date'].astype(\"string\") #change the data type\n",
    "dftemp['Time'] = dftemp['Time'].astype(\"string\") #change the data type\n",
    "dftemp.dtypes"
   ]
  },
  {
   "cell_type": "code",
   "execution_count": 135,
   "id": "057b397e",
   "metadata": {},
   "outputs": [
    {
     "data": {
      "text/html": [
       "<div>\n",
       "<style scoped>\n",
       "    .dataframe tbody tr th:only-of-type {\n",
       "        vertical-align: middle;\n",
       "    }\n",
       "\n",
       "    .dataframe tbody tr th {\n",
       "        vertical-align: top;\n",
       "    }\n",
       "\n",
       "    .dataframe thead th {\n",
       "        text-align: right;\n",
       "    }\n",
       "</style>\n",
       "<table border=\"1\" class=\"dataframe\">\n",
       "  <thead>\n",
       "    <tr style=\"text-align: right;\">\n",
       "      <th></th>\n",
       "      <th>Date</th>\n",
       "      <th>Time</th>\n",
       "      <th>Date-Time</th>\n",
       "    </tr>\n",
       "  </thead>\n",
       "  <tbody>\n",
       "    <tr>\n",
       "      <th>0</th>\n",
       "      <td>2020-08-01</td>\n",
       "      <td>00:00:00</td>\n",
       "      <td>2020-08-01 00:00:00</td>\n",
       "    </tr>\n",
       "    <tr>\n",
       "      <th>1</th>\n",
       "      <td>2020-08-01</td>\n",
       "      <td>01:00:00</td>\n",
       "      <td>2020-08-01 01:00:00</td>\n",
       "    </tr>\n",
       "    <tr>\n",
       "      <th>2</th>\n",
       "      <td>2020-08-01</td>\n",
       "      <td>02:00:00</td>\n",
       "      <td>2020-08-01 02:00:00</td>\n",
       "    </tr>\n",
       "    <tr>\n",
       "      <th>3</th>\n",
       "      <td>2020-08-01</td>\n",
       "      <td>03:00:00</td>\n",
       "      <td>2020-08-01 03:00:00</td>\n",
       "    </tr>\n",
       "    <tr>\n",
       "      <th>4</th>\n",
       "      <td>2020-08-01</td>\n",
       "      <td>04:00:00</td>\n",
       "      <td>2020-08-01 04:00:00</td>\n",
       "    </tr>\n",
       "    <tr>\n",
       "      <th>5</th>\n",
       "      <td>2020-08-01</td>\n",
       "      <td>05:00:00</td>\n",
       "      <td>2020-08-01 05:00:00</td>\n",
       "    </tr>\n",
       "    <tr>\n",
       "      <th>6</th>\n",
       "      <td>2020-08-01</td>\n",
       "      <td>06:00:00</td>\n",
       "      <td>2020-08-01 06:00:00</td>\n",
       "    </tr>\n",
       "    <tr>\n",
       "      <th>7</th>\n",
       "      <td>2020-08-01</td>\n",
       "      <td>07:00:00</td>\n",
       "      <td>2020-08-01 07:00:00</td>\n",
       "    </tr>\n",
       "    <tr>\n",
       "      <th>8</th>\n",
       "      <td>2020-08-01</td>\n",
       "      <td>08:00:00</td>\n",
       "      <td>2020-08-01 08:00:00</td>\n",
       "    </tr>\n",
       "    <tr>\n",
       "      <th>9</th>\n",
       "      <td>2020-08-01</td>\n",
       "      <td>09:00:00</td>\n",
       "      <td>2020-08-01 09:00:00</td>\n",
       "    </tr>\n",
       "    <tr>\n",
       "      <th>10</th>\n",
       "      <td>2020-08-01</td>\n",
       "      <td>10:00:00</td>\n",
       "      <td>2020-08-01 10:00:00</td>\n",
       "    </tr>\n",
       "    <tr>\n",
       "      <th>11</th>\n",
       "      <td>2020-08-01</td>\n",
       "      <td>11:00:00</td>\n",
       "      <td>2020-08-01 11:00:00</td>\n",
       "    </tr>\n",
       "    <tr>\n",
       "      <th>12</th>\n",
       "      <td>2020-08-01</td>\n",
       "      <td>12:00:00</td>\n",
       "      <td>2020-08-01 12:00:00</td>\n",
       "    </tr>\n",
       "    <tr>\n",
       "      <th>13</th>\n",
       "      <td>2020-08-01</td>\n",
       "      <td>13:00:00</td>\n",
       "      <td>2020-08-01 13:00:00</td>\n",
       "    </tr>\n",
       "    <tr>\n",
       "      <th>14</th>\n",
       "      <td>2020-08-01</td>\n",
       "      <td>14:00:00</td>\n",
       "      <td>2020-08-01 14:00:00</td>\n",
       "    </tr>\n",
       "    <tr>\n",
       "      <th>15</th>\n",
       "      <td>2020-08-01</td>\n",
       "      <td>15:00:00</td>\n",
       "      <td>2020-08-01 15:00:00</td>\n",
       "    </tr>\n",
       "    <tr>\n",
       "      <th>16</th>\n",
       "      <td>2020-08-01</td>\n",
       "      <td>16:00:00</td>\n",
       "      <td>2020-08-01 16:00:00</td>\n",
       "    </tr>\n",
       "    <tr>\n",
       "      <th>17</th>\n",
       "      <td>2020-08-01</td>\n",
       "      <td>17:00:00</td>\n",
       "      <td>2020-08-01 17:00:00</td>\n",
       "    </tr>\n",
       "    <tr>\n",
       "      <th>18</th>\n",
       "      <td>2020-08-01</td>\n",
       "      <td>18:00:00</td>\n",
       "      <td>2020-08-01 18:00:00</td>\n",
       "    </tr>\n",
       "    <tr>\n",
       "      <th>19</th>\n",
       "      <td>2020-08-01</td>\n",
       "      <td>19:00:00</td>\n",
       "      <td>2020-08-01 19:00:00</td>\n",
       "    </tr>\n",
       "    <tr>\n",
       "      <th>20</th>\n",
       "      <td>2020-08-01</td>\n",
       "      <td>20:00:00</td>\n",
       "      <td>2020-08-01 20:00:00</td>\n",
       "    </tr>\n",
       "    <tr>\n",
       "      <th>21</th>\n",
       "      <td>2020-08-01</td>\n",
       "      <td>21:00:00</td>\n",
       "      <td>2020-08-01 21:00:00</td>\n",
       "    </tr>\n",
       "    <tr>\n",
       "      <th>22</th>\n",
       "      <td>2020-08-01</td>\n",
       "      <td>22:00:00</td>\n",
       "      <td>2020-08-01 22:00:00</td>\n",
       "    </tr>\n",
       "    <tr>\n",
       "      <th>23</th>\n",
       "      <td>2020-08-01</td>\n",
       "      <td>23:00:00</td>\n",
       "      <td>2020-08-01 23:00:00</td>\n",
       "    </tr>\n",
       "  </tbody>\n",
       "</table>\n",
       "</div>"
      ],
      "text/plain": [
       "          Date      Time            Date-Time\n",
       "0   2020-08-01  00:00:00  2020-08-01 00:00:00\n",
       "1   2020-08-01  01:00:00  2020-08-01 01:00:00\n",
       "2   2020-08-01  02:00:00  2020-08-01 02:00:00\n",
       "3   2020-08-01  03:00:00  2020-08-01 03:00:00\n",
       "4   2020-08-01  04:00:00  2020-08-01 04:00:00\n",
       "5   2020-08-01  05:00:00  2020-08-01 05:00:00\n",
       "6   2020-08-01  06:00:00  2020-08-01 06:00:00\n",
       "7   2020-08-01  07:00:00  2020-08-01 07:00:00\n",
       "8   2020-08-01  08:00:00  2020-08-01 08:00:00\n",
       "9   2020-08-01  09:00:00  2020-08-01 09:00:00\n",
       "10  2020-08-01  10:00:00  2020-08-01 10:00:00\n",
       "11  2020-08-01  11:00:00  2020-08-01 11:00:00\n",
       "12  2020-08-01  12:00:00  2020-08-01 12:00:00\n",
       "13  2020-08-01  13:00:00  2020-08-01 13:00:00\n",
       "14  2020-08-01  14:00:00  2020-08-01 14:00:00\n",
       "15  2020-08-01  15:00:00  2020-08-01 15:00:00\n",
       "16  2020-08-01  16:00:00  2020-08-01 16:00:00\n",
       "17  2020-08-01  17:00:00  2020-08-01 17:00:00\n",
       "18  2020-08-01  18:00:00  2020-08-01 18:00:00\n",
       "19  2020-08-01  19:00:00  2020-08-01 19:00:00\n",
       "20  2020-08-01  20:00:00  2020-08-01 20:00:00\n",
       "21  2020-08-01  21:00:00  2020-08-01 21:00:00\n",
       "22  2020-08-01  22:00:00  2020-08-01 22:00:00\n",
       "23  2020-08-01  23:00:00  2020-08-01 23:00:00"
      ]
     },
     "execution_count": 135,
     "metadata": {},
     "output_type": "execute_result"
    }
   ],
   "source": [
    "dftemp['Date-Time']=dftemp['Date'] + ' ' + dftemp['Time'] #combine date and the time..\n",
    "dftemp"
   ]
  },
  {
   "cell_type": "code",
   "execution_count": 136,
   "id": "1b30fcf6",
   "metadata": {},
   "outputs": [],
   "source": [
    "dftemp['Date-Time'] = dftemp['Date-Time'].astype('datetime64[ns]')"
   ]
  },
  {
   "cell_type": "code",
   "execution_count": 137,
   "id": "4c2d295d",
   "metadata": {},
   "outputs": [
    {
     "data": {
      "text/plain": [
       "Date                 string\n",
       "Time                 string\n",
       "Date-Time    datetime64[ns]\n",
       "dtype: object"
      ]
     },
     "execution_count": 137,
     "metadata": {},
     "output_type": "execute_result"
    }
   ],
   "source": [
    "dftemp.dtypes"
   ]
  },
  {
   "cell_type": "code",
   "execution_count": 139,
   "id": "57974191",
   "metadata": {},
   "outputs": [
    {
     "data": {
      "text/html": [
       "<div>\n",
       "<style scoped>\n",
       "    .dataframe tbody tr th:only-of-type {\n",
       "        vertical-align: middle;\n",
       "    }\n",
       "\n",
       "    .dataframe tbody tr th {\n",
       "        vertical-align: top;\n",
       "    }\n",
       "\n",
       "    .dataframe thead th {\n",
       "        text-align: right;\n",
       "    }\n",
       "</style>\n",
       "<table border=\"1\" class=\"dataframe\">\n",
       "  <thead>\n",
       "    <tr style=\"text-align: right;\">\n",
       "      <th></th>\n",
       "      <th>Date-Time</th>\n",
       "    </tr>\n",
       "  </thead>\n",
       "  <tbody>\n",
       "    <tr>\n",
       "      <th>0</th>\n",
       "      <td>2020-08-01 00:00:00</td>\n",
       "    </tr>\n",
       "    <tr>\n",
       "      <th>1</th>\n",
       "      <td>2020-08-01 01:00:00</td>\n",
       "    </tr>\n",
       "    <tr>\n",
       "      <th>2</th>\n",
       "      <td>2020-08-01 02:00:00</td>\n",
       "    </tr>\n",
       "    <tr>\n",
       "      <th>3</th>\n",
       "      <td>2020-08-01 03:00:00</td>\n",
       "    </tr>\n",
       "    <tr>\n",
       "      <th>4</th>\n",
       "      <td>2020-08-01 04:00:00</td>\n",
       "    </tr>\n",
       "    <tr>\n",
       "      <th>5</th>\n",
       "      <td>2020-08-01 05:00:00</td>\n",
       "    </tr>\n",
       "    <tr>\n",
       "      <th>6</th>\n",
       "      <td>2020-08-01 06:00:00</td>\n",
       "    </tr>\n",
       "    <tr>\n",
       "      <th>7</th>\n",
       "      <td>2020-08-01 07:00:00</td>\n",
       "    </tr>\n",
       "    <tr>\n",
       "      <th>8</th>\n",
       "      <td>2020-08-01 08:00:00</td>\n",
       "    </tr>\n",
       "    <tr>\n",
       "      <th>9</th>\n",
       "      <td>2020-08-01 09:00:00</td>\n",
       "    </tr>\n",
       "    <tr>\n",
       "      <th>10</th>\n",
       "      <td>2020-08-01 10:00:00</td>\n",
       "    </tr>\n",
       "    <tr>\n",
       "      <th>11</th>\n",
       "      <td>2020-08-01 11:00:00</td>\n",
       "    </tr>\n",
       "    <tr>\n",
       "      <th>12</th>\n",
       "      <td>2020-08-01 12:00:00</td>\n",
       "    </tr>\n",
       "    <tr>\n",
       "      <th>13</th>\n",
       "      <td>2020-08-01 13:00:00</td>\n",
       "    </tr>\n",
       "    <tr>\n",
       "      <th>14</th>\n",
       "      <td>2020-08-01 14:00:00</td>\n",
       "    </tr>\n",
       "    <tr>\n",
       "      <th>15</th>\n",
       "      <td>2020-08-01 15:00:00</td>\n",
       "    </tr>\n",
       "    <tr>\n",
       "      <th>16</th>\n",
       "      <td>2020-08-01 16:00:00</td>\n",
       "    </tr>\n",
       "    <tr>\n",
       "      <th>17</th>\n",
       "      <td>2020-08-01 17:00:00</td>\n",
       "    </tr>\n",
       "    <tr>\n",
       "      <th>18</th>\n",
       "      <td>2020-08-01 18:00:00</td>\n",
       "    </tr>\n",
       "    <tr>\n",
       "      <th>19</th>\n",
       "      <td>2020-08-01 19:00:00</td>\n",
       "    </tr>\n",
       "    <tr>\n",
       "      <th>20</th>\n",
       "      <td>2020-08-01 20:00:00</td>\n",
       "    </tr>\n",
       "    <tr>\n",
       "      <th>21</th>\n",
       "      <td>2020-08-01 21:00:00</td>\n",
       "    </tr>\n",
       "    <tr>\n",
       "      <th>22</th>\n",
       "      <td>2020-08-01 22:00:00</td>\n",
       "    </tr>\n",
       "    <tr>\n",
       "      <th>23</th>\n",
       "      <td>2020-08-01 23:00:00</td>\n",
       "    </tr>\n",
       "  </tbody>\n",
       "</table>\n",
       "</div>"
      ],
      "text/plain": [
       "             Date-Time\n",
       "0  2020-08-01 00:00:00\n",
       "1  2020-08-01 01:00:00\n",
       "2  2020-08-01 02:00:00\n",
       "3  2020-08-01 03:00:00\n",
       "4  2020-08-01 04:00:00\n",
       "5  2020-08-01 05:00:00\n",
       "6  2020-08-01 06:00:00\n",
       "7  2020-08-01 07:00:00\n",
       "8  2020-08-01 08:00:00\n",
       "9  2020-08-01 09:00:00\n",
       "10 2020-08-01 10:00:00\n",
       "11 2020-08-01 11:00:00\n",
       "12 2020-08-01 12:00:00\n",
       "13 2020-08-01 13:00:00\n",
       "14 2020-08-01 14:00:00\n",
       "15 2020-08-01 15:00:00\n",
       "16 2020-08-01 16:00:00\n",
       "17 2020-08-01 17:00:00\n",
       "18 2020-08-01 18:00:00\n",
       "19 2020-08-01 19:00:00\n",
       "20 2020-08-01 20:00:00\n",
       "21 2020-08-01 21:00:00\n",
       "22 2020-08-01 22:00:00\n",
       "23 2020-08-01 23:00:00"
      ]
     },
     "execution_count": 139,
     "metadata": {},
     "output_type": "execute_result"
    }
   ],
   "source": [
    "dftemp1=dftemp[['Date-Time']]\n",
    "dftemp1"
   ]
  },
  {
   "cell_type": "code",
   "execution_count": 140,
   "id": "70ec132b",
   "metadata": {},
   "outputs": [
    {
     "data": {
      "text/plain": [
       "Date-Time    datetime64[ns]\n",
       "dtype: object"
      ]
     },
     "execution_count": 140,
     "metadata": {},
     "output_type": "execute_result"
    }
   ],
   "source": [
    "dftemp1.dtypes"
   ]
  },
  {
   "cell_type": "code",
   "execution_count": 144,
   "id": "7edd83a5",
   "metadata": {},
   "outputs": [],
   "source": [
    "df_new=dftemp1.set_index('Date-Time')"
   ]
  },
  {
   "cell_type": "code",
   "execution_count": 145,
   "id": "5955d5f1",
   "metadata": {},
   "outputs": [],
   "source": [
    "future_df1=pd.concat([df_merged_1_copy,df_new])"
   ]
  },
  {
   "cell_type": "code",
   "execution_count": 146,
   "id": "8e4ae8f6",
   "metadata": {},
   "outputs": [
    {
     "data": {
      "text/html": [
       "<div>\n",
       "<style scoped>\n",
       "    .dataframe tbody tr th:only-of-type {\n",
       "        vertical-align: middle;\n",
       "    }\n",
       "\n",
       "    .dataframe tbody tr th {\n",
       "        vertical-align: top;\n",
       "    }\n",
       "\n",
       "    .dataframe thead th {\n",
       "        text-align: right;\n",
       "    }\n",
       "</style>\n",
       "<table border=\"1\" class=\"dataframe\">\n",
       "  <thead>\n",
       "    <tr style=\"text-align: right;\">\n",
       "      <th></th>\n",
       "      <th>Dispatch</th>\n",
       "      <th>Predicted</th>\n",
       "    </tr>\n",
       "    <tr>\n",
       "      <th>Date-Time</th>\n",
       "      <th></th>\n",
       "      <th></th>\n",
       "    </tr>\n",
       "  </thead>\n",
       "  <tbody>\n",
       "    <tr>\n",
       "      <th>2020-07-07 00:00:00</th>\n",
       "      <td>0.0</td>\n",
       "      <td>NaN</td>\n",
       "    </tr>\n",
       "    <tr>\n",
       "      <th>2020-07-07 01:00:00</th>\n",
       "      <td>0.0</td>\n",
       "      <td>NaN</td>\n",
       "    </tr>\n",
       "    <tr>\n",
       "      <th>2020-07-07 02:00:00</th>\n",
       "      <td>0.0</td>\n",
       "      <td>NaN</td>\n",
       "    </tr>\n",
       "    <tr>\n",
       "      <th>2020-07-07 03:00:00</th>\n",
       "      <td>0.0</td>\n",
       "      <td>NaN</td>\n",
       "    </tr>\n",
       "    <tr>\n",
       "      <th>2020-07-07 04:00:00</th>\n",
       "      <td>0.0</td>\n",
       "      <td>NaN</td>\n",
       "    </tr>\n",
       "  </tbody>\n",
       "</table>\n",
       "</div>"
      ],
      "text/plain": [
       "                     Dispatch  Predicted\n",
       "Date-Time                               \n",
       "2020-07-07 00:00:00       0.0        NaN\n",
       "2020-07-07 01:00:00       0.0        NaN\n",
       "2020-07-07 02:00:00       0.0        NaN\n",
       "2020-07-07 03:00:00       0.0        NaN\n",
       "2020-07-07 04:00:00       0.0        NaN"
      ]
     },
     "execution_count": 146,
     "metadata": {},
     "output_type": "execute_result"
    }
   ],
   "source": [
    "future_df1.head()"
   ]
  },
  {
   "cell_type": "code",
   "execution_count": 151,
   "id": "288d08ad",
   "metadata": {},
   "outputs": [
    {
     "data": {
      "text/plain": [
       "<AxesSubplot:xlabel='Date-Time'>"
      ]
     },
     "execution_count": 151,
     "metadata": {},
     "output_type": "execute_result"
    },
    {
     "data": {
      "image/png": "[encoded data removed]",
      "text/plain": [
       "<Figure size 1440x720 with 1 Axes>"
      ]
     },
     "metadata": {
      "needs_background": "light"
     },
     "output_type": "display_data"
    }
   ],
   "source": [
    "#plot of predicted future 24 hours.....\n",
    "future_df1['forecast'] = results.predict(start=600,end=623, dynamic= True)  \n",
    "future_df1[['Dispatch', 'forecast']].plot(figsize=(20, 10)) "
   ]
  },
  {
   "cell_type": "markdown",
   "id": "702e3dfc",
   "metadata": {},
   "source": [
    "# Daily"
   ]
  },
  {
   "cell_type": "code",
   "execution_count": 152,
   "id": "c442d097",
   "metadata": {},
   "outputs": [
    {
     "data": {
      "text/html": [
       "<div>\n",
       "<style scoped>\n",
       "    .dataframe tbody tr th:only-of-type {\n",
       "        vertical-align: middle;\n",
       "    }\n",
       "\n",
       "    .dataframe tbody tr th {\n",
       "        vertical-align: top;\n",
       "    }\n",
       "\n",
       "    .dataframe thead th {\n",
       "        text-align: right;\n",
       "    }\n",
       "</style>\n",
       "<table border=\"1\" class=\"dataframe\">\n",
       "  <thead>\n",
       "    <tr style=\"text-align: right;\">\n",
       "      <th></th>\n",
       "      <th>Power_Plant</th>\n",
       "      <th>00:00:00</th>\n",
       "      <th>01:00:00</th>\n",
       "      <th>02:00:00</th>\n",
       "      <th>03:00:00</th>\n",
       "      <th>04:00:00</th>\n",
       "      <th>05:00:00</th>\n",
       "      <th>06:00:00</th>\n",
       "      <th>07:00:00</th>\n",
       "      <th>08:00:00</th>\n",
       "      <th>...</th>\n",
       "      <th>15:00:00</th>\n",
       "      <th>16:00:00</th>\n",
       "      <th>17:00:00</th>\n",
       "      <th>18:00:00</th>\n",
       "      <th>19:00:00</th>\n",
       "      <th>20:00:00</th>\n",
       "      <th>21:00:00</th>\n",
       "      <th>22:00:00</th>\n",
       "      <th>23:00:00</th>\n",
       "      <th>Date</th>\n",
       "    </tr>\n",
       "  </thead>\n",
       "  <tbody>\n",
       "    <tr>\n",
       "      <th>1</th>\n",
       "      <td>Canyon</td>\n",
       "      <td>40.0</td>\n",
       "      <td>40.0</td>\n",
       "      <td>40.0</td>\n",
       "      <td>0.0</td>\n",
       "      <td>0.0</td>\n",
       "      <td>0.0</td>\n",
       "      <td>0.0</td>\n",
       "      <td>0.0</td>\n",
       "      <td>22.0</td>\n",
       "      <td>...</td>\n",
       "      <td>120.0</td>\n",
       "      <td>120.0</td>\n",
       "      <td>120.0</td>\n",
       "      <td>120.0</td>\n",
       "      <td>120.0</td>\n",
       "      <td>120.0</td>\n",
       "      <td>120.0</td>\n",
       "      <td>90.0</td>\n",
       "      <td>0.0</td>\n",
       "      <td>2020-07-01</td>\n",
       "    </tr>\n",
       "    <tr>\n",
       "      <th>2</th>\n",
       "      <td>WPS</td>\n",
       "      <td>0.0</td>\n",
       "      <td>0.0</td>\n",
       "      <td>0.0</td>\n",
       "      <td>0.0</td>\n",
       "      <td>0.0</td>\n",
       "      <td>0.0</td>\n",
       "      <td>0.0</td>\n",
       "      <td>0.0</td>\n",
       "      <td>0.0</td>\n",
       "      <td>...</td>\n",
       "      <td>100.0</td>\n",
       "      <td>85.0</td>\n",
       "      <td>40.0</td>\n",
       "      <td>40.0</td>\n",
       "      <td>40.0</td>\n",
       "      <td>20.0</td>\n",
       "      <td>0.0</td>\n",
       "      <td>0.0</td>\n",
       "      <td>0.0</td>\n",
       "      <td>2020-07-01</td>\n",
       "    </tr>\n",
       "    <tr>\n",
       "      <th>3</th>\n",
       "      <td>Olax</td>\n",
       "      <td>20.0</td>\n",
       "      <td>20.0</td>\n",
       "      <td>20.0</td>\n",
       "      <td>20.0</td>\n",
       "      <td>100.0</td>\n",
       "      <td>148.0</td>\n",
       "      <td>113.0</td>\n",
       "      <td>94.0</td>\n",
       "      <td>186.0</td>\n",
       "      <td>...</td>\n",
       "      <td>124.0</td>\n",
       "      <td>123.0</td>\n",
       "      <td>120.0</td>\n",
       "      <td>163.0</td>\n",
       "      <td>207.0</td>\n",
       "      <td>70.0</td>\n",
       "      <td>56.0</td>\n",
       "      <td>56.0</td>\n",
       "      <td>56.0</td>\n",
       "      <td>2020-07-01</td>\n",
       "    </tr>\n",
       "    <tr>\n",
       "      <th>4</th>\n",
       "      <td>Nlax</td>\n",
       "      <td>130.0</td>\n",
       "      <td>53.0</td>\n",
       "      <td>42.0</td>\n",
       "      <td>90.0</td>\n",
       "      <td>118.0</td>\n",
       "      <td>225.0</td>\n",
       "      <td>273.0</td>\n",
       "      <td>127.0</td>\n",
       "      <td>235.0</td>\n",
       "      <td>...</td>\n",
       "      <td>420.0</td>\n",
       "      <td>422.0</td>\n",
       "      <td>238.0</td>\n",
       "      <td>277.0</td>\n",
       "      <td>424.0</td>\n",
       "      <td>420.0</td>\n",
       "      <td>204.0</td>\n",
       "      <td>129.0</td>\n",
       "      <td>130.0</td>\n",
       "      <td>2020-07-01</td>\n",
       "    </tr>\n",
       "    <tr>\n",
       "      <th>5</th>\n",
       "      <td>Polp</td>\n",
       "      <td>79.0</td>\n",
       "      <td>77.0</td>\n",
       "      <td>90.0</td>\n",
       "      <td>88.0</td>\n",
       "      <td>85.0</td>\n",
       "      <td>152.0</td>\n",
       "      <td>309.0</td>\n",
       "      <td>143.0</td>\n",
       "      <td>95.0</td>\n",
       "      <td>...</td>\n",
       "      <td>203.0</td>\n",
       "      <td>263.0</td>\n",
       "      <td>320.0</td>\n",
       "      <td>239.0</td>\n",
       "      <td>360.0</td>\n",
       "      <td>319.0</td>\n",
       "      <td>192.0</td>\n",
       "      <td>91.0</td>\n",
       "      <td>83.0</td>\n",
       "      <td>2020-07-01</td>\n",
       "    </tr>\n",
       "  </tbody>\n",
       "</table>\n",
       "<p>5 rows × 26 columns</p>\n",
       "</div>"
      ],
      "text/plain": [
       "  Power_Plant 00:00:00 01:00:00 02:00:00 03:00:00 04:00:00 05:00:00 06:00:00  \\\n",
       "1      Canyon     40.0     40.0     40.0      0.0      0.0      0.0      0.0   \n",
       "2         WPS      0.0      0.0      0.0      0.0      0.0      0.0      0.0   \n",
       "3        Olax     20.0     20.0     20.0     20.0    100.0    148.0    113.0   \n",
       "4        Nlax    130.0     53.0     42.0     90.0    118.0    225.0    273.0   \n",
       "5        Polp     79.0     77.0     90.0     88.0     85.0    152.0    309.0   \n",
       "\n",
       "  07:00:00 08:00:00  ... 15:00:00 16:00:00 17:00:00 18:00:00 19:00:00  \\\n",
       "1      0.0     22.0  ...    120.0    120.0    120.0    120.0    120.0   \n",
       "2      0.0      0.0  ...    100.0     85.0     40.0     40.0     40.0   \n",
       "3     94.0    186.0  ...    124.0    123.0    120.0    163.0    207.0   \n",
       "4    127.0    235.0  ...    420.0    422.0    238.0    277.0    424.0   \n",
       "5    143.0     95.0  ...    203.0    263.0    320.0    239.0    360.0   \n",
       "\n",
       "  20:00:00 21:00:00 22:00:00 23:00:00        Date  \n",
       "1    120.0    120.0     90.0      0.0  2020-07-01  \n",
       "2     20.0      0.0      0.0      0.0  2020-07-01  \n",
       "3     70.0     56.0     56.0     56.0  2020-07-01  \n",
       "4    420.0    204.0    129.0    130.0  2020-07-01  \n",
       "5    319.0    192.0     91.0     83.0  2020-07-01  \n",
       "\n",
       "[5 rows x 26 columns]"
      ]
     },
     "execution_count": 152,
     "metadata": {},
     "output_type": "execute_result"
    }
   ],
   "source": [
    "data_frames_1[0].head()"
   ]
  },
  {
   "cell_type": "code",
   "execution_count": 155,
   "id": "ca1e7db0",
   "metadata": {},
   "outputs": [
    {
     "name": "stdout",
     "output_type": "stream",
     "text": [
      "130.0 2020-07-01\n"
     ]
    }
   ],
   "source": [
    "#for the Nlax plant...\n",
    "v=data_frames_1[0].iloc[3,1] #value for 00:00:00 time...\n",
    "d=data_frames_1[0].iloc[0,-1] #date\n",
    "print(v,d)"
   ]
  },
  {
   "cell_type": "code",
   "execution_count": 157,
   "id": "67286704",
   "metadata": {},
   "outputs": [],
   "source": [
    "datesD=[]\n",
    "dispatchesD=[]\n",
    "for i in range(5,30):\n",
    "    v=data_frames_1[i].iloc[3,1] #value\n",
    "    d=data_frames_1[i].iloc[0,-1] #date\n",
    "    datesD.append(d)\n",
    "    dispatchesD.append(v)\n"
   ]
  },
  {
   "cell_type": "code",
   "execution_count": 158,
   "id": "cbe92d02",
   "metadata": {},
   "outputs": [
    {
     "data": {
      "text/plain": [
       "[datetime.date(2020, 7, 7),\n",
       " datetime.date(2020, 7, 8),\n",
       " datetime.date(2020, 7, 9),\n",
       " datetime.date(2020, 7, 10),\n",
       " datetime.date(2020, 7, 11),\n",
       " datetime.date(2020, 7, 12),\n",
       " datetime.date(2020, 7, 13),\n",
       " datetime.date(2020, 7, 14),\n",
       " datetime.date(2020, 7, 15),\n",
       " datetime.date(2020, 7, 16),\n",
       " datetime.date(2020, 7, 17),\n",
       " datetime.date(2020, 7, 18),\n",
       " datetime.date(2020, 7, 19),\n",
       " datetime.date(2020, 7, 20),\n",
       " datetime.date(2020, 7, 21),\n",
       " datetime.date(2020, 7, 22),\n",
       " datetime.date(2020, 7, 23),\n",
       " datetime.date(2020, 7, 24),\n",
       " datetime.date(2020, 7, 25),\n",
       " datetime.date(2020, 7, 26),\n",
       " datetime.date(2020, 7, 27),\n",
       " datetime.date(2020, 7, 28),\n",
       " datetime.date(2020, 7, 29),\n",
       " datetime.date(2020, 7, 30),\n",
       " datetime.date(2020, 7, 31)]"
      ]
     },
     "execution_count": 158,
     "metadata": {},
     "output_type": "execute_result"
    }
   ],
   "source": [
    "datesD"
   ]
  },
  {
   "cell_type": "code",
   "execution_count": 159,
   "id": "6b785598",
   "metadata": {},
   "outputs": [
    {
     "data": {
      "text/plain": [
       "[83.0,\n",
       " 180.0,\n",
       " 132.0,\n",
       " 105.0,\n",
       " 71.0,\n",
       " 158.0,\n",
       " 76.0,\n",
       " 60.0,\n",
       " 81.0,\n",
       " 77.0,\n",
       " 77.0,\n",
       " 83.0,\n",
       " 80.0,\n",
       " 81.0,\n",
       " 81.0,\n",
       " 87.0,\n",
       " 74.0,\n",
       " 48.0,\n",
       " 102.0,\n",
       " 44.0,\n",
       " 77.0,\n",
       " 57.0,\n",
       " 127.0,\n",
       " 75.0,\n",
       " 60.0]"
      ]
     },
     "execution_count": 159,
     "metadata": {},
     "output_type": "execute_result"
    }
   ],
   "source": [
    "dispatchesD"
   ]
  },
  {
   "cell_type": "code",
   "execution_count": 160,
   "id": "80919081",
   "metadata": {},
   "outputs": [],
   "source": []
  },
  {
   "cell_type": "code",
   "execution_count": 161,
   "id": "d4599563",
   "metadata": {},
   "outputs": [
    {
     "data": {
      "text/html": [
       "<div>\n",
       "<style scoped>\n",
       "    .dataframe tbody tr th:only-of-type {\n",
       "        vertical-align: middle;\n",
       "    }\n",
       "\n",
       "    .dataframe tbody tr th {\n",
       "        vertical-align: top;\n",
       "    }\n",
       "\n",
       "    .dataframe thead th {\n",
       "        text-align: right;\n",
       "    }\n",
       "</style>\n",
       "<table border=\"1\" class=\"dataframe\">\n",
       "  <thead>\n",
       "    <tr style=\"text-align: right;\">\n",
       "      <th></th>\n",
       "      <th>Date</th>\n",
       "      <th>Dispatch</th>\n",
       "    </tr>\n",
       "  </thead>\n",
       "  <tbody>\n",
       "    <tr>\n",
       "      <th>0</th>\n",
       "      <td>2020-07-07</td>\n",
       "      <td>83.0</td>\n",
       "    </tr>\n",
       "    <tr>\n",
       "      <th>1</th>\n",
       "      <td>2020-07-08</td>\n",
       "      <td>180.0</td>\n",
       "    </tr>\n",
       "    <tr>\n",
       "      <th>2</th>\n",
       "      <td>2020-07-09</td>\n",
       "      <td>132.0</td>\n",
       "    </tr>\n",
       "    <tr>\n",
       "      <th>3</th>\n",
       "      <td>2020-07-10</td>\n",
       "      <td>105.0</td>\n",
       "    </tr>\n",
       "    <tr>\n",
       "      <th>4</th>\n",
       "      <td>2020-07-11</td>\n",
       "      <td>71.0</td>\n",
       "    </tr>\n",
       "    <tr>\n",
       "      <th>5</th>\n",
       "      <td>2020-07-12</td>\n",
       "      <td>158.0</td>\n",
       "    </tr>\n",
       "    <tr>\n",
       "      <th>6</th>\n",
       "      <td>2020-07-13</td>\n",
       "      <td>76.0</td>\n",
       "    </tr>\n",
       "    <tr>\n",
       "      <th>7</th>\n",
       "      <td>2020-07-14</td>\n",
       "      <td>60.0</td>\n",
       "    </tr>\n",
       "    <tr>\n",
       "      <th>8</th>\n",
       "      <td>2020-07-15</td>\n",
       "      <td>81.0</td>\n",
       "    </tr>\n",
       "    <tr>\n",
       "      <th>9</th>\n",
       "      <td>2020-07-16</td>\n",
       "      <td>77.0</td>\n",
       "    </tr>\n",
       "    <tr>\n",
       "      <th>10</th>\n",
       "      <td>2020-07-17</td>\n",
       "      <td>77.0</td>\n",
       "    </tr>\n",
       "    <tr>\n",
       "      <th>11</th>\n",
       "      <td>2020-07-18</td>\n",
       "      <td>83.0</td>\n",
       "    </tr>\n",
       "    <tr>\n",
       "      <th>12</th>\n",
       "      <td>2020-07-19</td>\n",
       "      <td>80.0</td>\n",
       "    </tr>\n",
       "    <tr>\n",
       "      <th>13</th>\n",
       "      <td>2020-07-20</td>\n",
       "      <td>81.0</td>\n",
       "    </tr>\n",
       "    <tr>\n",
       "      <th>14</th>\n",
       "      <td>2020-07-21</td>\n",
       "      <td>81.0</td>\n",
       "    </tr>\n",
       "    <tr>\n",
       "      <th>15</th>\n",
       "      <td>2020-07-22</td>\n",
       "      <td>87.0</td>\n",
       "    </tr>\n",
       "    <tr>\n",
       "      <th>16</th>\n",
       "      <td>2020-07-23</td>\n",
       "      <td>74.0</td>\n",
       "    </tr>\n",
       "    <tr>\n",
       "      <th>17</th>\n",
       "      <td>2020-07-24</td>\n",
       "      <td>48.0</td>\n",
       "    </tr>\n",
       "    <tr>\n",
       "      <th>18</th>\n",
       "      <td>2020-07-25</td>\n",
       "      <td>102.0</td>\n",
       "    </tr>\n",
       "    <tr>\n",
       "      <th>19</th>\n",
       "      <td>2020-07-26</td>\n",
       "      <td>44.0</td>\n",
       "    </tr>\n",
       "    <tr>\n",
       "      <th>20</th>\n",
       "      <td>2020-07-27</td>\n",
       "      <td>77.0</td>\n",
       "    </tr>\n",
       "    <tr>\n",
       "      <th>21</th>\n",
       "      <td>2020-07-28</td>\n",
       "      <td>57.0</td>\n",
       "    </tr>\n",
       "    <tr>\n",
       "      <th>22</th>\n",
       "      <td>2020-07-29</td>\n",
       "      <td>127.0</td>\n",
       "    </tr>\n",
       "    <tr>\n",
       "      <th>23</th>\n",
       "      <td>2020-07-30</td>\n",
       "      <td>75.0</td>\n",
       "    </tr>\n",
       "    <tr>\n",
       "      <th>24</th>\n",
       "      <td>2020-07-31</td>\n",
       "      <td>60.0</td>\n",
       "    </tr>\n",
       "  </tbody>\n",
       "</table>\n",
       "</div>"
      ],
      "text/plain": [
       "          Date  Dispatch\n",
       "0   2020-07-07      83.0\n",
       "1   2020-07-08     180.0\n",
       "2   2020-07-09     132.0\n",
       "3   2020-07-10     105.0\n",
       "4   2020-07-11      71.0\n",
       "5   2020-07-12     158.0\n",
       "6   2020-07-13      76.0\n",
       "7   2020-07-14      60.0\n",
       "8   2020-07-15      81.0\n",
       "9   2020-07-16      77.0\n",
       "10  2020-07-17      77.0\n",
       "11  2020-07-18      83.0\n",
       "12  2020-07-19      80.0\n",
       "13  2020-07-20      81.0\n",
       "14  2020-07-21      81.0\n",
       "15  2020-07-22      87.0\n",
       "16  2020-07-23      74.0\n",
       "17  2020-07-24      48.0\n",
       "18  2020-07-25     102.0\n",
       "19  2020-07-26      44.0\n",
       "20  2020-07-27      77.0\n",
       "21  2020-07-28      57.0\n",
       "22  2020-07-29     127.0\n",
       "23  2020-07-30      75.0\n",
       "24  2020-07-31      60.0"
      ]
     },
     "execution_count": 161,
     "metadata": {},
     "output_type": "execute_result"
    }
   ],
   "source": [
    "dfD = pd.DataFrame({'Date':datesD,'Dispatch':dispatchesD}) #make empty dataframe...\n",
    "dfD"
   ]
  },
  {
   "cell_type": "code",
   "execution_count": 162,
   "id": "57f0129e",
   "metadata": {},
   "outputs": [
    {
     "data": {
      "text/plain": [
       "Date         object\n",
       "Dispatch    float64\n",
       "dtype: object"
      ]
     },
     "execution_count": 162,
     "metadata": {},
     "output_type": "execute_result"
    }
   ],
   "source": [
    "dfD.dtypes"
   ]
  },
  {
   "cell_type": "code",
   "execution_count": 163,
   "id": "66afb43e",
   "metadata": {},
   "outputs": [],
   "source": [
    "dfD['Date'] = dfD['Date'].astype('datetime64[ns]')"
   ]
  },
  {
   "cell_type": "code",
   "execution_count": 164,
   "id": "136f223f",
   "metadata": {},
   "outputs": [
    {
     "data": {
      "text/plain": [
       "Date        datetime64[ns]\n",
       "Dispatch           float64\n",
       "dtype: object"
      ]
     },
     "execution_count": 164,
     "metadata": {},
     "output_type": "execute_result"
    }
   ],
   "source": [
    "dfD.dtypes"
   ]
  },
  {
   "cell_type": "code",
   "execution_count": 165,
   "id": "c8150c90",
   "metadata": {},
   "outputs": [
    {
     "data": {
      "text/html": [
       "<div>\n",
       "<style scoped>\n",
       "    .dataframe tbody tr th:only-of-type {\n",
       "        vertical-align: middle;\n",
       "    }\n",
       "\n",
       "    .dataframe tbody tr th {\n",
       "        vertical-align: top;\n",
       "    }\n",
       "\n",
       "    .dataframe thead th {\n",
       "        text-align: right;\n",
       "    }\n",
       "</style>\n",
       "<table border=\"1\" class=\"dataframe\">\n",
       "  <thead>\n",
       "    <tr style=\"text-align: right;\">\n",
       "      <th></th>\n",
       "      <th>Date</th>\n",
       "      <th>Dispatch</th>\n",
       "    </tr>\n",
       "  </thead>\n",
       "  <tbody>\n",
       "    <tr>\n",
       "      <th>0</th>\n",
       "      <td>2020-07-07</td>\n",
       "      <td>83.0</td>\n",
       "    </tr>\n",
       "    <tr>\n",
       "      <th>1</th>\n",
       "      <td>2020-07-08</td>\n",
       "      <td>180.0</td>\n",
       "    </tr>\n",
       "    <tr>\n",
       "      <th>2</th>\n",
       "      <td>2020-07-09</td>\n",
       "      <td>132.0</td>\n",
       "    </tr>\n",
       "    <tr>\n",
       "      <th>3</th>\n",
       "      <td>2020-07-10</td>\n",
       "      <td>105.0</td>\n",
       "    </tr>\n",
       "    <tr>\n",
       "      <th>4</th>\n",
       "      <td>2020-07-11</td>\n",
       "      <td>71.0</td>\n",
       "    </tr>\n",
       "  </tbody>\n",
       "</table>\n",
       "</div>"
      ],
      "text/plain": [
       "        Date  Dispatch\n",
       "0 2020-07-07      83.0\n",
       "1 2020-07-08     180.0\n",
       "2 2020-07-09     132.0\n",
       "3 2020-07-10     105.0\n",
       "4 2020-07-11      71.0"
      ]
     },
     "execution_count": 165,
     "metadata": {},
     "output_type": "execute_result"
    }
   ],
   "source": [
    "dfD.head()"
   ]
  },
  {
   "cell_type": "code",
   "execution_count": 166,
   "id": "8f00b354",
   "metadata": {},
   "outputs": [],
   "source": [
    "dfD=dfD.set_index('Date')"
   ]
  },
  {
   "cell_type": "code",
   "execution_count": 167,
   "id": "615d2313",
   "metadata": {},
   "outputs": [
    {
     "data": {
      "text/html": [
       "<div>\n",
       "<style scoped>\n",
       "    .dataframe tbody tr th:only-of-type {\n",
       "        vertical-align: middle;\n",
       "    }\n",
       "\n",
       "    .dataframe tbody tr th {\n",
       "        vertical-align: top;\n",
       "    }\n",
       "\n",
       "    .dataframe thead th {\n",
       "        text-align: right;\n",
       "    }\n",
       "</style>\n",
       "<table border=\"1\" class=\"dataframe\">\n",
       "  <thead>\n",
       "    <tr style=\"text-align: right;\">\n",
       "      <th></th>\n",
       "      <th>Dispatch</th>\n",
       "    </tr>\n",
       "    <tr>\n",
       "      <th>Date</th>\n",
       "      <th></th>\n",
       "    </tr>\n",
       "  </thead>\n",
       "  <tbody>\n",
       "    <tr>\n",
       "      <th>2020-07-07</th>\n",
       "      <td>83.0</td>\n",
       "    </tr>\n",
       "    <tr>\n",
       "      <th>2020-07-08</th>\n",
       "      <td>180.0</td>\n",
       "    </tr>\n",
       "    <tr>\n",
       "      <th>2020-07-09</th>\n",
       "      <td>132.0</td>\n",
       "    </tr>\n",
       "    <tr>\n",
       "      <th>2020-07-10</th>\n",
       "      <td>105.0</td>\n",
       "    </tr>\n",
       "    <tr>\n",
       "      <th>2020-07-11</th>\n",
       "      <td>71.0</td>\n",
       "    </tr>\n",
       "  </tbody>\n",
       "</table>\n",
       "</div>"
      ],
      "text/plain": [
       "            Dispatch\n",
       "Date                \n",
       "2020-07-07      83.0\n",
       "2020-07-08     180.0\n",
       "2020-07-09     132.0\n",
       "2020-07-10     105.0\n",
       "2020-07-11      71.0"
      ]
     },
     "execution_count": 167,
     "metadata": {},
     "output_type": "execute_result"
    }
   ],
   "source": [
    "dfD.head()"
   ]
  },
  {
   "cell_type": "code",
   "execution_count": 168,
   "id": "573d2e39",
   "metadata": {},
   "outputs": [],
   "source": []
  },
  {
   "cell_type": "code",
   "execution_count": 179,
   "id": "dbdf6c3a",
   "metadata": {},
   "outputs": [],
   "source": [
    "dateNew=['2020-08-01','2020-08-02']"
   ]
  },
  {
   "cell_type": "code",
   "execution_count": 180,
   "id": "1b6ff937",
   "metadata": {},
   "outputs": [],
   "source": [
    "dfDnew=pd.DataFrame({'Date':dateNew})"
   ]
  },
  {
   "cell_type": "code",
   "execution_count": 181,
   "id": "14f97f1b",
   "metadata": {},
   "outputs": [
    {
     "data": {
      "text/html": [
       "<div>\n",
       "<style scoped>\n",
       "    .dataframe tbody tr th:only-of-type {\n",
       "        vertical-align: middle;\n",
       "    }\n",
       "\n",
       "    .dataframe tbody tr th {\n",
       "        vertical-align: top;\n",
       "    }\n",
       "\n",
       "    .dataframe thead th {\n",
       "        text-align: right;\n",
       "    }\n",
       "</style>\n",
       "<table border=\"1\" class=\"dataframe\">\n",
       "  <thead>\n",
       "    <tr style=\"text-align: right;\">\n",
       "      <th></th>\n",
       "      <th>Date</th>\n",
       "    </tr>\n",
       "  </thead>\n",
       "  <tbody>\n",
       "    <tr>\n",
       "      <th>0</th>\n",
       "      <td>2020-08-01</td>\n",
       "    </tr>\n",
       "    <tr>\n",
       "      <th>1</th>\n",
       "      <td>2020-08-02</td>\n",
       "    </tr>\n",
       "  </tbody>\n",
       "</table>\n",
       "</div>"
      ],
      "text/plain": [
       "         Date\n",
       "0  2020-08-01\n",
       "1  2020-08-02"
      ]
     },
     "execution_count": 181,
     "metadata": {},
     "output_type": "execute_result"
    }
   ],
   "source": [
    "dfDnew.head()"
   ]
  },
  {
   "cell_type": "code",
   "execution_count": 182,
   "id": "209a5af2",
   "metadata": {},
   "outputs": [
    {
     "data": {
      "text/plain": [
       "Date    object\n",
       "dtype: object"
      ]
     },
     "execution_count": 182,
     "metadata": {},
     "output_type": "execute_result"
    }
   ],
   "source": [
    "dfDnew.dtypes"
   ]
  },
  {
   "cell_type": "code",
   "execution_count": 183,
   "id": "b72ebf58",
   "metadata": {},
   "outputs": [],
   "source": [
    "dfDnew['Date'] = dfDnew['Date'].astype(\"string\") #change the data type"
   ]
  },
  {
   "cell_type": "code",
   "execution_count": 184,
   "id": "bc37f555",
   "metadata": {},
   "outputs": [],
   "source": [
    "dfDnew['Date'] = dfDnew['Date'].astype('datetime64[ns]')"
   ]
  },
  {
   "cell_type": "code",
   "execution_count": 185,
   "id": "2184192f",
   "metadata": {},
   "outputs": [
    {
     "data": {
      "text/plain": [
       "Date    datetime64[ns]\n",
       "dtype: object"
      ]
     },
     "execution_count": 185,
     "metadata": {},
     "output_type": "execute_result"
    }
   ],
   "source": [
    "dfDnew.dtypes"
   ]
  },
  {
   "cell_type": "code",
   "execution_count": 186,
   "id": "e3d61969",
   "metadata": {},
   "outputs": [],
   "source": [
    "dfDnew=dfDnew.set_index('Date')"
   ]
  },
  {
   "cell_type": "code",
   "execution_count": 187,
   "id": "334dd3a2",
   "metadata": {},
   "outputs": [
    {
     "data": {
      "text/html": [
       "<div>\n",
       "<style scoped>\n",
       "    .dataframe tbody tr th:only-of-type {\n",
       "        vertical-align: middle;\n",
       "    }\n",
       "\n",
       "    .dataframe tbody tr th {\n",
       "        vertical-align: top;\n",
       "    }\n",
       "\n",
       "    .dataframe thead th {\n",
       "        text-align: right;\n",
       "    }\n",
       "</style>\n",
       "<table border=\"1\" class=\"dataframe\">\n",
       "  <thead>\n",
       "    <tr style=\"text-align: right;\">\n",
       "      <th></th>\n",
       "    </tr>\n",
       "    <tr>\n",
       "      <th>Date</th>\n",
       "    </tr>\n",
       "  </thead>\n",
       "  <tbody>\n",
       "    <tr>\n",
       "      <th>2020-08-01</th>\n",
       "    </tr>\n",
       "    <tr>\n",
       "      <th>2020-08-02</th>\n",
       "    </tr>\n",
       "  </tbody>\n",
       "</table>\n",
       "</div>"
      ],
      "text/plain": [
       "Empty DataFrame\n",
       "Columns: []\n",
       "Index: [2020-08-01 00:00:00, 2020-08-02 00:00:00]"
      ]
     },
     "execution_count": 187,
     "metadata": {},
     "output_type": "execute_result"
    }
   ],
   "source": [
    "dfDnew.head()"
   ]
  },
  {
   "cell_type": "code",
   "execution_count": 188,
   "id": "f74d73a3",
   "metadata": {},
   "outputs": [],
   "source": [
    "future_df2=pd.concat([dfD,dfDnew])"
   ]
  },
  {
   "cell_type": "code",
   "execution_count": 204,
   "id": "574800b6",
   "metadata": {},
   "outputs": [
    {
     "name": "stderr",
     "output_type": "stream",
     "text": [
      "C:\\Users\\RAVI\\anaconda3\\envs\\tensorflow\\lib\\site-packages\\statsmodels\\tsa\\base\\tsa_model.py:471: ValueWarning: No frequency information was provided, so inferred frequency D will be used.\n",
      "  self._init_dates(dates, freq)\n",
      "C:\\Users\\RAVI\\anaconda3\\envs\\tensorflow\\lib\\site-packages\\statsmodels\\tsa\\base\\tsa_model.py:471: ValueWarning: No frequency information was provided, so inferred frequency D will be used.\n",
      "  self._init_dates(dates, freq)\n"
     ]
    }
   ],
   "source": [
    "model1=sm.tsa.statespace.SARIMAX(dfD['Dispatch'],order=(1, 1, 1),seasonal_order=(1,1,1,2)) #0 or 1\n",
    "results1=model1.fit()"
   ]
  },
  {
   "cell_type": "code",
   "execution_count": 205,
   "id": "8d6b03cc",
   "metadata": {},
   "outputs": [
    {
     "data": {
      "text/plain": [
       "<AxesSubplot:xlabel='Date'>"
      ]
     },
     "execution_count": 205,
     "metadata": {},
     "output_type": "execute_result"
    },
    {
     "data": {
      "image/png": "[encoded data removed]",
      "text/plain": [
       "<Figure size 1440x720 with 1 Axes>"
      ]
     },
     "metadata": {
      "needs_background": "light"
     },
     "output_type": "display_data"
    }
   ],
   "source": [
    "#plot of predicted 1st and 2nd of August.....\n",
    "future_df2['forecast'] = results1.predict(start=25,end=26, dynamic= True)  \n",
    "future_df2[['Dispatch', 'forecast']].plot(figsize=(20, 10)) "
   ]
  },
  {
   "cell_type": "code",
   "execution_count": 206,
   "id": "cde6da08",
   "metadata": {},
   "outputs": [
    {
     "data": {
      "text/html": [
       "<div>\n",
       "<style scoped>\n",
       "    .dataframe tbody tr th:only-of-type {\n",
       "        vertical-align: middle;\n",
       "    }\n",
       "\n",
       "    .dataframe tbody tr th {\n",
       "        vertical-align: top;\n",
       "    }\n",
       "\n",
       "    .dataframe thead th {\n",
       "        text-align: right;\n",
       "    }\n",
       "</style>\n",
       "<table border=\"1\" class=\"dataframe\">\n",
       "  <thead>\n",
       "    <tr style=\"text-align: right;\">\n",
       "      <th></th>\n",
       "      <th>Dispatch</th>\n",
       "      <th>forecast</th>\n",
       "    </tr>\n",
       "    <tr>\n",
       "      <th>Date</th>\n",
       "      <th></th>\n",
       "      <th></th>\n",
       "    </tr>\n",
       "  </thead>\n",
       "  <tbody>\n",
       "    <tr>\n",
       "      <th>2020-07-29</th>\n",
       "      <td>127.0</td>\n",
       "      <td>NaN</td>\n",
       "    </tr>\n",
       "    <tr>\n",
       "      <th>2020-07-30</th>\n",
       "      <td>75.0</td>\n",
       "      <td>NaN</td>\n",
       "    </tr>\n",
       "    <tr>\n",
       "      <th>2020-07-31</th>\n",
       "      <td>60.0</td>\n",
       "      <td>NaN</td>\n",
       "    </tr>\n",
       "    <tr>\n",
       "      <th>2020-08-01</th>\n",
       "      <td>NaN</td>\n",
       "      <td>67.898320</td>\n",
       "    </tr>\n",
       "    <tr>\n",
       "      <th>2020-08-02</th>\n",
       "      <td>NaN</td>\n",
       "      <td>117.418919</td>\n",
       "    </tr>\n",
       "  </tbody>\n",
       "</table>\n",
       "</div>"
      ],
      "text/plain": [
       "            Dispatch    forecast\n",
       "Date                            \n",
       "2020-07-29     127.0         NaN\n",
       "2020-07-30      75.0         NaN\n",
       "2020-07-31      60.0         NaN\n",
       "2020-08-01       NaN   67.898320\n",
       "2020-08-02       NaN  117.418919"
      ]
     },
     "execution_count": 206,
     "metadata": {},
     "output_type": "execute_result"
    }
   ],
   "source": [
    "future_df2.tail() #looking for predicted values..."
   ]
  },
  {
   "cell_type": "code",
   "execution_count": null,
   "id": "71b0f76b",
   "metadata": {},
   "outputs": [],
   "source": []
  }
 ],
 "metadata": {
  "kernelspec": {
   "display_name": "Python 3 (ipykernel)",
   "language": "python",
   "name": "python3"
  },
  "language_info": {
   "codemirror_mode": {
    "name": "ipython",
    "version": 3
   },
   "file_extension": ".py",
   "mimetype": "text/x-python",
   "name": "python",
   "nbconvert_exporter": "python",
   "pygments_lexer": "ipython3",
   "version": "3.8.12"
  }
 },
 "nbformat": 4,
 "nbformat_minor": 5
}
