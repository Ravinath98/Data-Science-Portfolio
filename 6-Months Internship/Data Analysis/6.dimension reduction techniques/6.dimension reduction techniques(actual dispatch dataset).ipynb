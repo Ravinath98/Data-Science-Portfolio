{
 "cells": [
  {
   "cell_type": "code",
   "execution_count": 1,
   "id": "5e2aa696",
   "metadata": {},
   "outputs": [],
   "source": [
    "#import libraries\n",
    "import pandas as pd\n",
    "import os"
   ]
  },
  {
   "cell_type": "markdown",
   "id": "61015036",
   "metadata": {},
   "source": [
    "# Actual Dispatch dataset"
   ]
  },
  {
   "cell_type": "code",
   "execution_count": 2,
   "id": "ea7c83bc",
   "metadata": {},
   "outputs": [],
   "source": [
    "data_frames_1=[]\n",
    "data_frames_2=[]\n",
    "for i in range(0,31):\n",
    "    df=pd.read_excel(r'E:\\Desktop\\Datasets\\actual_july\\15 min Dispatch July 2020.xlsx',sheet_name=i) \n",
    "\n",
    "    temp=list(df.columns)\n",
    "\n",
    "    date = temp[8].date()\n",
    "    df.columns = df.iloc[0]\n",
    "    df=df.drop(0)\n",
    "    df=df.drop(columns=df.columns[-3:],axis=1)\n",
    "    x=df.iloc[:, 0]\n",
    "\n",
    "    t=0\n",
    "    for i in x:\n",
    "        t=t+1\n",
    "        if i=='Total MW':\n",
    "\n",
    "            break\n",
    "    df=df.iloc[:t-1, :]\n",
    "    df1 = pd.DataFrame()\n",
    "    import datetime as dt\n",
    "    t1 = dt.datetime.strptime('00:00:00', '%H:%M:%S')\n",
    "    for i in range (1,len(df.columns),2):\n",
    "        df1[str(t1.time())]=df.iloc[:, i]+df.iloc[:, i+1]\n",
    "        t2 = dt.datetime.strptime('00:30:00', '%H:%M:%S')\n",
    "        time_zero = dt.datetime.strptime('00:00:00', '%H:%M:%S')\n",
    "        x=(t1 - time_zero + t2).time()\n",
    "        t1 = dt.datetime.strptime(str(x), '%H:%M:%S')\n",
    "        \n",
    "    m=df.iloc[:t-1, 0]\n",
    "    list(m)\n",
    "    df1.insert(0, 'Power_Plant', m)\n",
    "    df2=pd.melt(df1,id_vars=['Power_Plant'])\n",
    "    df1['Date']=date\n",
    "    df2['Date']=date\n",
    "    data_frames_1.append(df1)\n",
    "    data_frames_2.append(df2)\n"
   ]
  },
  {
   "cell_type": "code",
   "execution_count": 3,
   "id": "14a660be",
   "metadata": {},
   "outputs": [
    {
     "data": {
      "text/html": [
       "<div>\n",
       "<style scoped>\n",
       "    .dataframe tbody tr th:only-of-type {\n",
       "        vertical-align: middle;\n",
       "    }\n",
       "\n",
       "    .dataframe tbody tr th {\n",
       "        vertical-align: top;\n",
       "    }\n",
       "\n",
       "    .dataframe thead th {\n",
       "        text-align: right;\n",
       "    }\n",
       "</style>\n",
       "<table border=\"1\" class=\"dataframe\">\n",
       "  <thead>\n",
       "    <tr style=\"text-align: right;\">\n",
       "      <th></th>\n",
       "      <th>Power_Plant</th>\n",
       "      <th>00:00:00</th>\n",
       "      <th>00:30:00</th>\n",
       "      <th>01:00:00</th>\n",
       "      <th>01:30:00</th>\n",
       "      <th>02:00:00</th>\n",
       "      <th>02:30:00</th>\n",
       "      <th>03:00:00</th>\n",
       "      <th>03:30:00</th>\n",
       "      <th>04:00:00</th>\n",
       "      <th>...</th>\n",
       "      <th>19:30:00</th>\n",
       "      <th>20:00:00</th>\n",
       "      <th>20:30:00</th>\n",
       "      <th>21:00:00</th>\n",
       "      <th>21:30:00</th>\n",
       "      <th>22:00:00</th>\n",
       "      <th>22:30:00</th>\n",
       "      <th>23:00:00</th>\n",
       "      <th>23:30:00</th>\n",
       "      <th>Date</th>\n",
       "    </tr>\n",
       "  </thead>\n",
       "  <tbody>\n",
       "    <tr>\n",
       "      <th>1</th>\n",
       "      <td>Canyon</td>\n",
       "      <td>20.0</td>\n",
       "      <td>20.0</td>\n",
       "      <td>20.0</td>\n",
       "      <td>20.0</td>\n",
       "      <td>20.0</td>\n",
       "      <td>20.0</td>\n",
       "      <td>0.0</td>\n",
       "      <td>0.0</td>\n",
       "      <td>0.0</td>\n",
       "      <td>...</td>\n",
       "      <td>60.0</td>\n",
       "      <td>60.0</td>\n",
       "      <td>60.0</td>\n",
       "      <td>60.0</td>\n",
       "      <td>60.0</td>\n",
       "      <td>60.0</td>\n",
       "      <td>30.0</td>\n",
       "      <td>0.0</td>\n",
       "      <td>0.0</td>\n",
       "      <td>2020-07-01</td>\n",
       "    </tr>\n",
       "    <tr>\n",
       "      <th>2</th>\n",
       "      <td>WPS</td>\n",
       "      <td>0.0</td>\n",
       "      <td>0.0</td>\n",
       "      <td>0.0</td>\n",
       "      <td>0.0</td>\n",
       "      <td>0.0</td>\n",
       "      <td>0.0</td>\n",
       "      <td>0.0</td>\n",
       "      <td>0.0</td>\n",
       "      <td>0.0</td>\n",
       "      <td>...</td>\n",
       "      <td>20.0</td>\n",
       "      <td>20.0</td>\n",
       "      <td>0.0</td>\n",
       "      <td>0.0</td>\n",
       "      <td>0.0</td>\n",
       "      <td>0.0</td>\n",
       "      <td>0.0</td>\n",
       "      <td>0.0</td>\n",
       "      <td>0.0</td>\n",
       "      <td>2020-07-01</td>\n",
       "    </tr>\n",
       "    <tr>\n",
       "      <th>3</th>\n",
       "      <td>Olax</td>\n",
       "      <td>10.0</td>\n",
       "      <td>10.0</td>\n",
       "      <td>10.0</td>\n",
       "      <td>10.0</td>\n",
       "      <td>10.0</td>\n",
       "      <td>10.0</td>\n",
       "      <td>10.0</td>\n",
       "      <td>10.0</td>\n",
       "      <td>34.0</td>\n",
       "      <td>...</td>\n",
       "      <td>103.0</td>\n",
       "      <td>42.0</td>\n",
       "      <td>28.0</td>\n",
       "      <td>28.0</td>\n",
       "      <td>28.0</td>\n",
       "      <td>28.0</td>\n",
       "      <td>28.0</td>\n",
       "      <td>28.0</td>\n",
       "      <td>28.0</td>\n",
       "      <td>2020-07-01</td>\n",
       "    </tr>\n",
       "    <tr>\n",
       "      <th>4</th>\n",
       "      <td>Nlax</td>\n",
       "      <td>91.0</td>\n",
       "      <td>39.0</td>\n",
       "      <td>34.0</td>\n",
       "      <td>19.0</td>\n",
       "      <td>20.0</td>\n",
       "      <td>22.0</td>\n",
       "      <td>31.0</td>\n",
       "      <td>59.0</td>\n",
       "      <td>84.0</td>\n",
       "      <td>...</td>\n",
       "      <td>212.0</td>\n",
       "      <td>210.0</td>\n",
       "      <td>210.0</td>\n",
       "      <td>168.0</td>\n",
       "      <td>36.0</td>\n",
       "      <td>58.0</td>\n",
       "      <td>71.0</td>\n",
       "      <td>76.0</td>\n",
       "      <td>54.0</td>\n",
       "      <td>2020-07-01</td>\n",
       "    </tr>\n",
       "    <tr>\n",
       "      <th>5</th>\n",
       "      <td>Polp</td>\n",
       "      <td>40.0</td>\n",
       "      <td>39.0</td>\n",
       "      <td>35.0</td>\n",
       "      <td>42.0</td>\n",
       "      <td>46.0</td>\n",
       "      <td>44.0</td>\n",
       "      <td>46.0</td>\n",
       "      <td>42.0</td>\n",
       "      <td>49.0</td>\n",
       "      <td>...</td>\n",
       "      <td>180.0</td>\n",
       "      <td>175.0</td>\n",
       "      <td>144.0</td>\n",
       "      <td>111.0</td>\n",
       "      <td>81.0</td>\n",
       "      <td>45.0</td>\n",
       "      <td>46.0</td>\n",
       "      <td>43.0</td>\n",
       "      <td>40.0</td>\n",
       "      <td>2020-07-01</td>\n",
       "    </tr>\n",
       "  </tbody>\n",
       "</table>\n",
       "<p>5 rows × 50 columns</p>\n",
       "</div>"
      ],
      "text/plain": [
       "  Power_Plant 00:00:00 00:30:00 01:00:00 01:30:00 02:00:00 02:30:00 03:00:00  \\\n",
       "1      Canyon     20.0     20.0     20.0     20.0     20.0     20.0      0.0   \n",
       "2         WPS      0.0      0.0      0.0      0.0      0.0      0.0      0.0   \n",
       "3        Olax     10.0     10.0     10.0     10.0     10.0     10.0     10.0   \n",
       "4        Nlax     91.0     39.0     34.0     19.0     20.0     22.0     31.0   \n",
       "5        Polp     40.0     39.0     35.0     42.0     46.0     44.0     46.0   \n",
       "\n",
       "  03:30:00 04:00:00  ... 19:30:00 20:00:00 20:30:00 21:00:00 21:30:00  \\\n",
       "1      0.0      0.0  ...     60.0     60.0     60.0     60.0     60.0   \n",
       "2      0.0      0.0  ...     20.0     20.0      0.0      0.0      0.0   \n",
       "3     10.0     34.0  ...    103.0     42.0     28.0     28.0     28.0   \n",
       "4     59.0     84.0  ...    212.0    210.0    210.0    168.0     36.0   \n",
       "5     42.0     49.0  ...    180.0    175.0    144.0    111.0     81.0   \n",
       "\n",
       "  22:00:00 22:30:00 23:00:00 23:30:00        Date  \n",
       "1     60.0     30.0      0.0      0.0  2020-07-01  \n",
       "2      0.0      0.0      0.0      0.0  2020-07-01  \n",
       "3     28.0     28.0     28.0     28.0  2020-07-01  \n",
       "4     58.0     71.0     76.0     54.0  2020-07-01  \n",
       "5     45.0     46.0     43.0     40.0  2020-07-01  \n",
       "\n",
       "[5 rows x 50 columns]"
      ]
     },
     "execution_count": 3,
     "metadata": {},
     "output_type": "execute_result"
    }
   ],
   "source": [
    "data_frames_1[0].head() #1st of july dataframe.."
   ]
  },
  {
   "cell_type": "code",
   "execution_count": 4,
   "id": "19050571",
   "metadata": {},
   "outputs": [
    {
     "data": {
      "text/plain": [
       "Power_Plant    object\n",
       "00:00:00       object\n",
       "00:30:00       object\n",
       "01:00:00       object\n",
       "01:30:00       object\n",
       "02:00:00       object\n",
       "02:30:00       object\n",
       "03:00:00       object\n",
       "03:30:00       object\n",
       "04:00:00       object\n",
       "04:30:00       object\n",
       "05:00:00       object\n",
       "05:30:00       object\n",
       "06:00:00       object\n",
       "06:30:00       object\n",
       "07:00:00       object\n",
       "07:30:00       object\n",
       "08:00:00       object\n",
       "08:30:00       object\n",
       "09:00:00       object\n",
       "09:30:00       object\n",
       "10:00:00       object\n",
       "10:30:00       object\n",
       "11:00:00       object\n",
       "11:30:00       object\n",
       "12:00:00       object\n",
       "12:30:00       object\n",
       "13:00:00       object\n",
       "13:30:00       object\n",
       "14:00:00       object\n",
       "14:30:00       object\n",
       "15:00:00       object\n",
       "15:30:00       object\n",
       "16:00:00       object\n",
       "16:30:00       object\n",
       "17:00:00       object\n",
       "17:30:00       object\n",
       "18:00:00       object\n",
       "18:30:00       object\n",
       "19:00:00       object\n",
       "19:30:00       object\n",
       "20:00:00       object\n",
       "20:30:00       object\n",
       "21:00:00       object\n",
       "21:30:00       object\n",
       "22:00:00       object\n",
       "22:30:00       object\n",
       "23:00:00       object\n",
       "23:30:00       object\n",
       "Date           object\n",
       "dtype: object"
      ]
     },
     "execution_count": 4,
     "metadata": {},
     "output_type": "execute_result"
    }
   ],
   "source": [
    "data_frames_1[0].dtypes"
   ]
  },
  {
   "cell_type": "code",
   "execution_count": 8,
   "id": "870591bf",
   "metadata": {},
   "outputs": [
    {
     "data": {
      "text/plain": [
       "['Power_Plant',\n",
       " '00:00:00',\n",
       " '00:30:00',\n",
       " '01:00:00',\n",
       " '01:30:00',\n",
       " '02:00:00',\n",
       " '02:30:00',\n",
       " '03:00:00',\n",
       " '03:30:00',\n",
       " '04:00:00',\n",
       " '04:30:00',\n",
       " '05:00:00',\n",
       " '05:30:00',\n",
       " '06:00:00',\n",
       " '06:30:00',\n",
       " '07:00:00',\n",
       " '07:30:00',\n",
       " '08:00:00',\n",
       " '08:30:00',\n",
       " '09:00:00',\n",
       " '09:30:00',\n",
       " '10:00:00',\n",
       " '10:30:00',\n",
       " '11:00:00',\n",
       " '11:30:00',\n",
       " '12:00:00',\n",
       " '12:30:00',\n",
       " '13:00:00',\n",
       " '13:30:00',\n",
       " '14:00:00',\n",
       " '14:30:00',\n",
       " '15:00:00',\n",
       " '15:30:00',\n",
       " '16:00:00',\n",
       " '16:30:00',\n",
       " '17:00:00',\n",
       " '17:30:00',\n",
       " '18:00:00',\n",
       " '18:30:00',\n",
       " '19:00:00',\n",
       " '19:30:00',\n",
       " '20:00:00',\n",
       " '20:30:00',\n",
       " '21:00:00',\n",
       " '21:30:00',\n",
       " '22:00:00',\n",
       " '22:30:00',\n",
       " '23:00:00',\n",
       " '23:30:00',\n",
       " 'Date']"
      ]
     },
     "execution_count": 8,
     "metadata": {},
     "output_type": "execute_result"
    }
   ],
   "source": [
    "x=list(data_frames_1[0].columns)\n",
    "x"
   ]
  },
  {
   "cell_type": "code",
   "execution_count": 10,
   "id": "ae7940b5",
   "metadata": {},
   "outputs": [
    {
     "data": {
      "text/plain": [
       "50"
      ]
     },
     "execution_count": 10,
     "metadata": {},
     "output_type": "execute_result"
    }
   ],
   "source": [
    "len(x)"
   ]
  },
  {
   "cell_type": "code",
   "execution_count": 12,
   "id": "8fbff1ef",
   "metadata": {},
   "outputs": [],
   "source": [
    "#convert the object datatype to float datatype\n",
    "for i in x:\n",
    "    if i=='Date' or i=='Power_Plant':\n",
    "        continue\n",
    "    else:\n",
    "        data_frames_1[0][i] = data_frames_1[0][i].astype(float)\n",
    "        "
   ]
  },
  {
   "cell_type": "code",
   "execution_count": 13,
   "id": "7bf7b177",
   "metadata": {},
   "outputs": [
    {
     "data": {
      "text/plain": [
       "Power_Plant     object\n",
       "00:00:00       float64\n",
       "00:30:00       float64\n",
       "01:00:00       float64\n",
       "01:30:00       float64\n",
       "02:00:00       float64\n",
       "02:30:00       float64\n",
       "03:00:00       float64\n",
       "03:30:00       float64\n",
       "04:00:00       float64\n",
       "04:30:00       float64\n",
       "05:00:00       float64\n",
       "05:30:00       float64\n",
       "06:00:00       float64\n",
       "06:30:00       float64\n",
       "07:00:00       float64\n",
       "07:30:00       float64\n",
       "08:00:00       float64\n",
       "08:30:00       float64\n",
       "09:00:00       float64\n",
       "09:30:00       float64\n",
       "10:00:00       float64\n",
       "10:30:00       float64\n",
       "11:00:00       float64\n",
       "11:30:00       float64\n",
       "12:00:00       float64\n",
       "12:30:00       float64\n",
       "13:00:00       float64\n",
       "13:30:00       float64\n",
       "14:00:00       float64\n",
       "14:30:00       float64\n",
       "15:00:00       float64\n",
       "15:30:00       float64\n",
       "16:00:00       float64\n",
       "16:30:00       float64\n",
       "17:00:00       float64\n",
       "17:30:00       float64\n",
       "18:00:00       float64\n",
       "18:30:00       float64\n",
       "19:00:00       float64\n",
       "19:30:00       float64\n",
       "20:00:00       float64\n",
       "20:30:00       float64\n",
       "21:00:00       float64\n",
       "21:30:00       float64\n",
       "22:00:00       float64\n",
       "22:30:00       float64\n",
       "23:00:00       float64\n",
       "23:30:00       float64\n",
       "Date            object\n",
       "dtype: object"
      ]
     },
     "execution_count": 13,
     "metadata": {},
     "output_type": "execute_result"
    }
   ],
   "source": [
    "data_frames_1[0].dtypes"
   ]
  },
  {
   "cell_type": "code",
   "execution_count": null,
   "id": "f3afb28e",
   "metadata": {},
   "outputs": [],
   "source": [
    "data_frames_1[0].describe()"
   ]
  },
  {
   "cell_type": "code",
   "execution_count": 15,
   "id": "9fcdcf3d",
   "metadata": {},
   "outputs": [],
   "source": [
    "df1=data_frames_1[0].drop(['Date','Power_Plant'],axis=1)"
   ]
  },
  {
   "cell_type": "code",
   "execution_count": 16,
   "id": "cc55f4ee",
   "metadata": {},
   "outputs": [
    {
     "data": {
      "text/html": [
       "<div>\n",
       "<style scoped>\n",
       "    .dataframe tbody tr th:only-of-type {\n",
       "        vertical-align: middle;\n",
       "    }\n",
       "\n",
       "    .dataframe tbody tr th {\n",
       "        vertical-align: top;\n",
       "    }\n",
       "\n",
       "    .dataframe thead th {\n",
       "        text-align: right;\n",
       "    }\n",
       "</style>\n",
       "<table border=\"1\" class=\"dataframe\">\n",
       "  <thead>\n",
       "    <tr style=\"text-align: right;\">\n",
       "      <th></th>\n",
       "      <th>00:00:00</th>\n",
       "      <th>00:30:00</th>\n",
       "      <th>01:00:00</th>\n",
       "      <th>01:30:00</th>\n",
       "      <th>02:00:00</th>\n",
       "      <th>02:30:00</th>\n",
       "      <th>03:00:00</th>\n",
       "      <th>03:30:00</th>\n",
       "      <th>04:00:00</th>\n",
       "      <th>04:30:00</th>\n",
       "      <th>...</th>\n",
       "      <th>19:00:00</th>\n",
       "      <th>19:30:00</th>\n",
       "      <th>20:00:00</th>\n",
       "      <th>20:30:00</th>\n",
       "      <th>21:00:00</th>\n",
       "      <th>21:30:00</th>\n",
       "      <th>22:00:00</th>\n",
       "      <th>22:30:00</th>\n",
       "      <th>23:00:00</th>\n",
       "      <th>23:30:00</th>\n",
       "    </tr>\n",
       "  </thead>\n",
       "  <tbody>\n",
       "    <tr>\n",
       "      <th>1</th>\n",
       "      <td>20.0</td>\n",
       "      <td>20.0</td>\n",
       "      <td>20.0</td>\n",
       "      <td>20.0</td>\n",
       "      <td>20.0</td>\n",
       "      <td>20.0</td>\n",
       "      <td>0.0</td>\n",
       "      <td>0.0</td>\n",
       "      <td>0.0</td>\n",
       "      <td>0.0</td>\n",
       "      <td>...</td>\n",
       "      <td>60.0</td>\n",
       "      <td>60.0</td>\n",
       "      <td>60.0</td>\n",
       "      <td>60.0</td>\n",
       "      <td>60.0</td>\n",
       "      <td>60.0</td>\n",
       "      <td>60.0</td>\n",
       "      <td>30.0</td>\n",
       "      <td>0.0</td>\n",
       "      <td>0.0</td>\n",
       "    </tr>\n",
       "    <tr>\n",
       "      <th>2</th>\n",
       "      <td>0.0</td>\n",
       "      <td>0.0</td>\n",
       "      <td>0.0</td>\n",
       "      <td>0.0</td>\n",
       "      <td>0.0</td>\n",
       "      <td>0.0</td>\n",
       "      <td>0.0</td>\n",
       "      <td>0.0</td>\n",
       "      <td>0.0</td>\n",
       "      <td>0.0</td>\n",
       "      <td>...</td>\n",
       "      <td>20.0</td>\n",
       "      <td>20.0</td>\n",
       "      <td>20.0</td>\n",
       "      <td>0.0</td>\n",
       "      <td>0.0</td>\n",
       "      <td>0.0</td>\n",
       "      <td>0.0</td>\n",
       "      <td>0.0</td>\n",
       "      <td>0.0</td>\n",
       "      <td>0.0</td>\n",
       "    </tr>\n",
       "    <tr>\n",
       "      <th>3</th>\n",
       "      <td>10.0</td>\n",
       "      <td>10.0</td>\n",
       "      <td>10.0</td>\n",
       "      <td>10.0</td>\n",
       "      <td>10.0</td>\n",
       "      <td>10.0</td>\n",
       "      <td>10.0</td>\n",
       "      <td>10.0</td>\n",
       "      <td>34.0</td>\n",
       "      <td>66.0</td>\n",
       "      <td>...</td>\n",
       "      <td>104.0</td>\n",
       "      <td>103.0</td>\n",
       "      <td>42.0</td>\n",
       "      <td>28.0</td>\n",
       "      <td>28.0</td>\n",
       "      <td>28.0</td>\n",
       "      <td>28.0</td>\n",
       "      <td>28.0</td>\n",
       "      <td>28.0</td>\n",
       "      <td>28.0</td>\n",
       "    </tr>\n",
       "    <tr>\n",
       "      <th>4</th>\n",
       "      <td>91.0</td>\n",
       "      <td>39.0</td>\n",
       "      <td>34.0</td>\n",
       "      <td>19.0</td>\n",
       "      <td>20.0</td>\n",
       "      <td>22.0</td>\n",
       "      <td>31.0</td>\n",
       "      <td>59.0</td>\n",
       "      <td>84.0</td>\n",
       "      <td>34.0</td>\n",
       "      <td>...</td>\n",
       "      <td>212.0</td>\n",
       "      <td>212.0</td>\n",
       "      <td>210.0</td>\n",
       "      <td>210.0</td>\n",
       "      <td>168.0</td>\n",
       "      <td>36.0</td>\n",
       "      <td>58.0</td>\n",
       "      <td>71.0</td>\n",
       "      <td>76.0</td>\n",
       "      <td>54.0</td>\n",
       "    </tr>\n",
       "    <tr>\n",
       "      <th>5</th>\n",
       "      <td>40.0</td>\n",
       "      <td>39.0</td>\n",
       "      <td>35.0</td>\n",
       "      <td>42.0</td>\n",
       "      <td>46.0</td>\n",
       "      <td>44.0</td>\n",
       "      <td>46.0</td>\n",
       "      <td>42.0</td>\n",
       "      <td>49.0</td>\n",
       "      <td>36.0</td>\n",
       "      <td>...</td>\n",
       "      <td>180.0</td>\n",
       "      <td>180.0</td>\n",
       "      <td>175.0</td>\n",
       "      <td>144.0</td>\n",
       "      <td>111.0</td>\n",
       "      <td>81.0</td>\n",
       "      <td>45.0</td>\n",
       "      <td>46.0</td>\n",
       "      <td>43.0</td>\n",
       "      <td>40.0</td>\n",
       "    </tr>\n",
       "  </tbody>\n",
       "</table>\n",
       "<p>5 rows × 48 columns</p>\n",
       "</div>"
      ],
      "text/plain": [
       "   00:00:00  00:30:00  01:00:00  01:30:00  02:00:00  02:30:00  03:00:00  \\\n",
       "1      20.0      20.0      20.0      20.0      20.0      20.0       0.0   \n",
       "2       0.0       0.0       0.0       0.0       0.0       0.0       0.0   \n",
       "3      10.0      10.0      10.0      10.0      10.0      10.0      10.0   \n",
       "4      91.0      39.0      34.0      19.0      20.0      22.0      31.0   \n",
       "5      40.0      39.0      35.0      42.0      46.0      44.0      46.0   \n",
       "\n",
       "   03:30:00  04:00:00  04:30:00  ...  19:00:00  19:30:00  20:00:00  20:30:00  \\\n",
       "1       0.0       0.0       0.0  ...      60.0      60.0      60.0      60.0   \n",
       "2       0.0       0.0       0.0  ...      20.0      20.0      20.0       0.0   \n",
       "3      10.0      34.0      66.0  ...     104.0     103.0      42.0      28.0   \n",
       "4      59.0      84.0      34.0  ...     212.0     212.0     210.0     210.0   \n",
       "5      42.0      49.0      36.0  ...     180.0     180.0     175.0     144.0   \n",
       "\n",
       "   21:00:00  21:30:00  22:00:00  22:30:00  23:00:00  23:30:00  \n",
       "1      60.0      60.0      60.0      30.0       0.0       0.0  \n",
       "2       0.0       0.0       0.0       0.0       0.0       0.0  \n",
       "3      28.0      28.0      28.0      28.0      28.0      28.0  \n",
       "4     168.0      36.0      58.0      71.0      76.0      54.0  \n",
       "5     111.0      81.0      45.0      46.0      43.0      40.0  \n",
       "\n",
       "[5 rows x 48 columns]"
      ]
     },
     "execution_count": 16,
     "metadata": {},
     "output_type": "execute_result"
    }
   ],
   "source": [
    "df1.head()"
   ]
  },
  {
   "cell_type": "markdown",
   "id": "7bf158f3",
   "metadata": {},
   "source": [
    "## Standard Normalization"
   ]
  },
  {
   "cell_type": "code",
   "execution_count": 18,
   "id": "23c28fc6",
   "metadata": {},
   "outputs": [],
   "source": [
    "#import the required library\n",
    "from sklearn.preprocessing import StandardScaler"
   ]
  },
  {
   "cell_type": "code",
   "execution_count": 20,
   "id": "950e5146",
   "metadata": {},
   "outputs": [
    {
     "data": {
      "text/plain": [
       "StandardScaler()"
      ]
     },
     "execution_count": 20,
     "metadata": {},
     "output_type": "execute_result"
    }
   ],
   "source": [
    "scaler=StandardScaler() #scaler object\n",
    "scaler.fit(df1) #fit the dataframe.."
   ]
  },
  {
   "cell_type": "code",
   "execution_count": 21,
   "id": "2d36902c",
   "metadata": {},
   "outputs": [],
   "source": [
    "scaled_df=scaler.transform(df1) #scaling....."
   ]
  },
  {
   "cell_type": "code",
   "execution_count": 22,
   "id": "905f044b",
   "metadata": {},
   "outputs": [
    {
     "data": {
      "text/plain": [
       "array([[-0.3698464 , -0.35824756, -0.3536451 , ..., -0.39252072,\n",
       "        -0.56297763, -0.52880698],\n",
       "       [-0.50452933, -0.49303377, -0.48836704, ..., -0.59768973,\n",
       "        -0.56297763, -0.52880698],\n",
       "       [-0.43718787, -0.42564066, -0.42100607, ..., -0.40619865,\n",
       "        -0.37311766, -0.34062951],\n",
       "       ...,\n",
       "       [-0.50452933, -0.49303377, -0.48836704, ..., -0.59768973,\n",
       "        -0.56297763, -0.52880698],\n",
       "       [ 0.1688853 ,  0.16067935,  0.14482609, ...,  0.17511355,\n",
       "         0.21002367,  0.2843885 ],\n",
       "       [ 0.37764384,  0.38981591,  0.37385339, ...,  0.21614736,\n",
       "         0.28461151,  0.33815349]])"
      ]
     },
     "execution_count": 22,
     "metadata": {},
     "output_type": "execute_result"
    }
   ],
   "source": [
    "scaled_df"
   ]
  },
  {
   "cell_type": "markdown",
   "id": "a32b3e02",
   "metadata": {},
   "source": [
    "## Apply PCA"
   ]
  },
  {
   "cell_type": "code",
   "execution_count": 23,
   "id": "774028b5",
   "metadata": {},
   "outputs": [],
   "source": [
    "from sklearn.decomposition import PCA #principal component analysis library"
   ]
  },
  {
   "cell_type": "markdown",
   "id": "2f80c608",
   "metadata": {},
   "source": [
    "### reduce to 10 features(principal components) "
   ]
  },
  {
   "cell_type": "code",
   "execution_count": 24,
   "id": "45dbada5",
   "metadata": {},
   "outputs": [],
   "source": [
    "pca=PCA(n_components=10) #convert 48 features of the dataset into 10 features #PCA object"
   ]
  },
  {
   "cell_type": "code",
   "execution_count": 25,
   "id": "36e6015e",
   "metadata": {},
   "outputs": [
    {
     "data": {
      "text/plain": [
       "PCA(n_components=10)"
      ]
     },
     "execution_count": 25,
     "metadata": {},
     "output_type": "execute_result"
    }
   ],
   "source": [
    "pca.fit(scaled_df)"
   ]
  },
  {
   "cell_type": "code",
   "execution_count": 26,
   "id": "7fc72de8",
   "metadata": {},
   "outputs": [],
   "source": [
    "x_pca=pca.transform(scaled_df) #transform to 10 main features"
   ]
  },
  {
   "cell_type": "code",
   "execution_count": 27,
   "id": "34588021",
   "metadata": {},
   "outputs": [
    {
     "data": {
      "text/plain": [
       "(38, 48)"
      ]
     },
     "execution_count": 27,
     "metadata": {},
     "output_type": "execute_result"
    }
   ],
   "source": [
    "scaled_df.shape #48 dimensions..."
   ]
  },
  {
   "cell_type": "code",
   "execution_count": 28,
   "id": "1e4a4461",
   "metadata": {},
   "outputs": [
    {
     "data": {
      "text/plain": [
       "(38, 10)"
      ]
     },
     "execution_count": 28,
     "metadata": {},
     "output_type": "execute_result"
    }
   ],
   "source": [
    "x_pca.shape #reduce to 10 dimensions...."
   ]
  },
  {
   "cell_type": "code",
   "execution_count": 30,
   "id": "ea883c24",
   "metadata": {},
   "outputs": [
    {
     "data": {
      "text/plain": [
       "array([[-2.87728445e+00,  2.78865064e-01, -4.65629990e-02,\n",
       "        -3.47818241e-01, -3.21939102e-01,  1.98727680e-01,\n",
       "         2.25415544e-02, -3.78057304e-01,  1.90796767e-01,\n",
       "         8.67837428e-02],\n",
       "       [-3.72196258e+00,  5.49682250e-02, -6.57140193e-01,\n",
       "        -4.82432236e-02, -1.68527094e-01,  2.33096389e-02,\n",
       "        -6.01628462e-02, -2.22753727e-01,  1.56599086e-01,\n",
       "        -8.46534408e-02],\n",
       "       [-1.88856234e+00,  3.37462050e-01, -3.41187903e-01,\n",
       "         3.45204542e-01,  2.19192248e-01, -4.19415758e-02,\n",
       "        -3.31873295e-02,  8.39667335e-01,  1.09663511e-01,\n",
       "         1.66666837e-02],\n",
       "       [ 1.32375514e+00,  1.76749080e+00,  1.08039683e-02,\n",
       "         1.33674638e+00, -4.19583699e-01,  1.00273739e+00,\n",
       "        -5.76168852e-01, -9.10153736e-02, -1.53323738e-01,\n",
       "        -1.55966055e-01],\n",
       "       [ 4.22839023e-01,  1.18612933e+00, -2.50933647e-02,\n",
       "         1.01443818e+00, -2.79552501e-01,  2.21099762e-02,\n",
       "         9.30604777e-01, -2.06081691e-01,  6.16724074e-01,\n",
       "        -1.18090788e-01],\n",
       "       [-3.19083167e+00, -6.66856535e-01,  1.57902475e+00,\n",
       "         1.19693475e+00, -1.31551673e-02, -2.25682456e-01,\n",
       "         2.99624973e-01,  3.20095311e-02, -4.83908736e-01,\n",
       "        -1.97432320e-01],\n",
       "       [-6.35423785e-01, -9.61514724e-01, -1.73437524e-01,\n",
       "        -5.09061703e-02,  5.15400769e-02,  1.94610765e-01,\n",
       "         1.28548659e-02,  3.32803044e-01, -5.82817512e-03,\n",
       "        -9.78010324e-02],\n",
       "       [-4.09091451e+00, -3.24617359e-01,  6.78704468e-01,\n",
       "         2.00844147e-01, -6.39943964e-01, -4.00205836e-01,\n",
       "        -2.73096139e-01,  4.34885489e-01,  2.19976187e-01,\n",
       "         1.56376611e-01],\n",
       "       [-1.19515314e+00,  1.83754768e+00, -8.15548912e-01,\n",
       "         3.98840114e-01, -5.23165611e-01, -9.09903306e-01,\n",
       "        -4.40737718e-01, -4.38665790e-01, -1.97887776e-01,\n",
       "        -2.66920365e-01],\n",
       "       [-3.07110361e+00,  1.65696834e-01,  1.59741202e-01,\n",
       "         1.45585909e-01, -8.01128302e-02, -2.45393802e-01,\n",
       "         8.69459270e-02,  1.53582335e-01, -1.29649613e-01,\n",
       "        -4.25278554e-02],\n",
       "       [-1.63711007e+00,  5.49650184e-03, -8.00354909e-02,\n",
       "         1.04350075e-01,  5.00407969e-01,  4.81606452e-03,\n",
       "         1.17940507e-02, -1.64484556e-01, -2.14654541e-01,\n",
       "         5.38947379e-01],\n",
       "       [-3.79173683e+00, -5.26656354e-01,  1.02983891e+00,\n",
       "        -3.54242126e-01,  4.45569807e-02,  2.16952565e-01,\n",
       "        -1.82066649e-01, -1.88053471e-01,  1.97462229e-01,\n",
       "         6.99541765e-02],\n",
       "       [-2.49128680e+00,  1.06269820e+00, -3.61555758e-01,\n",
       "         1.40229217e-01, -6.68529519e-01, -1.80994615e-01,\n",
       "        -3.74903497e-01,  2.61930457e-01,  4.70078772e-01,\n",
       "         1.68048175e-01],\n",
       "       [-8.07791119e-01,  1.19381536e+00, -4.53241644e-01,\n",
       "         2.95897825e-01, -7.30065761e-01,  2.36368873e-02,\n",
       "         3.15561184e-01, -1.00527122e-02, -3.63039231e-01,\n",
       "         7.18341915e-01],\n",
       "       [ 2.10340600e+01, -8.49465543e-01, -1.93423753e-01,\n",
       "        -1.14081562e-02, -4.43057341e-02, -5.90122255e-02,\n",
       "         4.16529634e-04,  8.34104202e-05, -3.75897899e-02,\n",
       "         1.98410982e-04],\n",
       "       [ 2.07572445e+01, -8.15581955e-01, -1.81672033e-01,\n",
       "        -9.38905389e-03, -6.54522782e-02, -4.53503767e-02,\n",
       "        -1.44624015e-02, -4.72388940e-03, -1.42723006e-03,\n",
       "        -1.12163378e-02],\n",
       "       [ 2.08167964e+01, -8.00694027e-01, -1.83901809e-01,\n",
       "         2.73637672e-03, -9.54097262e-02, -1.67841068e-02,\n",
       "        -8.04788533e-03, -2.18381450e-02,  4.36072751e-02,\n",
       "         2.23573370e-03],\n",
       "       [ 1.28675116e-01, -4.61315505e-01, -1.53157195e-02,\n",
       "        -4.60278705e-02,  3.79119283e-01,  2.34515982e-02,\n",
       "        -7.72698106e-02,  1.33025057e-01, -5.54913842e-02,\n",
       "         2.63077118e-02],\n",
       "       [ 7.06919286e-01, -1.13198325e+00,  5.71838976e-02,\n",
       "        -1.73019816e-01,  9.24414690e-02,  1.02909441e-02,\n",
       "        -6.53249855e-03,  6.08169251e-02, -1.54551726e-01,\n",
       "        -4.60598780e-02],\n",
       "       [-3.22628031e+00, -3.80147844e-01,  5.92153624e-02,\n",
       "         2.96893226e-02,  4.30859891e-01, -7.65912085e-02,\n",
       "        -5.15722825e-02, -3.79765234e-02,  1.74430512e-02,\n",
       "        -2.81563396e-02],\n",
       "       [-1.37225878e-01, -7.00251040e-01,  5.65673465e-02,\n",
       "        -2.90047962e-01,  2.88712941e-01,  1.36777601e-01,\n",
       "        -3.62975267e-02, -2.15842675e-01,  3.74627917e-02,\n",
       "         9.61816927e-02],\n",
       "       [-4.54901616e+00, -6.85984146e-01, -2.55426854e-01,\n",
       "        -1.79491580e-01,  3.41127735e-02,  3.00471136e-02,\n",
       "         4.55600863e-02, -2.28763818e-02, -4.64352880e-02,\n",
       "        -5.37029955e-02],\n",
       "       [ 2.03176848e+00,  1.51691951e+00,  6.94844975e-01,\n",
       "         5.69915083e-01,  1.85672518e+00, -2.56884924e-01,\n",
       "        -2.86328841e-01, -1.72653399e-01,  2.82095417e-01,\n",
       "         1.75827050e-01],\n",
       "       [-3.05592759e+00,  2.42606035e-01, -1.00032420e-01,\n",
       "        -3.94830500e-01,  1.49090342e-01,  1.69419028e-01,\n",
       "        -1.01366529e-01, -6.01566513e-02,  1.36601402e-01,\n",
       "         2.99651388e-02],\n",
       "       [-1.70783641e+00,  1.01061716e+00, -1.16557012e-02,\n",
       "        -2.10543572e-01,  2.87759536e-01, -7.36566917e-02,\n",
       "         1.73633647e-01, -5.00153234e-02, -1.44992391e-01,\n",
       "        -9.09938932e-02],\n",
       "       [ 8.49779119e+00, -7.87035064e-01, -2.00712788e-01,\n",
       "        -1.11520278e-01, -3.73620112e-02, -2.21581489e-02,\n",
       "         3.47062551e-02, -2.51667770e-02, -8.02498185e-03,\n",
       "        -2.00792183e-02],\n",
       "       [ 4.87909826e+00,  5.90763285e+00,  4.59052732e-01,\n",
       "        -1.20077003e+00,  8.64820794e-02,  1.18459019e-01,\n",
       "         2.12329645e-01,  2.24367545e-01, -1.88621773e-01,\n",
       "        -1.66946227e-01],\n",
       "       [-4.54901616e+00, -6.85984146e-01, -2.55426854e-01,\n",
       "        -1.79491580e-01,  3.41127735e-02,  3.00471136e-02,\n",
       "         4.55600863e-02, -2.28763818e-02, -4.64352880e-02,\n",
       "        -5.37029955e-02],\n",
       "       [-4.54901616e+00, -6.85984146e-01, -2.55426854e-01,\n",
       "        -1.79491580e-01,  3.41127735e-02,  3.00471136e-02,\n",
       "         4.55600863e-02, -2.28763818e-02, -4.64352880e-02,\n",
       "        -5.37029955e-02],\n",
       "       [-4.54901616e+00, -6.85984146e-01, -2.55426854e-01,\n",
       "        -1.79491580e-01,  3.41127735e-02,  3.00471136e-02,\n",
       "         4.55600863e-02, -2.28763818e-02, -4.64352880e-02,\n",
       "        -5.37029955e-02],\n",
       "       [-4.54901616e+00, -6.85984146e-01, -2.55426854e-01,\n",
       "        -1.79491580e-01,  3.41127735e-02,  3.00471136e-02,\n",
       "         4.55600863e-02, -2.28763818e-02, -4.64352880e-02,\n",
       "        -5.37029955e-02],\n",
       "       [-4.54901616e+00, -6.85984146e-01, -2.55426854e-01,\n",
       "        -1.79491580e-01,  3.41127735e-02,  3.00471136e-02,\n",
       "         4.55600863e-02, -2.28763818e-02, -4.64352880e-02,\n",
       "        -5.37029955e-02],\n",
       "       [-4.54901616e+00, -6.85984146e-01, -2.55426854e-01,\n",
       "        -1.79491580e-01,  3.41127735e-02,  3.00471136e-02,\n",
       "         4.55600863e-02, -2.28763818e-02, -4.64352880e-02,\n",
       "        -5.37029955e-02],\n",
       "       [-4.54901616e+00, -6.85984146e-01, -2.55426854e-01,\n",
       "        -1.79491580e-01,  3.41127735e-02,  3.00471136e-02,\n",
       "         4.55600863e-02, -2.28763818e-02, -4.64352880e-02,\n",
       "        -5.37029955e-02],\n",
       "       [-4.54901616e+00, -6.85984146e-01, -2.55426854e-01,\n",
       "        -1.79491580e-01,  3.41127735e-02,  3.00471136e-02,\n",
       "         4.55600863e-02, -2.28763818e-02, -4.64352880e-02,\n",
       "        -5.37029955e-02],\n",
       "       [-4.01868115e+00, -2.17820624e-01, -6.72016498e-01,\n",
       "        -1.35069881e-01,  1.56424074e-02,  9.38844221e-02,\n",
       "         2.36935817e-02, -7.12021969e-02,  2.00963943e-02,\n",
       "        -1.08574809e-01],\n",
       "       [ 4.91692507e-01, -9.14450226e-01, -7.75857077e-02,\n",
       "        -7.30249396e-02,  2.66580125e-01,  7.87271846e-02,\n",
       "         1.07957836e-01,  2.57013295e-01, -5.25739798e-02,\n",
       "        -1.80235455e-01],\n",
       "       [ 1.39561773e+00, -8.55698240e-01,  2.10398430e+00,\n",
       "        -7.09125881e-01, -8.89020489e-01, -3.37755187e-02,\n",
       "        -1.20504798e-01, -1.65556779e-01,  1.10875701e-01,\n",
       "         1.31465533e-02]])"
      ]
     },
     "execution_count": 30,
     "metadata": {},
     "output_type": "execute_result"
    }
   ],
   "source": [
    "x_pca"
   ]
  },
  {
   "cell_type": "markdown",
   "id": "50249bff",
   "metadata": {},
   "source": [
    "### reduce to 2 features(principal components) "
   ]
  },
  {
   "cell_type": "code",
   "execution_count": 31,
   "id": "89658192",
   "metadata": {},
   "outputs": [],
   "source": [
    "pca1=PCA(n_components=2) #convert 48 features of the dataset into 2 features #PCA object"
   ]
  },
  {
   "cell_type": "code",
   "execution_count": 32,
   "id": "807bd697",
   "metadata": {},
   "outputs": [
    {
     "data": {
      "text/plain": [
       "PCA(n_components=2)"
      ]
     },
     "execution_count": 32,
     "metadata": {},
     "output_type": "execute_result"
    }
   ],
   "source": [
    "pca1.fit(scaled_df)"
   ]
  },
  {
   "cell_type": "code",
   "execution_count": 33,
   "id": "68d7c168",
   "metadata": {},
   "outputs": [],
   "source": [
    "x_pca1=pca1.transform(scaled_df) #transform to 2 main features(principal components)"
   ]
  },
  {
   "cell_type": "code",
   "execution_count": 34,
   "id": "bd13da6b",
   "metadata": {},
   "outputs": [
    {
     "data": {
      "text/plain": [
       "(38, 2)"
      ]
     },
     "execution_count": 34,
     "metadata": {},
     "output_type": "execute_result"
    }
   ],
   "source": [
    "x_pca1.shape #reduce to 10 dimensions...."
   ]
  },
  {
   "cell_type": "code",
   "execution_count": 36,
   "id": "33e64146",
   "metadata": {},
   "outputs": [
    {
     "data": {
      "text/plain": [
       "Text(0, 0.5, 'second principal component')"
      ]
     },
     "execution_count": 36,
     "metadata": {},
     "output_type": "execute_result"
    },
    {
     "data": {
      "image/png": "[encoded data removed]",
      "text/plain": [
       "<Figure size 720x576 with 1 Axes>"
      ]
     },
     "metadata": {
      "needs_background": "light"
     },
     "output_type": "display_data"
    }
   ],
   "source": [
    "import matplotlib.pyplot as plt #import the vizualization library...\n",
    "\n",
    "#plot the reduced 2 features(in scatter plot)\n",
    "plt.figure(figsize=(10,8))\n",
    "plt.scatter(x_pca1[:,0],x_pca1[:,1]) \n",
    "plt.xlabel('first principal component')\n",
    "plt.ylabel('second principal component')"
   ]
  },
  {
   "cell_type": "code",
   "execution_count": null,
   "id": "d537be18",
   "metadata": {},
   "outputs": [],
   "source": []
  }
 ],
 "metadata": {
  "kernelspec": {
   "display_name": "Python 3 (ipykernel)",
   "language": "python",
   "name": "python3"
  },
  "language_info": {
   "codemirror_mode": {
    "name": "ipython",
    "version": 3
   },
   "file_extension": ".py",
   "mimetype": "text/x-python",
   "name": "python",
   "nbconvert_exporter": "python",
   "pygments_lexer": "ipython3",
   "version": "3.8.12"
  }
 },
 "nbformat": 4,
 "nbformat_minor": 5
}
