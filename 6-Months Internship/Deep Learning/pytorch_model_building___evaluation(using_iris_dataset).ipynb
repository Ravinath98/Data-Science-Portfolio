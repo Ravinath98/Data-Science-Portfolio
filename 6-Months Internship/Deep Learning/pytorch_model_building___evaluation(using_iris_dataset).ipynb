{
  "nbformat": 4,
  "nbformat_minor": 0,
  "metadata": {
    "colab": {
      "name": "pytorch model building & evaluation(using iris dataset).ipynb",
      "provenance": []
    },
    "kernelspec": {
      "name": "python3",
      "display_name": "Python 3"
    },
    "language_info": {
      "name": "python"
    }
  },
  "cells": [
    {
      "cell_type": "code",
      "execution_count": 1,
      "metadata": {
        "id": "NT2GzqQdivWf"
      },
      "outputs": [],
      "source": [
        "#import the requried libraries\n",
        "import pandas as pd\n",
        "import numpy as np\n",
        "import torch\n",
        "import torch.nn as nn\n",
        "import torch.nn.functional as F\n",
        "from torch.autograd import Variable\n",
        "import warnings\n",
        "warnings.filterwarnings(\"ignore\")"
      ]
    },
    {
      "cell_type": "code",
      "source": [
        "#read the dataset\n",
        "training_data = pd.read_csv('/content/iris_training.csv')\n",
        "training_data=training_data.iloc[:,0:5]       \n",
        "training_data=training_data.sample(frac=1)    #shuffle the dataset rows"
      ],
      "metadata": {
        "id": "f0RM4GPNi5AF"
      },
      "execution_count": 2,
      "outputs": []
    },
    {
      "cell_type": "code",
      "source": [
        "#head values of the training dataset\n",
        "training_data.head()"
      ],
      "metadata": {
        "colab": {
          "base_uri": "https://localhost:8080/",
          "height": 206
        },
        "id": "q9b4Y_yakuAw",
        "outputId": "224cf52a-e3e7-4fc1-dddc-181956707ba8"
      },
      "execution_count": 3,
      "outputs": [
        {
          "output_type": "execute_result",
          "data": {
            "text/plain": [
              "     120    4  setosa  versicolor  virginica\n",
              "2    4.9  2.5     4.5         1.7          2\n",
              "81   6.1  2.9     4.7         1.4          1\n",
              "13   5.4  3.9     1.7         0.4          0\n",
              "71   6.6  2.9     4.6         1.3          1\n",
              "100  4.9  3.0     1.4         0.2          0"
            ],
            "text/html": [
              "\n",
              "  <div id=\"df-d351598d-d6d8-4019-a8d7-07c41a804e72\">\n",
              "    <div class=\"colab-df-container\">\n",
              "      <div>\n",
              "<style scoped>\n",
              "    .dataframe tbody tr th:only-of-type {\n",
              "        vertical-align: middle;\n",
              "    }\n",
              "\n",
              "    .dataframe tbody tr th {\n",
              "        vertical-align: top;\n",
              "    }\n",
              "\n",
              "    .dataframe thead th {\n",
              "        text-align: right;\n",
              "    }\n",
              "</style>\n",
              "<table border=\"1\" class=\"dataframe\">\n",
              "  <thead>\n",
              "    <tr style=\"text-align: right;\">\n",
              "      <th></th>\n",
              "      <th>120</th>\n",
              "      <th>4</th>\n",
              "      <th>setosa</th>\n",
              "      <th>versicolor</th>\n",
              "      <th>virginica</th>\n",
              "    </tr>\n",
              "  </thead>\n",
              "  <tbody>\n",
              "    <tr>\n",
              "      <th>2</th>\n",
              "      <td>4.9</td>\n",
              "      <td>2.5</td>\n",
              "      <td>4.5</td>\n",
              "      <td>1.7</td>\n",
              "      <td>2</td>\n",
              "    </tr>\n",
              "    <tr>\n",
              "      <th>81</th>\n",
              "      <td>6.1</td>\n",
              "      <td>2.9</td>\n",
              "      <td>4.7</td>\n",
              "      <td>1.4</td>\n",
              "      <td>1</td>\n",
              "    </tr>\n",
              "    <tr>\n",
              "      <th>13</th>\n",
              "      <td>5.4</td>\n",
              "      <td>3.9</td>\n",
              "      <td>1.7</td>\n",
              "      <td>0.4</td>\n",
              "      <td>0</td>\n",
              "    </tr>\n",
              "    <tr>\n",
              "      <th>71</th>\n",
              "      <td>6.6</td>\n",
              "      <td>2.9</td>\n",
              "      <td>4.6</td>\n",
              "      <td>1.3</td>\n",
              "      <td>1</td>\n",
              "    </tr>\n",
              "    <tr>\n",
              "      <th>100</th>\n",
              "      <td>4.9</td>\n",
              "      <td>3.0</td>\n",
              "      <td>1.4</td>\n",
              "      <td>0.2</td>\n",
              "      <td>0</td>\n",
              "    </tr>\n",
              "  </tbody>\n",
              "</table>\n",
              "</div>\n",
              "      <button class=\"colab-df-convert\" onclick=\"convertToInteractive('df-d351598d-d6d8-4019-a8d7-07c41a804e72')\"\n",
              "              title=\"Convert this dataframe to an interactive table.\"\n",
              "              style=\"display:none;\">\n",
              "        \n",
              "  <svg xmlns=\"http://www.w3.org/2000/svg\" height=\"24px\"viewBox=\"0 0 24 24\"\n",
              "       width=\"24px\">\n",
              "    <path d=\"M0 0h24v24H0V0z\" fill=\"none\"/>\n",
              "    <path d=\"M18.56 5.44l.94 2.06.94-2.06 2.06-.94-2.06-.94-.94-2.06-.94 2.06-2.06.94zm-11 1L8.5 8.5l.94-2.06 2.06-.94-2.06-.94L8.5 2.5l-.94 2.06-2.06.94zm10 10l.94 2.06.94-2.06 2.06-.94-2.06-.94-.94-2.06-.94 2.06-2.06.94z\"/><path d=\"M17.41 7.96l-1.37-1.37c-.4-.4-.92-.59-1.43-.59-.52 0-1.04.2-1.43.59L10.3 9.45l-7.72 7.72c-.78.78-.78 2.05 0 2.83L4 21.41c.39.39.9.59 1.41.59.51 0 1.02-.2 1.41-.59l7.78-7.78 2.81-2.81c.8-.78.8-2.07 0-2.86zM5.41 20L4 18.59l7.72-7.72 1.47 1.35L5.41 20z\"/>\n",
              "  </svg>\n",
              "      </button>\n",
              "      \n",
              "  <style>\n",
              "    .colab-df-container {\n",
              "      display:flex;\n",
              "      flex-wrap:wrap;\n",
              "      gap: 12px;\n",
              "    }\n",
              "\n",
              "    .colab-df-convert {\n",
              "      background-color: #E8F0FE;\n",
              "      border: none;\n",
              "      border-radius: 50%;\n",
              "      cursor: pointer;\n",
              "      display: none;\n",
              "      fill: #1967D2;\n",
              "      height: 32px;\n",
              "      padding: 0 0 0 0;\n",
              "      width: 32px;\n",
              "    }\n",
              "\n",
              "    .colab-df-convert:hover {\n",
              "      background-color: #E2EBFA;\n",
              "      box-shadow: 0px 1px 2px rgba(60, 64, 67, 0.3), 0px 1px 3px 1px rgba(60, 64, 67, 0.15);\n",
              "      fill: #174EA6;\n",
              "    }\n",
              "\n",
              "    [theme=dark] .colab-df-convert {\n",
              "      background-color: #3B4455;\n",
              "      fill: #D2E3FC;\n",
              "    }\n",
              "\n",
              "    [theme=dark] .colab-df-convert:hover {\n",
              "      background-color: #434B5C;\n",
              "      box-shadow: 0px 1px 3px 1px rgba(0, 0, 0, 0.15);\n",
              "      filter: drop-shadow(0px 1px 2px rgba(0, 0, 0, 0.3));\n",
              "      fill: #FFFFFF;\n",
              "    }\n",
              "  </style>\n",
              "\n",
              "      <script>\n",
              "        const buttonEl =\n",
              "          document.querySelector('#df-d351598d-d6d8-4019-a8d7-07c41a804e72 button.colab-df-convert');\n",
              "        buttonEl.style.display =\n",
              "          google.colab.kernel.accessAllowed ? 'block' : 'none';\n",
              "\n",
              "        async function convertToInteractive(key) {\n",
              "          const element = document.querySelector('#df-d351598d-d6d8-4019-a8d7-07c41a804e72');\n",
              "          const dataTable =\n",
              "            await google.colab.kernel.invokeFunction('convertToInteractive',\n",
              "                                                     [key], {});\n",
              "          if (!dataTable) return;\n",
              "\n",
              "          const docLinkHtml = 'Like what you see? Visit the ' +\n",
              "            '<a target=\"_blank\" href=https://colab.research.google.com/notebooks/data_table.ipynb>data table notebook</a>'\n",
              "            + ' to learn more about interactive tables.';\n",
              "          element.innerHTML = '';\n",
              "          dataTable['output_type'] = 'display_data';\n",
              "          await google.colab.output.renderOutput(dataTable, element);\n",
              "          const docLink = document.createElement('div');\n",
              "          docLink.innerHTML = docLinkHtml;\n",
              "          element.appendChild(docLink);\n",
              "        }\n",
              "      </script>\n",
              "    </div>\n",
              "  </div>\n",
              "  "
            ]
          },
          "metadata": {},
          "execution_count": 3
        }
      ]
    },
    {
      "cell_type": "code",
      "source": [
        "#Convert dataframe to array\n",
        "train_data_array = training_data.to_numpy()"
      ],
      "metadata": {
        "id": "CpM-KJj1k04c"
      },
      "execution_count": 5,
      "outputs": []
    },
    {
      "cell_type": "code",
      "source": [
        "#Split input and output feature\n",
        "x_train = train_data_array[:,:4]\n",
        "y_train = train_data_array[:,4]"
      ],
      "metadata": {
        "id": "cGKivxyIlSws"
      },
      "execution_count": 6,
      "outputs": []
    },
    {
      "cell_type": "code",
      "source": [
        "# Conver arrays to tensors\n",
        "x = torch.from_numpy(x_train).float()\n",
        "y = torch.from_numpy(y_train).long()"
      ],
      "metadata": {
        "id": "aIAwK1holZTC"
      },
      "execution_count": 7,
      "outputs": []
    },
    {
      "cell_type": "code",
      "source": [
        "#hyperparameters\n",
        "input_size= 4            # input_size = 4 represents number of input features\n",
        "output_size=3            # represents number of output classes\n",
        "h_layer_1 = 10           # 10 neurons in first hidden layer\n",
        "h_layer_2= 10            # 10 neurons in second hidden layer\n",
        "learning_rate = 0.01     # learning rate parameter\n",
        "epoch_number = 500       # Number of epochs "
      ],
      "metadata": {
        "id": "HfERbCX6leR9"
      },
      "execution_count": 8,
      "outputs": []
    },
    {
      "cell_type": "code",
      "source": [
        "#build model\n",
        "\n",
        "class Net(nn.Module):\n",
        "    def __init__(self):\n",
        "        super(Net, self).__init__()\n",
        "        self.fc_1 = nn.Linear(input_size, h_layer_1)  # Define first linear layer take data as input\n",
        "        self.fc_2 = nn.Linear(h_layer_1, h_layer_2)          # Define Second layer take previous hidden layer output as input\n",
        "        self.fc_3 = nn.Linear(h_layer_2, output_size) # Define last layer that output the target value\n",
        "\n",
        "    def forward(self, x):\n",
        "        x = F.relu(self.fc_1(x))    # apply Relu activation function on first layer\n",
        "        x = F.relu(self.fc_2(x))    # apply Relu activation function on second layer\n",
        "        x = self.fc_3(x)            # last layer that output the final prediction\n",
        "        return x\n",
        "        \n",
        "model = Net()    # Create object of Net class\n",
        "print(model)     # print model to display structure of model you created"
      ],
      "metadata": {
        "colab": {
          "base_uri": "https://localhost:8080/"
        },
        "id": "8QRYYGh2lq1k",
        "outputId": "96960970-bc6c-4eb6-b9ed-1d085ac568d9"
      },
      "execution_count": 9,
      "outputs": [
        {
          "output_type": "stream",
          "name": "stdout",
          "text": [
            "Net(\n",
            "  (fc_1): Linear(in_features=4, out_features=10, bias=True)\n",
            "  (fc_2): Linear(in_features=10, out_features=10, bias=True)\n",
            "  (fc_3): Linear(in_features=10, out_features=3, bias=True)\n",
            ")\n"
          ]
        }
      ]
    },
    {
      "cell_type": "code",
      "source": [
        "#Select optimizer and loss function\n",
        "criterion = nn.CrossEntropyLoss()  # CrossEntropyLoss function\n",
        "optimizer = torch.optim.SGD(model.parameters(), lr=learning_rate) "
      ],
      "metadata": {
        "id": "pGenRMXel3o6"
      },
      "execution_count": 10,
      "outputs": []
    },
    {
      "cell_type": "code",
      "source": [
        "#train the model\n",
        "\n",
        "for epoch in range(epoch_number):    \n",
        "    optimizer.zero_grad()\n",
        "    pred = model(x)     #predict the output values  \n",
        "    loss = criterion(pred, y)   # Compute the loss\n",
        "    loss.backward()             # Start backward propagation\n",
        "    optimizer.step()            # optimize parameters values\n",
        "    if (epoch) % 50 == 0:        # print the results after every 50 epochs\n",
        "        _, predicted = torch.max(pred.data, 1)    # predicted value\n",
        "        print ('Epoch [%d/%d]:   \\n          Loss: %.4f' \n",
        "                   %(epoch+1, epoch_number, loss.item()))\n",
        "\n",
        "        print('          Accuracy:   %d %%' % (100 * torch.sum(y==predicted) / 120))"
      ],
      "metadata": {
        "colab": {
          "base_uri": "https://localhost:8080/"
        },
        "id": "2vD31vUnl9yj",
        "outputId": "6b34e0e5-3d5a-4731-eb06-0916913cf75b"
      },
      "execution_count": 11,
      "outputs": [
        {
          "output_type": "stream",
          "name": "stdout",
          "text": [
            "Epoch [1/500]:   \n",
            "          Loss: 1.1933\n",
            "          Accuracy:   30 %\n",
            "Epoch [51/500]:   \n",
            "          Loss: 1.1082\n",
            "          Accuracy:   35 %\n",
            "Epoch [101/500]:   \n",
            "          Loss: 1.0790\n",
            "          Accuracy:   35 %\n",
            "Epoch [151/500]:   \n",
            "          Loss: 1.0403\n",
            "          Accuracy:   35 %\n",
            "Epoch [201/500]:   \n",
            "          Loss: 0.9761\n",
            "          Accuracy:   70 %\n",
            "Epoch [251/500]:   \n",
            "          Loss: 0.8704\n",
            "          Accuracy:   70 %\n",
            "Epoch [301/500]:   \n",
            "          Loss: 0.7403\n",
            "          Accuracy:   70 %\n",
            "Epoch [351/500]:   \n",
            "          Loss: 0.6155\n",
            "          Accuracy:   70 %\n",
            "Epoch [401/500]:   \n",
            "          Loss: 0.5216\n",
            "          Accuracy:   74 %\n",
            "Epoch [451/500]:   \n",
            "          Loss: 0.4585\n",
            "          Accuracy:   80 %\n"
          ]
        }
      ]
    },
    {
      "cell_type": "code",
      "source": [
        "#EVALUATE THE MODEL\n",
        "\n",
        "#load test data\n",
        "\n",
        "test_data = pd.read_csv('/content/iris_test.csv')\n",
        "test_data=test_data.sample(frac=1)\n",
        "\n",
        "#change dataframe to array\n",
        "test_data_array = test_data.to_numpy()\n",
        "\n",
        "#split x and y (feature and target)\n",
        "x_test = test_data_array[:,:4]\n",
        "y_test = test_data_array[:,4]\n",
        "\n",
        " \n",
        "\n",
        "#Convert numpy arrays to tensors\n",
        "\n",
        "x = torch.from_numpy(x_test).float()\n",
        "y = torch.from_numpy(y_test).long()\n",
        "\n",
        "\n",
        "\n",
        "pred_test = model(x)\n",
        "_, predicted = torch.max(pred_test.data, 1)\n",
        "\n",
        "#Accuracy on test data\n",
        "\n",
        "print('\\nAccuracy of the network on test data: %d %%' % (100 * torch.sum(y==predicted) / 29))"
      ],
      "metadata": {
        "colab": {
          "base_uri": "https://localhost:8080/"
        },
        "id": "UEmd0w3CmMG0",
        "outputId": "0c696aa5-0394-44f2-cf92-4ae050d4f88e"
      },
      "execution_count": 14,
      "outputs": [
        {
          "output_type": "stream",
          "name": "stdout",
          "text": [
            "\n",
            "\n",
            "Evaluate the model\n",
            "\n",
            "Accuracy of the network on test data: 82 %\n"
          ]
        }
      ]
    }
  ]
}