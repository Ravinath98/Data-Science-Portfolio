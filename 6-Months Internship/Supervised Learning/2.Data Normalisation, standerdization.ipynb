{
 "cells": [
  {
   "cell_type": "markdown",
   "id": "a96bccaa",
   "metadata": {},
   "source": [
    "# Using Forecast dispatch dataset"
   ]
  },
  {
   "cell_type": "code",
   "execution_count": 1,
   "id": "ea97f821",
   "metadata": {},
   "outputs": [],
   "source": [
    "#import required libraries\n",
    "import pandas as pd\n",
    "import os"
   ]
  },
  {
   "cell_type": "code",
   "execution_count": 2,
   "id": "b3807bb5",
   "metadata": {},
   "outputs": [],
   "source": [
    "#get all the files in the forecast folder..........\n",
    "def fileList(path):\n",
    "    listOfFiles = os.listdir(path)\n",
    "    files=[]\n",
    "    \n",
    "    for file in listOfFiles:\n",
    "        fullPath = os.path.join(path, file) #full path for the file\n",
    "        if os.path.isdir(fullPath): #if there are sub folders.....\n",
    "            files = files + fileList(fullPath) #recursively loop through the sub folder\n",
    "        else:\n",
    "            files.append(fullPath)\n",
    "                \n",
    "    return files\n",
    "\n",
    "all_the_files=fileList(r'E:\\Desktop\\Datasets\\forcast_july')"
   ]
  },
  {
   "cell_type": "code",
   "execution_count": 3,
   "id": "103e0514",
   "metadata": {},
   "outputs": [
    {
     "name": "stdout",
     "output_type": "stream",
     "text": [
      "E:\\Desktop\\Datasets\\forcast_july\\july1\\july1.xls\n",
      "E:\\Desktop\\Datasets\\forcast_july\\july10.xls\n",
      "E:\\Desktop\\Datasets\\forcast_july\\july11.xls\n",
      "E:\\Desktop\\Datasets\\forcast_july\\july12.xls\n",
      "E:\\Desktop\\Datasets\\forcast_july\\july13.xls\n",
      "E:\\Desktop\\Datasets\\forcast_july\\july14.xls\n",
      "E:\\Desktop\\Datasets\\forcast_july\\july15.xls\n",
      "E:\\Desktop\\Datasets\\forcast_july\\july16.xls\n",
      "E:\\Desktop\\Datasets\\forcast_july\\july17.xls\n",
      "E:\\Desktop\\Datasets\\forcast_july\\july18.xls\n",
      "E:\\Desktop\\Datasets\\forcast_july\\july19.xls\n",
      "E:\\Desktop\\Datasets\\forcast_july\\july2\\july2.xls\n",
      "E:\\Desktop\\Datasets\\forcast_july\\july20.xls\n",
      "E:\\Desktop\\Datasets\\forcast_july\\july21.xls\n",
      "E:\\Desktop\\Datasets\\forcast_july\\july22.xls\n",
      "E:\\Desktop\\Datasets\\forcast_july\\july23.xls\n",
      "E:\\Desktop\\Datasets\\forcast_july\\july24.xls\n",
      "E:\\Desktop\\Datasets\\forcast_july\\july25.xls\n",
      "E:\\Desktop\\Datasets\\forcast_july\\july26.xls\n",
      "E:\\Desktop\\Datasets\\forcast_july\\july27.xls\n",
      "E:\\Desktop\\Datasets\\forcast_july\\july28.xls\n",
      "E:\\Desktop\\Datasets\\forcast_july\\july29.xls\n",
      "E:\\Desktop\\Datasets\\forcast_july\\july5.xls\n",
      "E:\\Desktop\\Datasets\\forcast_july\\july6.xls\n",
      "E:\\Desktop\\Datasets\\forcast_july\\july7.xls\n",
      "E:\\Desktop\\Datasets\\forcast_july\\july8.xls\n",
      "E:\\Desktop\\Datasets\\forcast_july\\july9.xls\n",
      "E:\\Desktop\\Datasets\\forcast_july\\july@3.xls\n",
      "E:\\Desktop\\Datasets\\forcast_july\\july@4.xls\n"
     ]
    }
   ],
   "source": [
    "#all the xls files in forcast_july folder.......\n",
    "for file in all_the_files:\n",
    "    print(file)"
   ]
  },
  {
   "cell_type": "code",
   "execution_count": 4,
   "id": "3470d44c",
   "metadata": {},
   "outputs": [],
   "source": [
    "##############\n",
    "data_frames1=[] #dataframes array\n",
    "for file in all_the_files:\n",
    "    df=pd.read_excel(file)\n",
    "    df.columns = df.iloc[0] #make columns as 0th row items..\n",
    "    columns=df.columns\n",
    "    date=columns[1].date() \n",
    "    df=df.drop(0) #drop 0th row items\n",
    "    df.columns = df.iloc[0] #make columns as 0th row items..\n",
    "    df=df.drop(1)  #drop 1st row items\n",
    "    plants_temp=df.iloc[:,0] #all the items in plant column(this includes unnessasary items)\n",
    "    plants=[]\n",
    "    #get only the correct plants...\n",
    "    for plant in plants_temp:\n",
    "        if plant=='Total Generation':\n",
    "            break\n",
    "        else:\n",
    "            plants.append(plant)\n",
    "    df = df.loc[:, df.columns.notnull()] #remove nan columns.............\n",
    "    z=len(plants) #only get the relevant rows...............\n",
    "    df=df.head(z) #only get the dataframe which contains the needed rows...\n",
    "    df.insert(0, 'Power_Plant', plants)\n",
    "    df=df.drop(columns=df.columns[-1:],axis=1) #drop the last column.......\n",
    "    df['Date']=date\n",
    "    data_frames1.append(df)"
   ]
  },
  {
   "cell_type": "code",
   "execution_count": 5,
   "id": "46655457",
   "metadata": {},
   "outputs": [
    {
     "data": {
      "text/html": [
       "<div>\n",
       "<style scoped>\n",
       "    .dataframe tbody tr th:only-of-type {\n",
       "        vertical-align: middle;\n",
       "    }\n",
       "\n",
       "    .dataframe tbody tr th {\n",
       "        vertical-align: top;\n",
       "    }\n",
       "\n",
       "    .dataframe thead th {\n",
       "        text-align: right;\n",
       "    }\n",
       "</style>\n",
       "<table border=\"1\" class=\"dataframe\">\n",
       "  <thead>\n",
       "    <tr style=\"text-align: right;\">\n",
       "      <th>1</th>\n",
       "      <th>Power_Plant</th>\n",
       "      <th>00:00:00</th>\n",
       "      <th>00:30:00</th>\n",
       "      <th>01:00:00</th>\n",
       "      <th>01:30:00</th>\n",
       "      <th>02:00:00</th>\n",
       "      <th>02:30:00</th>\n",
       "      <th>03:00:00</th>\n",
       "      <th>03:30:00</th>\n",
       "      <th>04:00:00</th>\n",
       "      <th>...</th>\n",
       "      <th>19:30:00</th>\n",
       "      <th>20:00:00</th>\n",
       "      <th>20:30:00</th>\n",
       "      <th>21:00:00</th>\n",
       "      <th>21:30:00</th>\n",
       "      <th>22:00:00</th>\n",
       "      <th>22:30:00</th>\n",
       "      <th>23:00:00</th>\n",
       "      <th>23:30:00</th>\n",
       "      <th>Date</th>\n",
       "    </tr>\n",
       "  </thead>\n",
       "  <tbody>\n",
       "    <tr>\n",
       "      <th>2</th>\n",
       "      <td>WPS</td>\n",
       "      <td>0</td>\n",
       "      <td>0</td>\n",
       "      <td>0</td>\n",
       "      <td>0</td>\n",
       "      <td>0</td>\n",
       "      <td>0</td>\n",
       "      <td>0</td>\n",
       "      <td>0</td>\n",
       "      <td>0</td>\n",
       "      <td>...</td>\n",
       "      <td>10</td>\n",
       "      <td>0</td>\n",
       "      <td>0</td>\n",
       "      <td>0</td>\n",
       "      <td>0</td>\n",
       "      <td>0</td>\n",
       "      <td>0</td>\n",
       "      <td>0</td>\n",
       "      <td>0</td>\n",
       "      <td>2020-07-01</td>\n",
       "    </tr>\n",
       "    <tr>\n",
       "      <th>3</th>\n",
       "      <td>Cany</td>\n",
       "      <td>0</td>\n",
       "      <td>0</td>\n",
       "      <td>0</td>\n",
       "      <td>0</td>\n",
       "      <td>0</td>\n",
       "      <td>0</td>\n",
       "      <td>0</td>\n",
       "      <td>0</td>\n",
       "      <td>0</td>\n",
       "      <td>...</td>\n",
       "      <td>0</td>\n",
       "      <td>0</td>\n",
       "      <td>0</td>\n",
       "      <td>0</td>\n",
       "      <td>0</td>\n",
       "      <td>0</td>\n",
       "      <td>0</td>\n",
       "      <td>0</td>\n",
       "      <td>0</td>\n",
       "      <td>2020-07-01</td>\n",
       "    </tr>\n",
       "    <tr>\n",
       "      <th>4</th>\n",
       "      <td>Olax</td>\n",
       "      <td>10</td>\n",
       "      <td>10</td>\n",
       "      <td>10</td>\n",
       "      <td>10</td>\n",
       "      <td>10</td>\n",
       "      <td>10</td>\n",
       "      <td>10</td>\n",
       "      <td>10</td>\n",
       "      <td>10</td>\n",
       "      <td>...</td>\n",
       "      <td>10.895</td>\n",
       "      <td>10.895</td>\n",
       "      <td>10</td>\n",
       "      <td>10</td>\n",
       "      <td>10</td>\n",
       "      <td>10</td>\n",
       "      <td>10</td>\n",
       "      <td>10</td>\n",
       "      <td>0</td>\n",
       "      <td>2020-07-01</td>\n",
       "    </tr>\n",
       "    <tr>\n",
       "      <th>5</th>\n",
       "      <td>Nlax</td>\n",
       "      <td>60.636</td>\n",
       "      <td>60.636</td>\n",
       "      <td>60.636</td>\n",
       "      <td>59.362</td>\n",
       "      <td>59.312</td>\n",
       "      <td>58.312</td>\n",
       "      <td>58.812</td>\n",
       "      <td>59.112</td>\n",
       "      <td>20.212</td>\n",
       "      <td>...</td>\n",
       "      <td>93.636</td>\n",
       "      <td>60.636</td>\n",
       "      <td>60.636</td>\n",
       "      <td>60.636</td>\n",
       "      <td>21.97</td>\n",
       "      <td>21.97</td>\n",
       "      <td>21.97</td>\n",
       "      <td>0</td>\n",
       "      <td>0</td>\n",
       "      <td>2020-07-01</td>\n",
       "    </tr>\n",
       "    <tr>\n",
       "      <th>6</th>\n",
       "      <td>Polp</td>\n",
       "      <td>78.479</td>\n",
       "      <td>58.347</td>\n",
       "      <td>31.008</td>\n",
       "      <td>6.1039</td>\n",
       "      <td>6.1039</td>\n",
       "      <td>6.1039</td>\n",
       "      <td>6.1039</td>\n",
       "      <td>6.1039</td>\n",
       "      <td>18.052</td>\n",
       "      <td>...</td>\n",
       "      <td>56.114</td>\n",
       "      <td>56.114</td>\n",
       "      <td>38.31</td>\n",
       "      <td>38.31</td>\n",
       "      <td>18.933</td>\n",
       "      <td>6.1039</td>\n",
       "      <td>31.762</td>\n",
       "      <td>7.923</td>\n",
       "      <td>0</td>\n",
       "      <td>2020-07-01</td>\n",
       "    </tr>\n",
       "  </tbody>\n",
       "</table>\n",
       "<p>5 rows × 50 columns</p>\n",
       "</div>"
      ],
      "text/plain": [
       "1  Power_Plant 00:00:00 00:30:00 01:00:00 01:30:00 02:00:00 02:30:00 03:00:00  \\\n",
       "2     WPS             0        0        0        0        0        0        0   \n",
       "3    Cany             0        0        0        0        0        0        0   \n",
       "4  Olax              10       10       10       10       10       10       10   \n",
       "5         Nlax   60.636   60.636   60.636   59.362   59.312   58.312   58.812   \n",
       "6         Polp   78.479   58.347   31.008   6.1039   6.1039   6.1039   6.1039   \n",
       "\n",
       "1 03:30:00 04:00:00  ... 19:30:00 20:00:00 20:30:00 21:00:00 21:30:00  \\\n",
       "2        0        0  ...       10        0        0        0        0   \n",
       "3        0        0  ...        0        0        0        0        0   \n",
       "4       10       10  ...   10.895   10.895       10       10       10   \n",
       "5   59.112   20.212  ...   93.636   60.636   60.636   60.636    21.97   \n",
       "6   6.1039   18.052  ...   56.114   56.114    38.31    38.31   18.933   \n",
       "\n",
       "1 22:00:00 22:30:00 23:00:00 23:30:00        Date  \n",
       "2        0        0        0        0  2020-07-01  \n",
       "3        0        0        0        0  2020-07-01  \n",
       "4       10       10       10        0  2020-07-01  \n",
       "5    21.97    21.97        0        0  2020-07-01  \n",
       "6   6.1039   31.762    7.923        0  2020-07-01  \n",
       "\n",
       "[5 rows x 50 columns]"
      ]
     },
     "execution_count": 5,
     "metadata": {},
     "output_type": "execute_result"
    }
   ],
   "source": [
    "data_frames1[0].head() #july 1st dataset's dataframe...."
   ]
  },
  {
   "cell_type": "code",
   "execution_count": 14,
   "id": "98f4cdfb",
   "metadata": {},
   "outputs": [],
   "source": [
    "#get the list of the time columns\n",
    "x=list(data_frames1[0].columns)\n",
    "cols=[]\n",
    "for i in x:\n",
    "    cols.append(i)\n",
    "\n",
    "        "
   ]
  },
  {
   "cell_type": "code",
   "execution_count": 16,
   "id": "6fd90a62",
   "metadata": {},
   "outputs": [],
   "source": [
    "cols.remove('Power_Plant')"
   ]
  },
  {
   "cell_type": "code",
   "execution_count": 17,
   "id": "1f88d9af",
   "metadata": {},
   "outputs": [],
   "source": [
    "cols.remove('Date')"
   ]
  },
  {
   "cell_type": "code",
   "execution_count": 18,
   "id": "0e83157c",
   "metadata": {},
   "outputs": [
    {
     "data": {
      "text/plain": [
       "[datetime.time(0, 0),\n",
       " datetime.time(0, 30),\n",
       " datetime.time(1, 0),\n",
       " datetime.time(1, 30),\n",
       " datetime.time(2, 0),\n",
       " datetime.time(2, 30),\n",
       " datetime.time(3, 0),\n",
       " datetime.time(3, 30),\n",
       " datetime.time(4, 0),\n",
       " datetime.time(4, 30),\n",
       " datetime.time(5, 0),\n",
       " datetime.time(5, 30),\n",
       " datetime.time(6, 0),\n",
       " datetime.time(6, 30),\n",
       " datetime.time(7, 0),\n",
       " datetime.time(7, 30),\n",
       " datetime.time(8, 0),\n",
       " datetime.time(8, 30),\n",
       " datetime.time(9, 0),\n",
       " datetime.time(9, 30),\n",
       " datetime.time(10, 0),\n",
       " datetime.time(10, 30),\n",
       " datetime.time(11, 0),\n",
       " datetime.time(11, 30),\n",
       " datetime.time(12, 0),\n",
       " datetime.time(12, 30),\n",
       " datetime.time(13, 0),\n",
       " datetime.time(13, 30),\n",
       " datetime.time(14, 0),\n",
       " datetime.time(14, 30),\n",
       " datetime.time(15, 0),\n",
       " datetime.time(15, 30),\n",
       " datetime.time(16, 0),\n",
       " datetime.time(16, 30),\n",
       " datetime.time(17, 0),\n",
       " datetime.time(17, 30),\n",
       " datetime.time(18, 0),\n",
       " datetime.time(18, 30),\n",
       " datetime.time(19, 0),\n",
       " datetime.time(19, 30),\n",
       " datetime.time(20, 0),\n",
       " datetime.time(20, 30),\n",
       " datetime.time(21, 0),\n",
       " datetime.time(21, 30),\n",
       " datetime.time(22, 0),\n",
       " datetime.time(22, 30),\n",
       " datetime.time(23, 0),\n",
       " datetime.time(23, 30)]"
      ]
     },
     "execution_count": 18,
     "metadata": {},
     "output_type": "execute_result"
    }
   ],
   "source": [
    "cols"
   ]
  },
  {
   "cell_type": "code",
   "execution_count": 19,
   "id": "2a9f356f",
   "metadata": {},
   "outputs": [],
   "source": [
    "#convert to float(time columns dispatches values)...\n",
    "for i in cols:\n",
    "    data_frames1[0][i]=data_frames1[0][i].astype('float')"
   ]
  },
  {
   "cell_type": "code",
   "execution_count": 20,
   "id": "357a5fa9",
   "metadata": {},
   "outputs": [
    {
     "data": {
      "text/plain": [
       "1\n",
       "Power_Plant     object\n",
       "00:00:00       float64\n",
       "00:30:00       float64\n",
       "01:00:00       float64\n",
       "01:30:00       float64\n",
       "02:00:00       float64\n",
       "02:30:00       float64\n",
       "03:00:00       float64\n",
       "03:30:00       float64\n",
       "04:00:00       float64\n",
       "04:30:00       float64\n",
       "05:00:00       float64\n",
       "05:30:00       float64\n",
       "06:00:00       float64\n",
       "06:30:00       float64\n",
       "07:00:00       float64\n",
       "07:30:00       float64\n",
       "08:00:00       float64\n",
       "08:30:00       float64\n",
       "09:00:00       float64\n",
       "09:30:00       float64\n",
       "10:00:00       float64\n",
       "10:30:00       float64\n",
       "11:00:00       float64\n",
       "11:30:00       float64\n",
       "12:00:00       float64\n",
       "12:30:00       float64\n",
       "13:00:00       float64\n",
       "13:30:00       float64\n",
       "14:00:00       float64\n",
       "14:30:00       float64\n",
       "15:00:00       float64\n",
       "15:30:00       float64\n",
       "16:00:00       float64\n",
       "16:30:00       float64\n",
       "17:00:00       float64\n",
       "17:30:00       float64\n",
       "18:00:00       float64\n",
       "18:30:00       float64\n",
       "19:00:00       float64\n",
       "19:30:00       float64\n",
       "20:00:00       float64\n",
       "20:30:00       float64\n",
       "21:00:00       float64\n",
       "21:30:00       float64\n",
       "22:00:00       float64\n",
       "22:30:00       float64\n",
       "23:00:00       float64\n",
       "23:30:00       float64\n",
       "Date            object\n",
       "dtype: object"
      ]
     },
     "execution_count": 20,
     "metadata": {},
     "output_type": "execute_result"
    }
   ],
   "source": [
    "data_frames1[0].dtypes"
   ]
  },
  {
   "cell_type": "code",
   "execution_count": 23,
   "id": "3bd99f70",
   "metadata": {},
   "outputs": [],
   "source": [
    "cols1=[]\n",
    "for i in list(data_frames1[0].columns):\n",
    "    cols1.append(i)"
   ]
  },
  {
   "cell_type": "code",
   "execution_count": 25,
   "id": "91829ca9",
   "metadata": {},
   "outputs": [],
   "source": [
    "cols1.remove('Power_Plant')\n",
    "cols1.remove('Date')"
   ]
  },
  {
   "cell_type": "code",
   "execution_count": 26,
   "id": "ba52213a",
   "metadata": {},
   "outputs": [
    {
     "data": {
      "text/plain": [
       "[datetime.time(0, 0),\n",
       " datetime.time(0, 30),\n",
       " datetime.time(1, 0),\n",
       " datetime.time(1, 30),\n",
       " datetime.time(2, 0),\n",
       " datetime.time(2, 30),\n",
       " datetime.time(3, 0),\n",
       " datetime.time(3, 30),\n",
       " datetime.time(4, 0),\n",
       " datetime.time(4, 30),\n",
       " datetime.time(5, 0),\n",
       " datetime.time(5, 30),\n",
       " datetime.time(6, 0),\n",
       " datetime.time(6, 30),\n",
       " datetime.time(7, 0),\n",
       " datetime.time(7, 30),\n",
       " datetime.time(8, 0),\n",
       " datetime.time(8, 30),\n",
       " datetime.time(9, 0),\n",
       " datetime.time(9, 30),\n",
       " datetime.time(10, 0),\n",
       " datetime.time(10, 30),\n",
       " datetime.time(11, 0),\n",
       " datetime.time(11, 30),\n",
       " datetime.time(12, 0),\n",
       " datetime.time(12, 30),\n",
       " datetime.time(13, 0),\n",
       " datetime.time(13, 30),\n",
       " datetime.time(14, 0),\n",
       " datetime.time(14, 30),\n",
       " datetime.time(15, 0),\n",
       " datetime.time(15, 30),\n",
       " datetime.time(16, 0),\n",
       " datetime.time(16, 30),\n",
       " datetime.time(17, 0),\n",
       " datetime.time(17, 30),\n",
       " datetime.time(18, 0),\n",
       " datetime.time(18, 30),\n",
       " datetime.time(19, 0),\n",
       " datetime.time(19, 30),\n",
       " datetime.time(20, 0),\n",
       " datetime.time(20, 30),\n",
       " datetime.time(21, 0),\n",
       " datetime.time(21, 30),\n",
       " datetime.time(22, 0),\n",
       " datetime.time(22, 30),\n",
       " datetime.time(23, 0),\n",
       " datetime.time(23, 30)]"
      ]
     },
     "execution_count": 26,
     "metadata": {},
     "output_type": "execute_result"
    }
   ],
   "source": [
    "cols1"
   ]
  },
  {
   "cell_type": "markdown",
   "id": "a04ac367",
   "metadata": {},
   "source": [
    "## Normalization"
   ]
  },
  {
   "cell_type": "code",
   "execution_count": 21,
   "id": "20e1fd7b",
   "metadata": {},
   "outputs": [],
   "source": [
    "#import the required library\n",
    "from sklearn.preprocessing import MinMaxScaler"
   ]
  },
  {
   "cell_type": "code",
   "execution_count": 22,
   "id": "a4db8074",
   "metadata": {},
   "outputs": [],
   "source": [
    "scaling1=MinMaxScaler() #scaling object"
   ]
  },
  {
   "cell_type": "code",
   "execution_count": 27,
   "id": "832b44b0",
   "metadata": {},
   "outputs": [
    {
     "name": "stderr",
     "output_type": "stream",
     "text": [
      "C:\\Users\\RAVI\\anaconda3\\envs\\tensorflow\\lib\\site-packages\\sklearn\\utils\\validation.py:1688: FutureWarning: Feature names only support names that are all strings. Got feature names with dtypes: ['time']. An error will be raised in 1.2.\n",
      "  warnings.warn(\n",
      "C:\\Users\\RAVI\\anaconda3\\envs\\tensorflow\\lib\\site-packages\\sklearn\\utils\\validation.py:1688: FutureWarning: Feature names only support names that are all strings. Got feature names with dtypes: ['time']. An error will be raised in 1.2.\n",
      "  warnings.warn(\n"
     ]
    },
    {
     "data": {
      "text/plain": [
       "array([[0.        , 0.        , 0.        , ..., 0.        , 0.        ,\n",
       "        0.        ],\n",
       "       [0.        , 0.        , 0.        , ..., 0.        , 0.        ,\n",
       "        0.        ],\n",
       "       [0.03703704, 0.03703704, 0.03703704, ..., 0.03703704, 0.03703704,\n",
       "        0.        ],\n",
       "       ...,\n",
       "       [0.05925926, 0.06296296, 0.07777778, ..., 0.18518519, 0.2       ,\n",
       "        0.20740741],\n",
       "       [0.        , 0.        , 0.        , ..., 0.        , 0.        ,\n",
       "        0.        ],\n",
       "       [0.21481481, 0.21481481, 0.22222222, ..., 0.27777778, 0.2962963 ,\n",
       "        0.31481481]])"
      ]
     },
     "execution_count": 27,
     "metadata": {},
     "output_type": "execute_result"
    }
   ],
   "source": [
    "scaling1.fit_transform(data_frames1[0][cols1]) #scaling all the time columns dispatch values..."
   ]
  },
  {
   "cell_type": "markdown",
   "id": "97f7e268",
   "metadata": {},
   "source": [
    "## Standardization"
   ]
  },
  {
   "cell_type": "code",
   "execution_count": 29,
   "id": "4cf209c6",
   "metadata": {},
   "outputs": [],
   "source": [
    "from sklearn.preprocessing import StandardScaler #import the required library"
   ]
  },
  {
   "cell_type": "code",
   "execution_count": 30,
   "id": "e01684a9",
   "metadata": {},
   "outputs": [],
   "source": [
    "scaling2=StandardScaler() #make the scaling object"
   ]
  },
  {
   "cell_type": "code",
   "execution_count": 31,
   "id": "9000e9f6",
   "metadata": {},
   "outputs": [
    {
     "name": "stderr",
     "output_type": "stream",
     "text": [
      "C:\\Users\\RAVI\\anaconda3\\envs\\tensorflow\\lib\\site-packages\\sklearn\\utils\\validation.py:1688: FutureWarning: Feature names only support names that are all strings. Got feature names with dtypes: ['time']. An error will be raised in 1.2.\n",
      "  warnings.warn(\n",
      "C:\\Users\\RAVI\\anaconda3\\envs\\tensorflow\\lib\\site-packages\\sklearn\\utils\\validation.py:1688: FutureWarning: Feature names only support names that are all strings. Got feature names with dtypes: ['time']. An error will be raised in 1.2.\n",
      "  warnings.warn(\n"
     ]
    },
    {
     "data": {
      "text/plain": [
       "array([[-0.50922556, -0.4844501 , -0.47141937, ..., -0.53876333,\n",
       "        -0.5169048 , -0.48653762],\n",
       "       [-0.50922556, -0.4844501 , -0.47141937, ..., -0.53876333,\n",
       "        -0.5169048 , -0.48653762],\n",
       "       [-0.35638838, -0.33601129, -0.32472593, ..., -0.39333019,\n",
       "        -0.37222407, -0.48653762],\n",
       "       ...,\n",
       "       [-0.26468607, -0.23210412, -0.16336315, ...,  0.18840235,\n",
       "         0.26437116,  0.32184316],\n",
       "       [-0.50922556, -0.4844501 , -0.47141937, ..., -0.53876333,\n",
       "        -0.5169048 , -0.48653762],\n",
       "       [ 0.37723009,  0.376495  ,  0.40874126, ...,  0.55198518,\n",
       "         0.64054107,  0.74046892]])"
      ]
     },
     "execution_count": 31,
     "metadata": {},
     "output_type": "execute_result"
    }
   ],
   "source": [
    "scaling2.fit_transform(data_frames1[0][cols1]) #scaling all the time columns dispatch values..."
   ]
  },
  {
   "cell_type": "code",
   "execution_count": null,
   "id": "7016a18e",
   "metadata": {},
   "outputs": [],
   "source": []
  }
 ],
 "metadata": {
  "kernelspec": {
   "display_name": "Python 3 (ipykernel)",
   "language": "python",
   "name": "python3"
  },
  "language_info": {
   "codemirror_mode": {
    "name": "ipython",
    "version": 3
   },
   "file_extension": ".py",
   "mimetype": "text/x-python",
   "name": "python",
   "nbconvert_exporter": "python",
   "pygments_lexer": "ipython3",
   "version": "3.8.12"
  }
 },
 "nbformat": 4,
 "nbformat_minor": 5
}
