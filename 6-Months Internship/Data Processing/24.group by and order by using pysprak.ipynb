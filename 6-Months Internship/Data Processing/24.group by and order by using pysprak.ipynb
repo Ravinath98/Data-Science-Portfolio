{
 "cells": [
  {
   "cell_type": "code",
   "execution_count": 1,
   "id": "0094311f",
   "metadata": {},
   "outputs": [],
   "source": [
    "#import spark session\n",
    "from pyspark.sql import SparkSession"
   ]
  },
  {
   "cell_type": "code",
   "execution_count": 2,
   "id": "492c58ce",
   "metadata": {},
   "outputs": [
    {
     "name": "stderr",
     "output_type": "stream",
     "text": [
      "C:\\Users\\RAVI\\anaconda3\\envs\\vizuamatix\\lib\\site-packages\\pyspark\\context.py:227: DeprecationWarning: Support for Python 2 and Python 3 prior to version 3.6 is deprecated as of Spark 3.0. See also the plan for dropping Python 2 support at https://spark.apache.org/news/plan-for-dropping-python-2-support.html.\n",
      "  DeprecationWarning)\n"
     ]
    }
   ],
   "source": [
    "#create spark session\n",
    "spark=SparkSession.builder.getOrCreate()"
   ]
  },
  {
   "cell_type": "code",
   "execution_count": 3,
   "id": "55b24fc8",
   "metadata": {},
   "outputs": [],
   "source": [
    "#create the dataframe...\n",
    "df=spark.read.csv(\"E:\\Desktop\\Datasets\\Loan payments data.csv\",header=True)"
   ]
  },
  {
   "cell_type": "code",
   "execution_count": 4,
   "id": "26b596ed",
   "metadata": {},
   "outputs": [
    {
     "name": "stdout",
     "output_type": "stream",
     "text": [
      "+-----------+-----------+---------+-----+--------------+---------+---------------+-------------+---+--------------------+------+\n",
      "|    Loan_ID|loan_status|Principal|terms|effective_date| due_date|  paid_off_time|past_due_days|age|           education|Gender|\n",
      "+-----------+-----------+---------+-----+--------------+---------+---------------+-------------+---+--------------------+------+\n",
      "|xqd20166231|    PAIDOFF|     1000|   30|      9/8/2016|10/7/2016|9/14/2016 19:31|         null| 45|High School or Below|  male|\n",
      "|xqd20168902|    PAIDOFF|     1000|   30|      9/8/2016|10/7/2016| 10/7/2016 9:00|         null| 50|            Bechalor|female|\n",
      "|xqd20160003|    PAIDOFF|     1000|   30|      9/8/2016|10/7/2016|9/25/2016 16:58|         null| 33|            Bechalor|female|\n",
      "|xqd20160004|    PAIDOFF|     1000|   15|      9/8/2016|9/22/2016|9/22/2016 20:00|         null| 27|             college|  male|\n",
      "|xqd20160005|    PAIDOFF|     1000|   30|      9/9/2016|10/8/2016|9/23/2016 21:36|         null| 28|             college|female|\n",
      "+-----------+-----------+---------+-----+--------------+---------+---------------+-------------+---+--------------------+------+\n",
      "only showing top 5 rows\n",
      "\n"
     ]
    }
   ],
   "source": [
    "df.show(5)"
   ]
  },
  {
   "cell_type": "code",
   "execution_count": 5,
   "id": "32b558a1",
   "metadata": {},
   "outputs": [],
   "source": [
    "#convert age datatype to integer.....\n",
    "df=df.withColumn(\"age\",df.age.cast('int'))"
   ]
  },
  {
   "cell_type": "code",
   "execution_count": 6,
   "id": "8afacfa3",
   "metadata": {},
   "outputs": [],
   "source": [
    "#convert Principal datatype to integer.....\n",
    "df=df.withColumn(\"Principal\",df.Principal.cast('int'))"
   ]
  },
  {
   "cell_type": "code",
   "execution_count": 7,
   "id": "dbbaf913",
   "metadata": {},
   "outputs": [],
   "source": [
    "#convert Principal datatype to integer.....\n",
    "df=df.withColumn(\"terms\",df.terms.cast('int'))"
   ]
  },
  {
   "cell_type": "code",
   "execution_count": 8,
   "id": "2be4b076",
   "metadata": {},
   "outputs": [
    {
     "data": {
      "text/plain": [
       "[('Loan_ID', 'string'),\n",
       " ('loan_status', 'string'),\n",
       " ('Principal', 'int'),\n",
       " ('terms', 'int'),\n",
       " ('effective_date', 'string'),\n",
       " ('due_date', 'string'),\n",
       " ('paid_off_time', 'string'),\n",
       " ('past_due_days', 'string'),\n",
       " ('age', 'int'),\n",
       " ('education', 'string'),\n",
       " ('Gender', 'string')]"
      ]
     },
     "execution_count": 8,
     "metadata": {},
     "output_type": "execute_result"
    }
   ],
   "source": [
    "df.dtypes"
   ]
  },
  {
   "cell_type": "markdown",
   "id": "a5301d34",
   "metadata": {},
   "source": [
    "# group by"
   ]
  },
  {
   "cell_type": "code",
   "execution_count": 9,
   "id": "0acd54f6",
   "metadata": {},
   "outputs": [
    {
     "name": "stdout",
     "output_type": "stream",
     "text": [
      "+---+-----+\n",
      "|age|count|\n",
      "+---+-----+\n",
      "| 31|   22|\n",
      "| 34|   25|\n",
      "| 28|   32|\n",
      "| 27|   38|\n",
      "| 26|   46|\n",
      "| 44|    4|\n",
      "| 22|    8|\n",
      "| 47|    3|\n",
      "| 40|    8|\n",
      "| 20|    4|\n",
      "| 19|    2|\n",
      "| 41|    5|\n",
      "| 43|    5|\n",
      "| 37|   19|\n",
      "| 35|   26|\n",
      "| 39|   10|\n",
      "| 23|   10|\n",
      "| 49|    1|\n",
      "| 51|    1|\n",
      "| 50|    4|\n",
      "+---+-----+\n",
      "only showing top 20 rows\n",
      "\n"
     ]
    }
   ],
   "source": [
    "df.groupby('age').count().show()"
   ]
  },
  {
   "cell_type": "code",
   "execution_count": 10,
   "id": "4f8e9d8d",
   "metadata": {},
   "outputs": [
    {
     "name": "stdout",
     "output_type": "stream",
     "text": [
      "+--------------------+----------+\n",
      "|           education|sum(terms)|\n",
      "+--------------------+----------+\n",
      "|             college|      4991|\n",
      "|     Master or Above|        44|\n",
      "|            Bechalor|      1438|\n",
      "|High School or Below|      4939|\n",
      "+--------------------+----------+\n",
      "\n"
     ]
    }
   ],
   "source": [
    "df.groupby('education').sum('terms').show()"
   ]
  },
  {
   "cell_type": "code",
   "execution_count": 11,
   "id": "d2c5640c",
   "metadata": {},
   "outputs": [
    {
     "name": "stdout",
     "output_type": "stream",
     "text": [
      "+--------------------+----------+\n",
      "|           education|max(terms)|\n",
      "+--------------------+----------+\n",
      "|             college|        30|\n",
      "|     Master or Above|        15|\n",
      "|            Bechalor|        30|\n",
      "|High School or Below|        30|\n",
      "+--------------------+----------+\n",
      "\n"
     ]
    }
   ],
   "source": [
    "df.groupby('education').max('terms').show()"
   ]
  },
  {
   "cell_type": "code",
   "execution_count": 12,
   "id": "5ac13349",
   "metadata": {},
   "outputs": [
    {
     "name": "stdout",
     "output_type": "stream",
     "text": [
      "+--------------------+--------+\n",
      "|           education|max(age)|\n",
      "+--------------------+--------+\n",
      "|             college|      51|\n",
      "|     Master or Above|      50|\n",
      "|            Bechalor|      50|\n",
      "|High School or Below|      50|\n",
      "+--------------------+--------+\n",
      "\n"
     ]
    }
   ],
   "source": [
    "df.groupby('education').max('age').show()"
   ]
  },
  {
   "cell_type": "code",
   "execution_count": 13,
   "id": "7f605c45",
   "metadata": {},
   "outputs": [
    {
     "name": "stdout",
     "output_type": "stream",
     "text": [
      "+--------------------+--------+\n",
      "|           education|min(age)|\n",
      "+--------------------+--------+\n",
      "|             college|      18|\n",
      "|     Master or Above|      35|\n",
      "|            Bechalor|      21|\n",
      "|High School or Below|      19|\n",
      "+--------------------+--------+\n",
      "\n"
     ]
    }
   ],
   "source": [
    "df.groupby('education').min('age').show()"
   ]
  },
  {
   "cell_type": "code",
   "execution_count": 14,
   "id": "8caef933",
   "metadata": {},
   "outputs": [
    {
     "name": "stdout",
     "output_type": "stream",
     "text": [
      "+--------------------+------------------+\n",
      "|           education|          avg(age)|\n",
      "+--------------------+------------------+\n",
      "|             college| 30.39090909090909|\n",
      "|     Master or Above|             40.25|\n",
      "|            Bechalor|32.134328358208954|\n",
      "|High School or Below| 31.37799043062201|\n",
      "+--------------------+------------------+\n",
      "\n"
     ]
    }
   ],
   "source": [
    "df.groupby('education').mean('age').show()"
   ]
  },
  {
   "cell_type": "code",
   "execution_count": 15,
   "id": "bac8fbac",
   "metadata": {},
   "outputs": [
    {
     "name": "stdout",
     "output_type": "stream",
     "text": [
      "+------------------+-----+\n",
      "|       loan_status|count|\n",
      "+------------------+-----+\n",
      "|        COLLECTION|  100|\n",
      "|COLLECTION_PAIDOFF|  100|\n",
      "|           PAIDOFF|  300|\n",
      "+------------------+-----+\n",
      "\n"
     ]
    }
   ],
   "source": [
    "df.groupby('loan_status').count().show()"
   ]
  },
  {
   "cell_type": "code",
   "execution_count": 16,
   "id": "315ec189",
   "metadata": {},
   "outputs": [
    {
     "name": "stdout",
     "output_type": "stream",
     "text": [
      "+------+-----+\n",
      "|Gender|count|\n",
      "+------+-----+\n",
      "|female|   77|\n",
      "|  male|  423|\n",
      "+------+-----+\n",
      "\n"
     ]
    }
   ],
   "source": [
    "df.groupby('Gender').count().show()"
   ]
  },
  {
   "cell_type": "code",
   "execution_count": 17,
   "id": "985d1166",
   "metadata": {},
   "outputs": [
    {
     "name": "stdout",
     "output_type": "stream",
     "text": [
      "+--------------+-----+\n",
      "|effective_date|count|\n",
      "+--------------+-----+\n",
      "|     9/14/2016|   33|\n",
      "|      9/9/2016|   15|\n",
      "|     9/13/2016|   23|\n",
      "|     9/10/2016|   46|\n",
      "|     9/12/2016|  148|\n",
      "|     9/11/2016|  231|\n",
      "|      9/8/2016|    4|\n",
      "+--------------+-----+\n",
      "\n"
     ]
    }
   ],
   "source": [
    "df.groupby('effective_date').count().show()"
   ]
  },
  {
   "cell_type": "code",
   "execution_count": 18,
   "id": "63d621be",
   "metadata": {},
   "outputs": [
    {
     "name": "stdout",
     "output_type": "stream",
     "text": [
      "+--------------+--------+\n",
      "|effective_date|max(age)|\n",
      "+--------------+--------+\n",
      "|     9/14/2016|      44|\n",
      "|      9/9/2016|      39|\n",
      "|     9/13/2016|      51|\n",
      "|     9/10/2016|      43|\n",
      "|     9/12/2016|      50|\n",
      "|     9/11/2016|      50|\n",
      "|      9/8/2016|      50|\n",
      "+--------------+--------+\n",
      "\n"
     ]
    }
   ],
   "source": [
    "df.groupby('effective_date').max('age').show()"
   ]
  },
  {
   "cell_type": "code",
   "execution_count": 19,
   "id": "30978319",
   "metadata": {},
   "outputs": [
    {
     "name": "stdout",
     "output_type": "stream",
     "text": [
      "+--------------+--------+\n",
      "|effective_date|min(age)|\n",
      "+--------------+--------+\n",
      "|     9/14/2016|      24|\n",
      "|      9/9/2016|      24|\n",
      "|     9/13/2016|      19|\n",
      "|     9/10/2016|      20|\n",
      "|     9/12/2016|      20|\n",
      "|     9/11/2016|      18|\n",
      "|      9/8/2016|      27|\n",
      "+--------------+--------+\n",
      "\n"
     ]
    }
   ],
   "source": [
    "df.groupby('effective_date').min('age').show()"
   ]
  },
  {
   "cell_type": "code",
   "execution_count": 20,
   "id": "f38e0e0d",
   "metadata": {},
   "outputs": [
    {
     "name": "stdout",
     "output_type": "stream",
     "text": [
      "+----------+-----+\n",
      "|  due_date|count|\n",
      "+----------+-----+\n",
      "|10/12/2016|    8|\n",
      "| 9/26/2016|   60|\n",
      "|10/11/2016|   69|\n",
      "| 10/7/2016|    3|\n",
      "| 11/7/2016|    1|\n",
      "| 9/19/2016|    3|\n",
      "|10/13/2016|   21|\n",
      "|11/12/2016|    2|\n",
      "| 9/23/2016|    6|\n",
      "|11/10/2016|   10|\n",
      "| 10/8/2016|    7|\n",
      "|10/26/2016|    4|\n",
      "| 9/25/2016|   87|\n",
      "| 9/24/2016|   17|\n",
      "| 10/9/2016|   28|\n",
      "| 9/15/2016|    1|\n",
      "|10/25/2016|    4|\n",
      "|10/10/2016|  123|\n",
      "| 9/18/2016|    4|\n",
      "| 9/22/2016|    1|\n",
      "+----------+-----+\n",
      "only showing top 20 rows\n",
      "\n"
     ]
    }
   ],
   "source": [
    "df.groupby('due_date').count().show()"
   ]
  },
  {
   "cell_type": "code",
   "execution_count": 21,
   "id": "8de15bf7",
   "metadata": {},
   "outputs": [
    {
     "name": "stdout",
     "output_type": "stream",
     "text": [
      "+---+-----+\n",
      "|age|count|\n",
      "+---+-----+\n",
      "| 31|   22|\n",
      "| 34|   25|\n",
      "| 28|   32|\n",
      "| 27|   38|\n",
      "| 26|   46|\n",
      "| 44|    4|\n",
      "| 22|    8|\n",
      "| 47|    3|\n",
      "| 40|    8|\n",
      "| 20|    4|\n",
      "| 19|    2|\n",
      "| 41|    5|\n",
      "| 43|    5|\n",
      "| 37|   19|\n",
      "| 35|   26|\n",
      "| 39|   10|\n",
      "| 23|   10|\n",
      "| 49|    1|\n",
      "| 51|    1|\n",
      "| 50|    4|\n",
      "+---+-----+\n",
      "only showing top 20 rows\n",
      "\n"
     ]
    }
   ],
   "source": [
    "from pyspark.sql.functions import col\n",
    "df.groupby(col('age')).count().show()"
   ]
  },
  {
   "cell_type": "markdown",
   "id": "704b1c07",
   "metadata": {},
   "source": [
    "# order by"
   ]
  },
  {
   "cell_type": "code",
   "execution_count": 22,
   "id": "a56a9de8",
   "metadata": {},
   "outputs": [
    {
     "name": "stdout",
     "output_type": "stream",
     "text": [
      "+-----------+---+\n",
      "|    Loan_ID|age|\n",
      "+-----------+---+\n",
      "|xqd20160372| 18|\n",
      "|xqd20160260| 19|\n",
      "|xqd20160246| 19|\n",
      "|xqd56160140| 20|\n",
      "|xqd20160314| 20|\n",
      "|xqd20160123| 20|\n",
      "|xqd20160205| 20|\n",
      "|xqd20160055| 21|\n",
      "|xqd20160412| 21|\n",
      "|xqd20160333| 21|\n",
      "|xqd20160040| 21|\n",
      "|xqd20160195| 21|\n",
      "|xqd20160417| 21|\n",
      "|xqd20160179| 21|\n",
      "|xqd20160047| 22|\n",
      "|xqd20160099| 22|\n",
      "|xqd20160122| 22|\n",
      "|xqd20160319| 22|\n",
      "|xqd20160138| 22|\n",
      "|xqd20160365| 22|\n",
      "+-----------+---+\n",
      "only showing top 20 rows\n",
      "\n"
     ]
    }
   ],
   "source": [
    "#order by Ascending order....\n",
    "df.select('Loan_ID','age').orderBy(col('age').asc()).show()"
   ]
  },
  {
   "cell_type": "code",
   "execution_count": 23,
   "id": "d3d1443e",
   "metadata": {},
   "outputs": [
    {
     "name": "stdout",
     "output_type": "stream",
     "text": [
      "+-----------+---+\n",
      "|    Loan_ID|age|\n",
      "+-----------+---+\n",
      "|xqd20160261| 51|\n",
      "|xqd20168902| 50|\n",
      "|xqd20160217| 50|\n",
      "|xqd20160050| 50|\n",
      "|xqd20160343| 50|\n",
      "|xqd20169466| 49|\n",
      "|xqd20160421| 47|\n",
      "|xqd20160483| 47|\n",
      "|xqd20160139| 47|\n",
      "|xqd90160090| 46|\n",
      "|xqd20160477| 46|\n",
      "|xqd20160387| 46|\n",
      "|xqd20160180| 46|\n",
      "|xqd20160487| 46|\n",
      "|xqd20160064| 45|\n",
      "|xqd20160104| 45|\n",
      "|xqd20160357| 45|\n",
      "|xqd20166231| 45|\n",
      "|xqd20160489| 45|\n",
      "|xqd20160080| 44|\n",
      "+-----------+---+\n",
      "only showing top 20 rows\n",
      "\n"
     ]
    }
   ],
   "source": [
    "#order by Descending order....\n",
    "df.select('Loan_ID','age').orderBy(col('age').desc()).show()"
   ]
  },
  {
   "cell_type": "code",
   "execution_count": 24,
   "id": "9283b495",
   "metadata": {},
   "outputs": [
    {
     "name": "stdout",
     "output_type": "stream",
     "text": [
      "+-----------+---+--------------------+\n",
      "|    Loan_ID|age|           education|\n",
      "+-----------+---+--------------------+\n",
      "|xqd20160261| 51|             college|\n",
      "|xqd20168902| 50|            Bechalor|\n",
      "|xqd20160050| 50|High School or Below|\n",
      "|xqd20160217| 50|High School or Below|\n",
      "|xqd20160343| 50|     Master or Above|\n",
      "|xqd20169466| 49|High School or Below|\n",
      "|xqd20160139| 47|High School or Below|\n",
      "|xqd20160421| 47|High School or Below|\n",
      "|xqd20160483| 47|             college|\n",
      "|xqd20160487| 46|High School or Below|\n",
      "|xqd20160387| 46|High School or Below|\n",
      "|xqd90160090| 46|High School or Below|\n",
      "|xqd20160180| 46|             college|\n",
      "|xqd20160477| 46|             college|\n",
      "|xqd20166231| 45|High School or Below|\n",
      "|xqd20160104| 45|High School or Below|\n",
      "|xqd20160357| 45|High School or Below|\n",
      "|xqd20160064| 45|             college|\n",
      "|xqd20160489| 45|             college|\n",
      "|xqd20160330| 44|            Bechalor|\n",
      "+-----------+---+--------------------+\n",
      "only showing top 20 rows\n",
      "\n"
     ]
    }
   ],
   "source": [
    "#both of asc & desc in multiple columns....\n",
    "df.select('Loan_ID','age','education').orderBy(col('age').desc(),col('education').asc()).show()"
   ]
  },
  {
   "cell_type": "code",
   "execution_count": 25,
   "id": "2814aa12",
   "metadata": {},
   "outputs": [
    {
     "name": "stdout",
     "output_type": "stream",
     "text": [
      "+-----------+---+--------------------+----------+\n",
      "|    Loan_ID|age|           education|  due_date|\n",
      "+-----------+---+--------------------+----------+\n",
      "|xqd20160261| 51|             college| 9/27/2016|\n",
      "|xqd20168902| 50|            Bechalor| 10/7/2016|\n",
      "|xqd20160050| 50|High School or Below| 9/25/2016|\n",
      "|xqd20160217| 50|High School or Below| 9/26/2016|\n",
      "|xqd20160343| 50|     Master or Above| 9/25/2016|\n",
      "|xqd20169466| 49|High School or Below|10/11/2016|\n",
      "|xqd20160139| 47|High School or Below| 9/25/2016|\n",
      "|xqd20160421| 47|High School or Below| 9/25/2016|\n",
      "|xqd20160483| 47|             college| 9/26/2016|\n",
      "|xqd90160090| 46|High School or Below| 9/25/2016|\n",
      "|xqd20160387| 46|High School or Below| 9/25/2016|\n",
      "|xqd20160487| 46|High School or Below| 9/26/2016|\n",
      "|xqd20160180| 46|             college|10/11/2016|\n",
      "|xqd20160477| 46|             college|10/26/2016|\n",
      "|xqd20160357| 45|High School or Below|10/10/2016|\n",
      "|xqd20166231| 45|High School or Below| 10/7/2016|\n",
      "|xqd20160104| 45|High School or Below| 9/25/2016|\n",
      "|xqd20160064| 45|             college|10/10/2016|\n",
      "|xqd20160489| 45|             college| 9/26/2016|\n",
      "|xqd20160330| 44|            Bechalor|10/10/2016|\n",
      "+-----------+---+--------------------+----------+\n",
      "only showing top 20 rows\n",
      "\n"
     ]
    }
   ],
   "source": [
    "#both of asc & desc in multiple columns....\n",
    "df.select('Loan_ID','age','education','due_date').orderBy(col('age').desc(),col('education').asc(),col('due_date').asc()).show()"
   ]
  },
  {
   "cell_type": "code",
   "execution_count": 26,
   "id": "4fb95f7d",
   "metadata": {},
   "outputs": [
    {
     "name": "stdout",
     "output_type": "stream",
     "text": [
      "+--------------------+--------+\n",
      "|           education|min(age)|\n",
      "+--------------------+--------+\n",
      "|            Bechalor|      21|\n",
      "|High School or Below|      19|\n",
      "|     Master or Above|      35|\n",
      "|             college|      18|\n",
      "+--------------------+--------+\n",
      "\n"
     ]
    }
   ],
   "source": [
    "#groupby and orderby both.........\n",
    "df=df.groupby('education').min('age')\n",
    "df.select('education','min(age)').orderBy(col('education').asc()).show()"
   ]
  }
 ],
 "metadata": {
  "kernelspec": {
   "display_name": "Python 3",
   "language": "python",
   "name": "python3"
  },
  "language_info": {
   "codemirror_mode": {
    "name": "ipython",
    "version": 3
   },
   "file_extension": ".py",
   "mimetype": "text/x-python",
   "name": "python",
   "nbconvert_exporter": "python",
   "pygments_lexer": "ipython3",
   "version": "3.5.6"
  }
 },
 "nbformat": 4,
 "nbformat_minor": 5
}
