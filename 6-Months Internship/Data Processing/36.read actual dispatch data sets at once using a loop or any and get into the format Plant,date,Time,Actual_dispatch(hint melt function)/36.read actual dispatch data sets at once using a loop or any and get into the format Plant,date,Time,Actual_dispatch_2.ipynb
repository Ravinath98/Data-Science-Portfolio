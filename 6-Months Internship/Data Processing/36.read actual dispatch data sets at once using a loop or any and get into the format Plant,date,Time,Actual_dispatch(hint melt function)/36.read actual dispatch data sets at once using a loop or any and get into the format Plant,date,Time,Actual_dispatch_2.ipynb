{
 "cells": [
  {
   "cell_type": "code",
   "execution_count": 1,
   "id": "5f89461f",
   "metadata": {},
   "outputs": [],
   "source": [
    "import pandas as pd"
   ]
  },
  {
   "cell_type": "code",
   "execution_count": null,
   "id": "d2e14c2f",
   "metadata": {},
   "outputs": [],
   "source": [
    "\n",
    "data_frames=[]\n",
    "for i in range(0,31):\n",
    "    df=pd.read_excel(r'E:\\Desktop\\Datasets\\actual_july\\15 min Dispatch July 2020.xlsx',sheet_name=i) \n",
    "\n",
    "    temp=list(df.columns)\n",
    "\n",
    "    date = temp[8].date()\n",
    "    df.columns = df.iloc[0]\n",
    "    df=df.drop(0)\n",
    "    df=df.drop(columns=df.columns[-3:],axis=1)\n",
    "    x=df.iloc[:, 0]\n",
    "\n",
    "    t=0\n",
    "    for i in x:\n",
    "        t=t+1\n",
    "        if i=='Total MW':\n",
    "\n",
    "            break\n",
    "    df=df.iloc[:t-1, :]\n",
    "    df1 = pd.DataFrame()\n",
    "    import datetime as dt\n",
    "    t1 = dt.datetime.strptime('00:00:00', '%H:%M:%S')\n",
    "    for i in range (1,len(df.columns),2):\n",
    "        df1[str(t1.time())]=df.iloc[:, i]+df.iloc[:, i+1]\n",
    "        t2 = dt.datetime.strptime('00:30:00', '%H:%M:%S')\n",
    "        time_zero = dt.datetime.strptime('00:00:00', '%H:%M:%S')\n",
    "        x=(t1 - time_zero + t2).time()\n",
    "        t1 = dt.datetime.strptime(str(x), '%H:%M:%S')\n",
    "        \n",
    "    m=df.iloc[:t-1, 0]\n",
    "    list(m)\n",
    "    df1.insert(0, 'Power_Plant', m)\n",
    "    df2=pd.melt(df1,id_vars=['Power_Plant'])\n",
    "    df2['Date']=date\n",
    "    data_frames.append(df2)\n"
   ]
  },
  {
   "cell_type": "code",
   "execution_count": null,
   "id": "d9b78505",
   "metadata": {},
   "outputs": [],
   "source": [
    "from functools import reduce\n",
    "df_merged = reduce(lambda  left,right: pd.merge(left,right,how='outer'), data_frames)\n",
    "df_merged.shape"
   ]
  },
  {
   "cell_type": "code",
   "execution_count": null,
   "id": "4f372eb0",
   "metadata": {
    "scrolled": true
   },
   "outputs": [],
   "source": [
    "df_merged.head(10000)"
   ]
  },
  {
   "cell_type": "code",
   "execution_count": null,
   "id": "1b5bd19b",
   "metadata": {},
   "outputs": [],
   "source": [
    "df_merged.rename(columns = {'Power_Plant':'Plant','variable':'Time','value':'Power'})"
   ]
  }
 ],
 "metadata": {
  "kernelspec": {
   "display_name": "Python 3 (ipykernel)",
   "language": "python",
   "name": "python3"
  },
  "language_info": {
   "codemirror_mode": {
    "name": "ipython",
    "version": 3
   },
   "file_extension": ".py",
   "mimetype": "text/x-python",
   "name": "python",
   "nbconvert_exporter": "python",
   "pygments_lexer": "ipython3",
   "version": "3.8.12"
  }
 },
 "nbformat": 4,
 "nbformat_minor": 5
}
